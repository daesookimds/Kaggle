{
 "cells": [
  {
   "cell_type": "code",
   "execution_count": 1,
   "metadata": {},
   "outputs": [],
   "source": [
    "import pandas as pd\n",
    "import numpy as np\n",
    "\n",
    "total = 2985217"
   ]
  },
  {
   "cell_type": "markdown",
   "metadata": {},
   "source": [
    "## Load Data"
   ]
  },
  {
   "cell_type": "code",
   "execution_count": 2,
   "metadata": {},
   "outputs": [
    {
     "name": "stdout",
     "output_type": "stream",
     "text": [
      "(90275, 3)\n"
     ]
    },
    {
     "data": {
      "text/html": [
       "<div>\n",
       "<style scoped>\n",
       "    .dataframe tbody tr th:only-of-type {\n",
       "        vertical-align: middle;\n",
       "    }\n",
       "\n",
       "    .dataframe tbody tr th {\n",
       "        vertical-align: top;\n",
       "    }\n",
       "\n",
       "    .dataframe thead th {\n",
       "        text-align: right;\n",
       "    }\n",
       "</style>\n",
       "<table border=\"1\" class=\"dataframe\">\n",
       "  <thead>\n",
       "    <tr style=\"text-align: right;\">\n",
       "      <th></th>\n",
       "      <th>parcelid</th>\n",
       "      <th>logerror</th>\n",
       "      <th>transactiondate</th>\n",
       "    </tr>\n",
       "  </thead>\n",
       "  <tbody>\n",
       "    <tr>\n",
       "      <th>90270</th>\n",
       "      <td>10774160</td>\n",
       "      <td>-0.0356</td>\n",
       "      <td>2016-12-30</td>\n",
       "    </tr>\n",
       "    <tr>\n",
       "      <th>90271</th>\n",
       "      <td>12046695</td>\n",
       "      <td>0.0070</td>\n",
       "      <td>2016-12-30</td>\n",
       "    </tr>\n",
       "    <tr>\n",
       "      <th>90272</th>\n",
       "      <td>12995401</td>\n",
       "      <td>-0.2679</td>\n",
       "      <td>2016-12-30</td>\n",
       "    </tr>\n",
       "    <tr>\n",
       "      <th>90273</th>\n",
       "      <td>11402105</td>\n",
       "      <td>0.0602</td>\n",
       "      <td>2016-12-30</td>\n",
       "    </tr>\n",
       "    <tr>\n",
       "      <th>90274</th>\n",
       "      <td>12566293</td>\n",
       "      <td>0.4207</td>\n",
       "      <td>2016-12-30</td>\n",
       "    </tr>\n",
       "  </tbody>\n",
       "</table>\n",
       "</div>"
      ],
      "text/plain": [
       "       parcelid  logerror transactiondate\n",
       "90270  10774160   -0.0356      2016-12-30\n",
       "90271  12046695    0.0070      2016-12-30\n",
       "90272  12995401   -0.2679      2016-12-30\n",
       "90273  11402105    0.0602      2016-12-30\n",
       "90274  12566293    0.4207      2016-12-30"
      ]
     },
     "execution_count": 2,
     "metadata": {},
     "output_type": "execute_result"
    }
   ],
   "source": [
    "train_2016 = pd.read_csv(\"train_2016_v2.csv\", parse_dates=[\"transactiondate\"])\n",
    "print(train_2016.shape)\n",
    "train_2016.tail()"
   ]
  },
  {
   "cell_type": "code",
   "execution_count": 3,
   "metadata": {},
   "outputs": [
    {
     "name": "stderr",
     "output_type": "stream",
     "text": [
      "/usr/local/lib/python3.7/site-packages/IPython/core/interactiveshell.py:2785: DtypeWarning: Columns (22,32,34,49,55) have mixed types. Specify dtype option on import or set low_memory=False.\n",
      "  interactivity=interactivity, compiler=compiler, result=result)\n"
     ]
    },
    {
     "name": "stdout",
     "output_type": "stream",
     "text": [
      "(2985217, 58)\n"
     ]
    },
    {
     "data": {
      "text/html": [
       "<div>\n",
       "<style scoped>\n",
       "    .dataframe tbody tr th:only-of-type {\n",
       "        vertical-align: middle;\n",
       "    }\n",
       "\n",
       "    .dataframe tbody tr th {\n",
       "        vertical-align: top;\n",
       "    }\n",
       "\n",
       "    .dataframe thead th {\n",
       "        text-align: right;\n",
       "    }\n",
       "</style>\n",
       "<table border=\"1\" class=\"dataframe\">\n",
       "  <thead>\n",
       "    <tr style=\"text-align: right;\">\n",
       "      <th></th>\n",
       "      <th>parcelid</th>\n",
       "      <th>airconditioningtypeid</th>\n",
       "      <th>architecturalstyletypeid</th>\n",
       "      <th>basementsqft</th>\n",
       "      <th>bathroomcnt</th>\n",
       "      <th>bedroomcnt</th>\n",
       "      <th>buildingclasstypeid</th>\n",
       "      <th>buildingqualitytypeid</th>\n",
       "      <th>calculatedbathnbr</th>\n",
       "      <th>decktypeid</th>\n",
       "      <th>...</th>\n",
       "      <th>numberofstories</th>\n",
       "      <th>fireplaceflag</th>\n",
       "      <th>structuretaxvaluedollarcnt</th>\n",
       "      <th>taxvaluedollarcnt</th>\n",
       "      <th>assessmentyear</th>\n",
       "      <th>landtaxvaluedollarcnt</th>\n",
       "      <th>taxamount</th>\n",
       "      <th>taxdelinquencyflag</th>\n",
       "      <th>taxdelinquencyyear</th>\n",
       "      <th>censustractandblock</th>\n",
       "    </tr>\n",
       "  </thead>\n",
       "  <tbody>\n",
       "    <tr>\n",
       "      <th>2985212</th>\n",
       "      <td>168176230</td>\n",
       "      <td>NaN</td>\n",
       "      <td>NaN</td>\n",
       "      <td>NaN</td>\n",
       "      <td>NaN</td>\n",
       "      <td>NaN</td>\n",
       "      <td>NaN</td>\n",
       "      <td>NaN</td>\n",
       "      <td>NaN</td>\n",
       "      <td>NaN</td>\n",
       "      <td>...</td>\n",
       "      <td>NaN</td>\n",
       "      <td>NaN</td>\n",
       "      <td>NaN</td>\n",
       "      <td>NaN</td>\n",
       "      <td>NaN</td>\n",
       "      <td>NaN</td>\n",
       "      <td>NaN</td>\n",
       "      <td>NaN</td>\n",
       "      <td>NaN</td>\n",
       "      <td>NaN</td>\n",
       "    </tr>\n",
       "    <tr>\n",
       "      <th>2985213</th>\n",
       "      <td>14273630</td>\n",
       "      <td>NaN</td>\n",
       "      <td>NaN</td>\n",
       "      <td>NaN</td>\n",
       "      <td>NaN</td>\n",
       "      <td>NaN</td>\n",
       "      <td>NaN</td>\n",
       "      <td>NaN</td>\n",
       "      <td>NaN</td>\n",
       "      <td>NaN</td>\n",
       "      <td>...</td>\n",
       "      <td>NaN</td>\n",
       "      <td>NaN</td>\n",
       "      <td>NaN</td>\n",
       "      <td>NaN</td>\n",
       "      <td>NaN</td>\n",
       "      <td>NaN</td>\n",
       "      <td>NaN</td>\n",
       "      <td>NaN</td>\n",
       "      <td>NaN</td>\n",
       "      <td>NaN</td>\n",
       "    </tr>\n",
       "    <tr>\n",
       "      <th>2985214</th>\n",
       "      <td>168040630</td>\n",
       "      <td>NaN</td>\n",
       "      <td>NaN</td>\n",
       "      <td>NaN</td>\n",
       "      <td>NaN</td>\n",
       "      <td>NaN</td>\n",
       "      <td>NaN</td>\n",
       "      <td>NaN</td>\n",
       "      <td>NaN</td>\n",
       "      <td>NaN</td>\n",
       "      <td>...</td>\n",
       "      <td>NaN</td>\n",
       "      <td>NaN</td>\n",
       "      <td>NaN</td>\n",
       "      <td>NaN</td>\n",
       "      <td>NaN</td>\n",
       "      <td>NaN</td>\n",
       "      <td>NaN</td>\n",
       "      <td>NaN</td>\n",
       "      <td>NaN</td>\n",
       "      <td>NaN</td>\n",
       "    </tr>\n",
       "    <tr>\n",
       "      <th>2985215</th>\n",
       "      <td>168040830</td>\n",
       "      <td>NaN</td>\n",
       "      <td>NaN</td>\n",
       "      <td>NaN</td>\n",
       "      <td>NaN</td>\n",
       "      <td>NaN</td>\n",
       "      <td>NaN</td>\n",
       "      <td>NaN</td>\n",
       "      <td>NaN</td>\n",
       "      <td>NaN</td>\n",
       "      <td>...</td>\n",
       "      <td>NaN</td>\n",
       "      <td>NaN</td>\n",
       "      <td>NaN</td>\n",
       "      <td>NaN</td>\n",
       "      <td>NaN</td>\n",
       "      <td>NaN</td>\n",
       "      <td>NaN</td>\n",
       "      <td>NaN</td>\n",
       "      <td>NaN</td>\n",
       "      <td>NaN</td>\n",
       "    </tr>\n",
       "    <tr>\n",
       "      <th>2985216</th>\n",
       "      <td>168040430</td>\n",
       "      <td>NaN</td>\n",
       "      <td>NaN</td>\n",
       "      <td>NaN</td>\n",
       "      <td>NaN</td>\n",
       "      <td>NaN</td>\n",
       "      <td>NaN</td>\n",
       "      <td>NaN</td>\n",
       "      <td>NaN</td>\n",
       "      <td>NaN</td>\n",
       "      <td>...</td>\n",
       "      <td>NaN</td>\n",
       "      <td>NaN</td>\n",
       "      <td>NaN</td>\n",
       "      <td>NaN</td>\n",
       "      <td>NaN</td>\n",
       "      <td>NaN</td>\n",
       "      <td>NaN</td>\n",
       "      <td>NaN</td>\n",
       "      <td>NaN</td>\n",
       "      <td>NaN</td>\n",
       "    </tr>\n",
       "  </tbody>\n",
       "</table>\n",
       "<p>5 rows × 58 columns</p>\n",
       "</div>"
      ],
      "text/plain": [
       "          parcelid  airconditioningtypeid  architecturalstyletypeid  \\\n",
       "2985212  168176230                    NaN                       NaN   \n",
       "2985213   14273630                    NaN                       NaN   \n",
       "2985214  168040630                    NaN                       NaN   \n",
       "2985215  168040830                    NaN                       NaN   \n",
       "2985216  168040430                    NaN                       NaN   \n",
       "\n",
       "         basementsqft  bathroomcnt  bedroomcnt  buildingclasstypeid  \\\n",
       "2985212           NaN          NaN         NaN                  NaN   \n",
       "2985213           NaN          NaN         NaN                  NaN   \n",
       "2985214           NaN          NaN         NaN                  NaN   \n",
       "2985215           NaN          NaN         NaN                  NaN   \n",
       "2985216           NaN          NaN         NaN                  NaN   \n",
       "\n",
       "         buildingqualitytypeid  calculatedbathnbr  decktypeid  \\\n",
       "2985212                    NaN                NaN         NaN   \n",
       "2985213                    NaN                NaN         NaN   \n",
       "2985214                    NaN                NaN         NaN   \n",
       "2985215                    NaN                NaN         NaN   \n",
       "2985216                    NaN                NaN         NaN   \n",
       "\n",
       "                ...           numberofstories  fireplaceflag  \\\n",
       "2985212         ...                       NaN            NaN   \n",
       "2985213         ...                       NaN            NaN   \n",
       "2985214         ...                       NaN            NaN   \n",
       "2985215         ...                       NaN            NaN   \n",
       "2985216         ...                       NaN            NaN   \n",
       "\n",
       "         structuretaxvaluedollarcnt  taxvaluedollarcnt  assessmentyear  \\\n",
       "2985212                         NaN                NaN             NaN   \n",
       "2985213                         NaN                NaN             NaN   \n",
       "2985214                         NaN                NaN             NaN   \n",
       "2985215                         NaN                NaN             NaN   \n",
       "2985216                         NaN                NaN             NaN   \n",
       "\n",
       "         landtaxvaluedollarcnt  taxamount  taxdelinquencyflag  \\\n",
       "2985212                    NaN        NaN                 NaN   \n",
       "2985213                    NaN        NaN                 NaN   \n",
       "2985214                    NaN        NaN                 NaN   \n",
       "2985215                    NaN        NaN                 NaN   \n",
       "2985216                    NaN        NaN                 NaN   \n",
       "\n",
       "         taxdelinquencyyear  censustractandblock  \n",
       "2985212                 NaN                  NaN  \n",
       "2985213                 NaN                  NaN  \n",
       "2985214                 NaN                  NaN  \n",
       "2985215                 NaN                  NaN  \n",
       "2985216                 NaN                  NaN  \n",
       "\n",
       "[5 rows x 58 columns]"
      ]
     },
     "execution_count": 3,
     "metadata": {},
     "output_type": "execute_result"
    }
   ],
   "source": [
    "property_2016 = pd.read_csv(\"properties_2016.csv\")\n",
    "print(property_2016.shape)\n",
    "property_2016.tail()"
   ]
  },
  {
   "cell_type": "markdown",
   "metadata": {},
   "source": [
    "## Dictionary"
   ]
  },
  {
   "cell_type": "markdown",
   "metadata": {},
   "source": [
    "### airconditioningtypeid\n",
    "- Type of cooling system present in the home (if any)\n",
    "- category / 7\n",
    "- rate of NaN : 2173698 / total ( 72.8% ) "
   ]
  },
  {
   "cell_type": "code",
   "execution_count": 4,
   "metadata": {},
   "outputs": [
    {
     "name": "stdout",
     "output_type": "stream",
     "text": [
      "7\n"
     ]
    },
    {
     "data": {
      "text/plain": [
       "1.0     742364\n",
       "13.0     58457\n",
       "5.0       8795\n",
       "11.0      1818\n",
       "12.0        59\n",
       "Name: airconditioningtypeid, dtype: int64"
      ]
     },
     "execution_count": 4,
     "metadata": {},
     "output_type": "execute_result"
    }
   ],
   "source": [
    "print(len(property_2016[\"airconditioningtypeid\"].value_counts()))\n",
    "property_2016[\"airconditioningtypeid\"].value_counts().head()"
   ]
  },
  {
   "cell_type": "code",
   "execution_count": 5,
   "metadata": {},
   "outputs": [
    {
     "data": {
      "text/plain": [
       "0.7281541006901676"
      ]
     },
     "execution_count": 5,
     "metadata": {},
     "output_type": "execute_result"
    }
   ],
   "source": [
    "property_2016[\"airconditioningtypeid\"].isna().sum()/ total"
   ]
  },
  {
   "cell_type": "markdown",
   "metadata": {},
   "source": [
    "### architecturalstyletypeid\n",
    "- Architectural style of the home (i.e. ranch, colonial, split-level, etc…)\n",
    "- category / 6-type\n",
    "- 7.0, 8.0, 2.0, 21.0, 3.0, 5.0, 27.0, 10.0\n",
    "- NaN : 2979156 / 2985217 ( 99.76% )"
   ]
  },
  {
   "cell_type": "code",
   "execution_count": 6,
   "metadata": {},
   "outputs": [
    {
     "name": "stdout",
     "output_type": "stream",
     "text": [
      "8\n"
     ]
    },
    {
     "data": {
      "text/plain": [
       "7.0     5251\n",
       "8.0      380\n",
       "2.0      201\n",
       "21.0     150\n",
       "3.0       58\n",
       "Name: architecturalstyletypeid, dtype: int64"
      ]
     },
     "execution_count": 6,
     "metadata": {},
     "output_type": "execute_result"
    }
   ],
   "source": [
    "print(len(property_2016[\"architecturalstyletypeid\"].value_counts()))\n",
    "property_2016[\"architecturalstyletypeid\"].value_counts().head()"
   ]
  },
  {
   "cell_type": "code",
   "execution_count": 7,
   "metadata": {},
   "outputs": [
    {
     "data": {
      "text/plain": [
       "2979156"
      ]
     },
     "execution_count": 7,
     "metadata": {},
     "output_type": "execute_result"
    }
   ],
   "source": [
    "property_2016[\"architecturalstyletypeid\"].isna().sum()"
   ]
  },
  {
   "cell_type": "markdown",
   "metadata": {},
   "source": [
    "### basementsqft\n",
    "- Finished living area below or partially below ground level\n",
    "- (scalar/category) / 751\n",
    "- NaN : 2983589 / 2985217 ( 99.99% )"
   ]
  },
  {
   "cell_type": "code",
   "execution_count": 8,
   "metadata": {},
   "outputs": [
    {
     "name": "stdout",
     "output_type": "stream",
     "text": [
      "751\n"
     ]
    },
    {
     "data": {
      "text/plain": [
       "1528.0    25\n",
       "700.0     21\n",
       "240.0     21\n",
       "100.0     18\n",
       "144.0     16\n",
       "Name: basementsqft, dtype: int64"
      ]
     },
     "execution_count": 8,
     "metadata": {},
     "output_type": "execute_result"
    }
   ],
   "source": [
    "print(len(property_2016[\"basementsqft\"].value_counts()))\n",
    "property_2016[\"basementsqft\"].value_counts().head()"
   ]
  },
  {
   "cell_type": "code",
   "execution_count": 9,
   "metadata": {},
   "outputs": [
    {
     "data": {
      "text/plain": [
       "2983589"
      ]
     },
     "execution_count": 9,
     "metadata": {},
     "output_type": "execute_result"
    }
   ],
   "source": [
    "property_2016[\"basementsqft\"].isna().sum()"
   ]
  },
  {
   "cell_type": "markdown",
   "metadata": {},
   "source": [
    "### bathroomcnt\n",
    "- Number of bathrooms in home including fractional bathrooms\n",
    "- scalar / 37\n",
    "- NaN : 11462 / 2985217 ( 0.3% )"
   ]
  },
  {
   "cell_type": "code",
   "execution_count": 10,
   "metadata": {},
   "outputs": [
    {
     "name": "stdout",
     "output_type": "stream",
     "text": [
      "37\n"
     ]
    },
    {
     "data": {
      "text/plain": [
       "2.0    1218664\n",
       "3.0     629351\n",
       "1.0     499330\n",
       "2.5     206856\n",
       "4.0     132076\n",
       "Name: bathroomcnt, dtype: int64"
      ]
     },
     "execution_count": 10,
     "metadata": {},
     "output_type": "execute_result"
    }
   ],
   "source": [
    "print(len(property_2016[\"bathroomcnt\"].value_counts()))\n",
    "property_2016[\"bathroomcnt\"].value_counts().head()"
   ]
  },
  {
   "cell_type": "code",
   "execution_count": 11,
   "metadata": {},
   "outputs": [
    {
     "data": {
      "text/plain": [
       "11462"
      ]
     },
     "execution_count": 11,
     "metadata": {},
     "output_type": "execute_result"
    }
   ],
   "source": [
    "property_2016[\"bathroomcnt\"].isna().sum()"
   ]
  },
  {
   "cell_type": "markdown",
   "metadata": {},
   "source": [
    "### bedroomcnt\n",
    "- Number of bedrooms in home\n",
    "- scalar / 21 \n",
    "- NaN  : 11450 / total ( 0.3% )"
   ]
  },
  {
   "cell_type": "code",
   "execution_count": 12,
   "metadata": {},
   "outputs": [
    {
     "name": "stdout",
     "output_type": "stream",
     "text": [
      "21\n"
     ]
    },
    {
     "data": {
      "text/plain": [
       "3.0    1169462\n",
       "4.0     727052\n",
       "2.0     605367\n",
       "5.0     181222\n",
       "0.0     121466\n",
       "Name: bedroomcnt, dtype: int64"
      ]
     },
     "execution_count": 12,
     "metadata": {},
     "output_type": "execute_result"
    }
   ],
   "source": [
    "print(len(property_2016[\"bedroomcnt\"].value_counts()))\n",
    "property_2016[\"bedroomcnt\"].value_counts().head()"
   ]
  },
  {
   "cell_type": "code",
   "execution_count": 13,
   "metadata": {},
   "outputs": [
    {
     "data": {
      "text/plain": [
       "11450"
      ]
     },
     "execution_count": 13,
     "metadata": {},
     "output_type": "execute_result"
    }
   ],
   "source": [
    "property_2016[\"bedroomcnt\"].isna().sum()"
   ]
  },
  {
   "cell_type": "markdown",
   "metadata": {},
   "source": [
    "### buildingclasstypeid\n",
    "- The building framing type (steel frame, wood frame, concrete/brick) \n",
    "- category / 5-types\n",
    "- NaN : 2972588 / total ( 99.57% ) "
   ]
  },
  {
   "cell_type": "code",
   "execution_count": 14,
   "metadata": {},
   "outputs": [
    {
     "name": "stdout",
     "output_type": "stream",
     "text": [
      "5\n"
     ]
    },
    {
     "data": {
      "text/plain": [
       "4.0    9265\n",
       "3.0    3161\n",
       "2.0      81\n",
       "1.0      65\n",
       "5.0      57\n",
       "Name: buildingclasstypeid, dtype: int64"
      ]
     },
     "execution_count": 14,
     "metadata": {},
     "output_type": "execute_result"
    }
   ],
   "source": [
    "print(len(property_2016[\"buildingclasstypeid\"].value_counts()))\n",
    "property_2016[\"buildingclasstypeid\"].value_counts().head()"
   ]
  },
  {
   "cell_type": "code",
   "execution_count": 15,
   "metadata": {},
   "outputs": [
    {
     "data": {
      "text/plain": [
       "2972588"
      ]
     },
     "execution_count": 15,
     "metadata": {},
     "output_type": "execute_result"
    }
   ],
   "source": [
    "property_2016[\"buildingclasstypeid\"].isna().sum()"
   ]
  },
  {
   "cell_type": "markdown",
   "metadata": {},
   "source": [
    "### buildingqualitytypeid\n",
    "- Overall assessment of condition of the building from best (lowest) to worst (highest)\n",
    "- category / 12-types\n",
    "- NaN : 1056729 / total ( 35% )"
   ]
  },
  {
   "cell_type": "code",
   "execution_count": 16,
   "metadata": {},
   "outputs": [
    {
     "name": "stdout",
     "output_type": "stream",
     "text": [
      "12\n"
     ]
    },
    {
     "data": {
      "text/plain": [
       "7.0     1133238\n",
       "4.0      692160\n",
       "1.0       69467\n",
       "10.0      39713\n",
       "12.0       3692\n",
       "Name: buildingqualitytypeid, dtype: int64"
      ]
     },
     "execution_count": 16,
     "metadata": {},
     "output_type": "execute_result"
    }
   ],
   "source": [
    "print(len(property_2016[\"buildingqualitytypeid\"].value_counts()))\n",
    "property_2016[\"buildingqualitytypeid\"].value_counts().head()"
   ]
  },
  {
   "cell_type": "code",
   "execution_count": 17,
   "metadata": {},
   "outputs": [
    {
     "data": {
      "text/plain": [
       "1046729"
      ]
     },
     "execution_count": 17,
     "metadata": {},
     "output_type": "execute_result"
    }
   ],
   "source": [
    "property_2016[\"buildingqualitytypeid\"].isna().sum()"
   ]
  },
  {
   "cell_type": "markdown",
   "metadata": {},
   "source": [
    "### calculatedbathnbr\n",
    "- Number of bathrooms in home including fractional bathroom\n",
    "- scalar / 34\n",
    "- NaN : 128912 / total ( 4.3% )"
   ]
  },
  {
   "cell_type": "code",
   "execution_count": 18,
   "metadata": {},
   "outputs": [
    {
     "name": "stdout",
     "output_type": "stream",
     "text": [
      "34\n"
     ]
    },
    {
     "data": {
      "text/plain": [
       "2.0    1218652\n",
       "3.0     629351\n",
       "1.0     499322\n",
       "2.5     206563\n",
       "4.0     132076\n",
       "Name: calculatedbathnbr, dtype: int64"
      ]
     },
     "execution_count": 18,
     "metadata": {},
     "output_type": "execute_result"
    }
   ],
   "source": [
    "print(len(property_2016[\"calculatedbathnbr\"].value_counts()))\n",
    "property_2016[\"calculatedbathnbr\"].value_counts().head()"
   ]
  },
  {
   "cell_type": "code",
   "execution_count": 19,
   "metadata": {},
   "outputs": [
    {
     "data": {
      "text/plain": [
       "128912"
      ]
     },
     "execution_count": 19,
     "metadata": {},
     "output_type": "execute_result"
    }
   ],
   "source": [
    "property_2016[\"calculatedbathnbr\"].isna().sum()"
   ]
  },
  {
   "cell_type": "markdown",
   "metadata": {},
   "source": [
    "### decktypeid\n",
    "- Type of deck (if any) present on parcel\n",
    "- category / 1-type\n",
    "- NaN : 2968121 / total ( 99.42% )"
   ]
  },
  {
   "cell_type": "code",
   "execution_count": 20,
   "metadata": {},
   "outputs": [
    {
     "name": "stdout",
     "output_type": "stream",
     "text": [
      "1\n"
     ]
    },
    {
     "data": {
      "text/plain": [
       "66.0    17096\n",
       "Name: decktypeid, dtype: int64"
      ]
     },
     "execution_count": 20,
     "metadata": {},
     "output_type": "execute_result"
    }
   ],
   "source": [
    "print(len(property_2016[\"decktypeid\"].value_counts()))\n",
    "property_2016[\"decktypeid\"].value_counts().head()"
   ]
  },
  {
   "cell_type": "code",
   "execution_count": 21,
   "metadata": {},
   "outputs": [
    {
     "data": {
      "text/plain": [
       "2968121"
      ]
     },
     "execution_count": 21,
     "metadata": {},
     "output_type": "execute_result"
    }
   ],
   "source": [
    "property_2016[\"decktypeid\"].isna().sum()"
   ]
  },
  {
   "cell_type": "markdown",
   "metadata": {},
   "source": [
    "### threequarterbathnbr\n",
    "- Number of 3/4 bathrooms in house (shower + sink + toilet)\n",
    "- scalar / 7개\n",
    "- NaN : 2673586 / total ( 89% )"
   ]
  },
  {
   "cell_type": "code",
   "execution_count": 22,
   "metadata": {},
   "outputs": [
    {
     "name": "stdout",
     "output_type": "stream",
     "text": [
      "7\n"
     ]
    },
    {
     "data": {
      "text/plain": [
       "1.0    308959\n",
       "2.0      2338\n",
       "3.0       261\n",
       "4.0        46\n",
       "5.0        16\n",
       "Name: threequarterbathnbr, dtype: int64"
      ]
     },
     "execution_count": 22,
     "metadata": {},
     "output_type": "execute_result"
    }
   ],
   "source": [
    "print(len(property_2016[\"threequarterbathnbr\"].value_counts()))\n",
    "property_2016[\"threequarterbathnbr\"].value_counts().head()"
   ]
  },
  {
   "cell_type": "code",
   "execution_count": 23,
   "metadata": {},
   "outputs": [
    {
     "data": {
      "text/plain": [
       "2673586"
      ]
     },
     "execution_count": 23,
     "metadata": {},
     "output_type": "execute_result"
    }
   ],
   "source": [
    "property_2016[\"threequarterbathnbr\"].isna().sum()"
   ]
  },
  {
   "cell_type": "markdown",
   "metadata": {},
   "source": [
    "### finishedfloor1squarefeet\n",
    "- Size of the finished living area on the first (entry) floor of the home\n",
    "- scalar / 4604 \n",
    "- NaN : 2782500 / total ( 93.20% )"
   ]
  },
  {
   "cell_type": "code",
   "execution_count": 24,
   "metadata": {},
   "outputs": [
    {
     "name": "stdout",
     "output_type": "stream",
     "text": [
      "4604\n"
     ]
    },
    {
     "data": {
      "text/plain": [
       "1252.0    923\n",
       "1233.0    864\n",
       "1120.0    705\n",
       "1226.0    616\n",
       "1612.0    597\n",
       "Name: finishedfloor1squarefeet, dtype: int64"
      ]
     },
     "execution_count": 24,
     "metadata": {},
     "output_type": "execute_result"
    }
   ],
   "source": [
    "print(len(property_2016[\"finishedfloor1squarefeet\"].value_counts()))\n",
    "property_2016[\"finishedfloor1squarefeet\"].value_counts().head()"
   ]
  },
  {
   "cell_type": "code",
   "execution_count": 25,
   "metadata": {},
   "outputs": [
    {
     "data": {
      "text/plain": [
       "0.9320930438222749"
      ]
     },
     "execution_count": 25,
     "metadata": {},
     "output_type": "execute_result"
    }
   ],
   "source": [
    "property_2016[\"finishedfloor1squarefeet\"].isna().sum() / total"
   ]
  },
  {
   "cell_type": "markdown",
   "metadata": {},
   "source": [
    "### calculatedfinishedsquarefeet\n",
    "- Calculated total finished living area of the home\n",
    "- scalar / 12587\n",
    "- NaN : 55565 (1.8%)"
   ]
  },
  {
   "cell_type": "code",
   "execution_count": 26,
   "metadata": {},
   "outputs": [
    {
     "name": "stdout",
     "output_type": "stream",
     "text": [
      "12587\n"
     ]
    },
    {
     "data": {
      "text/plain": [
       "1440.0    8946\n",
       "1344.0    7203\n",
       "1200.0    7098\n",
       "960.0     6014\n",
       "1120.0    5918\n",
       "Name: calculatedfinishedsquarefeet, dtype: int64"
      ]
     },
     "execution_count": 26,
     "metadata": {},
     "output_type": "execute_result"
    }
   ],
   "source": [
    "print(len(property_2016[\"calculatedfinishedsquarefeet\"].value_counts()))\n",
    "property_2016[\"calculatedfinishedsquarefeet\"].value_counts().head()"
   ]
  },
  {
   "cell_type": "code",
   "execution_count": 27,
   "metadata": {},
   "outputs": [
    {
     "data": {
      "text/plain": [
       "0.018613387234495852"
      ]
     },
     "execution_count": 27,
     "metadata": {},
     "output_type": "execute_result"
    }
   ],
   "source": [
    "property_2016[\"calculatedfinishedsquarefeet\"].isna().sum() / total"
   ]
  },
  {
   "cell_type": "markdown",
   "metadata": {},
   "source": [
    "### finishedsquarefeet6\n",
    "- Base unfinished and finished area\n",
    "- scalar / 4251\n",
    "- NaN : 2963216 / total ( 99.26% )"
   ]
  },
  {
   "cell_type": "code",
   "execution_count": 28,
   "metadata": {},
   "outputs": [
    {
     "name": "stdout",
     "output_type": "stream",
     "text": [
      "4251\n"
     ]
    },
    {
     "data": {
      "text/plain": [
       "952.0     101\n",
       "800.0      90\n",
       "3820.0     88\n",
       "720.0      74\n",
       "600.0      68\n",
       "Name: finishedsquarefeet6, dtype: int64"
      ]
     },
     "execution_count": 28,
     "metadata": {},
     "output_type": "execute_result"
    }
   ],
   "source": [
    "print(len(property_2016[\"finishedsquarefeet6\"].value_counts()))\n",
    "property_2016[\"finishedsquarefeet6\"].value_counts().head()"
   ]
  },
  {
   "cell_type": "code",
   "execution_count": 29,
   "metadata": {},
   "outputs": [
    {
     "data": {
      "text/plain": [
       "2963216"
      ]
     },
     "execution_count": 29,
     "metadata": {},
     "output_type": "execute_result"
    }
   ],
   "source": [
    "property_2016[\"finishedsquarefeet6\"].isna().sum()"
   ]
  },
  {
   "cell_type": "markdown",
   "metadata": {},
   "source": [
    "### finishedsquarefeet12\n",
    "- Finished living area\n",
    "- scalar / 10670\n",
    "- NaN : 276033 / total ( 9.2% )"
   ]
  },
  {
   "cell_type": "code",
   "execution_count": 30,
   "metadata": {},
   "outputs": [
    {
     "name": "stdout",
     "output_type": "stream",
     "text": [
      "10670\n"
     ]
    },
    {
     "data": {
      "text/plain": [
       "1440.0    6941\n",
       "1200.0    6636\n",
       "1344.0    6235\n",
       "1120.0    5660\n",
       "960.0     5611\n",
       "Name: finishedsquarefeet12, dtype: int64"
      ]
     },
     "execution_count": 30,
     "metadata": {},
     "output_type": "execute_result"
    }
   ],
   "source": [
    "print(len(property_2016[\"finishedsquarefeet12\"].value_counts()))\n",
    "property_2016[\"finishedsquarefeet12\"].value_counts().head()"
   ]
  },
  {
   "cell_type": "code",
   "execution_count": 31,
   "metadata": {},
   "outputs": [
    {
     "data": {
      "text/plain": [
       "0.0924666448033761"
      ]
     },
     "execution_count": 31,
     "metadata": {},
     "output_type": "execute_result"
    }
   ],
   "source": [
    "property_2016[\"finishedsquarefeet12\"].isna().sum() / total"
   ]
  },
  {
   "cell_type": "markdown",
   "metadata": {},
   "source": [
    "### finishedsquarefeet13\n",
    "- Perimeter  living area\n",
    "- scalar / 250\n",
    "- NaN : 2977545 / total ( 99.74% )"
   ]
  },
  {
   "cell_type": "code",
   "execution_count": 32,
   "metadata": {},
   "outputs": [
    {
     "name": "stdout",
     "output_type": "stream",
     "text": [
      "250\n"
     ]
    },
    {
     "data": {
      "text/plain": [
       "1440.0    1571\n",
       "1344.0     709\n",
       "1248.0     453\n",
       "1536.0     355\n",
       "720.0      245\n",
       "Name: finishedsquarefeet13, dtype: int64"
      ]
     },
     "execution_count": 32,
     "metadata": {},
     "output_type": "execute_result"
    }
   ],
   "source": [
    "print(len(property_2016[\"finishedsquarefeet13\"].value_counts()))\n",
    "property_2016[\"finishedsquarefeet13\"].value_counts().head()"
   ]
  },
  {
   "cell_type": "code",
   "execution_count": 33,
   "metadata": {},
   "outputs": [
    {
     "data": {
      "text/plain": [
       "0.9974300025760271"
      ]
     },
     "execution_count": 33,
     "metadata": {},
     "output_type": "execute_result"
    }
   ],
   "source": [
    "property_2016[\"finishedsquarefeet13\"].isna().sum() / total"
   ]
  },
  {
   "cell_type": "markdown",
   "metadata": {},
   "source": [
    "### finishedsquarefeet15\n",
    "- Total area\n",
    "- scalar / 8816\n",
    "- NaN : 2794419 / total ( 93.6% )"
   ]
  },
  {
   "cell_type": "code",
   "execution_count": 34,
   "metadata": {},
   "outputs": [
    {
     "name": "stdout",
     "output_type": "stream",
     "text": [
      "8816\n"
     ]
    },
    {
     "data": {
      "text/plain": [
       "1536.0    647\n",
       "1728.0    429\n",
       "1600.0    415\n",
       "1440.0    413\n",
       "1800.0    402\n",
       "Name: finishedsquarefeet15, dtype: int64"
      ]
     },
     "execution_count": 34,
     "metadata": {},
     "output_type": "execute_result"
    }
   ],
   "source": [
    "print(len(property_2016[\"finishedsquarefeet15\"].value_counts()))\n",
    "property_2016[\"finishedsquarefeet15\"].value_counts().head()"
   ]
  },
  {
   "cell_type": "code",
   "execution_count": 35,
   "metadata": {},
   "outputs": [
    {
     "data": {
      "text/plain": [
       "0.9360857183916613"
      ]
     },
     "execution_count": 35,
     "metadata": {},
     "output_type": "execute_result"
    }
   ],
   "source": [
    "property_2016[\"finishedsquarefeet15\"].isna().sum() / total"
   ]
  },
  {
   "cell_type": "markdown",
   "metadata": {},
   "source": [
    "### finishedsquarefeet50\n",
    "-  Size of the finished living area on the first (entry) floor of the home\n",
    "- scalar / 4802\n",
    "- rate of NaN : 93.2 %"
   ]
  },
  {
   "cell_type": "code",
   "execution_count": 36,
   "metadata": {},
   "outputs": [
    {
     "name": "stdout",
     "output_type": "stream",
     "text": [
      "4802\n"
     ]
    },
    {
     "data": {
      "text/plain": [
       "1252.0    923\n",
       "1233.0    864\n",
       "1120.0    705\n",
       "1226.0    616\n",
       "1612.0    597\n",
       "Name: finishedsquarefeet50, dtype: int64"
      ]
     },
     "execution_count": 36,
     "metadata": {},
     "output_type": "execute_result"
    }
   ],
   "source": [
    "print(len(property_2016[\"finishedsquarefeet50\"].value_counts()))\n",
    "property_2016[\"finishedsquarefeet50\"].value_counts().head()"
   ]
  },
  {
   "cell_type": "code",
   "execution_count": 37,
   "metadata": {},
   "outputs": [
    {
     "data": {
      "text/plain": [
       "0.9320930438222749"
      ]
     },
     "execution_count": 37,
     "metadata": {},
     "output_type": "execute_result"
    }
   ],
   "source": [
    "property_2016[\"finishedsquarefeet50\"].isna().sum() / total"
   ]
  },
  {
   "cell_type": "markdown",
   "metadata": {},
   "source": [
    "### fips\n",
    "-  Federal Information Processing Standard code -  see https://en.wikipedia.org/wiki/FIPS_county_code for more details\n",
    "- category / 3\n",
    "- rate of NaN : 0.3%"
   ]
  },
  {
   "cell_type": "code",
   "execution_count": 38,
   "metadata": {},
   "outputs": [
    {
     "name": "stdout",
     "output_type": "stream",
     "text": [
      "3\n"
     ]
    },
    {
     "data": {
      "text/plain": [
       "6037.0    2009362\n",
       "6059.0     741565\n",
       "6111.0     222853\n",
       "Name: fips, dtype: int64"
      ]
     },
     "execution_count": 38,
     "metadata": {},
     "output_type": "execute_result"
    }
   ],
   "source": [
    "print(len(property_2016[\"fips\"].value_counts()))\n",
    "property_2016[\"fips\"].value_counts().head()"
   ]
  },
  {
   "cell_type": "code",
   "execution_count": 39,
   "metadata": {},
   "outputs": [
    {
     "data": {
      "text/plain": [
       "0.0038312122703307665"
      ]
     },
     "execution_count": 39,
     "metadata": {},
     "output_type": "execute_result"
    }
   ],
   "source": [
    "property_2016[\"fips\"].isna().sum() / total"
   ]
  },
  {
   "cell_type": "markdown",
   "metadata": {},
   "source": [
    "### fireplacecnt\n",
    "-  Number of fireplaces in a home (if any)\n",
    "- scalar / 9\n",
    "- rate of NaN : 89.5%"
   ]
  },
  {
   "cell_type": "code",
   "execution_count": 40,
   "metadata": {},
   "outputs": [
    {
     "name": "stdout",
     "output_type": "stream",
     "text": [
      "9\n"
     ]
    },
    {
     "data": {
      "text/plain": [
       "1.0    269643\n",
       "2.0     34407\n",
       "3.0      7696\n",
       "4.0       710\n",
       "5.0       126\n",
       "Name: fireplacecnt, dtype: int64"
      ]
     },
     "execution_count": 40,
     "metadata": {},
     "output_type": "execute_result"
    }
   ],
   "source": [
    "print(len(property_2016[\"fireplacecnt\"].value_counts()))\n",
    "property_2016[\"fireplacecnt\"].value_counts().head()"
   ]
  },
  {
   "cell_type": "code",
   "execution_count": 41,
   "metadata": {},
   "outputs": [
    {
     "data": {
      "text/plain": [
       "0.895271600021037"
      ]
     },
     "execution_count": 41,
     "metadata": {},
     "output_type": "execute_result"
    }
   ],
   "source": [
    "property_2016[\"fireplacecnt\"].isna().sum() / total"
   ]
  },
  {
   "cell_type": "markdown",
   "metadata": {},
   "source": [
    "### fireplaceflag\n",
    "- Is a fireplace present in this home \n",
    "- category / 2 (True / False)\n",
    "- rate of NaN : 99.8%"
   ]
  },
  {
   "cell_type": "code",
   "execution_count": 42,
   "metadata": {},
   "outputs": [
    {
     "name": "stdout",
     "output_type": "stream",
     "text": [
      "1\n"
     ]
    },
    {
     "data": {
      "text/plain": [
       "True    5163\n",
       "Name: fireplaceflag, dtype: int64"
      ]
     },
     "execution_count": 42,
     "metadata": {},
     "output_type": "execute_result"
    }
   ],
   "source": [
    "print(len(property_2016[\"fireplaceflag\"].value_counts()))\n",
    "property_2016[\"fireplaceflag\"].value_counts().head()"
   ]
  },
  {
   "cell_type": "code",
   "execution_count": 43,
   "metadata": {},
   "outputs": [
    {
     "data": {
      "text/plain": [
       "0.9982704774895761"
      ]
     },
     "execution_count": 43,
     "metadata": {},
     "output_type": "execute_result"
    }
   ],
   "source": [
    "property_2016[\"fireplaceflag\"].isna().sum() / total"
   ]
  },
  {
   "cell_type": "markdown",
   "metadata": {},
   "source": [
    "### fullbathcnt\n",
    "- Number of full bathrooms (sink, shower + bathtub, and toilet) present in home\n",
    "- scalar / 20\n",
    "- rate of NaN : 4.3%"
   ]
  },
  {
   "cell_type": "code",
   "execution_count": 44,
   "metadata": {},
   "outputs": [
    {
     "name": "stdout",
     "output_type": "stream",
     "text": [
      "20\n"
     ]
    },
    {
     "data": {
      "text/plain": [
       "2.0    1425661\n",
       "3.0     660139\n",
       "1.0     544928\n",
       "4.0     151004\n",
       "5.0      43918\n",
       "Name: fullbathcnt, dtype: int64"
      ]
     },
     "execution_count": 44,
     "metadata": {},
     "output_type": "execute_result"
    }
   ],
   "source": [
    "print(len(property_2016[\"fullbathcnt\"].value_counts()))\n",
    "property_2016[\"fullbathcnt\"].value_counts().head()"
   ]
  },
  {
   "cell_type": "code",
   "execution_count": 45,
   "metadata": {},
   "outputs": [
    {
     "data": {
      "text/plain": [
       "0.0431834603648579"
      ]
     },
     "execution_count": 45,
     "metadata": {},
     "output_type": "execute_result"
    }
   ],
   "source": [
    "property_2016[\"fullbathcnt\"].isna().sum() / total"
   ]
  },
  {
   "cell_type": "markdown",
   "metadata": {},
   "source": [
    "### garagecarcnt\n",
    "- Total number of garages on the lot including an attached garage\n",
    "- scalar / 24\n",
    "- rate of NaN : 70%"
   ]
  },
  {
   "cell_type": "code",
   "execution_count": 46,
   "metadata": {},
   "outputs": [
    {
     "name": "stdout",
     "output_type": "stream",
     "text": [
      "24\n"
     ]
    },
    {
     "data": {
      "text/plain": [
       "2.0    660462\n",
       "1.0    177579\n",
       "3.0     19634\n",
       "0.0     14005\n",
       "4.0      8495\n",
       "Name: garagecarcnt, dtype: int64"
      ]
     },
     "execution_count": 46,
     "metadata": {},
     "output_type": "execute_result"
    }
   ],
   "source": [
    "print(len(property_2016[\"garagecarcnt\"].value_counts()))\n",
    "property_2016[\"garagecarcnt\"].value_counts().head()"
   ]
  },
  {
   "cell_type": "code",
   "execution_count": 47,
   "metadata": {},
   "outputs": [
    {
     "data": {
      "text/plain": [
       "0.7041196670124819"
      ]
     },
     "execution_count": 47,
     "metadata": {},
     "output_type": "execute_result"
    }
   ],
   "source": [
    "property_2016[\"garagecarcnt\"].isna().sum() / total"
   ]
  },
  {
   "cell_type": "markdown",
   "metadata": {},
   "source": [
    "### garagetotalsqft\n",
    "- Total number of square feet of all garages on lot including an attached garage\n",
    "- scalar / 2240\n",
    "- rate of NaN : 70%"
   ]
  },
  {
   "cell_type": "code",
   "execution_count": 48,
   "metadata": {},
   "outputs": [
    {
     "name": "stdout",
     "output_type": "stream",
     "text": [
      "2240\n"
     ]
    },
    {
     "data": {
      "text/plain": [
       "0.0      196752\n",
       "400.0     33443\n",
       "360.0     29703\n",
       "441.0     26753\n",
       "462.0     25476\n",
       "Name: garagetotalsqft, dtype: int64"
      ]
     },
     "execution_count": 48,
     "metadata": {},
     "output_type": "execute_result"
    }
   ],
   "source": [
    "print(len(property_2016[\"garagetotalsqft\"].value_counts()))\n",
    "property_2016[\"garagetotalsqft\"].value_counts().head()"
   ]
  },
  {
   "cell_type": "code",
   "execution_count": 49,
   "metadata": {},
   "outputs": [
    {
     "data": {
      "text/plain": [
       "0.7041196670124819"
      ]
     },
     "execution_count": 49,
     "metadata": {},
     "output_type": "execute_result"
    }
   ],
   "source": [
    "property_2016[\"garagetotalsqft\"].isna().sum() / total"
   ]
  },
  {
   "cell_type": "markdown",
   "metadata": {},
   "source": [
    "### hashottuborspa\n",
    "- Does the home have a hot tub or spa\n",
    "- category / 2 (True/False)\n",
    "- rate of NaN : 97%"
   ]
  },
  {
   "cell_type": "code",
   "execution_count": 50,
   "metadata": {},
   "outputs": [
    {
     "name": "stdout",
     "output_type": "stream",
     "text": [
      "1\n"
     ]
    },
    {
     "data": {
      "text/plain": [
       "True    69014\n",
       "Name: hashottuborspa, dtype: int64"
      ]
     },
     "execution_count": 50,
     "metadata": {},
     "output_type": "execute_result"
    }
   ],
   "source": [
    "print(len(property_2016[\"hashottuborspa\"].value_counts()))\n",
    "property_2016[\"hashottuborspa\"].value_counts().head()"
   ]
  },
  {
   "cell_type": "code",
   "execution_count": 51,
   "metadata": {},
   "outputs": [
    {
     "data": {
      "text/plain": [
       "0.9768814126410241"
      ]
     },
     "execution_count": 51,
     "metadata": {},
     "output_type": "execute_result"
    }
   ],
   "source": [
    "property_2016[\"hashottuborspa\"].isna().sum() / total"
   ]
  },
  {
   "cell_type": "markdown",
   "metadata": {},
   "source": [
    "### heatingorsystemtypeid\n",
    "- Type of home heating system\n",
    "- category / 14\n",
    "- rate of NaN : 39.4%"
   ]
  },
  {
   "cell_type": "code",
   "execution_count": 52,
   "metadata": {},
   "outputs": [
    {
     "name": "stdout",
     "output_type": "stream",
     "text": [
      "14\n"
     ]
    },
    {
     "data": {
      "text/plain": [
       "2.0     1156830\n",
       "7.0      595453\n",
       "6.0       27480\n",
       "24.0      21107\n",
       "20.0       3216\n",
       "Name: heatingorsystemtypeid, dtype: int64"
      ]
     },
     "execution_count": 52,
     "metadata": {},
     "output_type": "execute_result"
    }
   ],
   "source": [
    "print(len(property_2016[\"heatingorsystemtypeid\"].value_counts()))\n",
    "property_2016[\"heatingorsystemtypeid\"].value_counts().head()"
   ]
  },
  {
   "cell_type": "code",
   "execution_count": 53,
   "metadata": {},
   "outputs": [
    {
     "data": {
      "text/plain": [
       "0.39488452598253326"
      ]
     },
     "execution_count": 53,
     "metadata": {},
     "output_type": "execute_result"
    }
   ],
   "source": [
    "property_2016[\"heatingorsystemtypeid\"].isna().sum() / total"
   ]
  },
  {
   "cell_type": "markdown",
   "metadata": {},
   "source": [
    "### latitude\n",
    "- Latitude of the middle of the parcel multiplied by 10e6\n",
    "- scalar / 852325\n",
    "- rate of NaN : 0.3%"
   ]
  },
  {
   "cell_type": "code",
   "execution_count": 54,
   "metadata": {},
   "outputs": [
    {
     "name": "stdout",
     "output_type": "stream",
     "text": [
      "852325\n"
     ]
    },
    {
     "data": {
      "text/plain": [
       "33984600.0    862\n",
       "33708500.0    760\n",
       "34056700.0    740\n",
       "34171800.0    611\n",
       "33766300.0    568\n",
       "Name: latitude, dtype: int64"
      ]
     },
     "execution_count": 54,
     "metadata": {},
     "output_type": "execute_result"
    }
   ],
   "source": [
    "print(len(property_2016[\"latitude\"].value_counts()))\n",
    "property_2016[\"latitude\"].value_counts().head()"
   ]
  },
  {
   "cell_type": "code",
   "execution_count": 55,
   "metadata": {},
   "outputs": [
    {
     "data": {
      "text/plain": [
       "0.0038312122703307665"
      ]
     },
     "execution_count": 55,
     "metadata": {},
     "output_type": "execute_result"
    }
   ],
   "source": [
    "property_2016[\"latitude\"].isna().sum() / total"
   ]
  },
  {
   "cell_type": "markdown",
   "metadata": {},
   "source": [
    "### longitude\n",
    "-  Longitude of the middle of the parcel multiplied by 10e6\n",
    "- scalar / 1042550\n",
    "- rate of NaN : 0.3%"
   ]
  },
  {
   "cell_type": "code",
   "execution_count": 56,
   "metadata": {},
   "outputs": [
    {
     "name": "stdout",
     "output_type": "stream",
     "text": [
      "1042550\n"
     ]
    },
    {
     "data": {
      "text/plain": [
       "-118390000.0    1718\n",
       "-118438000.0    1585\n",
       "-118389000.0    1568\n",
       "-118252000.0    1402\n",
       "-118432000.0    1371\n",
       "Name: longitude, dtype: int64"
      ]
     },
     "execution_count": 56,
     "metadata": {},
     "output_type": "execute_result"
    }
   ],
   "source": [
    "print(len(property_2016[\"longitude\"].value_counts()))\n",
    "property_2016[\"longitude\"].value_counts().head()"
   ]
  },
  {
   "cell_type": "code",
   "execution_count": 57,
   "metadata": {},
   "outputs": [
    {
     "data": {
      "text/plain": [
       "0.0038312122703307665"
      ]
     },
     "execution_count": 57,
     "metadata": {},
     "output_type": "execute_result"
    }
   ],
   "source": [
    "property_2016[\"longitude\"].isna().sum() / total"
   ]
  },
  {
   "cell_type": "markdown",
   "metadata": {},
   "source": [
    "### lotsizesquarefeet\n",
    "- Area of the lot in square feet\n",
    "- scalar / 69953\n",
    "- rate of NaN : 9.2%"
   ]
  },
  {
   "cell_type": "code",
   "execution_count": 58,
   "metadata": {},
   "outputs": [
    {
     "name": "stdout",
     "output_type": "stream",
     "text": [
      "69953\n"
     ]
    },
    {
     "data": {
      "text/plain": [
       "6000.0    44730\n",
       "5000.0    17546\n",
       "7200.0    15383\n",
       "7000.0    11956\n",
       "6500.0    11624\n",
       "Name: lotsizesquarefeet, dtype: int64"
      ]
     },
     "execution_count": 58,
     "metadata": {},
     "output_type": "execute_result"
    }
   ],
   "source": [
    "print(len(property_2016[\"lotsizesquarefeet\"].value_counts()))\n",
    "property_2016[\"lotsizesquarefeet\"].value_counts().head()"
   ]
  },
  {
   "cell_type": "code",
   "execution_count": 59,
   "metadata": {},
   "outputs": [
    {
     "data": {
      "text/plain": [
       "0.09248875374888994"
      ]
     },
     "execution_count": 59,
     "metadata": {},
     "output_type": "execute_result"
    }
   ],
   "source": [
    "property_2016[\"lotsizesquarefeet\"].isna().sum() / total"
   ]
  },
  {
   "cell_type": "markdown",
   "metadata": {},
   "source": [
    "### numberofstories\n",
    "-  Number of stories or levels the home has\n",
    "- scalar / 12\n",
    "- rate of NaN : 77%"
   ]
  },
  {
   "cell_type": "code",
   "execution_count": 60,
   "metadata": {},
   "outputs": [
    {
     "name": "stdout",
     "output_type": "stream",
     "text": [
      "12\n"
     ]
    },
    {
     "data": {
      "text/plain": [
       "1.0    424186\n",
       "2.0    242125\n",
       "3.0     15678\n",
       "4.0        58\n",
       "5.0        11\n",
       "Name: numberofstories, dtype: int64"
      ]
     },
     "execution_count": 60,
     "metadata": {},
     "output_type": "execute_result"
    }
   ],
   "source": [
    "print(len(property_2016[\"numberofstories\"].value_counts()))\n",
    "property_2016[\"numberofstories\"].value_counts().head()"
   ]
  },
  {
   "cell_type": "code",
   "execution_count": 61,
   "metadata": {},
   "outputs": [
    {
     "data": {
      "text/plain": [
       "0.7715177824593656"
      ]
     },
     "execution_count": 61,
     "metadata": {},
     "output_type": "execute_result"
    }
   ],
   "source": [
    "property_2016[\"numberofstories\"].isna().sum() / total"
   ]
  },
  {
   "cell_type": "markdown",
   "metadata": {},
   "source": [
    "### poolcnt\n",
    "- Number of pools on the lot (if any)\n",
    "- scalar / 1\n",
    "- rate of NaN : 82%"
   ]
  },
  {
   "cell_type": "code",
   "execution_count": 62,
   "metadata": {},
   "outputs": [
    {
     "name": "stdout",
     "output_type": "stream",
     "text": [
      "1\n"
     ]
    },
    {
     "data": {
      "text/plain": [
       "1.0    517534\n",
       "Name: poolcnt, dtype: int64"
      ]
     },
     "execution_count": 62,
     "metadata": {},
     "output_type": "execute_result"
    }
   ],
   "source": [
    "print(len(property_2016[\"poolcnt\"].value_counts()))\n",
    "property_2016[\"poolcnt\"].value_counts().head()"
   ]
  },
  {
   "cell_type": "code",
   "execution_count": 63,
   "metadata": {},
   "outputs": [
    {
     "data": {
      "text/plain": [
       "0.8266343786733091"
      ]
     },
     "execution_count": 63,
     "metadata": {},
     "output_type": "execute_result"
    }
   ],
   "source": [
    "property_2016[\"poolcnt\"].isna().sum() / total"
   ]
  },
  {
   "cell_type": "markdown",
   "metadata": {},
   "source": [
    "### poolsizesum\n",
    "- Total square footage of all pools on property\n",
    "- scalar / 907\n",
    "- rate of NaN : 99%"
   ]
  },
  {
   "cell_type": "code",
   "execution_count": 64,
   "metadata": {},
   "outputs": [
    {
     "name": "stdout",
     "output_type": "stream",
     "text": [
      "907\n"
     ]
    },
    {
     "data": {
      "text/plain": [
       "450.0    3179\n",
       "400.0     972\n",
       "480.0     917\n",
       "500.0     828\n",
       "512.0     826\n",
       "Name: poolsizesum, dtype: int64"
      ]
     },
     "execution_count": 64,
     "metadata": {},
     "output_type": "execute_result"
    }
   ],
   "source": [
    "print(len(property_2016[\"poolsizesum\"].value_counts()))\n",
    "property_2016[\"poolsizesum\"].value_counts().head()"
   ]
  },
  {
   "cell_type": "code",
   "execution_count": 65,
   "metadata": {},
   "outputs": [
    {
     "data": {
      "text/plain": [
       "0.9906338467186807"
      ]
     },
     "execution_count": 65,
     "metadata": {},
     "output_type": "execute_result"
    }
   ],
   "source": [
    "property_2016[\"poolsizesum\"].isna().sum() / total"
   ]
  },
  {
   "cell_type": "markdown",
   "metadata": {},
   "source": [
    "### pooltypeid10\n",
    "- Spa or Hot Tub\n",
    "- category / 1\n",
    "- rate of NaN : 98.7%"
   ]
  },
  {
   "cell_type": "code",
   "execution_count": 66,
   "metadata": {},
   "outputs": [
    {
     "name": "stdout",
     "output_type": "stream",
     "text": [
      "1\n"
     ]
    },
    {
     "data": {
      "text/plain": [
       "1.0    36939\n",
       "Name: pooltypeid10, dtype: int64"
      ]
     },
     "execution_count": 66,
     "metadata": {},
     "output_type": "execute_result"
    }
   ],
   "source": [
    "print(len(property_2016[\"pooltypeid10\"].value_counts()))\n",
    "property_2016[\"pooltypeid10\"].value_counts().head()"
   ]
  },
  {
   "cell_type": "code",
   "execution_count": 67,
   "metadata": {},
   "outputs": [
    {
     "data": {
      "text/plain": [
       "0.9876260251767291"
      ]
     },
     "execution_count": 67,
     "metadata": {},
     "output_type": "execute_result"
    }
   ],
   "source": [
    "property_2016[\"pooltypeid10\"].isna().sum() / total"
   ]
  },
  {
   "cell_type": "markdown",
   "metadata": {},
   "source": [
    "### pooltypeid2\n",
    "- Pool with Spa/Hot Tub\n",
    "- cateory / 1\n",
    "- rate of NaN : 98.9%"
   ]
  },
  {
   "cell_type": "code",
   "execution_count": 68,
   "metadata": {},
   "outputs": [
    {
     "name": "stdout",
     "output_type": "stream",
     "text": [
      "1\n"
     ]
    },
    {
     "data": {
      "text/plain": [
       "1.0    32075\n",
       "Name: pooltypeid2, dtype: int64"
      ]
     },
     "execution_count": 68,
     "metadata": {},
     "output_type": "execute_result"
    }
   ],
   "source": [
    "print(len(property_2016[\"pooltypeid2\"].value_counts()))\n",
    "property_2016[\"pooltypeid2\"].value_counts().head()"
   ]
  },
  {
   "cell_type": "code",
   "execution_count": 69,
   "metadata": {},
   "outputs": [
    {
     "data": {
      "text/plain": [
       "0.9892553874642949"
      ]
     },
     "execution_count": 69,
     "metadata": {},
     "output_type": "execute_result"
    }
   ],
   "source": [
    "property_2016[\"pooltypeid2\"].isna().sum() / total"
   ]
  },
  {
   "cell_type": "markdown",
   "metadata": {},
   "source": [
    "### pooltypeid7\n",
    "- Pool without hot tub\n",
    "- category / 1\n",
    "- rate of NaN : 83.7%"
   ]
  },
  {
   "cell_type": "code",
   "execution_count": 70,
   "metadata": {},
   "outputs": [
    {
     "name": "stdout",
     "output_type": "stream",
     "text": [
      "1\n"
     ]
    },
    {
     "data": {
      "text/plain": [
       "1.0    485459\n",
       "Name: pooltypeid7, dtype: int64"
      ]
     },
     "execution_count": 70,
     "metadata": {},
     "output_type": "execute_result"
    }
   ],
   "source": [
    "print(len(property_2016[\"pooltypeid7\"].value_counts()))\n",
    "property_2016[\"pooltypeid7\"].value_counts().head()"
   ]
  },
  {
   "cell_type": "code",
   "execution_count": 71,
   "metadata": {},
   "outputs": [
    {
     "data": {
      "text/plain": [
       "0.8373789912090143"
      ]
     },
     "execution_count": 71,
     "metadata": {},
     "output_type": "execute_result"
    }
   ],
   "source": [
    "property_2016[\"pooltypeid7\"].isna().sum() / total"
   ]
  },
  {
   "cell_type": "markdown",
   "metadata": {},
   "source": [
    "### propertycountylandusecode\n",
    "- County land use code i.e. it's zoning at the county level\n",
    "- category(object) / 240\n",
    "- rate of NaN : 0.4%"
   ]
  },
  {
   "cell_type": "code",
   "execution_count": 72,
   "metadata": {},
   "outputs": [
    {
     "name": "stdout",
     "output_type": "stream",
     "text": [
      "240\n"
     ]
    },
    {
     "data": {
      "text/plain": [
       "0100    1153896\n",
       "122      522145\n",
       "0101     247494\n",
       "010C     225410\n",
       "1111     126491\n",
       "Name: propertycountylandusecode, dtype: int64"
      ]
     },
     "execution_count": 72,
     "metadata": {},
     "output_type": "execute_result"
    }
   ],
   "source": [
    "print(len(property_2016[\"propertycountylandusecode\"].value_counts()))\n",
    "property_2016[\"propertycountylandusecode\"].value_counts().head()"
   ]
  },
  {
   "cell_type": "code",
   "execution_count": 73,
   "metadata": {},
   "outputs": [
    {
     "data": {
      "text/plain": [
       "0.004112598849597868"
      ]
     },
     "execution_count": 73,
     "metadata": {},
     "output_type": "execute_result"
    }
   ],
   "source": [
    "property_2016[\"propertycountylandusecode\"].isna().sum() / total"
   ]
  },
  {
   "cell_type": "markdown",
   "metadata": {},
   "source": [
    "### propertylandusetypeid\n",
    "- Type of land use the property is zoned for\n",
    "- category / 15\n",
    "- rate of NaN : 0.3%"
   ]
  },
  {
   "cell_type": "code",
   "execution_count": 74,
   "metadata": {},
   "outputs": [
    {
     "name": "stdout",
     "output_type": "stream",
     "text": [
      "15\n"
     ]
    },
    {
     "data": {
      "text/plain": [
       "261.0    2148362\n",
       "266.0     481067\n",
       "246.0     114888\n",
       "269.0      61469\n",
       "263.0      58438\n",
       "Name: propertylandusetypeid, dtype: int64"
      ]
     },
     "execution_count": 74,
     "metadata": {},
     "output_type": "execute_result"
    }
   ],
   "source": [
    "print(len(property_2016[\"propertylandusetypeid\"].value_counts()))\n",
    "property_2016[\"propertylandusetypeid\"].value_counts().head()"
   ]
  },
  {
   "cell_type": "code",
   "execution_count": 75,
   "metadata": {},
   "outputs": [
    {
     "data": {
      "text/plain": [
       "0.0038312122703307665"
      ]
     },
     "execution_count": 75,
     "metadata": {},
     "output_type": "execute_result"
    }
   ],
   "source": [
    "property_2016[\"propertylandusetypeid\"].isna().sum() / total"
   ]
  },
  {
   "cell_type": "markdown",
   "metadata": {},
   "source": [
    "### propertyzoningdesc\n",
    "- Description of the allowed land uses (zoning) for that property\n",
    "- category(object) / 5638\n",
    "- rate of NaN : 33.7%"
   ]
  },
  {
   "cell_type": "code",
   "execution_count": 76,
   "metadata": {},
   "outputs": [
    {
     "name": "stdout",
     "output_type": "stream",
     "text": [
      "5638\n"
     ]
    },
    {
     "data": {
      "text/plain": [
       "LAR1     275029\n",
       "LAR3      67105\n",
       "LARS      54859\n",
       "LBR1N     52750\n",
       "LAR2      48808\n",
       "Name: propertyzoningdesc, dtype: int64"
      ]
     },
     "execution_count": 76,
     "metadata": {},
     "output_type": "execute_result"
    }
   ],
   "source": [
    "print(len(property_2016[\"propertyzoningdesc\"].value_counts()))\n",
    "property_2016[\"propertyzoningdesc\"].value_counts().head()"
   ]
  },
  {
   "cell_type": "code",
   "execution_count": 77,
   "metadata": {},
   "outputs": [
    {
     "data": {
      "text/plain": [
       "0.33719089768013516"
      ]
     },
     "execution_count": 77,
     "metadata": {},
     "output_type": "execute_result"
    }
   ],
   "source": [
    "property_2016[\"propertyzoningdesc\"].isna().sum() / total"
   ]
  },
  {
   "cell_type": "markdown",
   "metadata": {},
   "source": [
    "### rawcensustractandblock\n",
    "- Census tract and block ID combined - also contains blockgroup assignment by extension\n",
    "- category / 99393\n",
    "- rate of NaN : 0.3%"
   ]
  },
  {
   "cell_type": "code",
   "execution_count": 78,
   "metadata": {},
   "outputs": [
    {
     "name": "stdout",
     "output_type": "stream",
     "text": [
      "99393\n"
     ]
    },
    {
     "data": {
      "text/plain": [
       "6.059052e+07    1518\n",
       "6.037920e+07    1455\n",
       "6.059063e+07     895\n",
       "6.037137e+07     886\n",
       "6.037577e+07     825\n",
       "Name: rawcensustractandblock, dtype: int64"
      ]
     },
     "execution_count": 78,
     "metadata": {},
     "output_type": "execute_result"
    }
   ],
   "source": [
    "print(len(property_2016[\"rawcensustractandblock\"].value_counts()))\n",
    "property_2016[\"rawcensustractandblock\"].value_counts().head()"
   ]
  },
  {
   "cell_type": "code",
   "execution_count": 79,
   "metadata": {},
   "outputs": [
    {
     "data": {
      "text/plain": [
       "0.0038312122703307665"
      ]
     },
     "execution_count": 79,
     "metadata": {},
     "output_type": "execute_result"
    }
   ],
   "source": [
    "property_2016[\"rawcensustractandblock\"].isna().sum() / total"
   ]
  },
  {
   "cell_type": "markdown",
   "metadata": {},
   "source": [
    "### censustractandblock\n",
    "- Census tract and block ID combined - also contains blockgroup assignment by extension\n",
    "- category / 96771\n",
    "- rate of NaN : 2.5%"
   ]
  },
  {
   "cell_type": "code",
   "execution_count": 80,
   "metadata": {},
   "outputs": [
    {
     "name": "stdout",
     "output_type": "stream",
     "text": [
      "96771\n"
     ]
    },
    {
     "data": {
      "text/plain": [
       "6.037920e+13    1171\n",
       "6.037137e+13     881\n",
       "6.037920e+13     811\n",
       "6.059063e+13     807\n",
       "6.059052e+13     806\n",
       "Name: censustractandblock, dtype: int64"
      ]
     },
     "execution_count": 80,
     "metadata": {},
     "output_type": "execute_result"
    }
   ],
   "source": [
    "print(len(property_2016[\"censustractandblock\"].value_counts()))\n",
    "property_2016[\"censustractandblock\"].value_counts().head()"
   ]
  },
  {
   "cell_type": "code",
   "execution_count": 81,
   "metadata": {},
   "outputs": [
    {
     "data": {
      "text/plain": [
       "0.025166009707167016"
      ]
     },
     "execution_count": 81,
     "metadata": {},
     "output_type": "execute_result"
    }
   ],
   "source": [
    "property_2016[\"censustractandblock\"].isna().sum() / total"
   ]
  },
  {
   "cell_type": "markdown",
   "metadata": {},
   "source": [
    "### regionidcounty\n",
    "- County in which the property is located\n",
    "- category / 3\n",
    "- rate of NaN : 0.3%"
   ]
  },
  {
   "cell_type": "code",
   "execution_count": 82,
   "metadata": {},
   "outputs": [
    {
     "name": "stdout",
     "output_type": "stream",
     "text": [
      "3\n"
     ]
    },
    {
     "data": {
      "text/plain": [
       "3101.0    2009362\n",
       "1286.0     741565\n",
       "2061.0     222853\n",
       "Name: regionidcounty, dtype: int64"
      ]
     },
     "execution_count": 82,
     "metadata": {},
     "output_type": "execute_result"
    }
   ],
   "source": [
    "print(len(property_2016[\"regionidcounty\"].value_counts()))\n",
    "property_2016[\"regionidcounty\"].value_counts().head()"
   ]
  },
  {
   "cell_type": "code",
   "execution_count": 83,
   "metadata": {},
   "outputs": [
    {
     "data": {
      "text/plain": [
       "0.0038312122703307665"
      ]
     },
     "execution_count": 83,
     "metadata": {},
     "output_type": "execute_result"
    }
   ],
   "source": [
    "property_2016[\"regionidcounty\"].isna().sum() / total"
   ]
  },
  {
   "cell_type": "markdown",
   "metadata": {},
   "source": [
    "### regionidcity\n",
    "- City in which the property is located (if any)\n",
    "- category / 186\n",
    "- rate of NaN : 2%"
   ]
  },
  {
   "cell_type": "code",
   "execution_count": 84,
   "metadata": {},
   "outputs": [
    {
     "name": "stdout",
     "output_type": "stream",
     "text": [
      "186\n"
     ]
    },
    {
     "data": {
      "text/plain": [
       "12447.0    670925\n",
       "46298.0     93470\n",
       "16764.0     59802\n",
       "52650.0     58234\n",
       "25218.0     56962\n",
       "Name: regionidcity, dtype: int64"
      ]
     },
     "execution_count": 84,
     "metadata": {},
     "output_type": "execute_result"
    }
   ],
   "source": [
    "print(len(property_2016[\"regionidcity\"].value_counts()))\n",
    "property_2016[\"regionidcity\"].value_counts().head()"
   ]
  },
  {
   "cell_type": "code",
   "execution_count": 85,
   "metadata": {},
   "outputs": [
    {
     "data": {
      "text/plain": [
       "0.0210520709214774"
      ]
     },
     "execution_count": 85,
     "metadata": {},
     "output_type": "execute_result"
    }
   ],
   "source": [
    "property_2016[\"regionidcity\"].isna().sum() / total"
   ]
  },
  {
   "cell_type": "markdown",
   "metadata": {},
   "source": [
    "### regionidzip\n",
    "- Zip code in which the property is located\n",
    "- category / 405\n",
    "- rate of NaN : 0.4%"
   ]
  },
  {
   "cell_type": "code",
   "execution_count": 86,
   "metadata": {},
   "outputs": [
    {
     "name": "stdout",
     "output_type": "stream",
     "text": [
      "405\n"
     ]
    },
    {
     "data": {
      "text/plain": [
       "96987.0    22021\n",
       "96193.0    21759\n",
       "97118.0    20612\n",
       "97319.0    20310\n",
       "96964.0    19898\n",
       "Name: regionidzip, dtype: int64"
      ]
     },
     "execution_count": 86,
     "metadata": {},
     "output_type": "execute_result"
    }
   ],
   "source": [
    "print(len(property_2016[\"regionidzip\"].value_counts()))\n",
    "property_2016[\"regionidzip\"].value_counts().head()"
   ]
  },
  {
   "cell_type": "code",
   "execution_count": 87,
   "metadata": {},
   "outputs": [
    {
     "data": {
      "text/plain": [
       "0.004683076640659624"
      ]
     },
     "execution_count": 87,
     "metadata": {},
     "output_type": "execute_result"
    }
   ],
   "source": [
    "property_2016[\"regionidzip\"].isna().sum() / total"
   ]
  },
  {
   "cell_type": "markdown",
   "metadata": {},
   "source": [
    "### regionidneighborhood\n",
    "- Neighborhood in which the property is located\n",
    "- category / 528\n",
    "- rate of NaN : 61%"
   ]
  },
  {
   "cell_type": "code",
   "execution_count": 88,
   "metadata": {},
   "outputs": [
    {
     "name": "stdout",
     "output_type": "stream",
     "text": [
      "528\n"
     ]
    },
    {
     "data": {
      "text/plain": [
       "118208.0    32267\n",
       "268496.0    23186\n",
       "48570.0     21186\n",
       "27080.0     18891\n",
       "37739.0     18645\n",
       "Name: regionidneighborhood, dtype: int64"
      ]
     },
     "execution_count": 88,
     "metadata": {},
     "output_type": "execute_result"
    }
   ],
   "source": [
    "print(len(property_2016[\"regionidneighborhood\"].value_counts()))\n",
    "property_2016[\"regionidneighborhood\"].value_counts().head()"
   ]
  },
  {
   "cell_type": "code",
   "execution_count": 89,
   "metadata": {},
   "outputs": [
    {
     "data": {
      "text/plain": [
       "0.6126238059075773"
      ]
     },
     "execution_count": 89,
     "metadata": {},
     "output_type": "execute_result"
    }
   ],
   "source": [
    "property_2016[\"regionidneighborhood\"].isna().sum() / total"
   ]
  },
  {
   "cell_type": "markdown",
   "metadata": {},
   "source": [
    "### roomcnt\n",
    "- Total number of rooms in the principal residence\n",
    "- scalar / 36\n",
    "- rate of NaN : 0.3%"
   ]
  },
  {
   "cell_type": "code",
   "execution_count": 90,
   "metadata": {},
   "outputs": [
    {
     "name": "stdout",
     "output_type": "stream",
     "text": [
      "36\n"
     ]
    },
    {
     "data": {
      "text/plain": [
       "0.0    2308879\n",
       "6.0     178357\n",
       "7.0     156397\n",
       "8.0     120227\n",
       "5.0      99582\n",
       "Name: roomcnt, dtype: int64"
      ]
     },
     "execution_count": 90,
     "metadata": {},
     "output_type": "execute_result"
    }
   ],
   "source": [
    "print(len(property_2016[\"roomcnt\"].value_counts()))\n",
    "property_2016[\"roomcnt\"].value_counts().head()"
   ]
  },
  {
   "cell_type": "code",
   "execution_count": 91,
   "metadata": {},
   "outputs": [
    {
     "data": {
      "text/plain": [
       "0.0038439416632023737"
      ]
     },
     "execution_count": 91,
     "metadata": {},
     "output_type": "execute_result"
    }
   ],
   "source": [
    "property_2016[\"roomcnt\"].isna().sum() / total"
   ]
  },
  {
   "cell_type": "markdown",
   "metadata": {},
   "source": [
    "### storytypeid\n",
    "- Type of floors in a multi-story house (i.e. basement and main level, split-level, attic, etc.).  See tab for details.\n",
    "- category / 1\n",
    "- rate of NaN : 99.9%"
   ]
  },
  {
   "cell_type": "code",
   "execution_count": 92,
   "metadata": {},
   "outputs": [
    {
     "name": "stdout",
     "output_type": "stream",
     "text": [
      "1\n"
     ]
    },
    {
     "data": {
      "text/plain": [
       "7.0    1624\n",
       "Name: storytypeid, dtype: int64"
      ]
     },
     "execution_count": 92,
     "metadata": {},
     "output_type": "execute_result"
    }
   ],
   "source": [
    "print(len(property_2016[\"storytypeid\"].value_counts()))\n",
    "property_2016[\"storytypeid\"].value_counts().head()"
   ]
  },
  {
   "cell_type": "code",
   "execution_count": 93,
   "metadata": {},
   "outputs": [
    {
     "data": {
      "text/plain": [
       "0.9994559859467502"
      ]
     },
     "execution_count": 93,
     "metadata": {},
     "output_type": "execute_result"
    }
   ],
   "source": [
    "property_2016[\"storytypeid\"].isna().sum() / total"
   ]
  },
  {
   "cell_type": "markdown",
   "metadata": {},
   "source": [
    "### typeconstructiontypeid\n",
    "- What type of construction material was used to construct the home\n",
    "- category / 5\n",
    "- rate of NaN : 99.7%"
   ]
  },
  {
   "cell_type": "code",
   "execution_count": 94,
   "metadata": {},
   "outputs": [
    {
     "name": "stdout",
     "output_type": "stream",
     "text": [
      "5\n"
     ]
    },
    {
     "data": {
      "text/plain": [
       "6.0     6670\n",
       "4.0       59\n",
       "13.0      14\n",
       "10.0       3\n",
       "11.0       1\n",
       "Name: typeconstructiontypeid, dtype: int64"
      ]
     },
     "execution_count": 94,
     "metadata": {},
     "output_type": "execute_result"
    }
   ],
   "source": [
    "print(len(property_2016[\"typeconstructiontypeid\"].value_counts()))\n",
    "property_2016[\"typeconstructiontypeid\"].value_counts().head()"
   ]
  },
  {
   "cell_type": "code",
   "execution_count": 95,
   "metadata": {},
   "outputs": [
    {
     "data": {
      "text/plain": [
       "0.9977398627972439"
      ]
     },
     "execution_count": 95,
     "metadata": {},
     "output_type": "execute_result"
    }
   ],
   "source": [
    "property_2016[\"typeconstructiontypeid\"].isna().sum() / total"
   ]
  },
  {
   "cell_type": "markdown",
   "metadata": {},
   "source": [
    "### unitcnt\n",
    "-  Number of units the structure is built into (i.e. 2 = duplex, 3 = triplex, etc...)\n",
    "- category / 146\n",
    "- rate of NaN : 33%"
   ]
  },
  {
   "cell_type": "code",
   "execution_count": 96,
   "metadata": {},
   "outputs": [
    {
     "name": "stdout",
     "output_type": "stream",
     "text": [
      "146\n"
     ]
    },
    {
     "data": {
      "text/plain": [
       "1.0    1780051\n",
       "2.0     115652\n",
       "4.0      39877\n",
       "3.0      39830\n",
       "5.0        588\n",
       "Name: unitcnt, dtype: int64"
      ]
     },
     "execution_count": 96,
     "metadata": {},
     "output_type": "execute_result"
    }
   ],
   "source": [
    "print(len(property_2016[\"unitcnt\"].value_counts()))\n",
    "property_2016[\"unitcnt\"].value_counts().head()"
   ]
  },
  {
   "cell_type": "code",
   "execution_count": 97,
   "metadata": {},
   "outputs": [
    {
     "data": {
      "text/plain": [
       "0.3375724444822604"
      ]
     },
     "execution_count": 97,
     "metadata": {},
     "output_type": "execute_result"
    }
   ],
   "source": [
    "property_2016[\"unitcnt\"].isna().sum() / total"
   ]
  },
  {
   "cell_type": "markdown",
   "metadata": {},
   "source": [
    "### yardbuildingsqft17\n",
    "- Patio in  yard\n",
    "- scalar / 1636\n",
    "- rate of NaN : 97.3%"
   ]
  },
  {
   "cell_type": "code",
   "execution_count": 98,
   "metadata": {},
   "outputs": [
    {
     "name": "stdout",
     "output_type": "stream",
     "text": [
      "1636\n"
     ]
    },
    {
     "data": {
      "text/plain": [
       "240.0    3190\n",
       "200.0    2980\n",
       "300.0    2272\n",
       "180.0    1492\n",
       "288.0    1443\n",
       "Name: yardbuildingsqft17, dtype: int64"
      ]
     },
     "execution_count": 98,
     "metadata": {},
     "output_type": "execute_result"
    }
   ],
   "source": [
    "print(len(property_2016[\"yardbuildingsqft17\"].value_counts()))\n",
    "property_2016[\"yardbuildingsqft17\"].value_counts().head()"
   ]
  },
  {
   "cell_type": "code",
   "execution_count": 99,
   "metadata": {},
   "outputs": [
    {
     "data": {
      "text/plain": [
       "0.9730823588368953"
      ]
     },
     "execution_count": 99,
     "metadata": {},
     "output_type": "execute_result"
    }
   ],
   "source": [
    "property_2016[\"yardbuildingsqft17\"].isna().sum() / total"
   ]
  },
  {
   "cell_type": "markdown",
   "metadata": {},
   "source": [
    "### yardbuildingsqft26\n",
    "- Storage shed/building in yard\n",
    "- scalar / 594\n",
    "- rate of NaN : 99.9%"
   ]
  },
  {
   "cell_type": "code",
   "execution_count": 100,
   "metadata": {},
   "outputs": [
    {
     "name": "stdout",
     "output_type": "stream",
     "text": [
      "594\n"
     ]
    },
    {
     "data": {
      "text/plain": [
       "120.0    91\n",
       "100.0    69\n",
       "240.0    61\n",
       "160.0    55\n",
       "80.0     53\n",
       "Name: yardbuildingsqft26, dtype: int64"
      ]
     },
     "execution_count": 100,
     "metadata": {},
     "output_type": "execute_result"
    }
   ],
   "source": [
    "print(len(property_2016[\"yardbuildingsqft26\"].value_counts()))\n",
    "property_2016[\"yardbuildingsqft26\"].value_counts().head()"
   ]
  },
  {
   "cell_type": "code",
   "execution_count": 101,
   "metadata": {},
   "outputs": [
    {
     "data": {
      "text/plain": [
       "0.9991132972912857"
      ]
     },
     "execution_count": 101,
     "metadata": {},
     "output_type": "execute_result"
    }
   ],
   "source": [
    "property_2016[\"yardbuildingsqft26\"].isna().sum() / total"
   ]
  },
  {
   "cell_type": "markdown",
   "metadata": {},
   "source": [
    "### yearbuilt\n",
    "- The Year the principal residence was built \n",
    "- category(also use scalar) / 168\n",
    "- rate of NaN :  2%"
   ]
  },
  {
   "cell_type": "code",
   "execution_count": 102,
   "metadata": {},
   "outputs": [
    {
     "name": "stdout",
     "output_type": "stream",
     "text": [
      "168\n"
     ]
    },
    {
     "data": {
      "text/plain": [
       "1955.0    88586\n",
       "1950.0    76142\n",
       "1954.0    73307\n",
       "1953.0    67085\n",
       "1956.0    65736\n",
       "Name: yearbuilt, dtype: int64"
      ]
     },
     "execution_count": 102,
     "metadata": {},
     "output_type": "execute_result"
    }
   ],
   "source": [
    "print(len(property_2016[\"yearbuilt\"].value_counts()))\n",
    "property_2016[\"yearbuilt\"].value_counts().head()"
   ]
  },
  {
   "cell_type": "code",
   "execution_count": 103,
   "metadata": {},
   "outputs": [
    {
     "data": {
      "text/plain": [
       "0.020074922526570095"
      ]
     },
     "execution_count": 103,
     "metadata": {},
     "output_type": "execute_result"
    }
   ],
   "source": [
    "property_2016[\"yearbuilt\"].isna().sum() / total"
   ]
  },
  {
   "cell_type": "markdown",
   "metadata": {},
   "source": [
    "### taxvaluedollarcnt\n",
    "- The total tax assessed value of the parcel\n",
    "- scalar / 638920\n",
    "- rate of NaN : 1.4% "
   ]
  },
  {
   "cell_type": "code",
   "execution_count": 104,
   "metadata": {},
   "outputs": [
    {
     "name": "stdout",
     "output_type": "stream",
     "text": [
      "638920\n"
     ]
    },
    {
     "data": {
      "text/plain": [
       "9.0         1889\n",
       "400000.0    1572\n",
       "350000.0    1511\n",
       "450000.0    1459\n",
       "500000.0    1339\n",
       "Name: taxvaluedollarcnt, dtype: int64"
      ]
     },
     "execution_count": 104,
     "metadata": {},
     "output_type": "execute_result"
    }
   ],
   "source": [
    "print(len(property_2016[\"taxvaluedollarcnt\"].value_counts()))\n",
    "property_2016[\"taxvaluedollarcnt\"].value_counts().head()"
   ]
  },
  {
   "cell_type": "code",
   "execution_count": 105,
   "metadata": {},
   "outputs": [
    {
     "data": {
      "text/plain": [
       "0.014253570175970457"
      ]
     },
     "execution_count": 105,
     "metadata": {},
     "output_type": "execute_result"
    }
   ],
   "source": [
    "property_2016[\"taxvaluedollarcnt\"].isna().sum() / total"
   ]
  },
  {
   "cell_type": "markdown",
   "metadata": {},
   "source": [
    "### structuretaxvaluedollarcnt\n",
    "- The assessed value of the built structure on the parcel\n",
    "- scalar / 426150\n",
    "- rate of NaN : 1.8%"
   ]
  },
  {
   "cell_type": "code",
   "execution_count": 106,
   "metadata": {},
   "outputs": [
    {
     "name": "stdout",
     "output_type": "stream",
     "text": [
      "426150\n"
     ]
    },
    {
     "data": {
      "text/plain": [
       "100000.0    1880\n",
       "102461.0    1578\n",
       "104510.0    1513\n",
       "200000.0    1418\n",
       "107401.0    1411\n",
       "Name: structuretaxvaluedollarcnt, dtype: int64"
      ]
     },
     "execution_count": 106,
     "metadata": {},
     "output_type": "execute_result"
    }
   ],
   "source": [
    "print(len(property_2016[\"structuretaxvaluedollarcnt\"].value_counts()))\n",
    "property_2016[\"structuretaxvaluedollarcnt\"].value_counts().head()"
   ]
  },
  {
   "cell_type": "code",
   "execution_count": 107,
   "metadata": {},
   "outputs": [
    {
     "data": {
      "text/plain": [
       "0.018418091549123564"
      ]
     },
     "execution_count": 107,
     "metadata": {},
     "output_type": "execute_result"
    }
   ],
   "source": [
    "property_2016[\"structuretaxvaluedollarcnt\"].isna().sum() / total"
   ]
  },
  {
   "cell_type": "markdown",
   "metadata": {},
   "source": [
    "### landtaxvaluedollarcnt\n",
    "- The assessed value of the land area of the parcel\n",
    "- scalar / 531408\n",
    "- rate of NaN : 2.2%"
   ]
  },
  {
   "cell_type": "code",
   "execution_count": 108,
   "metadata": {},
   "outputs": [
    {
     "name": "stdout",
     "output_type": "stream",
     "text": [
      "531408\n"
     ]
    },
    {
     "data": {
      "text/plain": [
       "20980.0    3804\n",
       "22414.0    2474\n",
       "16275.0    2377\n",
       "19149.0    2218\n",
       "9.0        2172\n",
       "Name: landtaxvaluedollarcnt, dtype: int64"
      ]
     },
     "execution_count": 108,
     "metadata": {},
     "output_type": "execute_result"
    }
   ],
   "source": [
    "print(len(property_2016[\"landtaxvaluedollarcnt\"].value_counts()))\n",
    "property_2016[\"landtaxvaluedollarcnt\"].value_counts().head()"
   ]
  },
  {
   "cell_type": "code",
   "execution_count": 109,
   "metadata": {},
   "outputs": [
    {
     "data": {
      "text/plain": [
       "0.022689472825593582"
      ]
     },
     "execution_count": 109,
     "metadata": {},
     "output_type": "execute_result"
    }
   ],
   "source": [
    "property_2016[\"landtaxvaluedollarcnt\"].isna().sum() / total"
   ]
  },
  {
   "cell_type": "markdown",
   "metadata": {},
   "source": [
    "### taxamount\n",
    "- The total property tax assessed for that assessment year\n",
    "- scalar / 1045757\n",
    "- rate of NaN : 1%"
   ]
  },
  {
   "cell_type": "code",
   "execution_count": 110,
   "metadata": {},
   "outputs": [
    {
     "name": "stdout",
     "output_type": "stream",
     "text": [
      "1045757\n"
     ]
    },
    {
     "data": {
      "text/plain": [
       "345.72     171\n",
       "1844.16    124\n",
       "1045.88    110\n",
       "5.02       103\n",
       "1481.24    102\n",
       "Name: taxamount, dtype: int64"
      ]
     },
     "execution_count": 110,
     "metadata": {},
     "output_type": "execute_result"
    }
   ],
   "source": [
    "print(len(property_2016[\"taxamount\"].value_counts()))\n",
    "property_2016[\"taxamount\"].value_counts().head()"
   ]
  },
  {
   "cell_type": "code",
   "execution_count": 111,
   "metadata": {},
   "outputs": [
    {
     "data": {
      "text/plain": [
       "0.010468250716782063"
      ]
     },
     "execution_count": 111,
     "metadata": {},
     "output_type": "execute_result"
    }
   ],
   "source": [
    "property_2016[\"taxamount\"].isna().sum() / total"
   ]
  },
  {
   "cell_type": "markdown",
   "metadata": {},
   "source": [
    "### assessmentyear\n",
    "- The year of the property tax assessment \n",
    "- category / 14\n",
    "- rate of NaN : 0.3%"
   ]
  },
  {
   "cell_type": "code",
   "execution_count": 112,
   "metadata": {},
   "outputs": [
    {
     "name": "stdout",
     "output_type": "stream",
     "text": [
      "14\n"
     ]
    },
    {
     "data": {
      "text/plain": [
       "2015.0    2972420\n",
       "2014.0       1306\n",
       "2012.0         26\n",
       "2004.0          6\n",
       "2013.0          4\n",
       "Name: assessmentyear, dtype: int64"
      ]
     },
     "execution_count": 112,
     "metadata": {},
     "output_type": "execute_result"
    }
   ],
   "source": [
    "print(len(property_2016[\"assessmentyear\"].value_counts()))\n",
    "property_2016[\"assessmentyear\"].value_counts().head()"
   ]
  },
  {
   "cell_type": "code",
   "execution_count": 113,
   "metadata": {},
   "outputs": [
    {
     "data": {
      "text/plain": [
       "0.0038318822383766405"
      ]
     },
     "execution_count": 113,
     "metadata": {},
     "output_type": "execute_result"
    }
   ],
   "source": [
    "property_2016[\"assessmentyear\"].isna().sum() / total"
   ]
  },
  {
   "cell_type": "markdown",
   "metadata": {},
   "source": [
    "### taxdelinquencyflag\n",
    "- Property taxes for this parcel are past due as of 2015\n",
    "- category / 2 (Y/N)\n",
    "- rate of NaN : 98%"
   ]
  },
  {
   "cell_type": "code",
   "execution_count": 114,
   "metadata": {},
   "outputs": [
    {
     "name": "stdout",
     "output_type": "stream",
     "text": [
      "1\n"
     ]
    },
    {
     "data": {
      "text/plain": [
       "Y    56462\n",
       "Name: taxdelinquencyflag, dtype: int64"
      ]
     },
     "execution_count": 114,
     "metadata": {},
     "output_type": "execute_result"
    }
   ],
   "source": [
    "print(len(property_2016[\"taxdelinquencyflag\"].value_counts()))\n",
    "property_2016[\"taxdelinquencyflag\"].value_counts().head()"
   ]
  },
  {
   "cell_type": "code",
   "execution_count": 115,
   "metadata": {},
   "outputs": [
    {
     "data": {
      "text/plain": [
       "0.9810861320969296"
      ]
     },
     "execution_count": 115,
     "metadata": {},
     "output_type": "execute_result"
    }
   ],
   "source": [
    "property_2016[\"taxdelinquencyflag\"].isna().sum() / total"
   ]
  },
  {
   "cell_type": "markdown",
   "metadata": {},
   "source": [
    "### taxdelinquencyyear\n",
    "- Year for which the unpaid propert taxes were due \n",
    "- category / 32\n",
    "- rate of NaN : 98%"
   ]
  },
  {
   "cell_type": "code",
   "execution_count": 116,
   "metadata": {},
   "outputs": [
    {
     "name": "stdout",
     "output_type": "stream",
     "text": [
      "32\n"
     ]
    },
    {
     "data": {
      "text/plain": [
       "15.0    26068\n",
       "14.0    16826\n",
       "13.0     4632\n",
       "12.0     3124\n",
       "11.0     2350\n",
       "Name: taxdelinquencyyear, dtype: int64"
      ]
     },
     "execution_count": 116,
     "metadata": {},
     "output_type": "execute_result"
    }
   ],
   "source": [
    "print(len(property_2016[\"taxdelinquencyyear\"].value_counts()))\n",
    "property_2016[\"taxdelinquencyyear\"].value_counts().head()"
   ]
  },
  {
   "cell_type": "code",
   "execution_count": 117,
   "metadata": {},
   "outputs": [
    {
     "data": {
      "text/plain": [
       "0.9810854621288838"
      ]
     },
     "execution_count": 117,
     "metadata": {},
     "output_type": "execute_result"
    }
   ],
   "source": [
    "property_2016[\"taxdelinquencyyear\"].isna().sum() / total"
   ]
  }
 ],
 "metadata": {
  "kernelspec": {
   "display_name": "Python 3",
   "language": "python",
   "name": "python3"
  },
  "language_info": {
   "codemirror_mode": {
    "name": "ipython",
    "version": 3
   },
   "file_extension": ".py",
   "mimetype": "text/x-python",
   "name": "python",
   "nbconvert_exporter": "python",
   "pygments_lexer": "ipython3",
   "version": "3.7.0"
  }
 },
 "nbformat": 4,
 "nbformat_minor": 2
}
