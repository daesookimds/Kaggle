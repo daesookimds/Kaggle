{
 "cells": [
  {
   "cell_type": "code",
   "execution_count": 1,
   "metadata": {},
   "outputs": [],
   "source": [
    "import pandas as pd\n",
    "import numpy as np\n",
    "\n",
    "total = 2985217"
   ]
  },
  {
   "cell_type": "markdown",
   "metadata": {},
   "source": [
    "## Load Data"
   ]
  },
  {
   "cell_type": "code",
   "execution_count": 2,
   "metadata": {},
   "outputs": [
    {
     "name": "stdout",
     "output_type": "stream",
     "text": [
      "(77613, 3)\n"
     ]
    },
    {
     "data": {
      "text/html": [
       "<div>\n",
       "<style scoped>\n",
       "    .dataframe tbody tr th:only-of-type {\n",
       "        vertical-align: middle;\n",
       "    }\n",
       "\n",
       "    .dataframe tbody tr th {\n",
       "        vertical-align: top;\n",
       "    }\n",
       "\n",
       "    .dataframe thead th {\n",
       "        text-align: right;\n",
       "    }\n",
       "</style>\n",
       "<table border=\"1\" class=\"dataframe\">\n",
       "  <thead>\n",
       "    <tr style=\"text-align: right;\">\n",
       "      <th></th>\n",
       "      <th>parcelid</th>\n",
       "      <th>logerror</th>\n",
       "      <th>transactiondate</th>\n",
       "    </tr>\n",
       "  </thead>\n",
       "  <tbody>\n",
       "    <tr>\n",
       "      <th>77608</th>\n",
       "      <td>10833991</td>\n",
       "      <td>-0.002245</td>\n",
       "      <td>2017-09-20</td>\n",
       "    </tr>\n",
       "    <tr>\n",
       "      <th>77609</th>\n",
       "      <td>11000655</td>\n",
       "      <td>0.020615</td>\n",
       "      <td>2017-09-20</td>\n",
       "    </tr>\n",
       "    <tr>\n",
       "      <th>77610</th>\n",
       "      <td>17239384</td>\n",
       "      <td>0.013209</td>\n",
       "      <td>2017-09-21</td>\n",
       "    </tr>\n",
       "    <tr>\n",
       "      <th>77611</th>\n",
       "      <td>12773139</td>\n",
       "      <td>0.037129</td>\n",
       "      <td>2017-09-21</td>\n",
       "    </tr>\n",
       "    <tr>\n",
       "      <th>77612</th>\n",
       "      <td>12826780</td>\n",
       "      <td>0.007204</td>\n",
       "      <td>2017-09-25</td>\n",
       "    </tr>\n",
       "  </tbody>\n",
       "</table>\n",
       "</div>"
      ],
      "text/plain": [
       "       parcelid  logerror transactiondate\n",
       "77608  10833991 -0.002245      2017-09-20\n",
       "77609  11000655  0.020615      2017-09-20\n",
       "77610  17239384  0.013209      2017-09-21\n",
       "77611  12773139  0.037129      2017-09-21\n",
       "77612  12826780  0.007204      2017-09-25"
      ]
     },
     "execution_count": 2,
     "metadata": {},
     "output_type": "execute_result"
    }
   ],
   "source": [
    "train_2017 = pd.read_csv(\"train_2017.csv\", parse_dates=[\"transactiondate\"])\n",
    "print(train_2017.shape)\n",
    "train_2017.tail()"
   ]
  },
  {
   "cell_type": "code",
   "execution_count": 3,
   "metadata": {},
   "outputs": [
    {
     "name": "stderr",
     "output_type": "stream",
     "text": [
      "/usr/local/lib/python3.7/site-packages/IPython/core/interactiveshell.py:2785: DtypeWarning: Columns (49) have mixed types. Specify dtype option on import or set low_memory=False.\n",
      "  interactivity=interactivity, compiler=compiler, result=result)\n"
     ]
    },
    {
     "name": "stdout",
     "output_type": "stream",
     "text": [
      "(2985217, 58)\n"
     ]
    },
    {
     "data": {
      "text/html": [
       "<div>\n",
       "<style scoped>\n",
       "    .dataframe tbody tr th:only-of-type {\n",
       "        vertical-align: middle;\n",
       "    }\n",
       "\n",
       "    .dataframe tbody tr th {\n",
       "        vertical-align: top;\n",
       "    }\n",
       "\n",
       "    .dataframe thead th {\n",
       "        text-align: right;\n",
       "    }\n",
       "</style>\n",
       "<table border=\"1\" class=\"dataframe\">\n",
       "  <thead>\n",
       "    <tr style=\"text-align: right;\">\n",
       "      <th></th>\n",
       "      <th>parcelid</th>\n",
       "      <th>airconditioningtypeid</th>\n",
       "      <th>architecturalstyletypeid</th>\n",
       "      <th>basementsqft</th>\n",
       "      <th>bathroomcnt</th>\n",
       "      <th>bedroomcnt</th>\n",
       "      <th>buildingclasstypeid</th>\n",
       "      <th>buildingqualitytypeid</th>\n",
       "      <th>calculatedbathnbr</th>\n",
       "      <th>decktypeid</th>\n",
       "      <th>...</th>\n",
       "      <th>numberofstories</th>\n",
       "      <th>fireplaceflag</th>\n",
       "      <th>structuretaxvaluedollarcnt</th>\n",
       "      <th>taxvaluedollarcnt</th>\n",
       "      <th>assessmentyear</th>\n",
       "      <th>landtaxvaluedollarcnt</th>\n",
       "      <th>taxamount</th>\n",
       "      <th>taxdelinquencyflag</th>\n",
       "      <th>taxdelinquencyyear</th>\n",
       "      <th>censustractandblock</th>\n",
       "    </tr>\n",
       "  </thead>\n",
       "  <tbody>\n",
       "    <tr>\n",
       "      <th>2985212</th>\n",
       "      <td>12170430</td>\n",
       "      <td>NaN</td>\n",
       "      <td>NaN</td>\n",
       "      <td>NaN</td>\n",
       "      <td>NaN</td>\n",
       "      <td>NaN</td>\n",
       "      <td>NaN</td>\n",
       "      <td>NaN</td>\n",
       "      <td>NaN</td>\n",
       "      <td>NaN</td>\n",
       "      <td>...</td>\n",
       "      <td>NaN</td>\n",
       "      <td>NaN</td>\n",
       "      <td>NaN</td>\n",
       "      <td>NaN</td>\n",
       "      <td>NaN</td>\n",
       "      <td>NaN</td>\n",
       "      <td>NaN</td>\n",
       "      <td>NaN</td>\n",
       "      <td>NaN</td>\n",
       "      <td>NaN</td>\n",
       "    </tr>\n",
       "    <tr>\n",
       "      <th>2985213</th>\n",
       "      <td>11422430</td>\n",
       "      <td>NaN</td>\n",
       "      <td>NaN</td>\n",
       "      <td>NaN</td>\n",
       "      <td>NaN</td>\n",
       "      <td>NaN</td>\n",
       "      <td>NaN</td>\n",
       "      <td>NaN</td>\n",
       "      <td>NaN</td>\n",
       "      <td>NaN</td>\n",
       "      <td>...</td>\n",
       "      <td>NaN</td>\n",
       "      <td>NaN</td>\n",
       "      <td>NaN</td>\n",
       "      <td>NaN</td>\n",
       "      <td>NaN</td>\n",
       "      <td>NaN</td>\n",
       "      <td>NaN</td>\n",
       "      <td>NaN</td>\n",
       "      <td>NaN</td>\n",
       "      <td>NaN</td>\n",
       "    </tr>\n",
       "    <tr>\n",
       "      <th>2985214</th>\n",
       "      <td>17203030</td>\n",
       "      <td>NaN</td>\n",
       "      <td>NaN</td>\n",
       "      <td>NaN</td>\n",
       "      <td>NaN</td>\n",
       "      <td>NaN</td>\n",
       "      <td>NaN</td>\n",
       "      <td>NaN</td>\n",
       "      <td>NaN</td>\n",
       "      <td>NaN</td>\n",
       "      <td>...</td>\n",
       "      <td>NaN</td>\n",
       "      <td>NaN</td>\n",
       "      <td>NaN</td>\n",
       "      <td>NaN</td>\n",
       "      <td>NaN</td>\n",
       "      <td>NaN</td>\n",
       "      <td>NaN</td>\n",
       "      <td>NaN</td>\n",
       "      <td>NaN</td>\n",
       "      <td>NaN</td>\n",
       "    </tr>\n",
       "    <tr>\n",
       "      <th>2985215</th>\n",
       "      <td>14242830</td>\n",
       "      <td>NaN</td>\n",
       "      <td>NaN</td>\n",
       "      <td>NaN</td>\n",
       "      <td>NaN</td>\n",
       "      <td>NaN</td>\n",
       "      <td>NaN</td>\n",
       "      <td>NaN</td>\n",
       "      <td>NaN</td>\n",
       "      <td>NaN</td>\n",
       "      <td>...</td>\n",
       "      <td>NaN</td>\n",
       "      <td>NaN</td>\n",
       "      <td>NaN</td>\n",
       "      <td>NaN</td>\n",
       "      <td>NaN</td>\n",
       "      <td>NaN</td>\n",
       "      <td>NaN</td>\n",
       "      <td>NaN</td>\n",
       "      <td>NaN</td>\n",
       "      <td>NaN</td>\n",
       "    </tr>\n",
       "    <tr>\n",
       "      <th>2985216</th>\n",
       "      <td>12766630</td>\n",
       "      <td>NaN</td>\n",
       "      <td>NaN</td>\n",
       "      <td>NaN</td>\n",
       "      <td>NaN</td>\n",
       "      <td>NaN</td>\n",
       "      <td>NaN</td>\n",
       "      <td>NaN</td>\n",
       "      <td>NaN</td>\n",
       "      <td>NaN</td>\n",
       "      <td>...</td>\n",
       "      <td>NaN</td>\n",
       "      <td>NaN</td>\n",
       "      <td>NaN</td>\n",
       "      <td>NaN</td>\n",
       "      <td>NaN</td>\n",
       "      <td>NaN</td>\n",
       "      <td>NaN</td>\n",
       "      <td>NaN</td>\n",
       "      <td>NaN</td>\n",
       "      <td>NaN</td>\n",
       "    </tr>\n",
       "  </tbody>\n",
       "</table>\n",
       "<p>5 rows × 58 columns</p>\n",
       "</div>"
      ],
      "text/plain": [
       "         parcelid  airconditioningtypeid  architecturalstyletypeid  \\\n",
       "2985212  12170430                    NaN                       NaN   \n",
       "2985213  11422430                    NaN                       NaN   \n",
       "2985214  17203030                    NaN                       NaN   \n",
       "2985215  14242830                    NaN                       NaN   \n",
       "2985216  12766630                    NaN                       NaN   \n",
       "\n",
       "         basementsqft  bathroomcnt  bedroomcnt  buildingclasstypeid  \\\n",
       "2985212           NaN          NaN         NaN                  NaN   \n",
       "2985213           NaN          NaN         NaN                  NaN   \n",
       "2985214           NaN          NaN         NaN                  NaN   \n",
       "2985215           NaN          NaN         NaN                  NaN   \n",
       "2985216           NaN          NaN         NaN                  NaN   \n",
       "\n",
       "         buildingqualitytypeid  calculatedbathnbr  decktypeid  \\\n",
       "2985212                    NaN                NaN         NaN   \n",
       "2985213                    NaN                NaN         NaN   \n",
       "2985214                    NaN                NaN         NaN   \n",
       "2985215                    NaN                NaN         NaN   \n",
       "2985216                    NaN                NaN         NaN   \n",
       "\n",
       "                ...           numberofstories  fireplaceflag  \\\n",
       "2985212         ...                       NaN            NaN   \n",
       "2985213         ...                       NaN            NaN   \n",
       "2985214         ...                       NaN            NaN   \n",
       "2985215         ...                       NaN            NaN   \n",
       "2985216         ...                       NaN            NaN   \n",
       "\n",
       "         structuretaxvaluedollarcnt  taxvaluedollarcnt  assessmentyear  \\\n",
       "2985212                         NaN                NaN             NaN   \n",
       "2985213                         NaN                NaN             NaN   \n",
       "2985214                         NaN                NaN             NaN   \n",
       "2985215                         NaN                NaN             NaN   \n",
       "2985216                         NaN                NaN             NaN   \n",
       "\n",
       "         landtaxvaluedollarcnt  taxamount  taxdelinquencyflag  \\\n",
       "2985212                    NaN        NaN                 NaN   \n",
       "2985213                    NaN        NaN                 NaN   \n",
       "2985214                    NaN        NaN                 NaN   \n",
       "2985215                    NaN        NaN                 NaN   \n",
       "2985216                    NaN        NaN                 NaN   \n",
       "\n",
       "         taxdelinquencyyear  censustractandblock  \n",
       "2985212                 NaN                  NaN  \n",
       "2985213                 NaN                  NaN  \n",
       "2985214                 NaN                  NaN  \n",
       "2985215                 NaN                  NaN  \n",
       "2985216                 NaN                  NaN  \n",
       "\n",
       "[5 rows x 58 columns]"
      ]
     },
     "execution_count": 3,
     "metadata": {},
     "output_type": "execute_result"
    }
   ],
   "source": [
    "property_2017 = pd.read_csv(\"properties_2017.csv\")\n",
    "print(property_2017.shape)\n",
    "property_2017.tail()"
   ]
  },
  {
   "cell_type": "markdown",
   "metadata": {},
   "source": [
    "## Dictionary"
   ]
  },
  {
   "cell_type": "markdown",
   "metadata": {},
   "source": [
    "### airconditioningtypeid\n",
    "- Type of cooling system present in the home (if any)\n",
    "- category / 7\n",
    "- rate of NaN : 2173698 / total ( 72.6% ) "
   ]
  },
  {
   "cell_type": "code",
   "execution_count": 4,
   "metadata": {},
   "outputs": [
    {
     "name": "stdout",
     "output_type": "stream",
     "text": [
      "7\n"
     ]
    },
    {
     "data": {
      "text/plain": [
       "1.0     744291\n",
       "13.0     58487\n",
       "5.0       8795\n",
       "9.0       1905\n",
       "11.0      1818\n",
       "Name: airconditioningtypeid, dtype: int64"
      ]
     },
     "execution_count": 4,
     "metadata": {},
     "output_type": "execute_result"
    }
   ],
   "source": [
    "print(len(property_2017[\"airconditioningtypeid\"].value_counts()))\n",
    "property_2017[\"airconditioningtypeid\"].value_counts().head()"
   ]
  },
  {
   "cell_type": "code",
   "execution_count": 5,
   "metadata": {},
   "outputs": [
    {
     "data": {
      "text/plain": [
       "0.7268667570900206"
      ]
     },
     "execution_count": 5,
     "metadata": {},
     "output_type": "execute_result"
    }
   ],
   "source": [
    "property_2017[\"airconditioningtypeid\"].isna().sum()/ total"
   ]
  },
  {
   "cell_type": "markdown",
   "metadata": {},
   "source": [
    "### architecturalstyletypeid\n",
    "- Architectural style of the home (i.e. ranch, colonial, split-level, etc…)\n",
    "- category / 8-type\n",
    "- NaN : 2979156 / 2985217 ( 99.79% )"
   ]
  },
  {
   "cell_type": "code",
   "execution_count": 6,
   "metadata": {},
   "outputs": [
    {
     "name": "stdout",
     "output_type": "stream",
     "text": [
      "8\n"
     ]
    },
    {
     "data": {
      "text/plain": [
       "7.0     5251\n",
       "8.0      380\n",
       "2.0      201\n",
       "21.0     150\n",
       "3.0       58\n",
       "Name: architecturalstyletypeid, dtype: int64"
      ]
     },
     "execution_count": 6,
     "metadata": {},
     "output_type": "execute_result"
    }
   ],
   "source": [
    "print(len(property_2017[\"architecturalstyletypeid\"].value_counts()))\n",
    "property_2017[\"architecturalstyletypeid\"].value_counts().head()"
   ]
  },
  {
   "cell_type": "code",
   "execution_count": 7,
   "metadata": {},
   "outputs": [
    {
     "data": {
      "text/plain": [
       "0.9979696618369787"
      ]
     },
     "execution_count": 7,
     "metadata": {},
     "output_type": "execute_result"
    }
   ],
   "source": [
    "property_2017[\"architecturalstyletypeid\"].isna().sum() / total"
   ]
  },
  {
   "cell_type": "markdown",
   "metadata": {},
   "source": [
    "### basementsqft\n",
    "- Finished living area below or partially below ground level\n",
    "- (scalar/category) / 751\n",
    "- NaN : 2983589 / 2985217 ( 99.94% )"
   ]
  },
  {
   "cell_type": "code",
   "execution_count": 8,
   "metadata": {},
   "outputs": [
    {
     "name": "stdout",
     "output_type": "stream",
     "text": [
      "751\n"
     ]
    },
    {
     "data": {
      "text/plain": [
       "1528.0    25\n",
       "700.0     21\n",
       "240.0     21\n",
       "100.0     18\n",
       "144.0     16\n",
       "Name: basementsqft, dtype: int64"
      ]
     },
     "execution_count": 8,
     "metadata": {},
     "output_type": "execute_result"
    }
   ],
   "source": [
    "print(len(property_2017[\"basementsqft\"].value_counts()))\n",
    "property_2017[\"basementsqft\"].value_counts().head()"
   ]
  },
  {
   "cell_type": "code",
   "execution_count": 9,
   "metadata": {},
   "outputs": [
    {
     "data": {
      "text/plain": [
       "0.9994549809946814"
      ]
     },
     "execution_count": 9,
     "metadata": {},
     "output_type": "execute_result"
    }
   ],
   "source": [
    "property_2017[\"basementsqft\"].isna().sum() / total"
   ]
  },
  {
   "cell_type": "markdown",
   "metadata": {},
   "source": [
    "### bathroomcnt\n",
    "- Number of bathrooms in home including fractional bathrooms\n",
    "- scalar / 39\n",
    "- NaN : 11462 / 2985217 ( 0.09% )"
   ]
  },
  {
   "cell_type": "code",
   "execution_count": 10,
   "metadata": {},
   "outputs": [
    {
     "name": "stdout",
     "output_type": "stream",
     "text": [
      "39\n"
     ]
    },
    {
     "data": {
      "text/plain": [
       "2.0    1219811\n",
       "3.0     633089\n",
       "1.0     499332\n",
       "2.5     208809\n",
       "4.0     133922\n",
       "Name: bathroomcnt, dtype: int64"
      ]
     },
     "execution_count": 10,
     "metadata": {},
     "output_type": "execute_result"
    }
   ],
   "source": [
    "print(len(property_2017[\"bathroomcnt\"].value_counts()))\n",
    "property_2017[\"bathroomcnt\"].value_counts().head()"
   ]
  },
  {
   "cell_type": "code",
   "execution_count": 11,
   "metadata": {},
   "outputs": [
    {
     "data": {
      "text/plain": [
       "0.0009905477558247858"
      ]
     },
     "execution_count": 11,
     "metadata": {},
     "output_type": "execute_result"
    }
   ],
   "source": [
    "property_2017[\"bathroomcnt\"].isna().sum() / total"
   ]
  },
  {
   "cell_type": "markdown",
   "metadata": {},
   "source": [
    "### bedroomcnt\n",
    "- Number of bedrooms in home\n",
    "- scalar / 25 \n",
    "- NaN  : 11450 / total ( 0.09% )"
   ]
  },
  {
   "cell_type": "code",
   "execution_count": 12,
   "metadata": {},
   "outputs": [
    {
     "name": "stdout",
     "output_type": "stream",
     "text": [
      "25\n"
     ]
    },
    {
     "data": {
      "text/plain": [
       "3.0    1172757\n",
       "4.0     731475\n",
       "2.0     606782\n",
       "5.0     182765\n",
       "0.0     118705\n",
       "Name: bedroomcnt, dtype: int64"
      ]
     },
     "execution_count": 12,
     "metadata": {},
     "output_type": "execute_result"
    }
   ],
   "source": [
    "print(len(property_2017[\"bedroomcnt\"].value_counts()))\n",
    "property_2017[\"bedroomcnt\"].value_counts().head()"
   ]
  },
  {
   "cell_type": "code",
   "execution_count": 13,
   "metadata": {},
   "outputs": [
    {
     "data": {
      "text/plain": [
       "0.0009865279475495417"
      ]
     },
     "execution_count": 13,
     "metadata": {},
     "output_type": "execute_result"
    }
   ],
   "source": [
    "property_2017[\"bedroomcnt\"].isna().sum() / total"
   ]
  },
  {
   "cell_type": "markdown",
   "metadata": {},
   "source": [
    "### buildingclasstypeid\n",
    "- The building framing type (steel frame, wood frame, concrete/brick) \n",
    "- category / 5-types\n",
    "- NaN : 2972588 / total ( 99.57% ) "
   ]
  },
  {
   "cell_type": "code",
   "execution_count": 14,
   "metadata": {},
   "outputs": [
    {
     "name": "stdout",
     "output_type": "stream",
     "text": [
      "5\n"
     ]
    },
    {
     "data": {
      "text/plain": [
       "4.0    9500\n",
       "3.0    3028\n",
       "2.0      84\n",
       "1.0      75\n",
       "5.0      44\n",
       "Name: buildingclasstypeid, dtype: int64"
      ]
     },
     "execution_count": 14,
     "metadata": {},
     "output_type": "execute_result"
    }
   ],
   "source": [
    "print(len(property_2017[\"buildingclasstypeid\"].value_counts()))\n",
    "property_2017[\"buildingclasstypeid\"].value_counts().head()"
   ]
  },
  {
   "cell_type": "code",
   "execution_count": 15,
   "metadata": {},
   "outputs": [
    {
     "data": {
      "text/plain": [
       "0.9957353184039888"
      ]
     },
     "execution_count": 15,
     "metadata": {},
     "output_type": "execute_result"
    }
   ],
   "source": [
    "property_2017[\"buildingclasstypeid\"].isna().sum() / total"
   ]
  },
  {
   "cell_type": "markdown",
   "metadata": {},
   "source": [
    "### buildingqualitytypeid\n",
    "- Overall assessment of condition of the building from best (lowest) to worst (highest)\n",
    "- category / 12-types\n",
    "- NaN : 1056729 / total ( 35% )"
   ]
  },
  {
   "cell_type": "code",
   "execution_count": 16,
   "metadata": {},
   "outputs": [
    {
     "name": "stdout",
     "output_type": "stream",
     "text": [
      "12\n"
     ]
    },
    {
     "data": {
      "text/plain": [
       "6.0    561502\n",
       "8.0    501925\n",
       "4.0    448049\n",
       "7.0    190244\n",
       "5.0    107053\n",
       "Name: buildingqualitytypeid, dtype: int64"
      ]
     },
     "execution_count": 16,
     "metadata": {},
     "output_type": "execute_result"
    }
   ],
   "source": [
    "print(len(property_2017[\"buildingqualitytypeid\"].value_counts()))\n",
    "property_2017[\"buildingqualitytypeid\"].value_counts().head()"
   ]
  },
  {
   "cell_type": "code",
   "execution_count": 17,
   "metadata": {},
   "outputs": [
    {
     "data": {
      "text/plain": [
       "0.3496636927901724"
      ]
     },
     "execution_count": 17,
     "metadata": {},
     "output_type": "execute_result"
    }
   ],
   "source": [
    "property_2017[\"buildingqualitytypeid\"].isna().sum() / total"
   ]
  },
  {
   "cell_type": "markdown",
   "metadata": {},
   "source": [
    "### calculatedbathnbr\n",
    "- Number of bathrooms in home including fractional bathroom\n",
    "- scalar / 36\n",
    "- NaN : 128912 / total ( 3.9% )"
   ]
  },
  {
   "cell_type": "code",
   "execution_count": 18,
   "metadata": {},
   "outputs": [
    {
     "name": "stdout",
     "output_type": "stream",
     "text": [
      "36\n"
     ]
    },
    {
     "data": {
      "text/plain": [
       "2.0    1219799\n",
       "3.0     633088\n",
       "1.0     499324\n",
       "2.5     208578\n",
       "4.0     133922\n",
       "Name: calculatedbathnbr, dtype: int64"
      ]
     },
     "execution_count": 18,
     "metadata": {},
     "output_type": "execute_result"
    }
   ],
   "source": [
    "print(len(property_2017[\"calculatedbathnbr\"].value_counts()))\n",
    "property_2017[\"calculatedbathnbr\"].value_counts().head()"
   ]
  },
  {
   "cell_type": "code",
   "execution_count": 19,
   "metadata": {},
   "outputs": [
    {
     "data": {
      "text/plain": [
       "0.03924538819121022"
      ]
     },
     "execution_count": 19,
     "metadata": {},
     "output_type": "execute_result"
    }
   ],
   "source": [
    "property_2017[\"calculatedbathnbr\"].isna().sum() / total"
   ]
  },
  {
   "cell_type": "markdown",
   "metadata": {},
   "source": [
    "### decktypeid\n",
    "- Type of deck (if any) present on parcel\n",
    "- category / 1-type\n",
    "- NaN : 2968121 / total ( 99.42% )"
   ]
  },
  {
   "cell_type": "code",
   "execution_count": 20,
   "metadata": {},
   "outputs": [
    {
     "name": "stdout",
     "output_type": "stream",
     "text": [
      "1\n"
     ]
    },
    {
     "data": {
      "text/plain": [
       "66.0    17379\n",
       "Name: decktypeid, dtype: int64"
      ]
     },
     "execution_count": 20,
     "metadata": {},
     "output_type": "execute_result"
    }
   ],
   "source": [
    "print(len(property_2017[\"decktypeid\"].value_counts()))\n",
    "property_2017[\"decktypeid\"].value_counts().head()"
   ]
  },
  {
   "cell_type": "code",
   "execution_count": 21,
   "metadata": {},
   "outputs": [
    {
     "data": {
      "text/plain": [
       "0.9941783126653774"
      ]
     },
     "execution_count": 21,
     "metadata": {},
     "output_type": "execute_result"
    }
   ],
   "source": [
    "property_2017[\"decktypeid\"].isna().sum() / total"
   ]
  },
  {
   "cell_type": "markdown",
   "metadata": {},
   "source": [
    "### threequarterbathnbr\n",
    "- Number of 3/4 bathrooms in house (shower + sink + toilet)\n",
    "- scalar / 7개\n",
    "- NaN : 2673586 / total ( 89% )"
   ]
  },
  {
   "cell_type": "code",
   "execution_count": 22,
   "metadata": {},
   "outputs": [
    {
     "name": "stdout",
     "output_type": "stream",
     "text": [
      "7\n"
     ]
    },
    {
     "data": {
      "text/plain": [
       "1.0    313464\n",
       "2.0      2548\n",
       "3.0       268\n",
       "4.0        48\n",
       "5.0        18\n",
       "Name: threequarterbathnbr, dtype: int64"
      ]
     },
     "execution_count": 22,
     "metadata": {},
     "output_type": "execute_result"
    }
   ],
   "source": [
    "print(len(property_2017[\"threequarterbathnbr\"].value_counts()))\n",
    "property_2017[\"threequarterbathnbr\"].value_counts().head()"
   ]
  },
  {
   "cell_type": "code",
   "execution_count": 23,
   "metadata": {},
   "outputs": [
    {
     "data": {
      "text/plain": [
       "0.8940254594557112"
      ]
     },
     "execution_count": 23,
     "metadata": {},
     "output_type": "execute_result"
    }
   ],
   "source": [
    "property_2017[\"threequarterbathnbr\"].isna().sum() / total"
   ]
  },
  {
   "cell_type": "markdown",
   "metadata": {},
   "source": [
    "### finishedfloor1squarefeet\n",
    "- Size of the finished living area on the first (entry) floor of the home\n",
    "- scalar / 4625 \n",
    "- NaN : 2782500 / total ( 93.20% )"
   ]
  },
  {
   "cell_type": "code",
   "execution_count": 24,
   "metadata": {},
   "outputs": [
    {
     "name": "stdout",
     "output_type": "stream",
     "text": [
      "4625\n"
     ]
    },
    {
     "data": {
      "text/plain": [
       "1252.0    923\n",
       "1233.0    892\n",
       "1120.0    705\n",
       "1226.0    616\n",
       "1612.0    597\n",
       "Name: finishedfloor1squarefeet, dtype: int64"
      ]
     },
     "execution_count": 24,
     "metadata": {},
     "output_type": "execute_result"
    }
   ],
   "source": [
    "print(len(property_2017[\"finishedfloor1squarefeet\"].value_counts()))\n",
    "property_2017[\"finishedfloor1squarefeet\"].value_counts().head()"
   ]
  },
  {
   "cell_type": "code",
   "execution_count": 25,
   "metadata": {},
   "outputs": [
    {
     "data": {
      "text/plain": [
       "0.9317443254543974"
      ]
     },
     "execution_count": 25,
     "metadata": {},
     "output_type": "execute_result"
    }
   ],
   "source": [
    "property_2017[\"finishedfloor1squarefeet\"].isna().sum() / total"
   ]
  },
  {
   "cell_type": "markdown",
   "metadata": {},
   "source": [
    "### calculatedfinishedsquarefeet\n",
    "- Calculated total finished living area of the home\n",
    "- scalar / 12631\n",
    "- NaN : 55565 (1.5%)"
   ]
  },
  {
   "cell_type": "code",
   "execution_count": 26,
   "metadata": {},
   "outputs": [
    {
     "name": "stdout",
     "output_type": "stream",
     "text": [
      "12631\n"
     ]
    },
    {
     "data": {
      "text/plain": [
       "1440.0    8968\n",
       "1344.0    7211\n",
       "1200.0    7111\n",
       "960.0     6024\n",
       "1120.0    5956\n",
       "Name: calculatedfinishedsquarefeet, dtype: int64"
      ]
     },
     "execution_count": 26,
     "metadata": {},
     "output_type": "execute_result"
    }
   ],
   "source": [
    "print(len(property_2017[\"calculatedfinishedsquarefeet\"].value_counts()))\n",
    "property_2017[\"calculatedfinishedsquarefeet\"].value_counts().head()"
   ]
  },
  {
   "cell_type": "code",
   "execution_count": 27,
   "metadata": {},
   "outputs": [
    {
     "data": {
      "text/plain": [
       "0.015106774482391063"
      ]
     },
     "execution_count": 27,
     "metadata": {},
     "output_type": "execute_result"
    }
   ],
   "source": [
    "property_2017[\"calculatedfinishedsquarefeet\"].isna().sum() / total"
   ]
  },
  {
   "cell_type": "markdown",
   "metadata": {},
   "source": [
    "### finishedsquarefeet6\n",
    "- Base unfinished and finished area\n",
    "- scalar / 4221\n",
    "- NaN : 2963216 / total ( 99.28% )"
   ]
  },
  {
   "cell_type": "code",
   "execution_count": 28,
   "metadata": {},
   "outputs": [
    {
     "name": "stdout",
     "output_type": "stream",
     "text": [
      "4221\n"
     ]
    },
    {
     "data": {
      "text/plain": [
       "952.0     101\n",
       "800.0      90\n",
       "3820.0     88\n",
       "720.0      74\n",
       "600.0      66\n",
       "Name: finishedsquarefeet6, dtype: int64"
      ]
     },
     "execution_count": 28,
     "metadata": {},
     "output_type": "execute_result"
    }
   ],
   "source": [
    "print(len(property_2017[\"finishedsquarefeet6\"].value_counts()))\n",
    "property_2017[\"finishedsquarefeet6\"].value_counts().head()"
   ]
  },
  {
   "cell_type": "code",
   "execution_count": 29,
   "metadata": {},
   "outputs": [
    {
     "data": {
      "text/plain": [
       "0.9928038732192668"
      ]
     },
     "execution_count": 29,
     "metadata": {},
     "output_type": "execute_result"
    }
   ],
   "source": [
    "property_2017[\"finishedsquarefeet6\"].isna().sum() / total"
   ]
  },
  {
   "cell_type": "markdown",
   "metadata": {},
   "source": [
    "### finishedsquarefeet12\n",
    "- Finished living area\n",
    "- scalar / 10732\n",
    "- NaN : 276033 / total ( 8.8% )"
   ]
  },
  {
   "cell_type": "code",
   "execution_count": 30,
   "metadata": {},
   "outputs": [
    {
     "name": "stdout",
     "output_type": "stream",
     "text": [
      "10732\n"
     ]
    },
    {
     "data": {
      "text/plain": [
       "1440.0    6965\n",
       "1200.0    6645\n",
       "1344.0    6243\n",
       "1120.0    5698\n",
       "1080.0    5625\n",
       "Name: finishedsquarefeet12, dtype: int64"
      ]
     },
     "execution_count": 30,
     "metadata": {},
     "output_type": "execute_result"
    }
   ],
   "source": [
    "print(len(property_2017[\"finishedsquarefeet12\"].value_counts()))\n",
    "property_2017[\"finishedsquarefeet12\"].value_counts().head()"
   ]
  },
  {
   "cell_type": "code",
   "execution_count": 31,
   "metadata": {},
   "outputs": [
    {
     "data": {
      "text/plain": [
       "0.08858016016926072"
      ]
     },
     "execution_count": 31,
     "metadata": {},
     "output_type": "execute_result"
    }
   ],
   "source": [
    "property_2017[\"finishedsquarefeet12\"].isna().sum() / total"
   ]
  },
  {
   "cell_type": "markdown",
   "metadata": {},
   "source": [
    "### finishedsquarefeet13\n",
    "- Perimeter  living area\n",
    "- scalar / 250\n",
    "- NaN : 2977545 / total ( 99.74% )"
   ]
  },
  {
   "cell_type": "code",
   "execution_count": 32,
   "metadata": {},
   "outputs": [
    {
     "name": "stdout",
     "output_type": "stream",
     "text": [
      "250\n"
     ]
    },
    {
     "data": {
      "text/plain": [
       "1440.0    1571\n",
       "1344.0     709\n",
       "1248.0     453\n",
       "1536.0     355\n",
       "720.0      245\n",
       "Name: finishedsquarefeet13, dtype: int64"
      ]
     },
     "execution_count": 32,
     "metadata": {},
     "output_type": "execute_result"
    }
   ],
   "source": [
    "print(len(property_2017[\"finishedsquarefeet13\"].value_counts()))\n",
    "property_2017[\"finishedsquarefeet13\"].value_counts().head()"
   ]
  },
  {
   "cell_type": "code",
   "execution_count": 33,
   "metadata": {},
   "outputs": [
    {
     "data": {
      "text/plain": [
       "0.9974303375600501"
      ]
     },
     "execution_count": 33,
     "metadata": {},
     "output_type": "execute_result"
    }
   ],
   "source": [
    "property_2017[\"finishedsquarefeet13\"].isna().sum() / total"
   ]
  },
  {
   "cell_type": "markdown",
   "metadata": {},
   "source": [
    "### finishedsquarefeet15\n",
    "- Total area\n",
    "- scalar / 8798\n",
    "- NaN : 2794419 / total ( 93.6% )"
   ]
  },
  {
   "cell_type": "code",
   "execution_count": 34,
   "metadata": {},
   "outputs": [
    {
     "name": "stdout",
     "output_type": "stream",
     "text": [
      "8798\n"
     ]
    },
    {
     "data": {
      "text/plain": [
       "1536.0    649\n",
       "1728.0    430\n",
       "1600.0    415\n",
       "1440.0    412\n",
       "1800.0    401\n",
       "Name: finishedsquarefeet15, dtype: int64"
      ]
     },
     "execution_count": 34,
     "metadata": {},
     "output_type": "execute_result"
    }
   ],
   "source": [
    "print(len(property_2017[\"finishedsquarefeet15\"].value_counts()))\n",
    "property_2017[\"finishedsquarefeet15\"].value_counts().head()"
   ]
  },
  {
   "cell_type": "code",
   "execution_count": 35,
   "metadata": {},
   "outputs": [
    {
     "data": {
      "text/plain": [
       "0.9362910635977217"
      ]
     },
     "execution_count": 35,
     "metadata": {},
     "output_type": "execute_result"
    }
   ],
   "source": [
    "property_2017[\"finishedsquarefeet15\"].isna().sum() / total"
   ]
  },
  {
   "cell_type": "markdown",
   "metadata": {},
   "source": [
    "### finishedsquarefeet50\n",
    "-  Size of the finished living area on the first (entry) floor of the home\n",
    "- scalar / 4888\n",
    "- rate of NaN : 93.2 %"
   ]
  },
  {
   "cell_type": "code",
   "execution_count": 36,
   "metadata": {},
   "outputs": [
    {
     "name": "stdout",
     "output_type": "stream",
     "text": [
      "4888\n"
     ]
    },
    {
     "data": {
      "text/plain": [
       "1252.0    923\n",
       "1233.0    891\n",
       "1120.0    705\n",
       "1226.0    616\n",
       "1612.0    596\n",
       "Name: finishedsquarefeet50, dtype: int64"
      ]
     },
     "execution_count": 36,
     "metadata": {},
     "output_type": "execute_result"
    }
   ],
   "source": [
    "print(len(property_2017[\"finishedsquarefeet50\"].value_counts()))\n",
    "property_2017[\"finishedsquarefeet50\"].value_counts().head()"
   ]
  },
  {
   "cell_type": "code",
   "execution_count": 37,
   "metadata": {},
   "outputs": [
    {
     "data": {
      "text/plain": [
       "0.9317443254543974"
      ]
     },
     "execution_count": 37,
     "metadata": {},
     "output_type": "execute_result"
    }
   ],
   "source": [
    "property_2017[\"finishedsquarefeet50\"].isna().sum() / total"
   ]
  },
  {
   "cell_type": "markdown",
   "metadata": {},
   "source": [
    "### fips\n",
    "-  Federal Information Processing Standard code -  see https://en.wikipedia.org/wiki/FIPS_county_code for more details\n",
    "- category / 3\n",
    "- rate of NaN : 0.09%"
   ]
  },
  {
   "cell_type": "code",
   "execution_count": 38,
   "metadata": {},
   "outputs": [
    {
     "name": "stdout",
     "output_type": "stream",
     "text": [
      "3\n"
     ]
    },
    {
     "data": {
      "text/plain": [
       "6037.0    2012741\n",
       "6059.0     745800\n",
       "6111.0     223744\n",
       "Name: fips, dtype: int64"
      ]
     },
     "execution_count": 38,
     "metadata": {},
     "output_type": "execute_result"
    }
   ],
   "source": [
    "print(len(property_2017[\"fips\"].value_counts()))\n",
    "property_2017[\"fips\"].value_counts().head()"
   ]
  },
  {
   "cell_type": "code",
   "execution_count": 39,
   "metadata": {},
   "outputs": [
    {
     "data": {
      "text/plain": [
       "0.0009821731552513602"
      ]
     },
     "execution_count": 39,
     "metadata": {},
     "output_type": "execute_result"
    }
   ],
   "source": [
    "property_2017[\"fips\"].isna().sum() / total"
   ]
  },
  {
   "cell_type": "markdown",
   "metadata": {},
   "source": [
    "### fireplacecnt\n",
    "-  Number of fireplaces in a home (if any)\n",
    "- scalar / 9\n",
    "- rate of NaN : 89.5%"
   ]
  },
  {
   "cell_type": "code",
   "execution_count": 40,
   "metadata": {},
   "outputs": [
    {
     "name": "stdout",
     "output_type": "stream",
     "text": [
      "9\n"
     ]
    },
    {
     "data": {
      "text/plain": [
       "1.0    270019\n",
       "2.0     34487\n",
       "3.0      7716\n",
       "4.0       716\n",
       "5.0       129\n",
       "Name: fireplacecnt, dtype: int64"
      ]
     },
     "execution_count": 40,
     "metadata": {},
     "output_type": "execute_result"
    }
   ],
   "source": [
    "print(len(property_2017[\"fireplacecnt\"].value_counts()))\n",
    "property_2017[\"fireplacecnt\"].value_counts().head()"
   ]
  },
  {
   "cell_type": "code",
   "execution_count": 41,
   "metadata": {},
   "outputs": [
    {
     "data": {
      "text/plain": [
       "0.8951084628018666"
      ]
     },
     "execution_count": 41,
     "metadata": {},
     "output_type": "execute_result"
    }
   ],
   "source": [
    "property_2017[\"fireplacecnt\"].isna().sum() / total"
   ]
  },
  {
   "cell_type": "markdown",
   "metadata": {},
   "source": [
    "### fireplaceflag\n",
    "- Is a fireplace present in this home \n",
    "- category / 2 (True / False)\n",
    "- rate of NaN : 99.8%"
   ]
  },
  {
   "cell_type": "code",
   "execution_count": 42,
   "metadata": {},
   "outputs": [
    {
     "name": "stdout",
     "output_type": "stream",
     "text": [
      "1\n"
     ]
    },
    {
     "data": {
      "text/plain": [
       "True    5163\n",
       "Name: fireplaceflag, dtype: int64"
      ]
     },
     "execution_count": 42,
     "metadata": {},
     "output_type": "execute_result"
    }
   ],
   "source": [
    "print(len(property_2017[\"fireplaceflag\"].value_counts()))\n",
    "property_2017[\"fireplaceflag\"].value_counts().head()"
   ]
  },
  {
   "cell_type": "code",
   "execution_count": 43,
   "metadata": {},
   "outputs": [
    {
     "data": {
      "text/plain": [
       "0.9982704774895761"
      ]
     },
     "execution_count": 43,
     "metadata": {},
     "output_type": "execute_result"
    }
   ],
   "source": [
    "property_2017[\"fireplaceflag\"].isna().sum() / total"
   ]
  },
  {
   "cell_type": "markdown",
   "metadata": {},
   "source": [
    "### fullbathcnt\n",
    "- Number of full bathrooms (sink, shower + bathtub, and toilet) present in home\n",
    "- scalar / 22\n",
    "- rate of NaN : 3.9%"
   ]
  },
  {
   "cell_type": "code",
   "execution_count": 44,
   "metadata": {},
   "outputs": [
    {
     "name": "stdout",
     "output_type": "stream",
     "text": [
      "22\n"
     ]
    },
    {
     "data": {
      "text/plain": [
       "2.0    1428927\n",
       "3.0     664914\n",
       "1.0     544794\n",
       "4.0     153684\n",
       "5.0      44721\n",
       "Name: fullbathcnt, dtype: int64"
      ]
     },
     "execution_count": 44,
     "metadata": {},
     "output_type": "execute_result"
    }
   ],
   "source": [
    "print(len(property_2017[\"fullbathcnt\"].value_counts()))\n",
    "property_2017[\"fullbathcnt\"].value_counts().head()"
   ]
  },
  {
   "cell_type": "code",
   "execution_count": 45,
   "metadata": {},
   "outputs": [
    {
     "data": {
      "text/plain": [
       "0.03924538819121022"
      ]
     },
     "execution_count": 45,
     "metadata": {},
     "output_type": "execute_result"
    }
   ],
   "source": [
    "property_2017[\"fullbathcnt\"].isna().sum() / total"
   ]
  },
  {
   "cell_type": "markdown",
   "metadata": {},
   "source": [
    "### garagecarcnt\n",
    "- Total number of garages on the lot including an attached garage\n",
    "- scalar / 24\n",
    "- rate of NaN : 70%"
   ]
  },
  {
   "cell_type": "code",
   "execution_count": 46,
   "metadata": {},
   "outputs": [
    {
     "name": "stdout",
     "output_type": "stream",
     "text": [
      "24\n"
     ]
    },
    {
     "data": {
      "text/plain": [
       "2.0    667830\n",
       "1.0    177901\n",
       "3.0     19884\n",
       "0.0     13583\n",
       "4.0      8655\n",
       "Name: garagecarcnt, dtype: int64"
      ]
     },
     "execution_count": 46,
     "metadata": {},
     "output_type": "execute_result"
    }
   ],
   "source": [
    "print(len(property_2017[\"garagecarcnt\"].value_counts()))\n",
    "property_2017[\"garagecarcnt\"].value_counts().head()"
   ]
  },
  {
   "cell_type": "code",
   "execution_count": 47,
   "metadata": {},
   "outputs": [
    {
     "data": {
      "text/plain": [
       "0.7015265556909264"
      ]
     },
     "execution_count": 47,
     "metadata": {},
     "output_type": "execute_result"
    }
   ],
   "source": [
    "property_2017[\"garagecarcnt\"].isna().sum() / total"
   ]
  },
  {
   "cell_type": "markdown",
   "metadata": {},
   "source": [
    "### garagetotalsqft\n",
    "- Total number of square feet of all garages on lot including an attached garage\n",
    "- scalar / 2253\n",
    "- rate of NaN : 70%"
   ]
  },
  {
   "cell_type": "code",
   "execution_count": 48,
   "metadata": {},
   "outputs": [
    {
     "name": "stdout",
     "output_type": "stream",
     "text": [
      "2253\n"
     ]
    },
    {
     "data": {
      "text/plain": [
       "0.0      200050\n",
       "400.0     33497\n",
       "360.0     29706\n",
       "441.0     26834\n",
       "462.0     25514\n",
       "Name: garagetotalsqft, dtype: int64"
      ]
     },
     "execution_count": 48,
     "metadata": {},
     "output_type": "execute_result"
    }
   ],
   "source": [
    "print(len(property_2017[\"garagetotalsqft\"].value_counts()))\n",
    "property_2017[\"garagetotalsqft\"].value_counts().head()"
   ]
  },
  {
   "cell_type": "code",
   "execution_count": 49,
   "metadata": {},
   "outputs": [
    {
     "data": {
      "text/plain": [
       "0.7015265556909264"
      ]
     },
     "execution_count": 49,
     "metadata": {},
     "output_type": "execute_result"
    }
   ],
   "source": [
    "property_2017[\"garagetotalsqft\"].isna().sum() / total"
   ]
  },
  {
   "cell_type": "markdown",
   "metadata": {},
   "source": [
    "### hashottuborspa\n",
    "- Does the home have a hot tub or spa\n",
    "- category / 2 (True/False)\n",
    "- rate of NaN : 98.3%"
   ]
  },
  {
   "cell_type": "code",
   "execution_count": 50,
   "metadata": {},
   "outputs": [
    {
     "name": "stdout",
     "output_type": "stream",
     "text": [
      "1\n"
     ]
    },
    {
     "data": {
      "text/plain": [
       "True    50062\n",
       "Name: hashottuborspa, dtype: int64"
      ]
     },
     "execution_count": 50,
     "metadata": {},
     "output_type": "execute_result"
    }
   ],
   "source": [
    "print(len(property_2017[\"hashottuborspa\"].value_counts()))\n",
    "property_2017[\"hashottuborspa\"].value_counts().head()"
   ]
  },
  {
   "cell_type": "code",
   "execution_count": 51,
   "metadata": {},
   "outputs": [
    {
     "data": {
      "text/plain": [
       "0.9832300298437266"
      ]
     },
     "execution_count": 51,
     "metadata": {},
     "output_type": "execute_result"
    }
   ],
   "source": [
    "property_2017[\"hashottuborspa\"].isna().sum() / total"
   ]
  },
  {
   "cell_type": "markdown",
   "metadata": {},
   "source": [
    "### heatingorsystemtypeid\n",
    "- Type of home heating system\n",
    "- category / 14\n",
    "- rate of NaN : 37.4%"
   ]
  },
  {
   "cell_type": "code",
   "execution_count": 52,
   "metadata": {},
   "outputs": [
    {
     "name": "stdout",
     "output_type": "stream",
     "text": [
      "14\n"
     ]
    },
    {
     "data": {
      "text/plain": [
       "2.0     1168610\n",
       "7.0      646021\n",
       "6.0       27481\n",
       "24.0      21107\n",
       "20.0       3630\n",
       "Name: heatingorsystemtypeid, dtype: int64"
      ]
     },
     "execution_count": 52,
     "metadata": {},
     "output_type": "execute_result"
    }
   ],
   "source": [
    "print(len(property_2017[\"heatingorsystemtypeid\"].value_counts()))\n",
    "property_2017[\"heatingorsystemtypeid\"].value_counts().head()"
   ]
  },
  {
   "cell_type": "code",
   "execution_count": 53,
   "metadata": {},
   "outputs": [
    {
     "data": {
      "text/plain": [
       "0.3738599237509367"
      ]
     },
     "execution_count": 53,
     "metadata": {},
     "output_type": "execute_result"
    }
   ],
   "source": [
    "property_2017[\"heatingorsystemtypeid\"].isna().sum() / total"
   ]
  },
  {
   "cell_type": "markdown",
   "metadata": {},
   "source": [
    "### latitude\n",
    "- Latitude of the middle of the parcel multiplied by 10e6\n",
    "- scalar / 852718\n",
    "- rate of NaN : 0.09%"
   ]
  },
  {
   "cell_type": "code",
   "execution_count": 54,
   "metadata": {},
   "outputs": [
    {
     "name": "stdout",
     "output_type": "stream",
     "text": [
      "852718\n"
     ]
    },
    {
     "data": {
      "text/plain": [
       "33984600.0    859\n",
       "33708500.0    756\n",
       "34056700.0    740\n",
       "34171800.0    611\n",
       "33766300.0    568\n",
       "Name: latitude, dtype: int64"
      ]
     },
     "execution_count": 54,
     "metadata": {},
     "output_type": "execute_result"
    }
   ],
   "source": [
    "print(len(property_2017[\"latitude\"].value_counts()))\n",
    "property_2017[\"latitude\"].value_counts().head()"
   ]
  },
  {
   "cell_type": "code",
   "execution_count": 55,
   "metadata": {},
   "outputs": [
    {
     "data": {
      "text/plain": [
       "0.0009821731552513602"
      ]
     },
     "execution_count": 55,
     "metadata": {},
     "output_type": "execute_result"
    }
   ],
   "source": [
    "property_2017[\"latitude\"].isna().sum() / total"
   ]
  },
  {
   "cell_type": "markdown",
   "metadata": {},
   "source": [
    "### longitude\n",
    "-  Longitude of the middle of the parcel multiplied by 10e6\n",
    "- scalar / 1043238\n",
    "- rate of NaN : 0.09%"
   ]
  },
  {
   "cell_type": "code",
   "execution_count": 56,
   "metadata": {},
   "outputs": [
    {
     "name": "stdout",
     "output_type": "stream",
     "text": [
      "1043238\n"
     ]
    },
    {
     "data": {
      "text/plain": [
       "-118390000.0    1718\n",
       "-118438000.0    1585\n",
       "-118389000.0    1569\n",
       "-118433000.0    1545\n",
       "-118252000.0    1402\n",
       "Name: longitude, dtype: int64"
      ]
     },
     "execution_count": 56,
     "metadata": {},
     "output_type": "execute_result"
    }
   ],
   "source": [
    "print(len(property_2017[\"longitude\"].value_counts()))\n",
    "property_2017[\"longitude\"].value_counts().head()"
   ]
  },
  {
   "cell_type": "code",
   "execution_count": 57,
   "metadata": {},
   "outputs": [
    {
     "data": {
      "text/plain": [
       "0.0009821731552513602"
      ]
     },
     "execution_count": 57,
     "metadata": {},
     "output_type": "execute_result"
    }
   ],
   "source": [
    "property_2017[\"longitude\"].isna().sum() / total"
   ]
  },
  {
   "cell_type": "markdown",
   "metadata": {},
   "source": [
    "### lotsizesquarefeet\n",
    "- Area of the lot in square feet\n",
    "- scalar / 70214\n",
    "- rate of NaN : 9.1%"
   ]
  },
  {
   "cell_type": "code",
   "execution_count": 58,
   "metadata": {},
   "outputs": [
    {
     "name": "stdout",
     "output_type": "stream",
     "text": [
      "70214\n"
     ]
    },
    {
     "data": {
      "text/plain": [
       "6000.0    44585\n",
       "5000.0    17517\n",
       "7200.0    15326\n",
       "7000.0    11864\n",
       "6500.0    11565\n",
       "Name: lotsizesquarefeet, dtype: int64"
      ]
     },
     "execution_count": 58,
     "metadata": {},
     "output_type": "execute_result"
    }
   ],
   "source": [
    "print(len(property_2017[\"lotsizesquarefeet\"].value_counts()))\n",
    "property_2017[\"lotsizesquarefeet\"].value_counts().head()"
   ]
  },
  {
   "cell_type": "code",
   "execution_count": 59,
   "metadata": {},
   "outputs": [
    {
     "data": {
      "text/plain": [
       "0.09135215295906461"
      ]
     },
     "execution_count": 59,
     "metadata": {},
     "output_type": "execute_result"
    }
   ],
   "source": [
    "property_2017[\"lotsizesquarefeet\"].isna().sum() / total"
   ]
  },
  {
   "cell_type": "markdown",
   "metadata": {},
   "source": [
    "### numberofstories\n",
    "-  Number of stories or levels the home has\n",
    "- scalar / 12\n",
    "- rate of NaN : 77%"
   ]
  },
  {
   "cell_type": "code",
   "execution_count": 60,
   "metadata": {},
   "outputs": [
    {
     "name": "stdout",
     "output_type": "stream",
     "text": [
      "12\n"
     ]
    },
    {
     "data": {
      "text/plain": [
       "1.0    426779\n",
       "2.0    243078\n",
       "3.0     15721\n",
       "4.0        69\n",
       "5.0        18\n",
       "Name: numberofstories, dtype: int64"
      ]
     },
     "execution_count": 60,
     "metadata": {},
     "output_type": "execute_result"
    }
   ],
   "source": [
    "print(len(property_2017[\"numberofstories\"].value_counts()))\n",
    "property_2017[\"numberofstories\"].value_counts().head()"
   ]
  },
  {
   "cell_type": "code",
   "execution_count": 61,
   "metadata": {},
   "outputs": [
    {
     "data": {
      "text/plain": [
       "0.7703094950886318"
      ]
     },
     "execution_count": 61,
     "metadata": {},
     "output_type": "execute_result"
    }
   ],
   "source": [
    "property_2017[\"numberofstories\"].isna().sum() / total"
   ]
  },
  {
   "cell_type": "markdown",
   "metadata": {},
   "source": [
    "### poolcnt\n",
    "- Number of pools on the lot (if any)\n",
    "- scalar / 1\n",
    "- rate of NaN : 82%"
   ]
  },
  {
   "cell_type": "code",
   "execution_count": 62,
   "metadata": {},
   "outputs": [
    {
     "name": "stdout",
     "output_type": "stream",
     "text": [
      "1\n"
     ]
    },
    {
     "data": {
      "text/plain": [
       "1.0    539632\n",
       "Name: poolcnt, dtype: int64"
      ]
     },
     "execution_count": 62,
     "metadata": {},
     "output_type": "execute_result"
    }
   ],
   "source": [
    "print(len(property_2017[\"poolcnt\"].value_counts()))\n",
    "property_2017[\"poolcnt\"].value_counts().head()"
   ]
  },
  {
   "cell_type": "code",
   "execution_count": 63,
   "metadata": {},
   "outputs": [
    {
     "data": {
      "text/plain": [
       "0.8192319017344468"
      ]
     },
     "execution_count": 63,
     "metadata": {},
     "output_type": "execute_result"
    }
   ],
   "source": [
    "property_2017[\"poolcnt\"].isna().sum() / total"
   ]
  },
  {
   "cell_type": "markdown",
   "metadata": {},
   "source": [
    "### poolsizesum\n",
    "- Total square footage of all pools on property\n",
    "- scalar / 907\n",
    "- rate of NaN : 99%"
   ]
  },
  {
   "cell_type": "code",
   "execution_count": 64,
   "metadata": {},
   "outputs": [
    {
     "name": "stdout",
     "output_type": "stream",
     "text": [
      "907\n"
     ]
    },
    {
     "data": {
      "text/plain": [
       "450.0    3179\n",
       "400.0     972\n",
       "480.0     917\n",
       "500.0     828\n",
       "512.0     826\n",
       "Name: poolsizesum, dtype: int64"
      ]
     },
     "execution_count": 64,
     "metadata": {},
     "output_type": "execute_result"
    }
   ],
   "source": [
    "print(len(property_2017[\"poolsizesum\"].value_counts()))\n",
    "property_2017[\"poolsizesum\"].value_counts().head()"
   ]
  },
  {
   "cell_type": "code",
   "execution_count": 65,
   "metadata": {},
   "outputs": [
    {
     "data": {
      "text/plain": [
       "0.9906345166867266"
      ]
     },
     "execution_count": 65,
     "metadata": {},
     "output_type": "execute_result"
    }
   ],
   "source": [
    "property_2017[\"poolsizesum\"].isna().sum() / total"
   ]
  },
  {
   "cell_type": "markdown",
   "metadata": {},
   "source": [
    "### pooltypeid10\n",
    "- Spa or Hot Tub\n",
    "- category / 1\n",
    "- rate of NaN : 99.4%"
   ]
  },
  {
   "cell_type": "code",
   "execution_count": 66,
   "metadata": {},
   "outputs": [
    {
     "name": "stdout",
     "output_type": "stream",
     "text": [
      "1\n"
     ]
    },
    {
     "data": {
      "text/plain": [
       "1.0    17006\n",
       "Name: pooltypeid10, dtype: int64"
      ]
     },
     "execution_count": 66,
     "metadata": {},
     "output_type": "execute_result"
    }
   ],
   "source": [
    "print(len(property_2017[\"pooltypeid10\"].value_counts()))\n",
    "property_2017[\"pooltypeid10\"].value_counts().head()"
   ]
  },
  {
   "cell_type": "code",
   "execution_count": 67,
   "metadata": {},
   "outputs": [
    {
     "data": {
      "text/plain": [
       "0.994303261705933"
      ]
     },
     "execution_count": 67,
     "metadata": {},
     "output_type": "execute_result"
    }
   ],
   "source": [
    "property_2017[\"pooltypeid10\"].isna().sum() / total"
   ]
  },
  {
   "cell_type": "markdown",
   "metadata": {},
   "source": [
    "### pooltypeid2\n",
    "- Pool with Spa/Hot Tub\n",
    "- cateory / 1\n",
    "- rate of NaN : 98.9%"
   ]
  },
  {
   "cell_type": "code",
   "execution_count": 68,
   "metadata": {},
   "outputs": [
    {
     "name": "stdout",
     "output_type": "stream",
     "text": [
      "1\n"
     ]
    },
    {
     "data": {
      "text/plain": [
       "1.0    33056\n",
       "Name: pooltypeid2, dtype: int64"
      ]
     },
     "execution_count": 68,
     "metadata": {},
     "output_type": "execute_result"
    }
   ],
   "source": [
    "print(len(property_2017[\"pooltypeid2\"].value_counts()))\n",
    "property_2017[\"pooltypeid2\"].value_counts().head()"
   ]
  },
  {
   "cell_type": "code",
   "execution_count": 69,
   "metadata": {},
   "outputs": [
    {
     "data": {
      "text/plain": [
       "0.9889267681377937"
      ]
     },
     "execution_count": 69,
     "metadata": {},
     "output_type": "execute_result"
    }
   ],
   "source": [
    "property_2017[\"pooltypeid2\"].isna().sum() / total"
   ]
  },
  {
   "cell_type": "markdown",
   "metadata": {},
   "source": [
    "### pooltypeid7\n",
    "- Pool without hot tub\n",
    "- category / 1\n",
    "- rate of NaN : 83%"
   ]
  },
  {
   "cell_type": "code",
   "execution_count": 70,
   "metadata": {},
   "outputs": [
    {
     "name": "stdout",
     "output_type": "stream",
     "text": [
      "1\n"
     ]
    },
    {
     "data": {
      "text/plain": [
       "1.0    505895\n",
       "Name: pooltypeid7, dtype: int64"
      ]
     },
     "execution_count": 70,
     "metadata": {},
     "output_type": "execute_result"
    }
   ],
   "source": [
    "print(len(property_2017[\"pooltypeid7\"].value_counts()))\n",
    "property_2017[\"pooltypeid7\"].value_counts().head()"
   ]
  },
  {
   "cell_type": "code",
   "execution_count": 71,
   "metadata": {},
   "outputs": [
    {
     "data": {
      "text/plain": [
       "0.8305332577162732"
      ]
     },
     "execution_count": 71,
     "metadata": {},
     "output_type": "execute_result"
    }
   ],
   "source": [
    "property_2017[\"pooltypeid7\"].isna().sum() / total"
   ]
  },
  {
   "cell_type": "markdown",
   "metadata": {},
   "source": [
    "### propertycountylandusecode\n",
    "- County land use code i.e. it's zoning at the county level\n",
    "- category(object) / 234\n",
    "- rate of NaN : 0.1%"
   ]
  },
  {
   "cell_type": "code",
   "execution_count": 72,
   "metadata": {},
   "outputs": [
    {
     "name": "stdout",
     "output_type": "stream",
     "text": [
      "234\n"
     ]
    },
    {
     "data": {
      "text/plain": [
       "0100    1153332\n",
       "122      522127\n",
       "0101     248386\n",
       "010C     225950\n",
       "1111     127012\n",
       "Name: propertycountylandusecode, dtype: int64"
      ]
     },
     "execution_count": 72,
     "metadata": {},
     "output_type": "execute_result"
    }
   ],
   "source": [
    "print(len(property_2017[\"propertycountylandusecode\"].value_counts()))\n",
    "property_2017[\"propertycountylandusecode\"].value_counts().head()"
   ]
  },
  {
   "cell_type": "code",
   "execution_count": 73,
   "metadata": {},
   "outputs": [
    {
     "data": {
      "text/plain": [
       "0.001004617084788141"
      ]
     },
     "execution_count": 73,
     "metadata": {},
     "output_type": "execute_result"
    }
   ],
   "source": [
    "property_2017[\"propertycountylandusecode\"].isna().sum() / total"
   ]
  },
  {
   "cell_type": "markdown",
   "metadata": {},
   "source": [
    "### propertylandusetypeid\n",
    "- Type of land use the property is zoned for\n",
    "- category / 16\n",
    "- rate of NaN : 0.09%"
   ]
  },
  {
   "cell_type": "code",
   "execution_count": 74,
   "metadata": {},
   "outputs": [
    {
     "name": "stdout",
     "output_type": "stream",
     "text": [
      "16\n"
     ]
    },
    {
     "data": {
      "text/plain": [
       "261.0    2152863\n",
       "266.0     483789\n",
       "246.0     114415\n",
       "269.0      61559\n",
       "263.0      59344\n",
       "Name: propertylandusetypeid, dtype: int64"
      ]
     },
     "execution_count": 74,
     "metadata": {},
     "output_type": "execute_result"
    }
   ],
   "source": [
    "print(len(property_2017[\"propertylandusetypeid\"].value_counts()))\n",
    "property_2017[\"propertylandusetypeid\"].value_counts().head()"
   ]
  },
  {
   "cell_type": "code",
   "execution_count": 75,
   "metadata": {},
   "outputs": [
    {
     "data": {
      "text/plain": [
       "0.0009821731552513602"
      ]
     },
     "execution_count": 75,
     "metadata": {},
     "output_type": "execute_result"
    }
   ],
   "source": [
    "property_2017[\"propertylandusetypeid\"].isna().sum() / total"
   ]
  },
  {
   "cell_type": "markdown",
   "metadata": {},
   "source": [
    "### propertyzoningdesc\n",
    "- Description of the allowed land uses (zoning) for that property\n",
    "- category(object) / 5651\n",
    "- rate of NaN : 33.5%"
   ]
  },
  {
   "cell_type": "code",
   "execution_count": 76,
   "metadata": {},
   "outputs": [
    {
     "name": "stdout",
     "output_type": "stream",
     "text": [
      "5651\n"
     ]
    },
    {
     "data": {
      "text/plain": [
       "LAR1     275246\n",
       "LAR3      67089\n",
       "LARS      54862\n",
       "LBR1N     52750\n",
       "LAR2      48858\n",
       "Name: propertyzoningdesc, dtype: int64"
      ]
     },
     "execution_count": 76,
     "metadata": {},
     "output_type": "execute_result"
    }
   ],
   "source": [
    "print(len(property_2017[\"propertyzoningdesc\"].value_counts()))\n",
    "property_2017[\"propertyzoningdesc\"].value_counts().head()"
   ]
  },
  {
   "cell_type": "code",
   "execution_count": 77,
   "metadata": {},
   "outputs": [
    {
     "data": {
      "text/plain": [
       "0.3359038890640111"
      ]
     },
     "execution_count": 77,
     "metadata": {},
     "output_type": "execute_result"
    }
   ],
   "source": [
    "property_2017[\"propertyzoningdesc\"].isna().sum() / total"
   ]
  },
  {
   "cell_type": "markdown",
   "metadata": {},
   "source": [
    "### rawcensustractandblock\n",
    "- Census tract and block ID combined - also contains blockgroup assignment by extension\n",
    "- category / 99513\n",
    "- rate of NaN : 0.09%"
   ]
  },
  {
   "cell_type": "code",
   "execution_count": 78,
   "metadata": {},
   "outputs": [
    {
     "name": "stdout",
     "output_type": "stream",
     "text": [
      "99513\n"
     ]
    },
    {
     "data": {
      "text/plain": [
       "6.059052e+07    1576\n",
       "6.037920e+07    1455\n",
       "6.059052e+07     971\n",
       "6.059063e+07     895\n",
       "6.037137e+07     886\n",
       "Name: rawcensustractandblock, dtype: int64"
      ]
     },
     "execution_count": 78,
     "metadata": {},
     "output_type": "execute_result"
    }
   ],
   "source": [
    "print(len(property_2017[\"rawcensustractandblock\"].value_counts()))\n",
    "property_2017[\"rawcensustractandblock\"].value_counts().head()"
   ]
  },
  {
   "cell_type": "code",
   "execution_count": 79,
   "metadata": {},
   "outputs": [
    {
     "data": {
      "text/plain": [
       "0.0009821731552513602"
      ]
     },
     "execution_count": 79,
     "metadata": {},
     "output_type": "execute_result"
    }
   ],
   "source": [
    "property_2017[\"rawcensustractandblock\"].isna().sum() / total"
   ]
  },
  {
   "cell_type": "markdown",
   "metadata": {},
   "source": [
    "### censustractandblock\n",
    "- Census tract and block ID combined - also contains blockgroup assignment by extension\n",
    "- category / 96755\n",
    "- rate of NaN : 2.5%"
   ]
  },
  {
   "cell_type": "code",
   "execution_count": 80,
   "metadata": {},
   "outputs": [
    {
     "name": "stdout",
     "output_type": "stream",
     "text": [
      "96755\n"
     ]
    },
    {
     "data": {
      "text/plain": [
       "6.037920e+13    1171\n",
       "6.037137e+13     881\n",
       "6.037920e+13     811\n",
       "6.059063e+13     807\n",
       "6.059052e+13     806\n",
       "Name: censustractandblock, dtype: int64"
      ]
     },
     "execution_count": 80,
     "metadata": {},
     "output_type": "execute_result"
    }
   ],
   "source": [
    "print(len(property_2017[\"censustractandblock\"].value_counts()))\n",
    "property_2017[\"censustractandblock\"].value_counts().head()"
   ]
  },
  {
   "cell_type": "code",
   "execution_count": 81,
   "metadata": {},
   "outputs": [
    {
     "data": {
      "text/plain": [
       "0.025118776959932896"
      ]
     },
     "execution_count": 81,
     "metadata": {},
     "output_type": "execute_result"
    }
   ],
   "source": [
    "property_2017[\"censustractandblock\"].isna().sum() / total"
   ]
  },
  {
   "cell_type": "markdown",
   "metadata": {},
   "source": [
    "### regionidcounty\n",
    "- County in which the property is located\n",
    "- category / 3\n",
    "- rate of NaN : 0.09%"
   ]
  },
  {
   "cell_type": "code",
   "execution_count": 82,
   "metadata": {},
   "outputs": [
    {
     "name": "stdout",
     "output_type": "stream",
     "text": [
      "3\n"
     ]
    },
    {
     "data": {
      "text/plain": [
       "3101.0    2012741\n",
       "1286.0     745800\n",
       "2061.0     223744\n",
       "Name: regionidcounty, dtype: int64"
      ]
     },
     "execution_count": 82,
     "metadata": {},
     "output_type": "execute_result"
    }
   ],
   "source": [
    "print(len(property_2017[\"regionidcounty\"].value_counts()))\n",
    "property_2017[\"regionidcounty\"].value_counts().head()"
   ]
  },
  {
   "cell_type": "code",
   "execution_count": 83,
   "metadata": {},
   "outputs": [
    {
     "data": {
      "text/plain": [
       "0.0009821731552513602"
      ]
     },
     "execution_count": 83,
     "metadata": {},
     "output_type": "execute_result"
    }
   ],
   "source": [
    "property_2017[\"regionidcounty\"].isna().sum() / total"
   ]
  },
  {
   "cell_type": "markdown",
   "metadata": {},
   "source": [
    "### regionidcity\n",
    "- City in which the property is located (if any)\n",
    "- category / 186\n",
    "- rate of NaN : 2%"
   ]
  },
  {
   "cell_type": "code",
   "execution_count": 84,
   "metadata": {},
   "outputs": [
    {
     "name": "stdout",
     "output_type": "stream",
     "text": [
      "186\n"
     ]
    },
    {
     "data": {
      "text/plain": [
       "12447.0    670868\n",
       "46298.0     93454\n",
       "16764.0     59793\n",
       "52650.0     58619\n",
       "25218.0     57013\n",
       "Name: regionidcity, dtype: int64"
      ]
     },
     "execution_count": 84,
     "metadata": {},
     "output_type": "execute_result"
    }
   ],
   "source": [
    "print(len(property_2017[\"regionidcity\"].value_counts()))\n",
    "property_2017[\"regionidcity\"].value_counts().head()"
   ]
  },
  {
   "cell_type": "code",
   "execution_count": 85,
   "metadata": {},
   "outputs": [
    {
     "data": {
      "text/plain": [
       "0.020811887377031553"
      ]
     },
     "execution_count": 85,
     "metadata": {},
     "output_type": "execute_result"
    }
   ],
   "source": [
    "property_2017[\"regionidcity\"].isna().sum() / total"
   ]
  },
  {
   "cell_type": "markdown",
   "metadata": {},
   "source": [
    "### regionidzip\n",
    "- Zip code in which the property is located\n",
    "- category / 403\n",
    "- rate of NaN : 0.4%"
   ]
  },
  {
   "cell_type": "code",
   "execution_count": 86,
   "metadata": {},
   "outputs": [
    {
     "name": "stdout",
     "output_type": "stream",
     "text": [
      "403\n"
     ]
    },
    {
     "data": {
      "text/plain": [
       "96987.0    22025\n",
       "96193.0    21756\n",
       "97118.0    20615\n",
       "97319.0    20337\n",
       "96964.0    19923\n",
       "Name: regionidzip, dtype: int64"
      ]
     },
     "execution_count": 86,
     "metadata": {},
     "output_type": "execute_result"
    }
   ],
   "source": [
    "print(len(property_2017[\"regionidzip\"].value_counts()))\n",
    "property_2017[\"regionidzip\"].value_counts().head()"
   ]
  },
  {
   "cell_type": "code",
   "execution_count": 87,
   "metadata": {},
   "outputs": [
    {
     "data": {
      "text/plain": [
       "0.004258986867621349"
      ]
     },
     "execution_count": 87,
     "metadata": {},
     "output_type": "execute_result"
    }
   ],
   "source": [
    "property_2017[\"regionidzip\"].isna().sum() / total"
   ]
  },
  {
   "cell_type": "markdown",
   "metadata": {},
   "source": [
    "### regionidneighborhood\n",
    "- Neighborhood in which the property is located\n",
    "- category / 529\n",
    "- rate of NaN : 61%"
   ]
  },
  {
   "cell_type": "code",
   "execution_count": 88,
   "metadata": {},
   "outputs": [
    {
     "name": "stdout",
     "output_type": "stream",
     "text": [
      "529\n"
     ]
    },
    {
     "data": {
      "text/plain": [
       "118208.0    32244\n",
       "268496.0    23182\n",
       "48570.0     21188\n",
       "27080.0     18883\n",
       "37739.0     18648\n",
       "Name: regionidneighborhood, dtype: int64"
      ]
     },
     "execution_count": 88,
     "metadata": {},
     "output_type": "execute_result"
    }
   ],
   "source": [
    "print(len(property_2017[\"regionidneighborhood\"].value_counts()))\n",
    "property_2017[\"regionidneighborhood\"].value_counts().head()"
   ]
  },
  {
   "cell_type": "code",
   "execution_count": 89,
   "metadata": {},
   "outputs": [
    {
     "data": {
      "text/plain": [
       "0.6125102463238016"
      ]
     },
     "execution_count": 89,
     "metadata": {},
     "output_type": "execute_result"
    }
   ],
   "source": [
    "property_2017[\"regionidneighborhood\"].isna().sum() / total"
   ]
  },
  {
   "cell_type": "markdown",
   "metadata": {},
   "source": [
    "### roomcnt\n",
    "- Total number of rooms in the principal residence\n",
    "- scalar / 36\n",
    "- rate of NaN : 0.09%"
   ]
  },
  {
   "cell_type": "code",
   "execution_count": 90,
   "metadata": {},
   "outputs": [
    {
     "name": "stdout",
     "output_type": "stream",
     "text": [
      "36\n"
     ]
    },
    {
     "data": {
      "text/plain": [
       "0.0    2315644\n",
       "6.0     178563\n",
       "7.0     156659\n",
       "8.0     120448\n",
       "5.0      99734\n",
       "Name: roomcnt, dtype: int64"
      ]
     },
     "execution_count": 90,
     "metadata": {},
     "output_type": "execute_result"
    }
   ],
   "source": [
    "print(len(property_2017[\"roomcnt\"].value_counts()))\n",
    "property_2017[\"roomcnt\"].value_counts().head()"
   ]
  },
  {
   "cell_type": "code",
   "execution_count": 91,
   "metadata": {},
   "outputs": [
    {
     "data": {
      "text/plain": [
       "0.0009945675641000302"
      ]
     },
     "execution_count": 91,
     "metadata": {},
     "output_type": "execute_result"
    }
   ],
   "source": [
    "property_2017[\"roomcnt\"].isna().sum() / total"
   ]
  },
  {
   "cell_type": "markdown",
   "metadata": {},
   "source": [
    "### storytypeid\n",
    "- Type of floors in a multi-story house (i.e. basement and main level, split-level, attic, etc.).  See tab for details.\n",
    "- category / 1\n",
    "- rate of NaN : 99.9%"
   ]
  },
  {
   "cell_type": "code",
   "execution_count": 92,
   "metadata": {},
   "outputs": [
    {
     "name": "stdout",
     "output_type": "stream",
     "text": [
      "1\n"
     ]
    },
    {
     "data": {
      "text/plain": [
       "7.0    1623\n",
       "Name: storytypeid, dtype: int64"
      ]
     },
     "execution_count": 92,
     "metadata": {},
     "output_type": "execute_result"
    }
   ],
   "source": [
    "print(len(property_2017[\"storytypeid\"].value_counts()))\n",
    "property_2017[\"storytypeid\"].value_counts().head()"
   ]
  },
  {
   "cell_type": "code",
   "execution_count": 93,
   "metadata": {},
   "outputs": [
    {
     "data": {
      "text/plain": [
       "0.9994563209307732"
      ]
     },
     "execution_count": 93,
     "metadata": {},
     "output_type": "execute_result"
    }
   ],
   "source": [
    "property_2017[\"storytypeid\"].isna().sum() / total"
   ]
  },
  {
   "cell_type": "markdown",
   "metadata": {},
   "source": [
    "### typeconstructiontypeid\n",
    "- What type of construction material was used to construct the home\n",
    "- category / 5\n",
    "- rate of NaN : 99.7%"
   ]
  },
  {
   "cell_type": "code",
   "execution_count": 94,
   "metadata": {},
   "outputs": [
    {
     "name": "stdout",
     "output_type": "stream",
     "text": [
      "5\n"
     ]
    },
    {
     "data": {
      "text/plain": [
       "6.0     6669\n",
       "4.0       59\n",
       "13.0      14\n",
       "10.0       3\n",
       "11.0       1\n",
       "Name: typeconstructiontypeid, dtype: int64"
      ]
     },
     "execution_count": 94,
     "metadata": {},
     "output_type": "execute_result"
    }
   ],
   "source": [
    "print(len(property_2017[\"typeconstructiontypeid\"].value_counts()))\n",
    "property_2017[\"typeconstructiontypeid\"].value_counts().head()"
   ]
  },
  {
   "cell_type": "code",
   "execution_count": 95,
   "metadata": {},
   "outputs": [
    {
     "data": {
      "text/plain": [
       "0.9977401977812668"
      ]
     },
     "execution_count": 95,
     "metadata": {},
     "output_type": "execute_result"
    }
   ],
   "source": [
    "property_2017[\"typeconstructiontypeid\"].isna().sum() / total"
   ]
  },
  {
   "cell_type": "markdown",
   "metadata": {},
   "source": [
    "### unitcnt\n",
    "-  Number of units the structure is built into (i.e. 2 = duplex, 3 = triplex, etc...)\n",
    "- category / 154\n",
    "- rate of NaN : 33.6%"
   ]
  },
  {
   "cell_type": "code",
   "execution_count": 96,
   "metadata": {},
   "outputs": [
    {
     "name": "stdout",
     "output_type": "stream",
     "text": [
      "154\n"
     ]
    },
    {
     "data": {
      "text/plain": [
       "1.0    1783873\n",
       "2.0     115778\n",
       "4.0      39926\n",
       "3.0      39893\n",
       "5.0        325\n",
       "Name: unitcnt, dtype: int64"
      ]
     },
     "execution_count": 96,
     "metadata": {},
     "output_type": "execute_result"
    }
   ],
   "source": [
    "print(len(property_2017[\"unitcnt\"].value_counts()))\n",
    "property_2017[\"unitcnt\"].value_counts().head()"
   ]
  },
  {
   "cell_type": "code",
   "execution_count": 97,
   "metadata": {},
   "outputs": [
    {
     "data": {
      "text/plain": [
       "0.3363825812327881"
      ]
     },
     "execution_count": 97,
     "metadata": {},
     "output_type": "execute_result"
    }
   ],
   "source": [
    "property_2017[\"unitcnt\"].isna().sum() / total"
   ]
  },
  {
   "cell_type": "markdown",
   "metadata": {},
   "source": [
    "### yardbuildingsqft17\n",
    "- Patio in  yard\n",
    "- scalar / 1664\n",
    "- rate of NaN : 97.2%"
   ]
  },
  {
   "cell_type": "code",
   "execution_count": 98,
   "metadata": {},
   "outputs": [
    {
     "name": "stdout",
     "output_type": "stream",
     "text": [
      "1664\n"
     ]
    },
    {
     "data": {
      "text/plain": [
       "240.0    3202\n",
       "200.0    3083\n",
       "300.0    2278\n",
       "180.0    1509\n",
       "288.0    1452\n",
       "Name: yardbuildingsqft17, dtype: int64"
      ]
     },
     "execution_count": 98,
     "metadata": {},
     "output_type": "execute_result"
    }
   ],
   "source": [
    "print(len(property_2017[\"yardbuildingsqft17\"].value_counts()))\n",
    "property_2017[\"yardbuildingsqft17\"].value_counts().head()"
   ]
  },
  {
   "cell_type": "code",
   "execution_count": 99,
   "metadata": {},
   "outputs": [
    {
     "data": {
      "text/plain": [
       "0.972669323536614"
      ]
     },
     "execution_count": 99,
     "metadata": {},
     "output_type": "execute_result"
    }
   ],
   "source": [
    "property_2017[\"yardbuildingsqft17\"].isna().sum() / total"
   ]
  },
  {
   "cell_type": "markdown",
   "metadata": {},
   "source": [
    "### yardbuildingsqft26\n",
    "- Storage shed/building in yard\n",
    "- scalar / 594\n",
    "- rate of NaN : 99.9%"
   ]
  },
  {
   "cell_type": "code",
   "execution_count": 100,
   "metadata": {},
   "outputs": [
    {
     "name": "stdout",
     "output_type": "stream",
     "text": [
      "594\n"
     ]
    },
    {
     "data": {
      "text/plain": [
       "120.0    91\n",
       "100.0    69\n",
       "240.0    61\n",
       "160.0    55\n",
       "80.0     53\n",
       "Name: yardbuildingsqft26, dtype: int64"
      ]
     },
     "execution_count": 100,
     "metadata": {},
     "output_type": "execute_result"
    }
   ],
   "source": [
    "print(len(property_2017[\"yardbuildingsqft26\"].value_counts()))\n",
    "property_2017[\"yardbuildingsqft26\"].value_counts().head()"
   ]
  },
  {
   "cell_type": "code",
   "execution_count": 101,
   "metadata": {},
   "outputs": [
    {
     "data": {
      "text/plain": [
       "0.9991136322753086"
      ]
     },
     "execution_count": 101,
     "metadata": {},
     "output_type": "execute_result"
    }
   ],
   "source": [
    "property_2017[\"yardbuildingsqft26\"].isna().sum() / total"
   ]
  },
  {
   "cell_type": "markdown",
   "metadata": {},
   "source": [
    "### yearbuilt\n",
    "- The Year the principal residence was built \n",
    "- category(also use scalar) / 183\n",
    "- rate of NaN :  1.6%"
   ]
  },
  {
   "cell_type": "code",
   "execution_count": 102,
   "metadata": {},
   "outputs": [
    {
     "name": "stdout",
     "output_type": "stream",
     "text": [
      "183\n"
     ]
    },
    {
     "data": {
      "text/plain": [
       "1955.0    88555\n",
       "1950.0    76100\n",
       "1954.0    73284\n",
       "1953.0    67062\n",
       "1956.0    65723\n",
       "Name: yearbuilt, dtype: int64"
      ]
     },
     "execution_count": 102,
     "metadata": {},
     "output_type": "execute_result"
    }
   ],
   "source": [
    "print(len(property_2017[\"yearbuilt\"].value_counts()))\n",
    "property_2017[\"yearbuilt\"].value_counts().head()"
   ]
  },
  {
   "cell_type": "code",
   "execution_count": 103,
   "metadata": {},
   "outputs": [
    {
     "data": {
      "text/plain": [
       "0.016023290769146766"
      ]
     },
     "execution_count": 103,
     "metadata": {},
     "output_type": "execute_result"
    }
   ],
   "source": [
    "property_2017[\"yearbuilt\"].isna().sum() / total"
   ]
  },
  {
   "cell_type": "markdown",
   "metadata": {},
   "source": [
    "### taxvaluedollarcnt\n",
    "- The total tax assessed value of the parcel\n",
    "- scalar / 661520\n",
    "- rate of NaN : 1.1% "
   ]
  },
  {
   "cell_type": "code",
   "execution_count": 104,
   "metadata": {},
   "outputs": [
    {
     "name": "stdout",
     "output_type": "stream",
     "text": [
      "661520\n"
     ]
    },
    {
     "data": {
      "text/plain": [
       "9.0         1902\n",
       "450000.0    1452\n",
       "400000.0    1371\n",
       "500000.0    1285\n",
       "480000.0    1131\n",
       "Name: taxvaluedollarcnt, dtype: int64"
      ]
     },
     "execution_count": 104,
     "metadata": {},
     "output_type": "execute_result"
    }
   ],
   "source": [
    "print(len(property_2017[\"taxvaluedollarcnt\"].value_counts()))\n",
    "property_2017[\"taxvaluedollarcnt\"].value_counts().head()"
   ]
  },
  {
   "cell_type": "code",
   "execution_count": 105,
   "metadata": {},
   "outputs": [
    {
     "data": {
      "text/plain": [
       "0.011478562529960134"
      ]
     },
     "execution_count": 105,
     "metadata": {},
     "output_type": "execute_result"
    }
   ],
   "source": [
    "property_2017[\"taxvaluedollarcnt\"].isna().sum() / total"
   ]
  },
  {
   "cell_type": "markdown",
   "metadata": {},
   "source": [
    "### structuretaxvaluedollarcnt\n",
    "- The assessed value of the built structure on the parcel\n",
    "- scalar / 437542\n",
    "- rate of NaN : 1.5%"
   ]
  },
  {
   "cell_type": "code",
   "execution_count": 106,
   "metadata": {},
   "outputs": [
    {
     "name": "stdout",
     "output_type": "stream",
     "text": [
      "437542\n"
     ]
    },
    {
     "data": {
      "text/plain": [
       "100000.0    1562\n",
       "104023.0    1385\n",
       "106103.0    1371\n",
       "109038.0    1324\n",
       "108225.0    1197\n",
       "Name: structuretaxvaluedollarcnt, dtype: int64"
      ]
     },
     "execution_count": 106,
     "metadata": {},
     "output_type": "execute_result"
    }
   ],
   "source": [
    "print(len(property_2017[\"structuretaxvaluedollarcnt\"].value_counts()))\n",
    "property_2017[\"structuretaxvaluedollarcnt\"].value_counts().head()"
   ]
  },
  {
   "cell_type": "code",
   "execution_count": 107,
   "metadata": {},
   "outputs": [
    {
     "data": {
      "text/plain": [
       "0.015564697641745976"
      ]
     },
     "execution_count": 107,
     "metadata": {},
     "output_type": "execute_result"
    }
   ],
   "source": [
    "property_2017[\"structuretaxvaluedollarcnt\"].isna().sum() / total"
   ]
  },
  {
   "cell_type": "markdown",
   "metadata": {},
   "source": [
    "### landtaxvaluedollarcnt\n",
    "- The assessed value of the land area of the parcel\n",
    "- scalar / 553303\n",
    "- rate of NaN : 2%"
   ]
  },
  {
   "cell_type": "code",
   "execution_count": 108,
   "metadata": {},
   "outputs": [
    {
     "name": "stdout",
     "output_type": "stream",
     "text": [
      "553303\n"
     ]
    },
    {
     "data": {
      "text/plain": [
       "21299.0    3643\n",
       "22755.0    2369\n",
       "16522.0    2298\n",
       "9.0        2184\n",
       "19441.0    2127\n",
       "Name: landtaxvaluedollarcnt, dtype: int64"
      ]
     },
     "execution_count": 108,
     "metadata": {},
     "output_type": "execute_result"
    }
   ],
   "source": [
    "print(len(property_2017[\"landtaxvaluedollarcnt\"].value_counts()))\n",
    "property_2017[\"landtaxvaluedollarcnt\"].value_counts().head()"
   ]
  },
  {
   "cell_type": "code",
   "execution_count": 109,
   "metadata": {},
   "outputs": [
    {
     "data": {
      "text/plain": [
       "0.02007425255852422"
      ]
     },
     "execution_count": 109,
     "metadata": {},
     "output_type": "execute_result"
    }
   ],
   "source": [
    "property_2017[\"landtaxvaluedollarcnt\"].isna().sum() / total"
   ]
  },
  {
   "cell_type": "markdown",
   "metadata": {},
   "source": [
    "### taxamount\n",
    "- The total property tax assessed for that assessment year\n",
    "- scalar / 1050011\n",
    "- rate of NaN : 0.7%"
   ]
  },
  {
   "cell_type": "code",
   "execution_count": 110,
   "metadata": {},
   "outputs": [
    {
     "name": "stdout",
     "output_type": "stream",
     "text": [
      "1050011\n"
     ]
    },
    {
     "data": {
      "text/plain": [
       "345.72     173\n",
       "1844.16    124\n",
       "1045.88    111\n",
       "1481.24    101\n",
       "2264.43     89\n",
       "Name: taxamount, dtype: int64"
      ]
     },
     "execution_count": 110,
     "metadata": {},
     "output_type": "execute_result"
    }
   ],
   "source": [
    "print(len(property_2017[\"taxamount\"].value_counts()))\n",
    "property_2017[\"taxamount\"].value_counts().head()"
   ]
  },
  {
   "cell_type": "code",
   "execution_count": 111,
   "metadata": {},
   "outputs": [
    {
     "data": {
      "text/plain": [
       "0.007621556489863216"
      ]
     },
     "execution_count": 111,
     "metadata": {},
     "output_type": "execute_result"
    }
   ],
   "source": [
    "property_2017[\"taxamount\"].isna().sum() / total"
   ]
  },
  {
   "cell_type": "markdown",
   "metadata": {},
   "source": [
    "### assessmentyear\n",
    "- The year of the property tax assessment \n",
    "- category / 14\n",
    "- rate of NaN : 0.09%"
   ]
  },
  {
   "cell_type": "code",
   "execution_count": 112,
   "metadata": {},
   "outputs": [
    {
     "name": "stdout",
     "output_type": "stream",
     "text": [
      "14\n"
     ]
    },
    {
     "data": {
      "text/plain": [
       "2016.0    2978601\n",
       "2015.0       2342\n",
       "2014.0       1290\n",
       "2012.0         26\n",
       "2004.0          6\n",
       "Name: assessmentyear, dtype: int64"
      ]
     },
     "execution_count": 112,
     "metadata": {},
     "output_type": "execute_result"
    }
   ],
   "source": [
    "print(len(property_2017[\"assessmentyear\"].value_counts()))\n",
    "property_2017[\"assessmentyear\"].value_counts().head()"
   ]
  },
  {
   "cell_type": "code",
   "execution_count": 113,
   "metadata": {},
   "outputs": [
    {
     "data": {
      "text/plain": [
       "0.0009825081392742974"
      ]
     },
     "execution_count": 113,
     "metadata": {},
     "output_type": "execute_result"
    }
   ],
   "source": [
    "property_2017[\"assessmentyear\"].isna().sum() / total"
   ]
  },
  {
   "cell_type": "markdown",
   "metadata": {},
   "source": [
    "### taxdelinquencyflag\n",
    "- Property taxes for this parcel are past due as of 2015\n",
    "- category / 2 (Y/N)\n",
    "- rate of NaN : 98%"
   ]
  },
  {
   "cell_type": "code",
   "execution_count": 114,
   "metadata": {},
   "outputs": [
    {
     "name": "stdout",
     "output_type": "stream",
     "text": [
      "1\n"
     ]
    },
    {
     "data": {
      "text/plain": [
       "Y    56515\n",
       "Name: taxdelinquencyflag, dtype: int64"
      ]
     },
     "execution_count": 114,
     "metadata": {},
     "output_type": "execute_result"
    }
   ],
   "source": [
    "print(len(property_2017[\"taxdelinquencyflag\"].value_counts()))\n",
    "property_2017[\"taxdelinquencyflag\"].value_counts().head()"
   ]
  },
  {
   "cell_type": "code",
   "execution_count": 115,
   "metadata": {},
   "outputs": [
    {
     "data": {
      "text/plain": [
       "0.9810683779437139"
      ]
     },
     "execution_count": 115,
     "metadata": {},
     "output_type": "execute_result"
    }
   ],
   "source": [
    "property_2017[\"taxdelinquencyflag\"].isna().sum() / total"
   ]
  },
  {
   "cell_type": "markdown",
   "metadata": {},
   "source": [
    "### taxdelinquencyyear\n",
    "- Year for which the unpaid propert taxes were due \n",
    "- category / 31\n",
    "- rate of NaN : 98%"
   ]
  },
  {
   "cell_type": "code",
   "execution_count": 116,
   "metadata": {},
   "outputs": [
    {
     "name": "stdout",
     "output_type": "stream",
     "text": [
      "31\n"
     ]
    },
    {
     "data": {
      "text/plain": [
       "15.0    26105\n",
       "14.0    16838\n",
       "13.0     4634\n",
       "12.0     3126\n",
       "11.0     2350\n",
       "Name: taxdelinquencyyear, dtype: int64"
      ]
     },
     "execution_count": 116,
     "metadata": {},
     "output_type": "execute_result"
    }
   ],
   "source": [
    "print(len(property_2017[\"taxdelinquencyyear\"].value_counts()))\n",
    "property_2017[\"taxdelinquencyyear\"].value_counts().head()"
   ]
  },
  {
   "cell_type": "code",
   "execution_count": 117,
   "metadata": {},
   "outputs": [
    {
     "data": {
      "text/plain": [
       "0.9810677079756681"
      ]
     },
     "execution_count": 117,
     "metadata": {},
     "output_type": "execute_result"
    }
   ],
   "source": [
    "property_2017[\"taxdelinquencyyear\"].isna().sum() / total"
   ]
  }
 ],
 "metadata": {
  "kernelspec": {
   "display_name": "Python 3",
   "language": "python",
   "name": "python3"
  },
  "language_info": {
   "codemirror_mode": {
    "name": "ipython",
    "version": 3
   },
   "file_extension": ".py",
   "mimetype": "text/x-python",
   "name": "python",
   "nbconvert_exporter": "python",
   "pygments_lexer": "ipython3",
   "version": "3.7.0"
  }
 },
 "nbformat": 4,
 "nbformat_minor": 2
}
