{
 "cells": [
  {
   "cell_type": "markdown",
   "metadata": {},
   "source": [
    "# Parameter Tuning : Xgboost"
   ]
  },
  {
   "cell_type": "code",
   "execution_count": 1,
   "metadata": {},
   "outputs": [],
   "source": [
    "import numpy as np\n",
    "import pandas as pd\n",
    "from scipy import sparse"
   ]
  },
  {
   "cell_type": "markdown",
   "metadata": {},
   "source": [
    "### Data Load"
   ]
  },
  {
   "cell_type": "code",
   "execution_count": 2,
   "metadata": {},
   "outputs": [
    {
     "data": {
      "text/plain": [
       "<95674x10425 sparse matrix of type '<class 'numpy.float64'>'\n",
       "\twith 1575631 stored elements in Compressed Sparse Row format>"
      ]
     },
     "execution_count": 2,
     "metadata": {},
     "output_type": "execute_result"
    }
   ],
   "source": [
    "X_train = sparse.load_npz(\"data/X_train.npz\")\n",
    "X_train"
   ]
  },
  {
   "cell_type": "code",
   "execution_count": 3,
   "metadata": {},
   "outputs": [
    {
     "data": {
      "text/plain": [
       "<95674x10425 sparse matrix of type '<class 'numpy.float64'>'\n",
       "\twith 1584735 stored elements in Compressed Sparse Row format>"
      ]
     },
     "execution_count": 3,
     "metadata": {},
     "output_type": "execute_result"
    }
   ],
   "source": [
    "X_test = sparse.load_npz(\"data/X_test.npz\")\n",
    "X_test"
   ]
  },
  {
   "cell_type": "code",
   "execution_count": 4,
   "metadata": {},
   "outputs": [
    {
     "name": "stdout",
     "output_type": "stream",
     "text": [
      "(95674,)\n"
     ]
    },
    {
     "data": {
      "text/plain": [
       "0    999.0\n",
       "1     30.0\n",
       "2     26.0\n",
       "3      8.0\n",
       "4      8.0\n",
       "Name: TripType, dtype: float64"
      ]
     },
     "execution_count": 4,
     "metadata": {},
     "output_type": "execute_result"
    }
   ],
   "source": [
    "y_train = pd.read_csv(\"data/X_train_TripType.csv\")\n",
    "y_train = y_train[\"TripType\"]\n",
    "\n",
    "print(y_train.shape)\n",
    "y_train[:5]"
   ]
  },
  {
   "cell_type": "code",
   "execution_count": 5,
   "metadata": {},
   "outputs": [
    {
     "name": "stdout",
     "output_type": "stream",
     "text": [
      "(95674,)\n"
     ]
    },
    {
     "data": {
      "text/plain": [
       "array([37, 22, 18,  5,  5])"
      ]
     },
     "execution_count": 5,
     "metadata": {},
     "output_type": "execute_result"
    }
   ],
   "source": [
    "from sklearn.preprocessing import LabelEncoder\n",
    "\n",
    "encoder = LabelEncoder()\n",
    "y_train = encoder.fit_transform(y_train)\n",
    "\n",
    "print(y_train.shape)\n",
    "y_train[:5]"
   ]
  },
  {
   "cell_type": "markdown",
   "metadata": {},
   "source": [
    "### HyperParameter Search(Random Search)"
   ]
  },
  {
   "cell_type": "code",
   "execution_count": 7,
   "metadata": {},
   "outputs": [
    {
     "name": "stderr",
     "output_type": "stream",
     "text": [
      "/Library/Frameworks/Python.framework/Versions/3.6/lib/python3.6/site-packages/ipykernel_launcher.py:37: FutureWarning: 'argmin' is deprecated, use 'idxmin' instead. The behavior of 'argmin'\n",
      "will be corrected to return the positional minimum in the future.\n",
      "Use 'series.values.argmin' to get the position of the minimum now.\n"
     ]
    },
    {
     "name": "stdout",
     "output_type": "stream",
     "text": [
      "  0 num_round = 100, learning_rate = 0.350029, max_depth = 5, reg_alpha = 0.0002214152, reg_lambda = 0.0000000329, score = 0.79453\n",
      "  1 num_round = 100, learning_rate = 0.433329, max_depth = 8, reg_alpha = 1.1259080079, reg_lambda = 0.0015721334, score = 0.99754\n",
      "  2 num_round = 1, learning_rate = 0.487687, max_depth = 10, reg_alpha = 0.0000000002, reg_lambda = 0.0014117298, score = 1.44036\n",
      "  3 num_round = 100, learning_rate = 0.259794, max_depth = 10, reg_alpha = 0.0000886337, reg_lambda = 0.0003268571, score = 0.73457\n",
      "  4 num_round = 100, learning_rate = 0.178601, max_depth = 7, reg_alpha = 0.0000000001, reg_lambda = 0.0499822792, score = 0.70055\n",
      "  5 num_round = 82, learning_rate = 0.283044, max_depth = 12, reg_alpha = 0.0027881801, reg_lambda = 0.0000001144, score = 0.76155\n",
      "  6 num_round = 1, learning_rate = 0.477913, max_depth = 5, reg_alpha = 0.0000000011, reg_lambda = 0.0045379917, score = 1.56475\n",
      "  7 num_round = 100, learning_rate = 0.110012, max_depth = 5, reg_alpha = 0.0000446207, reg_lambda = 0.0000048340, score = 0.75006\n",
      "  8 num_round = 87, learning_rate = 0.363021, max_depth = 11, reg_alpha = 0.5607926617, reg_lambda = 0.0001102280, score = 0.78659\n",
      "  9 num_round = 98, learning_rate = 0.179919, max_depth = 14, reg_alpha = 0.0006163092, reg_lambda = 0.0017301058, score = 0.71979\n",
      "(10, 7)\n"
     ]
    },
    {
     "data": {
      "text/html": [
       "<div>\n",
       "<style scoped>\n",
       "    .dataframe tbody tr th:only-of-type {\n",
       "        vertical-align: middle;\n",
       "    }\n",
       "\n",
       "    .dataframe tbody tr th {\n",
       "        vertical-align: top;\n",
       "    }\n",
       "\n",
       "    .dataframe thead th {\n",
       "        text-align: right;\n",
       "    }\n",
       "</style>\n",
       "<table border=\"1\" class=\"dataframe\">\n",
       "  <thead>\n",
       "    <tr style=\"text-align: right;\">\n",
       "      <th></th>\n",
       "      <th>epoch</th>\n",
       "      <th>learning_rate</th>\n",
       "      <th>max_depth</th>\n",
       "      <th>n_estimators</th>\n",
       "      <th>reg_alpha</th>\n",
       "      <th>reg_lambda</th>\n",
       "      <th>score</th>\n",
       "    </tr>\n",
       "  </thead>\n",
       "  <tbody>\n",
       "    <tr>\n",
       "      <th>4</th>\n",
       "      <td>4</td>\n",
       "      <td>0.178601</td>\n",
       "      <td>7</td>\n",
       "      <td>100</td>\n",
       "      <td>1.053684e-10</td>\n",
       "      <td>4.998228e-02</td>\n",
       "      <td>0.700547</td>\n",
       "    </tr>\n",
       "    <tr>\n",
       "      <th>9</th>\n",
       "      <td>9</td>\n",
       "      <td>0.179919</td>\n",
       "      <td>14</td>\n",
       "      <td>98</td>\n",
       "      <td>6.163092e-04</td>\n",
       "      <td>1.730106e-03</td>\n",
       "      <td>0.719794</td>\n",
       "    </tr>\n",
       "    <tr>\n",
       "      <th>3</th>\n",
       "      <td>3</td>\n",
       "      <td>0.259794</td>\n",
       "      <td>10</td>\n",
       "      <td>100</td>\n",
       "      <td>8.863369e-05</td>\n",
       "      <td>3.268571e-04</td>\n",
       "      <td>0.734573</td>\n",
       "    </tr>\n",
       "    <tr>\n",
       "      <th>7</th>\n",
       "      <td>7</td>\n",
       "      <td>0.110012</td>\n",
       "      <td>5</td>\n",
       "      <td>100</td>\n",
       "      <td>4.462066e-05</td>\n",
       "      <td>4.834013e-06</td>\n",
       "      <td>0.750065</td>\n",
       "    </tr>\n",
       "    <tr>\n",
       "      <th>5</th>\n",
       "      <td>5</td>\n",
       "      <td>0.283044</td>\n",
       "      <td>12</td>\n",
       "      <td>82</td>\n",
       "      <td>2.788180e-03</td>\n",
       "      <td>1.143694e-07</td>\n",
       "      <td>0.761554</td>\n",
       "    </tr>\n",
       "  </tbody>\n",
       "</table>\n",
       "</div>"
      ],
      "text/plain": [
       "   epoch  learning_rate  max_depth  n_estimators     reg_alpha    reg_lambda  \\\n",
       "4      4       0.178601          7           100  1.053684e-10  4.998228e-02   \n",
       "9      9       0.179919         14            98  6.163092e-04  1.730106e-03   \n",
       "3      3       0.259794         10           100  8.863369e-05  3.268571e-04   \n",
       "7      7       0.110012          5           100  4.462066e-05  4.834013e-06   \n",
       "5      5       0.283044         12            82  2.788180e-03  1.143694e-07   \n",
       "\n",
       "      score  \n",
       "4  0.700547  \n",
       "9  0.719794  \n",
       "3  0.734573  \n",
       "7  0.750065  \n",
       "5  0.761554  "
      ]
     },
     "execution_count": 7,
     "metadata": {},
     "output_type": "execute_result"
    }
   ],
   "source": [
    "import xgboost as xgb\n",
    "\n",
    "num_epoch = 10\n",
    "n_estimators = 100\n",
    "\n",
    "dtrain = xgb.DMatrix(X_train, label=y_train)\n",
    "\n",
    "hyperparameters_list = []\n",
    "\n",
    "for epoch in range(num_epoch):\n",
    "\n",
    "    np.random.seed(None)\n",
    "    learning_rate = np.random.uniform(low=0.1, high=0.5)\n",
    "    max_depth = np.random.randint(low=5, high=15)\n",
    "    reg_alpha = 10 ** np.random.uniform(high=1.0, low=-10.0)\n",
    "    reg_lambda = 10 ** np.random.uniform(high=1.0, low=-10.0)\n",
    "    np.random.seed(None)\n",
    "\n",
    " \n",
    "\n",
    "    params = {\n",
    "        'booster': 'gbtree',\n",
    "        'objective': 'multi:softprob',\n",
    "        'eval_metric': 'mlogloss',\n",
    "        'eta': learning_rate,\n",
    "        'max_depth': max_depth,\n",
    "        'reg_alpha': reg_alpha,\n",
    "        'reg_lambda': reg_lambda,\n",
    "        'num_class': len(np.unique(y_train)),\n",
    "        'n_jobs': 8,\n",
    "        'silent': 1,\n",
    "    }\n",
    "\n",
    "    dtrain = xgb.DMatrix(X_train, label=y_train)\n",
    "    result = xgb.cv(params, dtrain, n_estimators, nfold=5, metrics={'mlogloss'})\n",
    "    score = result[\"test-mlogloss-mean\"].min()\n",
    "    num_best_round = result[\"test-mlogloss-mean\"].idxmin() + 1\n",
    "\n",
    "    np.random.seed(None)\n",
    "\n",
    "    print(\"{0:3} num_round = {1}, learning_rate = {2:.6f}, max_depth = {3}, reg_alpha = {4:.10f}, reg_lambda = {5:.10f}, score = {6:.5f}\" \\\n",
    "          .format(epoch, num_best_round, learning_rate, max_depth, reg_alpha, reg_lambda, score))\n",
    "\n",
    "    hyperparameters_list.append({\n",
    "\n",
    "        'epoch': epoch,\n",
    "        'n_estimators': num_best_round,\n",
    "        'learning_rate': learning_rate,\n",
    "        'max_depth': max_depth,\n",
    "        'reg_alpha': reg_alpha,\n",
    "        'reg_lambda': reg_lambda,\n",
    "        'score': score,\n",
    "        \n",
    "    })\n",
    "\n",
    "    tmp = pd.DataFrame.from_dict(hyperparameters_list)\n",
    "    tmp = tmp.sort_values(by=\"score\", ascending=True)\n",
    "\n",
    "    tmp.to_csv(\"hyperparameters/parameters01.csv\")\n",
    "\n",
    "\n",
    "hyperparameters_list = pd.DataFrame.from_dict(hyperparameters_list)\n",
    "hyperparameters_list = hyperparameters_list.sort_values(by=\"score\", ascending=True)\n",
    "\n",
    "print(hyperparameters_list.shape)\n",
    "\n",
    "hyperparameters_list.head()"
   ]
  },
  {
   "cell_type": "code",
   "execution_count": null,
   "metadata": {},
   "outputs": [],
   "source": []
  }
 ],
 "metadata": {
  "kernelspec": {
   "display_name": "Python 3",
   "language": "python",
   "name": "python3"
  },
  "language_info": {
   "codemirror_mode": {
    "name": "ipython",
    "version": 3
   },
   "file_extension": ".py",
   "mimetype": "text/x-python",
   "name": "python",
   "nbconvert_exporter": "python",
   "pygments_lexer": "ipython3",
   "version": "3.6.6"
  }
 },
 "nbformat": 4,
 "nbformat_minor": 2
}
