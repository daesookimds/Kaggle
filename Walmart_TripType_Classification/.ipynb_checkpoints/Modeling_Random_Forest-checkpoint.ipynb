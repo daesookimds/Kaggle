{
 "cells": [
  {
   "cell_type": "markdown",
   "metadata": {},
   "source": [
    " # Modeling : Random Forest"
   ]
  },
  {
   "cell_type": "code",
   "execution_count": 1,
   "metadata": {},
   "outputs": [],
   "source": [
    "import numpy as np\n",
    "import pandas as pd"
   ]
  },
  {
   "cell_type": "markdown",
   "metadata": {},
   "source": [
    "### Data load"
   ]
  },
  {
   "cell_type": "code",
   "execution_count": 2,
   "metadata": {},
   "outputs": [
    {
     "data": {
      "text/plain": [
       "<95674x10425 sparse matrix of type '<class 'numpy.float64'>'\n",
       "\twith 1575631 stored elements in Compressed Sparse Row format>"
      ]
     },
     "execution_count": 2,
     "metadata": {},
     "output_type": "execute_result"
    }
   ],
   "source": [
    "from scipy import sparse\n",
    "\n",
    "X_train = sparse.load_npz(\"data/X_train.npz\")\n",
    "X_train"
   ]
  },
  {
   "cell_type": "code",
   "execution_count": 3,
   "metadata": {},
   "outputs": [
    {
     "data": {
      "text/plain": [
       "<95674x10425 sparse matrix of type '<class 'numpy.float64'>'\n",
       "\twith 1584735 stored elements in Compressed Sparse Row format>"
      ]
     },
     "execution_count": 3,
     "metadata": {},
     "output_type": "execute_result"
    }
   ],
   "source": [
    "X_test = sparse.load_npz(\"data/X_test.npz\")\n",
    "X_test"
   ]
  },
  {
   "cell_type": "code",
   "execution_count": 4,
   "metadata": {},
   "outputs": [
    {
     "name": "stdout",
     "output_type": "stream",
     "text": [
      "(95674,)\n"
     ]
    },
    {
     "data": {
      "text/plain": [
       "0    999.0\n",
       "1     30.0\n",
       "2     26.0\n",
       "3      8.0\n",
       "4      8.0\n",
       "Name: TripType, dtype: float64"
      ]
     },
     "execution_count": 4,
     "metadata": {},
     "output_type": "execute_result"
    }
   ],
   "source": [
    "y_train = pd.read_csv(\"data/X_train_TripType.csv\")\n",
    "y_train = y_train[\"TripType\"]\n",
    "\n",
    "print(y_train.shape)\n",
    "y_train[:5]"
   ]
  },
  {
   "cell_type": "markdown",
   "metadata": {},
   "source": [
    "### Model"
   ]
  },
  {
   "cell_type": "code",
   "execution_count": 5,
   "metadata": {},
   "outputs": [],
   "source": [
    "from sklearn.ensemble import RandomForestClassifier"
   ]
  },
  {
   "cell_type": "code",
   "execution_count": 6,
   "metadata": {},
   "outputs": [
    {
     "data": {
      "text/plain": [
       "RandomForestClassifier(bootstrap=True, class_weight=None, criterion='gini',\n",
       "            max_depth=15, max_features='auto', max_leaf_nodes=None,\n",
       "            min_impurity_decrease=0.0, min_impurity_split=None,\n",
       "            min_samples_leaf=1, min_samples_split=2,\n",
       "            min_weight_fraction_leaf=0.0, n_estimators=1000, n_jobs=8,\n",
       "            oob_score=False, random_state=None, verbose=0,\n",
       "            warm_start=False)"
      ]
     },
     "execution_count": 6,
     "metadata": {},
     "output_type": "execute_result"
    }
   ],
   "source": [
    "model = RandomForestClassifier(n_estimators=1000,\n",
    "                               max_depth=15,\n",
    "                               n_jobs=8)\n",
    "\n",
    "model"
   ]
  },
  {
   "cell_type": "code",
   "execution_count": 7,
   "metadata": {},
   "outputs": [
    {
     "name": "stdout",
     "output_type": "stream",
     "text": [
      "CPU times: user 2min 45s, sys: 1.71 s, total: 2min 47s\n",
      "Wall time: 23.7 s\n"
     ]
    },
    {
     "data": {
      "text/plain": [
       "RandomForestClassifier(bootstrap=True, class_weight=None, criterion='gini',\n",
       "            max_depth=15, max_features='auto', max_leaf_nodes=None,\n",
       "            min_impurity_decrease=0.0, min_impurity_split=None,\n",
       "            min_samples_leaf=1, min_samples_split=2,\n",
       "            min_weight_fraction_leaf=0.0, n_estimators=1000, n_jobs=8,\n",
       "            oob_score=False, random_state=None, verbose=0,\n",
       "            warm_start=False)"
      ]
     },
     "execution_count": 7,
     "metadata": {},
     "output_type": "execute_result"
    }
   ],
   "source": [
    "%time model.fit(X_train, y_train)"
   ]
  },
  {
   "cell_type": "markdown",
   "metadata": {},
   "source": [
    "### Prediction"
   ]
  },
  {
   "cell_type": "code",
   "execution_count": 8,
   "metadata": {
    "scrolled": true
   },
   "outputs": [
    {
     "name": "stdout",
     "output_type": "stream",
     "text": [
      "(95674,)\n"
     ]
    },
    {
     "data": {
      "text/plain": [
       "array([ 999.,    9.,   39., ...,   39.,   39.,    8.])"
      ]
     },
     "execution_count": 8,
     "metadata": {},
     "output_type": "execute_result"
    }
   ],
   "source": [
    "prediction = model.predict(X_train)\n",
    "\n",
    "print(prediction.shape)\n",
    "prediction"
   ]
  },
  {
   "cell_type": "code",
   "execution_count": 9,
   "metadata": {},
   "outputs": [],
   "source": [
    "from sklearn.metrics import confusion_matrix\n",
    "from sklearn.metrics import classification_report"
   ]
  },
  {
   "cell_type": "code",
   "execution_count": 10,
   "metadata": {},
   "outputs": [
    {
     "data": {
      "text/plain": [
       "array([[3617,    0,    0, ...,    0,    0,    0],\n",
       "       [   0,    0,    3, ...,    0,    0,    1],\n",
       "       [   5,    0, 1651, ...,    0,    0,    5],\n",
       "       ..., \n",
       "       [   0,    0,   10, ...,    0,    0,    1],\n",
       "       [   0,    0,    0, ...,    0,    0,    0],\n",
       "       [ 557,    0,   15, ...,    0,    0, 6502]])"
      ]
     },
     "execution_count": 10,
     "metadata": {},
     "output_type": "execute_result"
    }
   ],
   "source": [
    "confusion_matrix(y_train, prediction)"
   ]
  },
  {
   "cell_type": "code",
   "execution_count": 11,
   "metadata": {},
   "outputs": [
    {
     "name": "stdout",
     "output_type": "stream",
     "text": [
      "              precision    recall  f1-score   support\n",
      "\n",
      "  TripType_3       0.82      0.99      0.90      3643\n",
      "  TripType_4       0.00      0.00      0.00       346\n",
      "  TripType_5       0.96      0.36      0.52      4593\n",
      "  TripType_6       1.00      0.19      0.32      1277\n",
      "  TripType_7       0.83      0.36      0.50      5752\n",
      "  TripType_8       0.32      0.98      0.48     12161\n",
      "  TripType_9       0.45      0.64      0.53      9464\n",
      " TripType_12       0.00      0.00      0.00       269\n",
      " TripType_14       0.00      0.00      0.00         4\n",
      " TripType_15       0.00      0.00      0.00       978\n",
      " TripType_18       0.00      0.00      0.00       549\n",
      " TripType_19       0.00      0.00      0.00       375\n",
      " TripType_20       0.00      0.00      0.00       637\n",
      " TripType_21       0.00      0.00      0.00       641\n",
      " TripType_22       0.00      0.00      0.00       928\n",
      " TripType_23       0.00      0.00      0.00       139\n",
      " TripType_24       0.97      0.04      0.07      2609\n",
      " TripType_25       0.88      0.16      0.26      3698\n",
      " TripType_26       0.00      0.00      0.00       503\n",
      " TripType_27       1.00      0.00      0.00       785\n",
      " TripType_28       0.00      0.00      0.00       492\n",
      " TripType_29       0.00      0.00      0.00       433\n",
      " TripType_30       0.00      0.00      0.00      1081\n",
      " TripType_31       0.98      0.34      0.50       594\n",
      " TripType_32       0.96      0.25      0.39      1984\n",
      " TripType_33       1.00      0.00      0.00      1315\n",
      " TripType_34       0.00      0.00      0.00       719\n",
      " TripType_35       0.00      0.00      0.00      2030\n",
      " TripType_36       1.00      0.01      0.02      3005\n",
      " TripType_37       0.91      0.11      0.19      2788\n",
      " TripType_38       0.98      0.07      0.13      2912\n",
      " TripType_39       0.40      0.81      0.53      9896\n",
      " TripType_40       0.74      0.89      0.81      6130\n",
      " TripType_41       0.00      0.00      0.00       583\n",
      " TripType_42       0.00      0.00      0.00      1858\n",
      " TripType_43       0.00      0.00      0.00       872\n",
      " TripType_44       0.00      0.00      0.00      1187\n",
      "TripType_999       0.99      0.77      0.87      8444\n",
      "\n",
      " avg / total       0.60      0.50      0.42     95674\n",
      "\n"
     ]
    },
    {
     "name": "stderr",
     "output_type": "stream",
     "text": [
      "/Library/Frameworks/Python.framework/Versions/3.6/lib/python3.6/site-packages/sklearn/metrics/classification.py:1135: UndefinedMetricWarning: Precision and F-score are ill-defined and being set to 0.0 in labels with no predicted samples.\n",
      "  'precision', 'predicted', average, warn_for)\n"
     ]
    }
   ],
   "source": [
    "print(classification_report(y_train, prediction,\n",
    "    target_names=['TripType_3', 'TripType_4', 'TripType_5', 'TripType_6',\n",
    "       'TripType_7', 'TripType_8', 'TripType_9', 'TripType_12', 'TripType_14',\n",
    "       'TripType_15', 'TripType_18', 'TripType_19', 'TripType_20',\n",
    "       'TripType_21', 'TripType_22', 'TripType_23', 'TripType_24',\n",
    "       'TripType_25', 'TripType_26', 'TripType_27', 'TripType_28',\n",
    "       'TripType_29', 'TripType_30', 'TripType_31', 'TripType_32',\n",
    "       'TripType_33', 'TripType_34', 'TripType_35', 'TripType_36',\n",
    "       'TripType_37', 'TripType_38', 'TripType_39', 'TripType_40',\n",
    "       'TripType_41', 'TripType_42', 'TripType_43', 'TripType_44',\n",
    "       'TripType_999']))"
   ]
  },
  {
   "cell_type": "code",
   "execution_count": 12,
   "metadata": {},
   "outputs": [
    {
     "name": "stdout",
     "output_type": "stream",
     "text": [
      "(95674, 38)\n"
     ]
    },
    {
     "data": {
      "text/plain": [
       "array([[ 0.02232184,  0.00300191,  0.03757175, ...,  0.00920257,\n",
       "         0.01114327,  0.06456927],\n",
       "       [ 0.02014978,  0.0053423 ,  0.036688  , ...,  0.01113851,\n",
       "         0.01093335,  0.14090792],\n",
       "       [ 0.02608427,  0.00331594,  0.03966432, ...,  0.00654742,\n",
       "         0.00626999,  0.34233187],\n",
       "       ..., \n",
       "       [ 0.0386432 ,  0.00413809,  0.04981843, ...,  0.00779054,\n",
       "         0.00747025,  0.08679286],\n",
       "       [ 0.01371984,  0.00211239,  0.02791373, ...,  0.01368215,\n",
       "         0.03060567,  0.03714351],\n",
       "       [ 0.02774615,  0.00344807,  0.04314654, ...,  0.01117938,\n",
       "         0.01269539,  0.07198062]])"
      ]
     },
     "execution_count": 12,
     "metadata": {},
     "output_type": "execute_result"
    }
   ],
   "source": [
    "prediction_prob = model.predict_proba(X_test)\n",
    "\n",
    "print(prediction_prob.shape)\n",
    "prediction_prob"
   ]
  },
  {
   "cell_type": "markdown",
   "metadata": {},
   "source": [
    "### Submission"
   ]
  },
  {
   "cell_type": "code",
   "execution_count": 13,
   "metadata": {},
   "outputs": [],
   "source": [
    "submission_columns = ['TripType_3', 'TripType_4', 'TripType_5', 'TripType_6',\n",
    "       'TripType_7', 'TripType_8', 'TripType_9', 'TripType_12', 'TripType_14',\n",
    "       'TripType_15', 'TripType_18', 'TripType_19', 'TripType_20',\n",
    "       'TripType_21', 'TripType_22', 'TripType_23', 'TripType_24',\n",
    "       'TripType_25', 'TripType_26', 'TripType_27', 'TripType_28',\n",
    "       'TripType_29', 'TripType_30', 'TripType_31', 'TripType_32',\n",
    "       'TripType_33', 'TripType_34', 'TripType_35', 'TripType_36',\n",
    "       'TripType_37', 'TripType_38', 'TripType_39', 'TripType_40',\n",
    "       'TripType_41', 'TripType_42', 'TripType_43', 'TripType_44',\n",
    "       'TripType_999']\n",
    "\n",
    "X_submission = pd.DataFrame(prediction_prob, columns=submission_columns)"
   ]
  },
  {
   "cell_type": "code",
   "execution_count": 14,
   "metadata": {},
   "outputs": [],
   "source": [
    "test = pd.read_csv(\"data/test.csv\")"
   ]
  },
  {
   "cell_type": "code",
   "execution_count": 15,
   "metadata": {},
   "outputs": [],
   "source": [
    "X_submission[\"VisitNumber\"] = test[\"VisitNumber\"].unique()"
   ]
  },
  {
   "cell_type": "code",
   "execution_count": 16,
   "metadata": {
    "scrolled": true
   },
   "outputs": [
    {
     "data": {
      "text/html": [
       "<div>\n",
       "<style scoped>\n",
       "    .dataframe tbody tr th:only-of-type {\n",
       "        vertical-align: middle;\n",
       "    }\n",
       "\n",
       "    .dataframe tbody tr th {\n",
       "        vertical-align: top;\n",
       "    }\n",
       "\n",
       "    .dataframe thead th {\n",
       "        text-align: right;\n",
       "    }\n",
       "</style>\n",
       "<table border=\"1\" class=\"dataframe\">\n",
       "  <thead>\n",
       "    <tr style=\"text-align: right;\">\n",
       "      <th></th>\n",
       "      <th>VisitNumber</th>\n",
       "      <th>TripType_3</th>\n",
       "      <th>TripType_4</th>\n",
       "      <th>TripType_5</th>\n",
       "      <th>TripType_6</th>\n",
       "      <th>TripType_7</th>\n",
       "      <th>TripType_8</th>\n",
       "      <th>TripType_9</th>\n",
       "      <th>TripType_12</th>\n",
       "      <th>TripType_14</th>\n",
       "      <th>...</th>\n",
       "      <th>TripType_36</th>\n",
       "      <th>TripType_37</th>\n",
       "      <th>TripType_38</th>\n",
       "      <th>TripType_39</th>\n",
       "      <th>TripType_40</th>\n",
       "      <th>TripType_41</th>\n",
       "      <th>TripType_42</th>\n",
       "      <th>TripType_43</th>\n",
       "      <th>TripType_44</th>\n",
       "      <th>TripType_999</th>\n",
       "    </tr>\n",
       "  </thead>\n",
       "  <tbody>\n",
       "    <tr>\n",
       "      <th>0</th>\n",
       "      <td>1</td>\n",
       "      <td>0.022322</td>\n",
       "      <td>0.003002</td>\n",
       "      <td>0.037572</td>\n",
       "      <td>0.011760</td>\n",
       "      <td>0.057468</td>\n",
       "      <td>0.137952</td>\n",
       "      <td>0.106322</td>\n",
       "      <td>0.002769</td>\n",
       "      <td>0.000037</td>\n",
       "      <td>...</td>\n",
       "      <td>0.025234</td>\n",
       "      <td>0.025065</td>\n",
       "      <td>0.086876</td>\n",
       "      <td>0.109030</td>\n",
       "      <td>0.039331</td>\n",
       "      <td>0.007743</td>\n",
       "      <td>0.020448</td>\n",
       "      <td>0.009203</td>\n",
       "      <td>0.011143</td>\n",
       "      <td>0.064569</td>\n",
       "    </tr>\n",
       "    <tr>\n",
       "      <th>1</th>\n",
       "      <td>2</td>\n",
       "      <td>0.020150</td>\n",
       "      <td>0.005342</td>\n",
       "      <td>0.036688</td>\n",
       "      <td>0.011118</td>\n",
       "      <td>0.061431</td>\n",
       "      <td>0.132144</td>\n",
       "      <td>0.085169</td>\n",
       "      <td>0.003167</td>\n",
       "      <td>0.000032</td>\n",
       "      <td>...</td>\n",
       "      <td>0.024770</td>\n",
       "      <td>0.022024</td>\n",
       "      <td>0.030843</td>\n",
       "      <td>0.114938</td>\n",
       "      <td>0.039612</td>\n",
       "      <td>0.005772</td>\n",
       "      <td>0.018421</td>\n",
       "      <td>0.011139</td>\n",
       "      <td>0.010933</td>\n",
       "      <td>0.140908</td>\n",
       "    </tr>\n",
       "    <tr>\n",
       "      <th>2</th>\n",
       "      <td>3</td>\n",
       "      <td>0.026084</td>\n",
       "      <td>0.003316</td>\n",
       "      <td>0.039664</td>\n",
       "      <td>0.011758</td>\n",
       "      <td>0.043925</td>\n",
       "      <td>0.111822</td>\n",
       "      <td>0.098436</td>\n",
       "      <td>0.001834</td>\n",
       "      <td>0.000042</td>\n",
       "      <td>...</td>\n",
       "      <td>0.022952</td>\n",
       "      <td>0.011970</td>\n",
       "      <td>0.014351</td>\n",
       "      <td>0.052822</td>\n",
       "      <td>0.012825</td>\n",
       "      <td>0.004551</td>\n",
       "      <td>0.014664</td>\n",
       "      <td>0.006547</td>\n",
       "      <td>0.006270</td>\n",
       "      <td>0.342332</td>\n",
       "    </tr>\n",
       "    <tr>\n",
       "      <th>3</th>\n",
       "      <td>4</td>\n",
       "      <td>0.035798</td>\n",
       "      <td>0.004374</td>\n",
       "      <td>0.053133</td>\n",
       "      <td>0.015640</td>\n",
       "      <td>0.058050</td>\n",
       "      <td>0.149271</td>\n",
       "      <td>0.148124</td>\n",
       "      <td>0.002384</td>\n",
       "      <td>0.000162</td>\n",
       "      <td>...</td>\n",
       "      <td>0.030198</td>\n",
       "      <td>0.015517</td>\n",
       "      <td>0.018730</td>\n",
       "      <td>0.069457</td>\n",
       "      <td>0.017207</td>\n",
       "      <td>0.006187</td>\n",
       "      <td>0.023009</td>\n",
       "      <td>0.009675</td>\n",
       "      <td>0.009067</td>\n",
       "      <td>0.090555</td>\n",
       "    </tr>\n",
       "    <tr>\n",
       "      <th>4</th>\n",
       "      <td>6</td>\n",
       "      <td>0.026084</td>\n",
       "      <td>0.003316</td>\n",
       "      <td>0.039664</td>\n",
       "      <td>0.011758</td>\n",
       "      <td>0.043925</td>\n",
       "      <td>0.111822</td>\n",
       "      <td>0.098436</td>\n",
       "      <td>0.001834</td>\n",
       "      <td>0.000042</td>\n",
       "      <td>...</td>\n",
       "      <td>0.022952</td>\n",
       "      <td>0.011970</td>\n",
       "      <td>0.014351</td>\n",
       "      <td>0.052822</td>\n",
       "      <td>0.012825</td>\n",
       "      <td>0.004551</td>\n",
       "      <td>0.014664</td>\n",
       "      <td>0.006547</td>\n",
       "      <td>0.006270</td>\n",
       "      <td>0.342332</td>\n",
       "    </tr>\n",
       "  </tbody>\n",
       "</table>\n",
       "<p>5 rows × 39 columns</p>\n",
       "</div>"
      ],
      "text/plain": [
       "   VisitNumber  TripType_3  TripType_4  TripType_5  TripType_6  TripType_7  \\\n",
       "0            1    0.022322    0.003002    0.037572    0.011760    0.057468   \n",
       "1            2    0.020150    0.005342    0.036688    0.011118    0.061431   \n",
       "2            3    0.026084    0.003316    0.039664    0.011758    0.043925   \n",
       "3            4    0.035798    0.004374    0.053133    0.015640    0.058050   \n",
       "4            6    0.026084    0.003316    0.039664    0.011758    0.043925   \n",
       "\n",
       "   TripType_8  TripType_9  TripType_12  TripType_14      ...       \\\n",
       "0    0.137952    0.106322     0.002769     0.000037      ...        \n",
       "1    0.132144    0.085169     0.003167     0.000032      ...        \n",
       "2    0.111822    0.098436     0.001834     0.000042      ...        \n",
       "3    0.149271    0.148124     0.002384     0.000162      ...        \n",
       "4    0.111822    0.098436     0.001834     0.000042      ...        \n",
       "\n",
       "   TripType_36  TripType_37  TripType_38  TripType_39  TripType_40  \\\n",
       "0     0.025234     0.025065     0.086876     0.109030     0.039331   \n",
       "1     0.024770     0.022024     0.030843     0.114938     0.039612   \n",
       "2     0.022952     0.011970     0.014351     0.052822     0.012825   \n",
       "3     0.030198     0.015517     0.018730     0.069457     0.017207   \n",
       "4     0.022952     0.011970     0.014351     0.052822     0.012825   \n",
       "\n",
       "   TripType_41  TripType_42  TripType_43  TripType_44  TripType_999  \n",
       "0     0.007743     0.020448     0.009203     0.011143      0.064569  \n",
       "1     0.005772     0.018421     0.011139     0.010933      0.140908  \n",
       "2     0.004551     0.014664     0.006547     0.006270      0.342332  \n",
       "3     0.006187     0.023009     0.009675     0.009067      0.090555  \n",
       "4     0.004551     0.014664     0.006547     0.006270      0.342332  \n",
       "\n",
       "[5 rows x 39 columns]"
      ]
     },
     "execution_count": 16,
     "metadata": {},
     "output_type": "execute_result"
    }
   ],
   "source": [
    "submission_columns.insert(0, 'VisitNumber')\n",
    "submission = X_submission[submission_columns]\n",
    "submission.head()"
   ]
  },
  {
   "cell_type": "code",
   "execution_count": 17,
   "metadata": {},
   "outputs": [],
   "source": [
    "#submission.to_csv(\"submission02.csv\", index=False)"
   ]
  },
  {
   "cell_type": "code",
   "execution_count": null,
   "metadata": {},
   "outputs": [],
   "source": []
  }
 ],
 "metadata": {
  "kernelspec": {
   "display_name": "Python 3",
   "language": "python",
   "name": "python3"
  },
  "language_info": {
   "codemirror_mode": {
    "name": "ipython",
    "version": 3
   },
   "file_extension": ".py",
   "mimetype": "text/x-python",
   "name": "python",
   "nbconvert_exporter": "python",
   "pygments_lexer": "ipython3",
   "version": "3.6.6"
  }
 },
 "nbformat": 4,
 "nbformat_minor": 2
}
