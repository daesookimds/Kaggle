{
 "cells": [
  {
   "cell_type": "markdown",
   "metadata": {},
   "source": [
    "# Walmart Classification Preprocessing 3\n",
    "1. Data Load \n",
    "    - (Fill NaN, Weekday, DepartmentDescription Encode completed)\n",
    "2. Make list\n",
    "    - top 1000 FineilneNumber, Upc\n",
    "3. Encode \n",
    "    - FinelineNumber and Upc\n",
    "4. Make feature list for Groupby 'VisitNumber'\n",
    "5. Group by 'VisitNumber'\n",
    "6. **Divide by absolute value of ScanCount**\n",
    "7. **csr Matrix of FinelineNumber, Upc**\n"
   ]
  },
  {
   "cell_type": "code",
   "execution_count": 1,
   "metadata": {},
   "outputs": [],
   "source": [
    "import pandas as pd\n",
    "import numpy as np\n",
    "from tqdm import tqdm"
   ]
  },
  {
   "cell_type": "markdown",
   "metadata": {},
   "source": [
    "## 1. Data Load"
   ]
  },
  {
   "cell_type": "code",
   "execution_count": 2,
   "metadata": {},
   "outputs": [
    {
     "name": "stdout",
     "output_type": "stream",
     "text": [
      "(647054, 88)\n"
     ]
    },
    {
     "data": {
      "text/html": [
       "<div>\n",
       "<style scoped>\n",
       "    .dataframe tbody tr th:only-of-type {\n",
       "        vertical-align: middle;\n",
       "    }\n",
       "\n",
       "    .dataframe tbody tr th {\n",
       "        vertical-align: top;\n",
       "    }\n",
       "\n",
       "    .dataframe thead th {\n",
       "        text-align: right;\n",
       "    }\n",
       "</style>\n",
       "<table border=\"1\" class=\"dataframe\">\n",
       "  <thead>\n",
       "    <tr style=\"text-align: right;\">\n",
       "      <th></th>\n",
       "      <th>TripType</th>\n",
       "      <th>VisitNumber</th>\n",
       "      <th>Weekday</th>\n",
       "      <th>Upc</th>\n",
       "      <th>ScanCount</th>\n",
       "      <th>DepartmentDescription</th>\n",
       "      <th>FinelineNumber</th>\n",
       "      <th>abs_ScanCount</th>\n",
       "      <th>desc_tag</th>\n",
       "      <th>desc_tag_1</th>\n",
       "      <th>...</th>\n",
       "      <th>Weekday_1</th>\n",
       "      <th>Weekday_2</th>\n",
       "      <th>Weekday_3</th>\n",
       "      <th>Weekday_4</th>\n",
       "      <th>Weekday_5</th>\n",
       "      <th>Weekday_6</th>\n",
       "      <th>Weekday_7</th>\n",
       "      <th>full_Upc</th>\n",
       "      <th>company_Upc</th>\n",
       "      <th>product_Upc</th>\n",
       "    </tr>\n",
       "  </thead>\n",
       "  <tbody>\n",
       "    <tr>\n",
       "      <th>0</th>\n",
       "      <td>999</td>\n",
       "      <td>5</td>\n",
       "      <td>Friday</td>\n",
       "      <td>6.811315e+10</td>\n",
       "      <td>-1</td>\n",
       "      <td>FINANCIAL SERVICES</td>\n",
       "      <td>1000.0</td>\n",
       "      <td>1</td>\n",
       "      <td>21</td>\n",
       "      <td>False</td>\n",
       "      <td>...</td>\n",
       "      <td>False</td>\n",
       "      <td>False</td>\n",
       "      <td>False</td>\n",
       "      <td>False</td>\n",
       "      <td>True</td>\n",
       "      <td>False</td>\n",
       "      <td>False</td>\n",
       "      <td>8113152929</td>\n",
       "      <td>81131</td>\n",
       "      <td>52929</td>\n",
       "    </tr>\n",
       "    <tr>\n",
       "      <th>1</th>\n",
       "      <td>30</td>\n",
       "      <td>7</td>\n",
       "      <td>Friday</td>\n",
       "      <td>6.053882e+10</td>\n",
       "      <td>1</td>\n",
       "      <td>SHOES</td>\n",
       "      <td>8931.0</td>\n",
       "      <td>1</td>\n",
       "      <td>62</td>\n",
       "      <td>False</td>\n",
       "      <td>...</td>\n",
       "      <td>False</td>\n",
       "      <td>False</td>\n",
       "      <td>False</td>\n",
       "      <td>False</td>\n",
       "      <td>True</td>\n",
       "      <td>False</td>\n",
       "      <td>False</td>\n",
       "      <td>538815980</td>\n",
       "      <td>5388</td>\n",
       "      <td>15980</td>\n",
       "    </tr>\n",
       "    <tr>\n",
       "      <th>2</th>\n",
       "      <td>30</td>\n",
       "      <td>7</td>\n",
       "      <td>Friday</td>\n",
       "      <td>7.410811e+09</td>\n",
       "      <td>1</td>\n",
       "      <td>PERSONAL CARE</td>\n",
       "      <td>4504.0</td>\n",
       "      <td>1</td>\n",
       "      <td>50</td>\n",
       "      <td>False</td>\n",
       "      <td>...</td>\n",
       "      <td>False</td>\n",
       "      <td>False</td>\n",
       "      <td>False</td>\n",
       "      <td>False</td>\n",
       "      <td>True</td>\n",
       "      <td>False</td>\n",
       "      <td>False</td>\n",
       "      <td>7410811099</td>\n",
       "      <td>74108</td>\n",
       "      <td>11099</td>\n",
       "    </tr>\n",
       "    <tr>\n",
       "      <th>3</th>\n",
       "      <td>26</td>\n",
       "      <td>8</td>\n",
       "      <td>Friday</td>\n",
       "      <td>2.238404e+09</td>\n",
       "      <td>2</td>\n",
       "      <td>PAINT AND ACCESSORIES</td>\n",
       "      <td>3565.0</td>\n",
       "      <td>2</td>\n",
       "      <td>49</td>\n",
       "      <td>False</td>\n",
       "      <td>...</td>\n",
       "      <td>False</td>\n",
       "      <td>False</td>\n",
       "      <td>False</td>\n",
       "      <td>False</td>\n",
       "      <td>True</td>\n",
       "      <td>False</td>\n",
       "      <td>False</td>\n",
       "      <td>2238403510</td>\n",
       "      <td>22384</td>\n",
       "      <td>3510</td>\n",
       "    </tr>\n",
       "    <tr>\n",
       "      <th>4</th>\n",
       "      <td>26</td>\n",
       "      <td>8</td>\n",
       "      <td>Friday</td>\n",
       "      <td>2.006614e+09</td>\n",
       "      <td>2</td>\n",
       "      <td>PAINT AND ACCESSORIES</td>\n",
       "      <td>1017.0</td>\n",
       "      <td>2</td>\n",
       "      <td>49</td>\n",
       "      <td>False</td>\n",
       "      <td>...</td>\n",
       "      <td>False</td>\n",
       "      <td>False</td>\n",
       "      <td>False</td>\n",
       "      <td>False</td>\n",
       "      <td>True</td>\n",
       "      <td>False</td>\n",
       "      <td>False</td>\n",
       "      <td>2006613744</td>\n",
       "      <td>20066</td>\n",
       "      <td>13744</td>\n",
       "    </tr>\n",
       "  </tbody>\n",
       "</table>\n",
       "<p>5 rows × 88 columns</p>\n",
       "</div>"
      ],
      "text/plain": [
       "   TripType  VisitNumber Weekday           Upc  ScanCount  \\\n",
       "0       999            5  Friday  6.811315e+10         -1   \n",
       "1        30            7  Friday  6.053882e+10          1   \n",
       "2        30            7  Friday  7.410811e+09          1   \n",
       "3        26            8  Friday  2.238404e+09          2   \n",
       "4        26            8  Friday  2.006614e+09          2   \n",
       "\n",
       "   DepartmentDescription  FinelineNumber  abs_ScanCount  desc_tag  desc_tag_1  \\\n",
       "0     FINANCIAL SERVICES          1000.0              1        21       False   \n",
       "1                  SHOES          8931.0              1        62       False   \n",
       "2          PERSONAL CARE          4504.0              1        50       False   \n",
       "3  PAINT AND ACCESSORIES          3565.0              2        49       False   \n",
       "4  PAINT AND ACCESSORIES          1017.0              2        49       False   \n",
       "\n",
       "      ...       Weekday_1  Weekday_2  Weekday_3  Weekday_4  Weekday_5  \\\n",
       "0     ...           False      False      False      False       True   \n",
       "1     ...           False      False      False      False       True   \n",
       "2     ...           False      False      False      False       True   \n",
       "3     ...           False      False      False      False       True   \n",
       "4     ...           False      False      False      False       True   \n",
       "\n",
       "   Weekday_6  Weekday_7    full_Upc  company_Upc  product_Upc  \n",
       "0      False      False  8113152929        81131        52929  \n",
       "1      False      False   538815980         5388        15980  \n",
       "2      False      False  7410811099        74108        11099  \n",
       "3      False      False  2238403510        22384         3510  \n",
       "4      False      False  2006613744        20066        13744  \n",
       "\n",
       "[5 rows x 88 columns]"
      ]
     },
     "execution_count": 2,
     "metadata": {},
     "output_type": "execute_result"
    }
   ],
   "source": [
    "train = pd.read_csv(\"ready_train.csv\")\n",
    "\n",
    "print(train.shape)\n",
    "train.head()"
   ]
  },
  {
   "cell_type": "code",
   "execution_count": 3,
   "metadata": {
    "scrolled": true
   },
   "outputs": [
    {
     "name": "stdout",
     "output_type": "stream",
     "text": [
      "(653646, 87)\n"
     ]
    },
    {
     "data": {
      "text/html": [
       "<div>\n",
       "<style scoped>\n",
       "    .dataframe tbody tr th:only-of-type {\n",
       "        vertical-align: middle;\n",
       "    }\n",
       "\n",
       "    .dataframe tbody tr th {\n",
       "        vertical-align: top;\n",
       "    }\n",
       "\n",
       "    .dataframe thead th {\n",
       "        text-align: right;\n",
       "    }\n",
       "</style>\n",
       "<table border=\"1\" class=\"dataframe\">\n",
       "  <thead>\n",
       "    <tr style=\"text-align: right;\">\n",
       "      <th></th>\n",
       "      <th>VisitNumber</th>\n",
       "      <th>Weekday</th>\n",
       "      <th>Upc</th>\n",
       "      <th>ScanCount</th>\n",
       "      <th>DepartmentDescription</th>\n",
       "      <th>FinelineNumber</th>\n",
       "      <th>abs_ScanCount</th>\n",
       "      <th>desc_tag</th>\n",
       "      <th>desc_tag_1</th>\n",
       "      <th>desc_tag_2</th>\n",
       "      <th>...</th>\n",
       "      <th>Weekday_1</th>\n",
       "      <th>Weekday_2</th>\n",
       "      <th>Weekday_3</th>\n",
       "      <th>Weekday_4</th>\n",
       "      <th>Weekday_5</th>\n",
       "      <th>Weekday_6</th>\n",
       "      <th>Weekday_7</th>\n",
       "      <th>full_Upc</th>\n",
       "      <th>company_Upc</th>\n",
       "      <th>product_Upc</th>\n",
       "    </tr>\n",
       "  </thead>\n",
       "  <tbody>\n",
       "    <tr>\n",
       "      <th>0</th>\n",
       "      <td>1</td>\n",
       "      <td>Friday</td>\n",
       "      <td>7.250339e+10</td>\n",
       "      <td>1</td>\n",
       "      <td>SHOES</td>\n",
       "      <td>3002.0</td>\n",
       "      <td>1</td>\n",
       "      <td>62</td>\n",
       "      <td>False</td>\n",
       "      <td>False</td>\n",
       "      <td>...</td>\n",
       "      <td>False</td>\n",
       "      <td>False</td>\n",
       "      <td>False</td>\n",
       "      <td>False</td>\n",
       "      <td>True</td>\n",
       "      <td>False</td>\n",
       "      <td>False</td>\n",
       "      <td>2503389714</td>\n",
       "      <td>25033</td>\n",
       "      <td>89714</td>\n",
       "    </tr>\n",
       "    <tr>\n",
       "      <th>1</th>\n",
       "      <td>1</td>\n",
       "      <td>Friday</td>\n",
       "      <td>1.707711e+09</td>\n",
       "      <td>1</td>\n",
       "      <td>DAIRY</td>\n",
       "      <td>1526.0</td>\n",
       "      <td>1</td>\n",
       "      <td>17</td>\n",
       "      <td>False</td>\n",
       "      <td>False</td>\n",
       "      <td>...</td>\n",
       "      <td>False</td>\n",
       "      <td>False</td>\n",
       "      <td>False</td>\n",
       "      <td>False</td>\n",
       "      <td>True</td>\n",
       "      <td>False</td>\n",
       "      <td>False</td>\n",
       "      <td>1707710732</td>\n",
       "      <td>17077</td>\n",
       "      <td>10732</td>\n",
       "    </tr>\n",
       "    <tr>\n",
       "      <th>2</th>\n",
       "      <td>1</td>\n",
       "      <td>Friday</td>\n",
       "      <td>8.947000e+10</td>\n",
       "      <td>1</td>\n",
       "      <td>DAIRY</td>\n",
       "      <td>1431.0</td>\n",
       "      <td>1</td>\n",
       "      <td>17</td>\n",
       "      <td>False</td>\n",
       "      <td>False</td>\n",
       "      <td>...</td>\n",
       "      <td>False</td>\n",
       "      <td>False</td>\n",
       "      <td>False</td>\n",
       "      <td>False</td>\n",
       "      <td>True</td>\n",
       "      <td>False</td>\n",
       "      <td>False</td>\n",
       "      <td>9470001026</td>\n",
       "      <td>94700</td>\n",
       "      <td>1026</td>\n",
       "    </tr>\n",
       "    <tr>\n",
       "      <th>3</th>\n",
       "      <td>1</td>\n",
       "      <td>Friday</td>\n",
       "      <td>8.849121e+10</td>\n",
       "      <td>1</td>\n",
       "      <td>GROCERY DRY GOODS</td>\n",
       "      <td>3555.0</td>\n",
       "      <td>1</td>\n",
       "      <td>25</td>\n",
       "      <td>False</td>\n",
       "      <td>False</td>\n",
       "      <td>...</td>\n",
       "      <td>False</td>\n",
       "      <td>False</td>\n",
       "      <td>False</td>\n",
       "      <td>False</td>\n",
       "      <td>True</td>\n",
       "      <td>False</td>\n",
       "      <td>False</td>\n",
       "      <td>8491211470</td>\n",
       "      <td>84912</td>\n",
       "      <td>11470</td>\n",
       "    </tr>\n",
       "    <tr>\n",
       "      <th>4</th>\n",
       "      <td>2</td>\n",
       "      <td>Friday</td>\n",
       "      <td>2.840015e+09</td>\n",
       "      <td>1</td>\n",
       "      <td>DSD GROCERY</td>\n",
       "      <td>4408.0</td>\n",
       "      <td>1</td>\n",
       "      <td>18</td>\n",
       "      <td>False</td>\n",
       "      <td>False</td>\n",
       "      <td>...</td>\n",
       "      <td>False</td>\n",
       "      <td>False</td>\n",
       "      <td>False</td>\n",
       "      <td>False</td>\n",
       "      <td>True</td>\n",
       "      <td>False</td>\n",
       "      <td>False</td>\n",
       "      <td>2840015224</td>\n",
       "      <td>28400</td>\n",
       "      <td>15224</td>\n",
       "    </tr>\n",
       "  </tbody>\n",
       "</table>\n",
       "<p>5 rows × 87 columns</p>\n",
       "</div>"
      ],
      "text/plain": [
       "   VisitNumber Weekday           Upc  ScanCount DepartmentDescription  \\\n",
       "0            1  Friday  7.250339e+10          1                 SHOES   \n",
       "1            1  Friday  1.707711e+09          1                 DAIRY   \n",
       "2            1  Friday  8.947000e+10          1                 DAIRY   \n",
       "3            1  Friday  8.849121e+10          1     GROCERY DRY GOODS   \n",
       "4            2  Friday  2.840015e+09          1           DSD GROCERY   \n",
       "\n",
       "   FinelineNumber  abs_ScanCount  desc_tag  desc_tag_1  desc_tag_2  \\\n",
       "0          3002.0              1        62       False       False   \n",
       "1          1526.0              1        17       False       False   \n",
       "2          1431.0              1        17       False       False   \n",
       "3          3555.0              1        25       False       False   \n",
       "4          4408.0              1        18       False       False   \n",
       "\n",
       "      ...       Weekday_1  Weekday_2  Weekday_3  Weekday_4  Weekday_5  \\\n",
       "0     ...           False      False      False      False       True   \n",
       "1     ...           False      False      False      False       True   \n",
       "2     ...           False      False      False      False       True   \n",
       "3     ...           False      False      False      False       True   \n",
       "4     ...           False      False      False      False       True   \n",
       "\n",
       "   Weekday_6  Weekday_7    full_Upc  company_Upc  product_Upc  \n",
       "0      False      False  2503389714        25033        89714  \n",
       "1      False      False  1707710732        17077        10732  \n",
       "2      False      False  9470001026        94700         1026  \n",
       "3      False      False  8491211470        84912        11470  \n",
       "4      False      False  2840015224        28400        15224  \n",
       "\n",
       "[5 rows x 87 columns]"
      ]
     },
     "execution_count": 3,
     "metadata": {},
     "output_type": "execute_result"
    }
   ],
   "source": [
    "test = pd.read_csv(\"ready_test.csv\")\n",
    "\n",
    "print(test.shape)\n",
    "test.head()"
   ]
  },
  {
   "cell_type": "code",
   "execution_count": 4,
   "metadata": {},
   "outputs": [
    {
     "data": {
      "text/plain": [
       "0    999.0\n",
       "1     30.0\n",
       "2     26.0\n",
       "3      8.0\n",
       "4      8.0\n",
       "Name: TripType, dtype: float64"
      ]
     },
     "execution_count": 4,
     "metadata": {},
     "output_type": "execute_result"
    }
   ],
   "source": [
    "train_TripType = train.groupby(by=\"VisitNumber\").mean().reset_index()[\"TripType\"]\n",
    "train_TripType.head()"
   ]
  },
  {
   "cell_type": "markdown",
   "metadata": {},
   "source": [
    "## 2. Make list of top 1000 FinilneNumber, Upc"
   ]
  },
  {
   "cell_type": "code",
   "execution_count": 5,
   "metadata": {},
   "outputs": [
    {
     "data": {
      "text/plain": [
       "[78742, 4, 81131, 5388, 37000]"
      ]
     },
     "execution_count": 5,
     "metadata": {},
     "output_type": "execute_result"
    }
   ],
   "source": [
    "top_company_Upc_list = list(train[\"company_Upc\"].value_counts().index)[:1000]\n",
    "top_company_Upc_list[:5]"
   ]
  },
  {
   "cell_type": "code",
   "execution_count": 6,
   "metadata": {},
   "outputs": [
    {
     "data": {
      "text/plain": [
       "[0, 4011, 62097, 99996, 35186]"
      ]
     },
     "execution_count": 6,
     "metadata": {},
     "output_type": "execute_result"
    }
   ],
   "source": [
    "top_product_Upc_list = list(train[\"product_Upc\"].value_counts().index)[:1000]\n",
    "top_product_Upc_list[:5]"
   ]
  },
  {
   "cell_type": "code",
   "execution_count": 7,
   "metadata": {},
   "outputs": [
    {
     "data": {
      "text/plain": [
       "[5501.0, 1508.0, 135.0, 808.0, 0.0]"
      ]
     },
     "execution_count": 7,
     "metadata": {},
     "output_type": "execute_result"
    }
   ],
   "source": [
    "top_FinelineNumber_list = list(train[\"FinelineNumber\"].value_counts().index)[:1000]\n",
    "top_FinelineNumber_list[:5]"
   ]
  },
  {
   "cell_type": "markdown",
   "metadata": {},
   "source": [
    "## 3. Encode FinelineNumber and Upc"
   ]
  },
  {
   "cell_type": "markdown",
   "metadata": {},
   "source": [
    "## Train"
   ]
  },
  {
   "cell_type": "code",
   "execution_count": 8,
   "metadata": {
    "scrolled": true
   },
   "outputs": [
    {
     "name": "stderr",
     "output_type": "stream",
     "text": [
      "1000it [00:07, 132.22it/s]\n"
     ]
    }
   ],
   "source": [
    "numbers = np.arange(1,1001)\n",
    "company_upc_box = zip(top_company_Upc_list, numbers)\n",
    "\n",
    "for com_upc, idx in tqdm(company_upc_box): \n",
    "    train.loc[train[\"company_Upc\"] == com_upc, \"company_Upc_num\"] = idx"
   ]
  },
  {
   "cell_type": "code",
   "execution_count": 9,
   "metadata": {
    "scrolled": true
   },
   "outputs": [
    {
     "name": "stderr",
     "output_type": "stream",
     "text": [
      "1000it [00:07, 125.68it/s]\n"
     ]
    }
   ],
   "source": [
    "numbers = np.arange(1,1001)\n",
    "product_upc_box = zip(top_product_Upc_list, numbers)\n",
    "\n",
    "for pro_upc, idx in tqdm(product_upc_box): \n",
    "    train.loc[train[\"product_Upc\"] == pro_upc, \"product_Upc_num\"] = idx"
   ]
  },
  {
   "cell_type": "code",
   "execution_count": 10,
   "metadata": {
    "scrolled": true
   },
   "outputs": [
    {
     "name": "stderr",
     "output_type": "stream",
     "text": [
      "1000it [00:07, 141.33it/s]\n"
     ]
    }
   ],
   "source": [
    "numbers = np.arange(1,1001)\n",
    "finelinenumber_box = zip(top_FinelineNumber_list, numbers)\n",
    "\n",
    "for finelinenumber, idx in tqdm(finelinenumber_box): \n",
    "    train.loc[train[\"FinelineNumber\"] == finelinenumber, \"FinelineNumber_num\"] = idx"
   ]
  },
  {
   "cell_type": "code",
   "execution_count": 11,
   "metadata": {},
   "outputs": [
    {
     "name": "stderr",
     "output_type": "stream",
     "text": [
      "100%|██████████| 1000/1000 [00:06<00:00, 163.36it/s]\n"
     ]
    }
   ],
   "source": [
    "for idx in tqdm(range(1, 1001)):\n",
    "    train[\"company_Upc_{}\".format(idx)] = train[\"company_Upc_num\"] == idx"
   ]
  },
  {
   "cell_type": "code",
   "execution_count": 12,
   "metadata": {
    "scrolled": true
   },
   "outputs": [
    {
     "name": "stderr",
     "output_type": "stream",
     "text": [
      "100%|██████████| 1000/1000 [00:15<00:00, 65.55it/s]\n"
     ]
    }
   ],
   "source": [
    "for idx in tqdm(range(1, 1001)):\n",
    "    train[\"product_Upc_{}\".format(idx)] = train[\"product_Upc_num\"] == idx"
   ]
  },
  {
   "cell_type": "code",
   "execution_count": 13,
   "metadata": {},
   "outputs": [
    {
     "name": "stderr",
     "output_type": "stream",
     "text": [
      "100%|██████████| 1000/1000 [00:24<00:00, 40.45it/s]\n"
     ]
    }
   ],
   "source": [
    "for idx in tqdm(range(1, 1001)):\n",
    "    train[\"FinelineNumber_{}\".format(idx)] = train[\"FinelineNumber_num\"] == idx"
   ]
  },
  {
   "cell_type": "markdown",
   "metadata": {},
   "source": [
    "## Test"
   ]
  },
  {
   "cell_type": "code",
   "execution_count": 14,
   "metadata": {},
   "outputs": [
    {
     "name": "stderr",
     "output_type": "stream",
     "text": [
      "1000it [00:05, 171.30it/s]\n"
     ]
    }
   ],
   "source": [
    "numbers = np.arange(1,1001)\n",
    "company_upc_box = zip(top_company_Upc_list, numbers)\n",
    "\n",
    "for com_upc, idx in tqdm(company_upc_box): \n",
    "    test.loc[test[\"company_Upc\"] == com_upc, \"company_Upc_num\"] = idx"
   ]
  },
  {
   "cell_type": "code",
   "execution_count": 15,
   "metadata": {},
   "outputs": [
    {
     "name": "stderr",
     "output_type": "stream",
     "text": [
      "1000it [00:05, 193.30it/s]\n"
     ]
    }
   ],
   "source": [
    "numbers = np.arange(1,1001)\n",
    "product_upc_box = zip(top_product_Upc_list, numbers)\n",
    "\n",
    "for pro_upc, idx in tqdm(product_upc_box): \n",
    "    test.loc[test[\"product_Upc\"] == pro_upc, \"product_Upc_num\"] = idx"
   ]
  },
  {
   "cell_type": "code",
   "execution_count": 16,
   "metadata": {},
   "outputs": [
    {
     "name": "stderr",
     "output_type": "stream",
     "text": [
      "1000it [00:05, 192.90it/s]\n"
     ]
    }
   ],
   "source": [
    "numbers = np.arange(1,1001)\n",
    "finelinenumber_box = zip(top_FinelineNumber_list, numbers)\n",
    "\n",
    "for finelinenumber, idx in tqdm(finelinenumber_box): \n",
    "    test.loc[test[\"FinelineNumber\"] == finelinenumber, \"FinelineNumber_num\"] = idx"
   ]
  },
  {
   "cell_type": "code",
   "execution_count": 17,
   "metadata": {},
   "outputs": [
    {
     "name": "stderr",
     "output_type": "stream",
     "text": [
      "100%|██████████| 1000/1000 [00:06<00:00, 165.10it/s]\n"
     ]
    }
   ],
   "source": [
    "for idx in tqdm(range(1, 1001)):\n",
    "    test[\"company_Upc_{}\".format(idx)] = test[\"company_Upc_num\"] == idx"
   ]
  },
  {
   "cell_type": "code",
   "execution_count": 18,
   "metadata": {},
   "outputs": [
    {
     "name": "stderr",
     "output_type": "stream",
     "text": [
      "100%|██████████| 1000/1000 [00:14<00:00, 67.31it/s]\n"
     ]
    }
   ],
   "source": [
    "for idx in tqdm(range(1, 1001)):\n",
    "    test[\"product_Upc_{}\".format(idx)] = test[\"product_Upc_num\"] == idx"
   ]
  },
  {
   "cell_type": "code",
   "execution_count": 19,
   "metadata": {},
   "outputs": [
    {
     "name": "stderr",
     "output_type": "stream",
     "text": [
      "100%|██████████| 1000/1000 [00:24<00:00, 40.96it/s]\n"
     ]
    }
   ],
   "source": [
    "for idx in tqdm(range(1, 1001)):\n",
    "    test[\"FinelineNumber_{}\".format(idx)] = test[\"FinelineNumber_num\"] == idx"
   ]
  },
  {
   "cell_type": "markdown",
   "metadata": {},
   "source": [
    "## 4. Make feature list"
   ]
  },
  {
   "cell_type": "code",
   "execution_count": 20,
   "metadata": {},
   "outputs": [],
   "source": [
    "feature_names = ['VisitNumber', 'ScanCount',\n",
    "       'abs_ScanCount',\n",
    "       'desc_tag_1', 'desc_tag_2', 'desc_tag_3', 'desc_tag_4', 'desc_tag_5',\n",
    "       'desc_tag_6', 'desc_tag_7', 'desc_tag_8', 'desc_tag_9', 'desc_tag_10',\n",
    "       'desc_tag_11', 'desc_tag_12', 'desc_tag_13', 'desc_tag_14',\n",
    "       'desc_tag_15', 'desc_tag_16', 'desc_tag_17', 'desc_tag_18',\n",
    "       'desc_tag_19', 'desc_tag_20', 'desc_tag_21', 'desc_tag_22',\n",
    "       'desc_tag_23', 'desc_tag_24', 'desc_tag_25', 'desc_tag_26',\n",
    "       'desc_tag_27', 'desc_tag_28', 'desc_tag_29', 'desc_tag_30',\n",
    "       'desc_tag_31', 'desc_tag_32', 'desc_tag_33', 'desc_tag_34',\n",
    "       'desc_tag_35', 'desc_tag_36', 'desc_tag_37', 'desc_tag_38',\n",
    "       'desc_tag_39', 'desc_tag_40', 'desc_tag_41', 'desc_tag_42',\n",
    "       'desc_tag_43', 'desc_tag_44', 'desc_tag_45', 'desc_tag_46',\n",
    "       'desc_tag_47', 'desc_tag_48', 'desc_tag_49', 'desc_tag_50',\n",
    "       'desc_tag_51', 'desc_tag_52', 'desc_tag_53', 'desc_tag_54',\n",
    "       'desc_tag_55', 'desc_tag_56', 'desc_tag_57', 'desc_tag_58',\n",
    "       'desc_tag_59', 'desc_tag_60', 'desc_tag_61', 'desc_tag_62',\n",
    "       'desc_tag_63', 'desc_tag_64', 'desc_tag_65', 'desc_tag_66',\n",
    "       'desc_tag_67', 'desc_tag_68', 'Weekday_1', 'Weekday_2',\n",
    "       'Weekday_3', 'Weekday_4', 'Weekday_5', 'Weekday_6', 'Weekday_7']"
   ]
  },
  {
   "cell_type": "code",
   "execution_count": 21,
   "metadata": {},
   "outputs": [
    {
     "name": "stderr",
     "output_type": "stream",
     "text": [
      "100%|██████████| 1000/1000 [00:00<00:00, 907465.17it/s]\n"
     ]
    }
   ],
   "source": [
    "FinelineNumber_list = []\n",
    "for idx in tqdm(range(1, 1001)):\n",
    "    FinelineNumber_list.append(\"FinelineNumber_{}\".format(idx))"
   ]
  },
  {
   "cell_type": "code",
   "execution_count": 22,
   "metadata": {},
   "outputs": [
    {
     "name": "stderr",
     "output_type": "stream",
     "text": [
      "100%|██████████| 1000/1000 [00:00<00:00, 679789.95it/s]\n"
     ]
    }
   ],
   "source": [
    "company_Upc_list = []\n",
    "for idx in tqdm(range(1, 1001)):\n",
    "    company_Upc_list.append(\"company_Upc_{}\".format(idx))"
   ]
  },
  {
   "cell_type": "code",
   "execution_count": 23,
   "metadata": {},
   "outputs": [
    {
     "name": "stderr",
     "output_type": "stream",
     "text": [
      "100%|██████████| 1000/1000 [00:00<00:00, 968214.22it/s]\n"
     ]
    }
   ],
   "source": [
    "product_Upc_list = []\n",
    "for idx in tqdm(range(1, 1001)):\n",
    "    product_Upc_list.append(\"product_Upc_{}\".format(idx))"
   ]
  },
  {
   "cell_type": "code",
   "execution_count": 24,
   "metadata": {},
   "outputs": [],
   "source": [
    "feature_csr = FinelineNumber_list + company_Upc_list + product_Upc_list"
   ]
  },
  {
   "cell_type": "code",
   "execution_count": 25,
   "metadata": {},
   "outputs": [
    {
     "data": {
      "text/plain": [
       "3078"
      ]
     },
     "execution_count": 25,
     "metadata": {},
     "output_type": "execute_result"
    }
   ],
   "source": [
    "features = feature_names + feature_csr\n",
    "len(features)"
   ]
  },
  {
   "cell_type": "markdown",
   "metadata": {},
   "source": [
    "## Temp train and test for group by VisitNumber"
   ]
  },
  {
   "cell_type": "code",
   "execution_count": 26,
   "metadata": {},
   "outputs": [],
   "source": [
    "tmp_train = train[features]"
   ]
  },
  {
   "cell_type": "code",
   "execution_count": 27,
   "metadata": {},
   "outputs": [],
   "source": [
    "tmp_test = test[features]"
   ]
  },
  {
   "cell_type": "markdown",
   "metadata": {},
   "source": [
    "## 5. Groupby VisitNumber"
   ]
  },
  {
   "cell_type": "code",
   "execution_count": 28,
   "metadata": {},
   "outputs": [],
   "source": [
    "train = tmp_train.groupby(by='VisitNumber').sum().reset_index()"
   ]
  },
  {
   "cell_type": "code",
   "execution_count": 29,
   "metadata": {},
   "outputs": [],
   "source": [
    "train[\"TripType\"] = train_TripType.astype(int)"
   ]
  },
  {
   "cell_type": "code",
   "execution_count": 30,
   "metadata": {},
   "outputs": [
    {
     "name": "stdout",
     "output_type": "stream",
     "text": [
      "(95674, 3079)\n"
     ]
    },
    {
     "data": {
      "text/html": [
       "<div>\n",
       "<style scoped>\n",
       "    .dataframe tbody tr th:only-of-type {\n",
       "        vertical-align: middle;\n",
       "    }\n",
       "\n",
       "    .dataframe tbody tr th {\n",
       "        vertical-align: top;\n",
       "    }\n",
       "\n",
       "    .dataframe thead th {\n",
       "        text-align: right;\n",
       "    }\n",
       "</style>\n",
       "<table border=\"1\" class=\"dataframe\">\n",
       "  <thead>\n",
       "    <tr style=\"text-align: right;\">\n",
       "      <th></th>\n",
       "      <th>VisitNumber</th>\n",
       "      <th>ScanCount</th>\n",
       "      <th>abs_ScanCount</th>\n",
       "      <th>desc_tag_1</th>\n",
       "      <th>desc_tag_2</th>\n",
       "      <th>desc_tag_3</th>\n",
       "      <th>desc_tag_4</th>\n",
       "      <th>desc_tag_5</th>\n",
       "      <th>desc_tag_6</th>\n",
       "      <th>desc_tag_7</th>\n",
       "      <th>...</th>\n",
       "      <th>product_Upc_992</th>\n",
       "      <th>product_Upc_993</th>\n",
       "      <th>product_Upc_994</th>\n",
       "      <th>product_Upc_995</th>\n",
       "      <th>product_Upc_996</th>\n",
       "      <th>product_Upc_997</th>\n",
       "      <th>product_Upc_998</th>\n",
       "      <th>product_Upc_999</th>\n",
       "      <th>product_Upc_1000</th>\n",
       "      <th>TripType</th>\n",
       "    </tr>\n",
       "  </thead>\n",
       "  <tbody>\n",
       "    <tr>\n",
       "      <th>0</th>\n",
       "      <td>5</td>\n",
       "      <td>-1</td>\n",
       "      <td>1</td>\n",
       "      <td>0.0</td>\n",
       "      <td>0.0</td>\n",
       "      <td>0.0</td>\n",
       "      <td>0.0</td>\n",
       "      <td>0.0</td>\n",
       "      <td>0.0</td>\n",
       "      <td>0.0</td>\n",
       "      <td>...</td>\n",
       "      <td>0.0</td>\n",
       "      <td>0.0</td>\n",
       "      <td>0.0</td>\n",
       "      <td>0.0</td>\n",
       "      <td>0.0</td>\n",
       "      <td>0.0</td>\n",
       "      <td>0.0</td>\n",
       "      <td>0.0</td>\n",
       "      <td>0.0</td>\n",
       "      <td>999</td>\n",
       "    </tr>\n",
       "    <tr>\n",
       "      <th>1</th>\n",
       "      <td>7</td>\n",
       "      <td>2</td>\n",
       "      <td>2</td>\n",
       "      <td>0.0</td>\n",
       "      <td>0.0</td>\n",
       "      <td>0.0</td>\n",
       "      <td>0.0</td>\n",
       "      <td>0.0</td>\n",
       "      <td>0.0</td>\n",
       "      <td>0.0</td>\n",
       "      <td>...</td>\n",
       "      <td>0.0</td>\n",
       "      <td>0.0</td>\n",
       "      <td>0.0</td>\n",
       "      <td>0.0</td>\n",
       "      <td>0.0</td>\n",
       "      <td>0.0</td>\n",
       "      <td>0.0</td>\n",
       "      <td>0.0</td>\n",
       "      <td>0.0</td>\n",
       "      <td>30</td>\n",
       "    </tr>\n",
       "    <tr>\n",
       "      <th>2</th>\n",
       "      <td>8</td>\n",
       "      <td>28</td>\n",
       "      <td>32</td>\n",
       "      <td>0.0</td>\n",
       "      <td>0.0</td>\n",
       "      <td>0.0</td>\n",
       "      <td>0.0</td>\n",
       "      <td>0.0</td>\n",
       "      <td>0.0</td>\n",
       "      <td>0.0</td>\n",
       "      <td>...</td>\n",
       "      <td>0.0</td>\n",
       "      <td>0.0</td>\n",
       "      <td>0.0</td>\n",
       "      <td>0.0</td>\n",
       "      <td>0.0</td>\n",
       "      <td>0.0</td>\n",
       "      <td>0.0</td>\n",
       "      <td>0.0</td>\n",
       "      <td>0.0</td>\n",
       "      <td>26</td>\n",
       "    </tr>\n",
       "    <tr>\n",
       "      <th>3</th>\n",
       "      <td>9</td>\n",
       "      <td>3</td>\n",
       "      <td>3</td>\n",
       "      <td>0.0</td>\n",
       "      <td>0.0</td>\n",
       "      <td>0.0</td>\n",
       "      <td>0.0</td>\n",
       "      <td>0.0</td>\n",
       "      <td>0.0</td>\n",
       "      <td>0.0</td>\n",
       "      <td>...</td>\n",
       "      <td>0.0</td>\n",
       "      <td>0.0</td>\n",
       "      <td>0.0</td>\n",
       "      <td>0.0</td>\n",
       "      <td>0.0</td>\n",
       "      <td>0.0</td>\n",
       "      <td>0.0</td>\n",
       "      <td>0.0</td>\n",
       "      <td>0.0</td>\n",
       "      <td>8</td>\n",
       "    </tr>\n",
       "    <tr>\n",
       "      <th>4</th>\n",
       "      <td>10</td>\n",
       "      <td>3</td>\n",
       "      <td>3</td>\n",
       "      <td>0.0</td>\n",
       "      <td>0.0</td>\n",
       "      <td>0.0</td>\n",
       "      <td>0.0</td>\n",
       "      <td>0.0</td>\n",
       "      <td>0.0</td>\n",
       "      <td>0.0</td>\n",
       "      <td>...</td>\n",
       "      <td>0.0</td>\n",
       "      <td>0.0</td>\n",
       "      <td>0.0</td>\n",
       "      <td>0.0</td>\n",
       "      <td>0.0</td>\n",
       "      <td>0.0</td>\n",
       "      <td>0.0</td>\n",
       "      <td>0.0</td>\n",
       "      <td>0.0</td>\n",
       "      <td>8</td>\n",
       "    </tr>\n",
       "  </tbody>\n",
       "</table>\n",
       "<p>5 rows × 3079 columns</p>\n",
       "</div>"
      ],
      "text/plain": [
       "   VisitNumber  ScanCount  abs_ScanCount  desc_tag_1  desc_tag_2  desc_tag_3  \\\n",
       "0            5         -1              1         0.0         0.0         0.0   \n",
       "1            7          2              2         0.0         0.0         0.0   \n",
       "2            8         28             32         0.0         0.0         0.0   \n",
       "3            9          3              3         0.0         0.0         0.0   \n",
       "4           10          3              3         0.0         0.0         0.0   \n",
       "\n",
       "   desc_tag_4  desc_tag_5  desc_tag_6  desc_tag_7    ...     product_Upc_992  \\\n",
       "0         0.0         0.0         0.0         0.0    ...                 0.0   \n",
       "1         0.0         0.0         0.0         0.0    ...                 0.0   \n",
       "2         0.0         0.0         0.0         0.0    ...                 0.0   \n",
       "3         0.0         0.0         0.0         0.0    ...                 0.0   \n",
       "4         0.0         0.0         0.0         0.0    ...                 0.0   \n",
       "\n",
       "   product_Upc_993  product_Upc_994  product_Upc_995  product_Upc_996  \\\n",
       "0              0.0              0.0              0.0              0.0   \n",
       "1              0.0              0.0              0.0              0.0   \n",
       "2              0.0              0.0              0.0              0.0   \n",
       "3              0.0              0.0              0.0              0.0   \n",
       "4              0.0              0.0              0.0              0.0   \n",
       "\n",
       "   product_Upc_997  product_Upc_998  product_Upc_999  product_Upc_1000  \\\n",
       "0              0.0              0.0              0.0               0.0   \n",
       "1              0.0              0.0              0.0               0.0   \n",
       "2              0.0              0.0              0.0               0.0   \n",
       "3              0.0              0.0              0.0               0.0   \n",
       "4              0.0              0.0              0.0               0.0   \n",
       "\n",
       "   TripType  \n",
       "0       999  \n",
       "1        30  \n",
       "2        26  \n",
       "3         8  \n",
       "4         8  \n",
       "\n",
       "[5 rows x 3079 columns]"
      ]
     },
     "execution_count": 30,
     "metadata": {},
     "output_type": "execute_result"
    }
   ],
   "source": [
    "print(train.shape)\n",
    "train.head()"
   ]
  },
  {
   "cell_type": "code",
   "execution_count": 31,
   "metadata": {},
   "outputs": [],
   "source": [
    "test = tmp_test.groupby(by='VisitNumber').sum().reset_index()"
   ]
  },
  {
   "cell_type": "code",
   "execution_count": 32,
   "metadata": {},
   "outputs": [
    {
     "name": "stdout",
     "output_type": "stream",
     "text": [
      "(95674, 3078)\n"
     ]
    },
    {
     "data": {
      "text/html": [
       "<div>\n",
       "<style scoped>\n",
       "    .dataframe tbody tr th:only-of-type {\n",
       "        vertical-align: middle;\n",
       "    }\n",
       "\n",
       "    .dataframe tbody tr th {\n",
       "        vertical-align: top;\n",
       "    }\n",
       "\n",
       "    .dataframe thead th {\n",
       "        text-align: right;\n",
       "    }\n",
       "</style>\n",
       "<table border=\"1\" class=\"dataframe\">\n",
       "  <thead>\n",
       "    <tr style=\"text-align: right;\">\n",
       "      <th></th>\n",
       "      <th>VisitNumber</th>\n",
       "      <th>ScanCount</th>\n",
       "      <th>abs_ScanCount</th>\n",
       "      <th>desc_tag_1</th>\n",
       "      <th>desc_tag_2</th>\n",
       "      <th>desc_tag_3</th>\n",
       "      <th>desc_tag_4</th>\n",
       "      <th>desc_tag_5</th>\n",
       "      <th>desc_tag_6</th>\n",
       "      <th>desc_tag_7</th>\n",
       "      <th>...</th>\n",
       "      <th>product_Upc_991</th>\n",
       "      <th>product_Upc_992</th>\n",
       "      <th>product_Upc_993</th>\n",
       "      <th>product_Upc_994</th>\n",
       "      <th>product_Upc_995</th>\n",
       "      <th>product_Upc_996</th>\n",
       "      <th>product_Upc_997</th>\n",
       "      <th>product_Upc_998</th>\n",
       "      <th>product_Upc_999</th>\n",
       "      <th>product_Upc_1000</th>\n",
       "    </tr>\n",
       "  </thead>\n",
       "  <tbody>\n",
       "    <tr>\n",
       "      <th>0</th>\n",
       "      <td>1</td>\n",
       "      <td>4</td>\n",
       "      <td>4</td>\n",
       "      <td>0.0</td>\n",
       "      <td>0.0</td>\n",
       "      <td>0.0</td>\n",
       "      <td>0.0</td>\n",
       "      <td>0.0</td>\n",
       "      <td>0.0</td>\n",
       "      <td>0.0</td>\n",
       "      <td>...</td>\n",
       "      <td>0.0</td>\n",
       "      <td>0.0</td>\n",
       "      <td>0.0</td>\n",
       "      <td>0.0</td>\n",
       "      <td>0.0</td>\n",
       "      <td>0.0</td>\n",
       "      <td>0.0</td>\n",
       "      <td>0.0</td>\n",
       "      <td>0.0</td>\n",
       "      <td>0.0</td>\n",
       "    </tr>\n",
       "    <tr>\n",
       "      <th>1</th>\n",
       "      <td>2</td>\n",
       "      <td>4</td>\n",
       "      <td>4</td>\n",
       "      <td>0.0</td>\n",
       "      <td>0.0</td>\n",
       "      <td>0.0</td>\n",
       "      <td>1.0</td>\n",
       "      <td>0.0</td>\n",
       "      <td>0.0</td>\n",
       "      <td>0.0</td>\n",
       "      <td>...</td>\n",
       "      <td>0.0</td>\n",
       "      <td>0.0</td>\n",
       "      <td>0.0</td>\n",
       "      <td>0.0</td>\n",
       "      <td>0.0</td>\n",
       "      <td>0.0</td>\n",
       "      <td>0.0</td>\n",
       "      <td>0.0</td>\n",
       "      <td>0.0</td>\n",
       "      <td>0.0</td>\n",
       "    </tr>\n",
       "    <tr>\n",
       "      <th>2</th>\n",
       "      <td>3</td>\n",
       "      <td>0</td>\n",
       "      <td>2</td>\n",
       "      <td>0.0</td>\n",
       "      <td>0.0</td>\n",
       "      <td>0.0</td>\n",
       "      <td>0.0</td>\n",
       "      <td>0.0</td>\n",
       "      <td>0.0</td>\n",
       "      <td>0.0</td>\n",
       "      <td>...</td>\n",
       "      <td>0.0</td>\n",
       "      <td>0.0</td>\n",
       "      <td>0.0</td>\n",
       "      <td>0.0</td>\n",
       "      <td>0.0</td>\n",
       "      <td>0.0</td>\n",
       "      <td>0.0</td>\n",
       "      <td>0.0</td>\n",
       "      <td>0.0</td>\n",
       "      <td>0.0</td>\n",
       "    </tr>\n",
       "    <tr>\n",
       "      <th>3</th>\n",
       "      <td>4</td>\n",
       "      <td>1</td>\n",
       "      <td>1</td>\n",
       "      <td>0.0</td>\n",
       "      <td>0.0</td>\n",
       "      <td>0.0</td>\n",
       "      <td>0.0</td>\n",
       "      <td>0.0</td>\n",
       "      <td>0.0</td>\n",
       "      <td>0.0</td>\n",
       "      <td>...</td>\n",
       "      <td>0.0</td>\n",
       "      <td>0.0</td>\n",
       "      <td>0.0</td>\n",
       "      <td>0.0</td>\n",
       "      <td>0.0</td>\n",
       "      <td>0.0</td>\n",
       "      <td>0.0</td>\n",
       "      <td>0.0</td>\n",
       "      <td>0.0</td>\n",
       "      <td>0.0</td>\n",
       "    </tr>\n",
       "    <tr>\n",
       "      <th>4</th>\n",
       "      <td>6</td>\n",
       "      <td>0</td>\n",
       "      <td>2</td>\n",
       "      <td>0.0</td>\n",
       "      <td>0.0</td>\n",
       "      <td>0.0</td>\n",
       "      <td>0.0</td>\n",
       "      <td>0.0</td>\n",
       "      <td>0.0</td>\n",
       "      <td>0.0</td>\n",
       "      <td>...</td>\n",
       "      <td>0.0</td>\n",
       "      <td>0.0</td>\n",
       "      <td>0.0</td>\n",
       "      <td>0.0</td>\n",
       "      <td>0.0</td>\n",
       "      <td>0.0</td>\n",
       "      <td>0.0</td>\n",
       "      <td>0.0</td>\n",
       "      <td>0.0</td>\n",
       "      <td>0.0</td>\n",
       "    </tr>\n",
       "  </tbody>\n",
       "</table>\n",
       "<p>5 rows × 3078 columns</p>\n",
       "</div>"
      ],
      "text/plain": [
       "   VisitNumber  ScanCount  abs_ScanCount  desc_tag_1  desc_tag_2  desc_tag_3  \\\n",
       "0            1          4              4         0.0         0.0         0.0   \n",
       "1            2          4              4         0.0         0.0         0.0   \n",
       "2            3          0              2         0.0         0.0         0.0   \n",
       "3            4          1              1         0.0         0.0         0.0   \n",
       "4            6          0              2         0.0         0.0         0.0   \n",
       "\n",
       "   desc_tag_4  desc_tag_5  desc_tag_6  desc_tag_7        ...         \\\n",
       "0         0.0         0.0         0.0         0.0        ...          \n",
       "1         1.0         0.0         0.0         0.0        ...          \n",
       "2         0.0         0.0         0.0         0.0        ...          \n",
       "3         0.0         0.0         0.0         0.0        ...          \n",
       "4         0.0         0.0         0.0         0.0        ...          \n",
       "\n",
       "   product_Upc_991  product_Upc_992  product_Upc_993  product_Upc_994  \\\n",
       "0              0.0              0.0              0.0              0.0   \n",
       "1              0.0              0.0              0.0              0.0   \n",
       "2              0.0              0.0              0.0              0.0   \n",
       "3              0.0              0.0              0.0              0.0   \n",
       "4              0.0              0.0              0.0              0.0   \n",
       "\n",
       "   product_Upc_995  product_Upc_996  product_Upc_997  product_Upc_998  \\\n",
       "0              0.0              0.0              0.0              0.0   \n",
       "1              0.0              0.0              0.0              0.0   \n",
       "2              0.0              0.0              0.0              0.0   \n",
       "3              0.0              0.0              0.0              0.0   \n",
       "4              0.0              0.0              0.0              0.0   \n",
       "\n",
       "   product_Upc_999  product_Upc_1000  \n",
       "0              0.0               0.0  \n",
       "1              0.0               0.0  \n",
       "2              0.0               0.0  \n",
       "3              0.0               0.0  \n",
       "4              0.0               0.0  \n",
       "\n",
       "[5 rows x 3078 columns]"
      ]
     },
     "execution_count": 32,
     "metadata": {},
     "output_type": "execute_result"
    }
   ],
   "source": [
    "print(test.shape)\n",
    "test.head()"
   ]
  },
  {
   "cell_type": "markdown",
   "metadata": {},
   "source": [
    "## 6. Divide by ScanCount"
   ]
  },
  {
   "cell_type": "code",
   "execution_count": 33,
   "metadata": {},
   "outputs": [],
   "source": [
    "for idx in range(1,69):\n",
    "    train[\"desc_tag_{}\".format(idx)] = train[\"desc_tag_{}\".format(idx)] / train[\"abs_ScanCount\"]"
   ]
  },
  {
   "cell_type": "code",
   "execution_count": 34,
   "metadata": {},
   "outputs": [],
   "source": [
    "for idx in range(1,69):\n",
    "    test[\"desc_tag_{}\".format(idx)] = test[\"desc_tag_{}\".format(idx)] / test[\"abs_ScanCount\"]"
   ]
  },
  {
   "cell_type": "code",
   "execution_count": 35,
   "metadata": {},
   "outputs": [],
   "source": [
    "for idx in range(1, 8):\n",
    "    train[\"Weekday_{}\".format(idx)] = train[\"Weekday_{}\".format(idx)] / train[\"abs_ScanCount\"]"
   ]
  },
  {
   "cell_type": "code",
   "execution_count": 36,
   "metadata": {},
   "outputs": [],
   "source": [
    "for idx in range(1, 8):\n",
    "    test[\"Weekday_{}\".format(idx)] = test[\"Weekday_{}\".format(idx)] / test[\"abs_ScanCount\"]"
   ]
  },
  {
   "cell_type": "code",
   "execution_count": 37,
   "metadata": {},
   "outputs": [
    {
     "name": "stderr",
     "output_type": "stream",
     "text": [
      "100%|██████████| 1000/1000 [00:01<00:00, 863.68it/s]\n"
     ]
    }
   ],
   "source": [
    "for idx in tqdm(range(1, 1001)):\n",
    "    train[\"company_Upc_{}\".format(idx)] = train[\"company_Upc_{}\".format(idx)] / train[\"abs_ScanCount\"]"
   ]
  },
  {
   "cell_type": "code",
   "execution_count": 38,
   "metadata": {},
   "outputs": [
    {
     "name": "stderr",
     "output_type": "stream",
     "text": [
      "100%|██████████| 1000/1000 [00:01<00:00, 850.76it/s]\n"
     ]
    }
   ],
   "source": [
    "for idx in tqdm(range(1, 1001)):\n",
    "    train[\"FinelineNumber_{}\".format(idx)] = train[\"FinelineNumber_{}\".format(idx)] / train[\"abs_ScanCount\"]"
   ]
  },
  {
   "cell_type": "code",
   "execution_count": 39,
   "metadata": {},
   "outputs": [
    {
     "name": "stderr",
     "output_type": "stream",
     "text": [
      "100%|██████████| 1000/1000 [00:38<00:00, 26.11it/s]\n"
     ]
    }
   ],
   "source": [
    "for idx in tqdm(range(1, 1001)):\n",
    "    train[\"prduct_Upc_{}\".format(idx)] = train[\"product_Upc_{}\".format(idx)] / train[\"abs_ScanCount\"]"
   ]
  },
  {
   "cell_type": "code",
   "execution_count": 40,
   "metadata": {},
   "outputs": [
    {
     "name": "stderr",
     "output_type": "stream",
     "text": [
      "100%|██████████| 1000/1000 [00:00<00:00, 1278.64it/s]\n"
     ]
    }
   ],
   "source": [
    "for idx in tqdm(range(1, 1001)):\n",
    "    test[\"company_Upc_{}\".format(idx)] = test[\"company_Upc_{}\".format(idx)] / test[\"abs_ScanCount\"]"
   ]
  },
  {
   "cell_type": "code",
   "execution_count": 41,
   "metadata": {},
   "outputs": [
    {
     "name": "stderr",
     "output_type": "stream",
     "text": [
      "100%|██████████| 1000/1000 [00:00<00:00, 2019.27it/s]\n"
     ]
    }
   ],
   "source": [
    "for idx in tqdm(range(1, 1001)):\n",
    "    test[\"FinelineNumber_{}\".format(idx)] = test[\"FinelineNumber_{}\".format(idx)] / test[\"abs_ScanCount\"]"
   ]
  },
  {
   "cell_type": "code",
   "execution_count": 42,
   "metadata": {},
   "outputs": [
    {
     "name": "stderr",
     "output_type": "stream",
     "text": [
      "100%|██████████| 1000/1000 [00:39<00:00, 25.56it/s]\n"
     ]
    }
   ],
   "source": [
    "for idx in tqdm(range(1, 1001)):\n",
    "    test[\"prduct_Upc_{}\".format(idx)] = test[\"product_Upc_{}\".format(idx)] / test[\"abs_ScanCount\"]"
   ]
  },
  {
   "cell_type": "markdown",
   "metadata": {},
   "source": [
    "## 7. csr Matrix"
   ]
  },
  {
   "cell_type": "markdown",
   "metadata": {},
   "source": [
    "## FinelineNumber"
   ]
  },
  {
   "cell_type": "code",
   "execution_count": 43,
   "metadata": {},
   "outputs": [],
   "source": [
    "from scipy.sparse import csr_matrix"
   ]
  },
  {
   "cell_type": "code",
   "execution_count": 44,
   "metadata": {},
   "outputs": [
    {
     "data": {
      "text/plain": [
       "<95674x1000 sparse matrix of type '<class 'numpy.float32'>'\n",
       "\twith 424862 stored elements in Compressed Sparse Row format>"
      ]
     },
     "execution_count": 44,
     "metadata": {},
     "output_type": "execute_result"
    }
   ],
   "source": [
    "FlN_train = pd.get_dummies(train[FinelineNumber_list]).astype('float32')\n",
    "FlN_train = csr_matrix(FlN_train)\n",
    "\n",
    "FlN_train"
   ]
  },
  {
   "cell_type": "code",
   "execution_count": 45,
   "metadata": {},
   "outputs": [
    {
     "data": {
      "text/plain": [
       "<95674x1000 sparse matrix of type '<class 'numpy.float32'>'\n",
       "\twith 427574 stored elements in Compressed Sparse Row format>"
      ]
     },
     "execution_count": 45,
     "metadata": {},
     "output_type": "execute_result"
    }
   ],
   "source": [
    "FlN_test = pd.get_dummies(test[FinelineNumber_list]).astype('float32')\n",
    "FlN_test = csr_matrix(FlN_test)\n",
    "\n",
    "FlN_test"
   ]
  },
  {
   "cell_type": "markdown",
   "metadata": {},
   "source": [
    "## Upc"
   ]
  },
  {
   "cell_type": "markdown",
   "metadata": {},
   "source": [
    "### company"
   ]
  },
  {
   "cell_type": "code",
   "execution_count": 46,
   "metadata": {},
   "outputs": [
    {
     "data": {
      "text/plain": [
       "<95674x1000 sparse matrix of type '<class 'numpy.float32'>'\n",
       "\twith 427902 stored elements in Compressed Sparse Row format>"
      ]
     },
     "execution_count": 46,
     "metadata": {},
     "output_type": "execute_result"
    }
   ],
   "source": [
    "company_upc_train = pd.get_dummies(train[company_Upc_list]).astype('float32')\n",
    "company_upc_train = csr_matrix(company_upc_train)\n",
    "\n",
    "company_upc_train"
   ]
  },
  {
   "cell_type": "code",
   "execution_count": 47,
   "metadata": {},
   "outputs": [
    {
     "data": {
      "text/plain": [
       "<95674x1000 sparse matrix of type '<class 'numpy.float32'>'\n",
       "\twith 429856 stored elements in Compressed Sparse Row format>"
      ]
     },
     "execution_count": 47,
     "metadata": {},
     "output_type": "execute_result"
    }
   ],
   "source": [
    "company_upc_test = pd.get_dummies(test[company_Upc_list]).astype('float32')\n",
    "company_upc_test = csr_matrix(company_upc_test)\n",
    "\n",
    "company_upc_test"
   ]
  },
  {
   "cell_type": "markdown",
   "metadata": {},
   "source": [
    "### product"
   ]
  },
  {
   "cell_type": "code",
   "execution_count": 48,
   "metadata": {},
   "outputs": [
    {
     "data": {
      "text/plain": [
       "<95674x1000 sparse matrix of type '<class 'numpy.float32'>'\n",
       "\twith 204024 stored elements in Compressed Sparse Row format>"
      ]
     },
     "execution_count": 48,
     "metadata": {},
     "output_type": "execute_result"
    }
   ],
   "source": [
    "product_upc_train = pd.get_dummies(train[product_Upc_list]).astype('float32')\n",
    "product_upc_train = csr_matrix(product_upc_train)\n",
    "\n",
    "product_upc_train"
   ]
  },
  {
   "cell_type": "code",
   "execution_count": 49,
   "metadata": {},
   "outputs": [
    {
     "data": {
      "text/plain": [
       "<95674x1000 sparse matrix of type '<class 'numpy.float32'>'\n",
       "\twith 203918 stored elements in Compressed Sparse Row format>"
      ]
     },
     "execution_count": 49,
     "metadata": {},
     "output_type": "execute_result"
    }
   ],
   "source": [
    "product_upc_test = pd.get_dummies(test[product_Upc_list]).astype('float32')\n",
    "product_upc_test = csr_matrix(product_upc_test)\n",
    "\n",
    "product_upc_test"
   ]
  },
  {
   "cell_type": "markdown",
   "metadata": {},
   "source": [
    "## X_train"
   ]
  },
  {
   "cell_type": "code",
   "execution_count": 50,
   "metadata": {},
   "outputs": [
    {
     "data": {
      "text/plain": [
       "76"
      ]
     },
     "execution_count": 50,
     "metadata": {},
     "output_type": "execute_result"
    }
   ],
   "source": [
    "feature_names.remove('VisitNumber')\n",
    "feature_names.remove('abs_ScanCount')\n",
    "\n",
    "len(feature_names)"
   ]
  },
  {
   "cell_type": "code",
   "execution_count": 51,
   "metadata": {},
   "outputs": [],
   "source": [
    "from scipy.sparse import hstack"
   ]
  },
  {
   "cell_type": "code",
   "execution_count": 52,
   "metadata": {},
   "outputs": [
    {
     "data": {
      "text/plain": [
       "<95674x3076 sparse matrix of type '<class 'numpy.float32'>'\n",
       "\twith 1567372 stored elements in COOrdinate format>"
      ]
     },
     "execution_count": 52,
     "metadata": {},
     "output_type": "execute_result"
    }
   ],
   "source": [
    "X_train = train[feature_names]\n",
    "\n",
    "X_train = hstack([X_train.astype('float32'), FlN_train, company_upc_train, product_upc_train])\n",
    "X_train"
   ]
  },
  {
   "cell_type": "markdown",
   "metadata": {},
   "source": [
    "## X_test"
   ]
  },
  {
   "cell_type": "code",
   "execution_count": 53,
   "metadata": {},
   "outputs": [
    {
     "data": {
      "text/plain": [
       "<95674x3076 sparse matrix of type '<class 'numpy.float32'>'\n",
       "\twith 1573506 stored elements in COOrdinate format>"
      ]
     },
     "execution_count": 53,
     "metadata": {},
     "output_type": "execute_result"
    }
   ],
   "source": [
    "X_test = test[feature_names]\n",
    "\n",
    "X_test = hstack([X_test.astype('float32'), FlN_test, company_upc_test, product_upc_test])\n",
    "X_test"
   ]
  },
  {
   "cell_type": "markdown",
   "metadata": {},
   "source": [
    "## y_train"
   ]
  },
  {
   "cell_type": "code",
   "execution_count": 54,
   "metadata": {},
   "outputs": [
    {
     "data": {
      "text/plain": [
       "0    999\n",
       "1     30\n",
       "2     26\n",
       "3      8\n",
       "4      8\n",
       "Name: TripType, dtype: int64"
      ]
     },
     "execution_count": 54,
     "metadata": {},
     "output_type": "execute_result"
    }
   ],
   "source": [
    "y_train = train[\"TripType\"]\n",
    "\n",
    "y_train[:5]"
   ]
  }
 ],
 "metadata": {
  "kernelspec": {
   "display_name": "Python 3",
   "language": "python",
   "name": "python3"
  },
  "language_info": {
   "codemirror_mode": {
    "name": "ipython",
    "version": 3
   },
   "file_extension": ".py",
   "mimetype": "text/x-python",
   "name": "python",
   "nbconvert_exporter": "python",
   "pygments_lexer": "ipython3",
   "version": "3.6.6"
  }
 },
 "nbformat": 4,
 "nbformat_minor": 2
}
