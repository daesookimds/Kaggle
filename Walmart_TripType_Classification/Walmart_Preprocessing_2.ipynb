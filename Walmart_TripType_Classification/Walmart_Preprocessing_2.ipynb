{
 "cells": [
  {
   "cell_type": "markdown",
   "metadata": {},
   "source": [
    "# Walmart Classification Preprocessing\n",
    "1. Data Load\n",
    "2. Fill NaN\n",
    "    - DepartmentDescription\n",
    "    - FinelineNumber\n",
    "    - Upc\n",
    "3. DepartmentDescription Encode\n",
    "4. Weekday Encode\n",
    "5. Divide Upc\n",
    "    - Compnay Upc\n",
    "    - Product Upc\n",
    "6. Company_Upc Encode\n",
    "7. FinelineNumber Encode\n",
    "8. Groupby VisitNumber"
   ]
  },
  {
   "cell_type": "code",
   "execution_count": 1,
   "metadata": {},
   "outputs": [],
   "source": [
    "import pandas as pd\n",
    "import numpy as np\n",
    "import preprocessing_functions as pf\n",
    "from functools import partial\n",
    "from tqdm import tqdm\n",
    "import slack_incomming_webhook as siw\n",
    "import requests, json"
   ]
  },
  {
   "cell_type": "markdown",
   "metadata": {},
   "source": [
    "## 1. Data Load"
   ]
  },
  {
   "cell_type": "code",
   "execution_count": 2,
   "metadata": {},
   "outputs": [
    {
     "name": "stdout",
     "output_type": "stream",
     "text": [
      "(647054, 7)\n"
     ]
    },
    {
     "data": {
      "text/html": [
       "<div>\n",
       "<style scoped>\n",
       "    .dataframe tbody tr th:only-of-type {\n",
       "        vertical-align: middle;\n",
       "    }\n",
       "\n",
       "    .dataframe tbody tr th {\n",
       "        vertical-align: top;\n",
       "    }\n",
       "\n",
       "    .dataframe thead th {\n",
       "        text-align: right;\n",
       "    }\n",
       "</style>\n",
       "<table border=\"1\" class=\"dataframe\">\n",
       "  <thead>\n",
       "    <tr style=\"text-align: right;\">\n",
       "      <th></th>\n",
       "      <th>TripType</th>\n",
       "      <th>VisitNumber</th>\n",
       "      <th>Weekday</th>\n",
       "      <th>Upc</th>\n",
       "      <th>ScanCount</th>\n",
       "      <th>DepartmentDescription</th>\n",
       "      <th>FinelineNumber</th>\n",
       "    </tr>\n",
       "  </thead>\n",
       "  <tbody>\n",
       "    <tr>\n",
       "      <th>0</th>\n",
       "      <td>999</td>\n",
       "      <td>5</td>\n",
       "      <td>Friday</td>\n",
       "      <td>6.811315e+10</td>\n",
       "      <td>-1</td>\n",
       "      <td>FINANCIAL SERVICES</td>\n",
       "      <td>1000.0</td>\n",
       "    </tr>\n",
       "    <tr>\n",
       "      <th>1</th>\n",
       "      <td>30</td>\n",
       "      <td>7</td>\n",
       "      <td>Friday</td>\n",
       "      <td>6.053882e+10</td>\n",
       "      <td>1</td>\n",
       "      <td>SHOES</td>\n",
       "      <td>8931.0</td>\n",
       "    </tr>\n",
       "    <tr>\n",
       "      <th>2</th>\n",
       "      <td>30</td>\n",
       "      <td>7</td>\n",
       "      <td>Friday</td>\n",
       "      <td>7.410811e+09</td>\n",
       "      <td>1</td>\n",
       "      <td>PERSONAL CARE</td>\n",
       "      <td>4504.0</td>\n",
       "    </tr>\n",
       "    <tr>\n",
       "      <th>3</th>\n",
       "      <td>26</td>\n",
       "      <td>8</td>\n",
       "      <td>Friday</td>\n",
       "      <td>2.238404e+09</td>\n",
       "      <td>2</td>\n",
       "      <td>PAINT AND ACCESSORIES</td>\n",
       "      <td>3565.0</td>\n",
       "    </tr>\n",
       "    <tr>\n",
       "      <th>4</th>\n",
       "      <td>26</td>\n",
       "      <td>8</td>\n",
       "      <td>Friday</td>\n",
       "      <td>2.006614e+09</td>\n",
       "      <td>2</td>\n",
       "      <td>PAINT AND ACCESSORIES</td>\n",
       "      <td>1017.0</td>\n",
       "    </tr>\n",
       "  </tbody>\n",
       "</table>\n",
       "</div>"
      ],
      "text/plain": [
       "   TripType  VisitNumber Weekday           Upc  ScanCount  \\\n",
       "0       999            5  Friday  6.811315e+10         -1   \n",
       "1        30            7  Friday  6.053882e+10          1   \n",
       "2        30            7  Friday  7.410811e+09          1   \n",
       "3        26            8  Friday  2.238404e+09          2   \n",
       "4        26            8  Friday  2.006614e+09          2   \n",
       "\n",
       "   DepartmentDescription  FinelineNumber  \n",
       "0     FINANCIAL SERVICES          1000.0  \n",
       "1                  SHOES          8931.0  \n",
       "2          PERSONAL CARE          4504.0  \n",
       "3  PAINT AND ACCESSORIES          3565.0  \n",
       "4  PAINT AND ACCESSORIES          1017.0  "
      ]
     },
     "execution_count": 2,
     "metadata": {},
     "output_type": "execute_result"
    }
   ],
   "source": [
    "train = pd.read_csv(\"train.csv\")\n",
    "\n",
    "print(train.shape)\n",
    "train.head()"
   ]
  },
  {
   "cell_type": "code",
   "execution_count": 3,
   "metadata": {},
   "outputs": [
    {
     "name": "stdout",
     "output_type": "stream",
     "text": [
      "(653646, 6)\n"
     ]
    },
    {
     "data": {
      "text/html": [
       "<div>\n",
       "<style scoped>\n",
       "    .dataframe tbody tr th:only-of-type {\n",
       "        vertical-align: middle;\n",
       "    }\n",
       "\n",
       "    .dataframe tbody tr th {\n",
       "        vertical-align: top;\n",
       "    }\n",
       "\n",
       "    .dataframe thead th {\n",
       "        text-align: right;\n",
       "    }\n",
       "</style>\n",
       "<table border=\"1\" class=\"dataframe\">\n",
       "  <thead>\n",
       "    <tr style=\"text-align: right;\">\n",
       "      <th></th>\n",
       "      <th>VisitNumber</th>\n",
       "      <th>Weekday</th>\n",
       "      <th>Upc</th>\n",
       "      <th>ScanCount</th>\n",
       "      <th>DepartmentDescription</th>\n",
       "      <th>FinelineNumber</th>\n",
       "    </tr>\n",
       "  </thead>\n",
       "  <tbody>\n",
       "    <tr>\n",
       "      <th>0</th>\n",
       "      <td>1</td>\n",
       "      <td>Friday</td>\n",
       "      <td>7.250339e+10</td>\n",
       "      <td>1</td>\n",
       "      <td>SHOES</td>\n",
       "      <td>3002.0</td>\n",
       "    </tr>\n",
       "    <tr>\n",
       "      <th>1</th>\n",
       "      <td>1</td>\n",
       "      <td>Friday</td>\n",
       "      <td>1.707711e+09</td>\n",
       "      <td>1</td>\n",
       "      <td>DAIRY</td>\n",
       "      <td>1526.0</td>\n",
       "    </tr>\n",
       "    <tr>\n",
       "      <th>2</th>\n",
       "      <td>1</td>\n",
       "      <td>Friday</td>\n",
       "      <td>8.947000e+10</td>\n",
       "      <td>1</td>\n",
       "      <td>DAIRY</td>\n",
       "      <td>1431.0</td>\n",
       "    </tr>\n",
       "    <tr>\n",
       "      <th>3</th>\n",
       "      <td>1</td>\n",
       "      <td>Friday</td>\n",
       "      <td>8.849121e+10</td>\n",
       "      <td>1</td>\n",
       "      <td>GROCERY DRY GOODS</td>\n",
       "      <td>3555.0</td>\n",
       "    </tr>\n",
       "    <tr>\n",
       "      <th>4</th>\n",
       "      <td>2</td>\n",
       "      <td>Friday</td>\n",
       "      <td>2.840015e+09</td>\n",
       "      <td>1</td>\n",
       "      <td>DSD GROCERY</td>\n",
       "      <td>4408.0</td>\n",
       "    </tr>\n",
       "  </tbody>\n",
       "</table>\n",
       "</div>"
      ],
      "text/plain": [
       "   VisitNumber Weekday           Upc  ScanCount DepartmentDescription  \\\n",
       "0            1  Friday  7.250339e+10          1                 SHOES   \n",
       "1            1  Friday  1.707711e+09          1                 DAIRY   \n",
       "2            1  Friday  8.947000e+10          1                 DAIRY   \n",
       "3            1  Friday  8.849121e+10          1     GROCERY DRY GOODS   \n",
       "4            2  Friday  2.840015e+09          1           DSD GROCERY   \n",
       "\n",
       "   FinelineNumber  \n",
       "0          3002.0  \n",
       "1          1526.0  \n",
       "2          1431.0  \n",
       "3          3555.0  \n",
       "4          4408.0  "
      ]
     },
     "execution_count": 3,
     "metadata": {},
     "output_type": "execute_result"
    }
   ],
   "source": [
    "test = pd.read_csv(\"test.csv\")\n",
    "\n",
    "print(test.shape)\n",
    "test.head()"
   ]
  },
  {
   "cell_type": "markdown",
   "metadata": {},
   "source": [
    "## Pre-Processing"
   ]
  },
  {
   "cell_type": "markdown",
   "metadata": {},
   "source": [
    "## 2. Fill NaN"
   ]
  },
  {
   "cell_type": "markdown",
   "metadata": {},
   "source": [
    "### Fill in missing DepartmentDescription - train\n",
    "- VisitNumber에 따른 DepartmentDescription의 최빈값으로 DepartmentDescription의 빈값 채우기\n",
    "- 유추할 수 없는 191개의 값은 'UNKNOWN' 으로 대체"
   ]
  },
  {
   "cell_type": "code",
   "execution_count": 4,
   "metadata": {},
   "outputs": [
    {
     "data": {
      "text/plain": [
       "546        LAWN AND GARDEN\n",
       "547        LAWN AND GARDEN\n",
       "548                    NaN\n",
       "549                    NaN\n",
       "550        LAWN AND GARDEN\n",
       "551        LAWN AND GARDEN\n",
       "552    IMPULSE MERCHANDISE\n",
       "Name: DepartmentDescription, dtype: object"
      ]
     },
     "execution_count": 4,
     "metadata": {},
     "output_type": "execute_result"
    }
   ],
   "source": [
    "train.loc[train[\"VisitNumber\"]==259, \"DepartmentDescription\"]"
   ]
  },
  {
   "cell_type": "code",
   "execution_count": 5,
   "metadata": {},
   "outputs": [],
   "source": [
    "DD_VN_list = train[train[\"DepartmentDescription\"].isna()][\"VisitNumber\"].unique()"
   ]
  },
  {
   "cell_type": "code",
   "execution_count": 6,
   "metadata": {},
   "outputs": [
    {
     "name": "stderr",
     "output_type": "stream",
     "text": [
      "100%|██████████| 1172/1172 [00:34<00:00, 33.59it/s]\n"
     ]
    }
   ],
   "source": [
    "for loc in tqdm(DD_VN_list): # if: 특정 VisitNumber 따른 DepartmentDescription 값이 모두 비어있는 경우 제외\n",
    "    if len(train[train[\"VisitNumber\"] == loc][\"DepartmentDescription\"].value_counts().index) != 0:\n",
    "        train.loc[(train[\"VisitNumber\"] == loc)&(train[\"DepartmentDescription\"].isna()), \"DepartmentDescription\"] = train[train[\"VisitNumber\"] == loc][\"DepartmentDescription\"].value_counts().index[0]"
   ]
  },
  {
   "cell_type": "code",
   "execution_count": 7,
   "metadata": {},
   "outputs": [
    {
     "data": {
      "text/plain": [
       "546        LAWN AND GARDEN\n",
       "547        LAWN AND GARDEN\n",
       "548        LAWN AND GARDEN\n",
       "549        LAWN AND GARDEN\n",
       "550        LAWN AND GARDEN\n",
       "551        LAWN AND GARDEN\n",
       "552    IMPULSE MERCHANDISE\n",
       "Name: DepartmentDescription, dtype: object"
      ]
     },
     "execution_count": 7,
     "metadata": {},
     "output_type": "execute_result"
    }
   ],
   "source": [
    "train.loc[train[\"VisitNumber\"]==259, \"DepartmentDescription\"]"
   ]
  },
  {
   "cell_type": "markdown",
   "metadata": {},
   "source": [
    "### Fill in missing DepartmentDescription - test\n",
    "- VisitNumber에 따른 DepartmentDescription의 최빈값으로 DepartmentDescription의 빈값 채우기\n",
    "- 유추할 수 없는 191개의 값은 'UNKNOWN' 으로 대체"
   ]
  },
  {
   "cell_type": "code",
   "execution_count": 8,
   "metadata": {},
   "outputs": [
    {
     "data": {
      "text/plain": [
       "2115             AUTOMOTIVE\n",
       "2116             AUTOMOTIVE\n",
       "2117                    NaN\n",
       "2118                    NaN\n",
       "2119             AUTOMOTIVE\n",
       "2120    IMPULSE MERCHANDISE\n",
       "Name: DepartmentDescription, dtype: object"
      ]
     },
     "execution_count": 8,
     "metadata": {},
     "output_type": "execute_result"
    }
   ],
   "source": [
    "test.loc[test[\"VisitNumber\"]==874, \"DepartmentDescription\"]"
   ]
  },
  {
   "cell_type": "code",
   "execution_count": 9,
   "metadata": {},
   "outputs": [],
   "source": [
    "DD_VN_list_t = test[test[\"DepartmentDescription\"].isna()][\"VisitNumber\"].unique()"
   ]
  },
  {
   "cell_type": "code",
   "execution_count": 10,
   "metadata": {},
   "outputs": [
    {
     "name": "stderr",
     "output_type": "stream",
     "text": [
      "100%|██████████| 1141/1141 [00:32<00:00, 34.98it/s]\n"
     ]
    }
   ],
   "source": [
    "for loc in tqdm(DD_VN_list_t): # if: 특정 VisitNumber 따른 DepartmentDescription 값이 모두 비어있는 경우 제외\n",
    "    if len(test[test[\"VisitNumber\"] == loc][\"DepartmentDescription\"].value_counts().index) != 0:\n",
    "        test.loc[(test[\"VisitNumber\"] == loc)&(test[\"DepartmentDescription\"].isna()), \"DepartmentDescription\"] = test[test[\"VisitNumber\"] == loc][\"DepartmentDescription\"].value_counts().index[0]"
   ]
  },
  {
   "cell_type": "code",
   "execution_count": 11,
   "metadata": {},
   "outputs": [
    {
     "data": {
      "text/plain": [
       "2115             AUTOMOTIVE\n",
       "2116             AUTOMOTIVE\n",
       "2117             AUTOMOTIVE\n",
       "2118             AUTOMOTIVE\n",
       "2119             AUTOMOTIVE\n",
       "2120    IMPULSE MERCHANDISE\n",
       "Name: DepartmentDescription, dtype: object"
      ]
     },
     "execution_count": 11,
     "metadata": {},
     "output_type": "execute_result"
    }
   ],
   "source": [
    "test.loc[test[\"VisitNumber\"]==874, \"DepartmentDescription\"]"
   ]
  },
  {
   "cell_type": "markdown",
   "metadata": {},
   "source": [
    "\n",
    "### Fill in missing FinelineNumber - train\n",
    "- DepartmentDescription이 'PHARMACY RX'인 빈값이 들어있는 FinelineNumber에는 DepartmentDescription이 'PHARMACY RX'일때의 FinelineNumber의 최빈값으로 채워준다.\n",
    "- VisitNumber에 따른 FinelineNumber의 최빈값으로 FinelineNumber의 빈값 채우기\n",
    "- 191개의 유추할 수 없는 값은 기존에 있던 값과 중복되지 않는 -9999 값으로 대체"
   ]
  },
  {
   "cell_type": "code",
   "execution_count": 12,
   "metadata": {},
   "outputs": [
    {
     "data": {
      "text/plain": [
       "4822.0    84\n",
       "5615.0    63\n",
       "1335.0     6\n",
       "1336.0     1\n",
       "Name: FinelineNumber, dtype: int64"
      ]
     },
     "execution_count": 12,
     "metadata": {},
     "output_type": "execute_result"
    }
   ],
   "source": [
    "train[train[\"DepartmentDescription\"] == 'PHARMACY RX'][\"FinelineNumber\"].value_counts()"
   ]
  },
  {
   "cell_type": "code",
   "execution_count": 13,
   "metadata": {},
   "outputs": [
    {
     "name": "stderr",
     "output_type": "stream",
     "text": [
      "2922it [00:09, 294.73it/s]\n"
     ]
    },
    {
     "data": {
      "text/html": [
       "<div>\n",
       "<style scoped>\n",
       "    .dataframe tbody tr th:only-of-type {\n",
       "        vertical-align: middle;\n",
       "    }\n",
       "\n",
       "    .dataframe tbody tr th {\n",
       "        vertical-align: top;\n",
       "    }\n",
       "\n",
       "    .dataframe thead th {\n",
       "        text-align: right;\n",
       "    }\n",
       "</style>\n",
       "<table border=\"1\" class=\"dataframe\">\n",
       "  <thead>\n",
       "    <tr style=\"text-align: right;\">\n",
       "      <th></th>\n",
       "      <th>DepartmentDescription</th>\n",
       "      <th>FinelineNumber</th>\n",
       "    </tr>\n",
       "  </thead>\n",
       "  <tbody>\n",
       "    <tr>\n",
       "      <th>1155</th>\n",
       "      <td>PHARMACY RX</td>\n",
       "      <td>4822.0</td>\n",
       "    </tr>\n",
       "    <tr>\n",
       "      <th>1216</th>\n",
       "      <td>PHARMACY RX</td>\n",
       "      <td>5615.0</td>\n",
       "    </tr>\n",
       "    <tr>\n",
       "      <th>1373</th>\n",
       "      <td>PHARMACY RX</td>\n",
       "      <td>4822.0</td>\n",
       "    </tr>\n",
       "    <tr>\n",
       "      <th>1455</th>\n",
       "      <td>PHARMACY RX</td>\n",
       "      <td>5615.0</td>\n",
       "    </tr>\n",
       "    <tr>\n",
       "      <th>1456</th>\n",
       "      <td>PHARMACY RX</td>\n",
       "      <td>4822.0</td>\n",
       "    </tr>\n",
       "  </tbody>\n",
       "</table>\n",
       "</div>"
      ],
      "text/plain": [
       "     DepartmentDescription  FinelineNumber\n",
       "1155           PHARMACY RX          4822.0\n",
       "1216           PHARMACY RX          5615.0\n",
       "1373           PHARMACY RX          4822.0\n",
       "1455           PHARMACY RX          5615.0\n",
       "1456           PHARMACY RX          4822.0"
      ]
     },
     "execution_count": 13,
     "metadata": {},
     "output_type": "execute_result"
    }
   ],
   "source": [
    "Pharmacy_idx = train[train[\"DepartmentDescription\"]=='PHARMACY RX'].index\n",
    "number_idx = np.arange(2922)\n",
    "idx_box = zip(number_idx, Pharmacy_idx)\n",
    "\n",
    "\n",
    "for idx, Pha_idx in tqdm(idx_box):\n",
    "    if idx % 2 == 0:\n",
    "        train.loc[Pha_idx, \"FinelineNumber\"] = 4822.0\n",
    "    else:\n",
    "        train.loc[Pha_idx, \"FinelineNumber\"] = 5615.0\n",
    "        \n",
    "train[train[\"DepartmentDescription\"] == 'PHARMACY RX'][[\"DepartmentDescription\", \"FinelineNumber\"]].head()"
   ]
  },
  {
   "cell_type": "code",
   "execution_count": 14,
   "metadata": {},
   "outputs": [
    {
     "data": {
      "text/plain": [
       "546    5141.0\n",
       "547    1748.0\n",
       "548       NaN\n",
       "549       NaN\n",
       "550    2605.0\n",
       "551    2605.0\n",
       "552     337.0\n",
       "Name: FinelineNumber, dtype: float64"
      ]
     },
     "execution_count": 14,
     "metadata": {},
     "output_type": "execute_result"
    }
   ],
   "source": [
    "train.loc[train[\"VisitNumber\"]==259, \"FinelineNumber\"]"
   ]
  },
  {
   "cell_type": "code",
   "execution_count": 15,
   "metadata": {},
   "outputs": [],
   "source": [
    "FN_VN_list = train[train[\"FinelineNumber\"].isna()][\"VisitNumber\"].unique()"
   ]
  },
  {
   "cell_type": "code",
   "execution_count": 16,
   "metadata": {},
   "outputs": [
    {
     "name": "stderr",
     "output_type": "stream",
     "text": [
      "100%|██████████| 1172/1172 [00:10<00:00, 111.79it/s]\n"
     ]
    }
   ],
   "source": [
    "for loc in tqdm(FN_VN_list): # if: 특정 VisitNumber 따른 FinelineNumber 값이 모두 비어있는 경우 제외\n",
    "    if len(train[train[\"VisitNumber\"] == loc][\"FinelineNumber\"].value_counts().index) != 0:\n",
    "        train.loc[(train[\"VisitNumber\"] == loc)&(train[\"FinelineNumber\"].isna()), \"FinelineNumber\"] = train[train[\"VisitNumber\"] == loc][\"FinelineNumber\"].value_counts().index[0]"
   ]
  },
  {
   "cell_type": "code",
   "execution_count": 17,
   "metadata": {},
   "outputs": [
    {
     "data": {
      "text/plain": [
       "546    5141.0\n",
       "547    1748.0\n",
       "548    2605.0\n",
       "549    2605.0\n",
       "550    2605.0\n",
       "551    2605.0\n",
       "552     337.0\n",
       "Name: FinelineNumber, dtype: float64"
      ]
     },
     "execution_count": 17,
     "metadata": {},
     "output_type": "execute_result"
    }
   ],
   "source": [
    "train.loc[train[\"VisitNumber\"]==259, \"FinelineNumber\"]"
   ]
  },
  {
   "cell_type": "markdown",
   "metadata": {},
   "source": [
    "### Fill in missing FinelineNumber - test\n",
    "- DepartmentDescription이 'PHARMACY RX'인 빈값이 들어있는 FinelineNumber에는 DepartmentDescription이 'PHARMACY RX'일때의 FinelineNumber의 최빈값으로 채워준다.\n",
    "- VisitNumber에 따른 FinelineNumber의 최빈값으로 FinelineNumber의 빈값 채우기\n",
    "- 유추할 수 없는 값은 기존에 있던 값과 중복되지 않는 -9999 값으로 대체"
   ]
  },
  {
   "cell_type": "code",
   "execution_count": 18,
   "metadata": {},
   "outputs": [
    {
     "data": {
      "text/plain": [
       "4822.0    79\n",
       "5615.0    45\n",
       "1335.0     2\n",
       "Name: FinelineNumber, dtype: int64"
      ]
     },
     "execution_count": 18,
     "metadata": {},
     "output_type": "execute_result"
    }
   ],
   "source": [
    "test[test[\"DepartmentDescription\"] == 'PHARMACY RX'][\"FinelineNumber\"].value_counts()"
   ]
  },
  {
   "cell_type": "code",
   "execution_count": 19,
   "metadata": {},
   "outputs": [
    {
     "name": "stderr",
     "output_type": "stream",
     "text": [
      "2784it [00:09, 293.69it/s]\n"
     ]
    },
    {
     "data": {
      "text/html": [
       "<div>\n",
       "<style scoped>\n",
       "    .dataframe tbody tr th:only-of-type {\n",
       "        vertical-align: middle;\n",
       "    }\n",
       "\n",
       "    .dataframe tbody tr th {\n",
       "        vertical-align: top;\n",
       "    }\n",
       "\n",
       "    .dataframe thead th {\n",
       "        text-align: right;\n",
       "    }\n",
       "</style>\n",
       "<table border=\"1\" class=\"dataframe\">\n",
       "  <thead>\n",
       "    <tr style=\"text-align: right;\">\n",
       "      <th></th>\n",
       "      <th>DepartmentDescription</th>\n",
       "      <th>FinelineNumber</th>\n",
       "    </tr>\n",
       "  </thead>\n",
       "  <tbody>\n",
       "    <tr>\n",
       "      <th>1188</th>\n",
       "      <td>PHARMACY RX</td>\n",
       "      <td>4822.0</td>\n",
       "    </tr>\n",
       "    <tr>\n",
       "      <th>1189</th>\n",
       "      <td>PHARMACY RX</td>\n",
       "      <td>5615.0</td>\n",
       "    </tr>\n",
       "    <tr>\n",
       "      <th>1190</th>\n",
       "      <td>PHARMACY RX</td>\n",
       "      <td>4822.0</td>\n",
       "    </tr>\n",
       "    <tr>\n",
       "      <th>1314</th>\n",
       "      <td>PHARMACY RX</td>\n",
       "      <td>5615.0</td>\n",
       "    </tr>\n",
       "    <tr>\n",
       "      <th>1315</th>\n",
       "      <td>PHARMACY RX</td>\n",
       "      <td>4822.0</td>\n",
       "    </tr>\n",
       "  </tbody>\n",
       "</table>\n",
       "</div>"
      ],
      "text/plain": [
       "     DepartmentDescription  FinelineNumber\n",
       "1188           PHARMACY RX          4822.0\n",
       "1189           PHARMACY RX          5615.0\n",
       "1190           PHARMACY RX          4822.0\n",
       "1314           PHARMACY RX          5615.0\n",
       "1315           PHARMACY RX          4822.0"
      ]
     },
     "execution_count": 19,
     "metadata": {},
     "output_type": "execute_result"
    }
   ],
   "source": [
    "Pharmacy_idx = test[test[\"DepartmentDescription\"]=='PHARMACY RX'].index\n",
    "number_idx = np.arange(2784)\n",
    "idx_box = zip(number_idx, Pharmacy_idx)\n",
    "\n",
    "\n",
    "for idx, Pha_idx in tqdm(idx_box):\n",
    "    if idx % 2 == 0:\n",
    "        test.loc[Pha_idx, \"FinelineNumber\"] = 4822.0\n",
    "    else:\n",
    "        test.loc[Pha_idx, \"FinelineNumber\"] = 5615.0\n",
    "        \n",
    "test[test[\"DepartmentDescription\"] == 'PHARMACY RX'][[\"DepartmentDescription\", \"FinelineNumber\"]].head()"
   ]
  },
  {
   "cell_type": "code",
   "execution_count": 20,
   "metadata": {},
   "outputs": [
    {
     "data": {
      "text/html": [
       "<div>\n",
       "<style scoped>\n",
       "    .dataframe tbody tr th:only-of-type {\n",
       "        vertical-align: middle;\n",
       "    }\n",
       "\n",
       "    .dataframe tbody tr th {\n",
       "        vertical-align: top;\n",
       "    }\n",
       "\n",
       "    .dataframe thead th {\n",
       "        text-align: right;\n",
       "    }\n",
       "</style>\n",
       "<table border=\"1\" class=\"dataframe\">\n",
       "  <thead>\n",
       "    <tr style=\"text-align: right;\">\n",
       "      <th></th>\n",
       "      <th>FinelineNumber</th>\n",
       "      <th>ScanCount</th>\n",
       "    </tr>\n",
       "  </thead>\n",
       "  <tbody>\n",
       "    <tr>\n",
       "      <th>2115</th>\n",
       "      <td>250.0</td>\n",
       "      <td>1</td>\n",
       "    </tr>\n",
       "    <tr>\n",
       "      <th>2116</th>\n",
       "      <td>9.0</td>\n",
       "      <td>1</td>\n",
       "    </tr>\n",
       "    <tr>\n",
       "      <th>2117</th>\n",
       "      <td>NaN</td>\n",
       "      <td>1</td>\n",
       "    </tr>\n",
       "    <tr>\n",
       "      <th>2118</th>\n",
       "      <td>NaN</td>\n",
       "      <td>-1</td>\n",
       "    </tr>\n",
       "    <tr>\n",
       "      <th>2119</th>\n",
       "      <td>253.0</td>\n",
       "      <td>1</td>\n",
       "    </tr>\n",
       "    <tr>\n",
       "      <th>2120</th>\n",
       "      <td>145.0</td>\n",
       "      <td>1</td>\n",
       "    </tr>\n",
       "  </tbody>\n",
       "</table>\n",
       "</div>"
      ],
      "text/plain": [
       "      FinelineNumber  ScanCount\n",
       "2115           250.0          1\n",
       "2116             9.0          1\n",
       "2117             NaN          1\n",
       "2118             NaN         -1\n",
       "2119           253.0          1\n",
       "2120           145.0          1"
      ]
     },
     "execution_count": 20,
     "metadata": {},
     "output_type": "execute_result"
    }
   ],
   "source": [
    "test.loc[test[\"VisitNumber\"]==874, [\"FinelineNumber\",\"ScanCount\"]]"
   ]
  },
  {
   "cell_type": "code",
   "execution_count": 21,
   "metadata": {},
   "outputs": [],
   "source": [
    "FN_VN_list_t = test[test[\"FinelineNumber\"].isna()][\"VisitNumber\"].unique()"
   ]
  },
  {
   "cell_type": "code",
   "execution_count": 22,
   "metadata": {},
   "outputs": [
    {
     "name": "stderr",
     "output_type": "stream",
     "text": [
      "100%|██████████| 1141/1141 [00:10<00:00, 112.91it/s]\n"
     ]
    }
   ],
   "source": [
    "for loc in tqdm(FN_VN_list_t): # if: 특정 VisitNumber 따른 FinelineNumber 값이 모두 비어있는 경우 제외\n",
    "    if len(test[test[\"VisitNumber\"] == loc][\"FinelineNumber\"].value_counts().index) != 0:\n",
    "        test.loc[(test[\"VisitNumber\"] == loc)&(test[\"FinelineNumber\"].isna()), \"FinelineNumber\"] = test[test[\"VisitNumber\"] == loc][\"FinelineNumber\"].value_counts().index[0]"
   ]
  },
  {
   "cell_type": "code",
   "execution_count": 23,
   "metadata": {},
   "outputs": [
    {
     "data": {
      "text/plain": [
       "2115    250.0\n",
       "2116      9.0\n",
       "2117    145.0\n",
       "2118    145.0\n",
       "2119    253.0\n",
       "2120    145.0\n",
       "Name: FinelineNumber, dtype: float64"
      ]
     },
     "execution_count": 23,
     "metadata": {},
     "output_type": "execute_result"
    }
   ],
   "source": [
    "test.loc[test[\"VisitNumber\"]==874, \"FinelineNumber\"]"
   ]
  },
  {
   "cell_type": "markdown",
   "metadata": {},
   "source": [
    "### Fill in Upc - train\n",
    "- DepartmentDescription이 'PHARMACY RX'인 빈값이 들어있는 Upc에는 DepartmentDescription이 'PHARMACY RX'일때의 Upc의 최빈값으로 채워준다.(**아직 최빈값을 무엇으로 할지 정하지 못함**)\n",
    "- VisitNumber에 따른 Upc의 최빈값으로 Upc의 빈값 채우기\n",
    "- 191개의 유추할 수 없는 값은 기존에 있던 값과 중복되지 않는 '0000599996' 값으로 대체"
   ]
  },
  {
   "cell_type": "code",
   "execution_count": 24,
   "metadata": {},
   "outputs": [
    {
     "data": {
      "text/plain": [
       "546    7.112176e+09\n",
       "547    4.656118e+09\n",
       "548             NaN\n",
       "549             NaN\n",
       "550    3.146256e+09\n",
       "551    3.146253e+09\n",
       "552    4.650073e+09\n",
       "Name: Upc, dtype: float64"
      ]
     },
     "execution_count": 24,
     "metadata": {},
     "output_type": "execute_result"
    }
   ],
   "source": [
    "train.loc[train[\"VisitNumber\"]==259, \"Upc\"]"
   ]
  },
  {
   "cell_type": "code",
   "execution_count": 25,
   "metadata": {},
   "outputs": [],
   "source": [
    "Upc_VN_list = train[train[\"Upc\"].isna()][\"VisitNumber\"].unique()"
   ]
  },
  {
   "cell_type": "code",
   "execution_count": 26,
   "metadata": {},
   "outputs": [
    {
     "name": "stderr",
     "output_type": "stream",
     "text": [
      "100%|██████████| 2754/2754 [00:17<00:00, 153.90it/s]\n"
     ]
    }
   ],
   "source": [
    "for loc in tqdm(Upc_VN_list): # if: 특정 VisitNumber 따른 Upc 값이 모두 비어있는 경우 제외\n",
    "    if len(train[train[\"VisitNumber\"] == loc][\"Upc\"].value_counts().index) != 0:\n",
    "        train.loc[(train[\"VisitNumber\"] == loc)&(train[\"Upc\"].isna()), \"Upc\"] = train[train[\"VisitNumber\"] == loc][\"Upc\"].value_counts().index[0]"
   ]
  },
  {
   "cell_type": "code",
   "execution_count": 27,
   "metadata": {},
   "outputs": [
    {
     "data": {
      "text/plain": [
       "546    7.112176e+09\n",
       "547    4.656118e+09\n",
       "548    4.656118e+09\n",
       "549    4.656118e+09\n",
       "550    3.146256e+09\n",
       "551    3.146253e+09\n",
       "552    4.650073e+09\n",
       "Name: Upc, dtype: float64"
      ]
     },
     "execution_count": 27,
     "metadata": {},
     "output_type": "execute_result"
    }
   ],
   "source": [
    "train.loc[train[\"VisitNumber\"]==259, \"Upc\"]"
   ]
  },
  {
   "cell_type": "markdown",
   "metadata": {},
   "source": [
    "### Fill in Upc - test\n",
    "- DepartmentDescription이 'PHARMACY RX'인 빈값이 들어있는 Upc에는 DepartmentDescription이 'PHARMACY RX'일때의 Upc의 최빈값으로 채워준다.(**아직 최빈값을 무엇으로 할지 정하지 못함**)\n",
    "- VisitNumber에 따른 Upc의 최빈값으로 Upc의 빈값 채우기\n",
    "- 유추할 수 없는 값은 기존에 있던 값과 중복되지 않는 '0000599996' 값으로 대체"
   ]
  },
  {
   "cell_type": "code",
   "execution_count": 28,
   "metadata": {},
   "outputs": [
    {
     "data": {
      "text/plain": [
       "2115    1.284410e+09\n",
       "2116    8.182000e+10\n",
       "2117             NaN\n",
       "2118             NaN\n",
       "2119    1.284410e+09\n",
       "2120    3.400001e+09\n",
       "Name: Upc, dtype: float64"
      ]
     },
     "execution_count": 28,
     "metadata": {},
     "output_type": "execute_result"
    }
   ],
   "source": [
    "test.loc[test[\"VisitNumber\"]==874, \"Upc\"]"
   ]
  },
  {
   "cell_type": "code",
   "execution_count": 29,
   "metadata": {},
   "outputs": [],
   "source": [
    "Upc_VN_list_t = test[test[\"Upc\"].isna()][\"VisitNumber\"].unique()"
   ]
  },
  {
   "cell_type": "code",
   "execution_count": 30,
   "metadata": {},
   "outputs": [
    {
     "name": "stderr",
     "output_type": "stream",
     "text": [
      "100%|██████████| 2706/2706 [00:16<00:00, 165.33it/s]\n"
     ]
    }
   ],
   "source": [
    "for loc in tqdm(Upc_VN_list_t): # if: 특정 VisitNumber 따른 Upc 값이 모두 비어있는 경우 제외\n",
    "    if len(test[test[\"VisitNumber\"] == loc][\"Upc\"].value_counts().index) != 0:\n",
    "        test.loc[(test[\"VisitNumber\"] == loc)&(test[\"Upc\"].isna()), \"Upc\"] = test[test[\"VisitNumber\"] == loc][\"Upc\"].value_counts().index[0]"
   ]
  },
  {
   "cell_type": "code",
   "execution_count": 31,
   "metadata": {},
   "outputs": [
    {
     "data": {
      "text/plain": [
       "2115    1.284410e+09\n",
       "2116    8.182000e+10\n",
       "2117    3.400001e+09\n",
       "2118    3.400001e+09\n",
       "2119    1.284410e+09\n",
       "2120    3.400001e+09\n",
       "Name: Upc, dtype: float64"
      ]
     },
     "execution_count": 31,
     "metadata": {},
     "output_type": "execute_result"
    }
   ],
   "source": [
    "test.loc[test[\"VisitNumber\"]==874, \"Upc\"]"
   ]
  },
  {
   "cell_type": "markdown",
   "metadata": {},
   "source": [
    "###  VisitNumber에 따른 모든 DepartmentDescription, FinelineNumber, Upc의 값이 비어있는 경우\n",
    "\n",
    "- 총 191 개의 유추 불가능한 DepartmentDescription, FinelineNumber, Upc의 값이 모두 비어있는 경우\n",
    "- 기존에 train, test 데이터에 없는 값으로 각각 \"UNKNOWN\", -9999, '0000599996' 채운다."
   ]
  },
  {
   "cell_type": "code",
   "execution_count": 32,
   "metadata": {},
   "outputs": [
    {
     "name": "stdout",
     "output_type": "stream",
     "text": [
      "(191, 7)\n"
     ]
    },
    {
     "data": {
      "text/html": [
       "<div>\n",
       "<style scoped>\n",
       "    .dataframe tbody tr th:only-of-type {\n",
       "        vertical-align: middle;\n",
       "    }\n",
       "\n",
       "    .dataframe tbody tr th {\n",
       "        vertical-align: top;\n",
       "    }\n",
       "\n",
       "    .dataframe thead th {\n",
       "        text-align: right;\n",
       "    }\n",
       "</style>\n",
       "<table border=\"1\" class=\"dataframe\">\n",
       "  <thead>\n",
       "    <tr style=\"text-align: right;\">\n",
       "      <th></th>\n",
       "      <th>VisitNumber</th>\n",
       "      <th>DepartmentDescription</th>\n",
       "      <th>FinelineNumber</th>\n",
       "      <th>Upc</th>\n",
       "      <th>TripType</th>\n",
       "      <th>Weekday</th>\n",
       "      <th>ScanCount</th>\n",
       "    </tr>\n",
       "  </thead>\n",
       "  <tbody>\n",
       "    <tr>\n",
       "      <th>959</th>\n",
       "      <td>409</td>\n",
       "      <td>NaN</td>\n",
       "      <td>NaN</td>\n",
       "      <td>NaN</td>\n",
       "      <td>999</td>\n",
       "      <td>Friday</td>\n",
       "      <td>-1</td>\n",
       "    </tr>\n",
       "    <tr>\n",
       "      <th>1134</th>\n",
       "      <td>484</td>\n",
       "      <td>NaN</td>\n",
       "      <td>NaN</td>\n",
       "      <td>NaN</td>\n",
       "      <td>999</td>\n",
       "      <td>Friday</td>\n",
       "      <td>-2</td>\n",
       "    </tr>\n",
       "    <tr>\n",
       "      <th>1135</th>\n",
       "      <td>484</td>\n",
       "      <td>NaN</td>\n",
       "      <td>NaN</td>\n",
       "      <td>NaN</td>\n",
       "      <td>999</td>\n",
       "      <td>Friday</td>\n",
       "      <td>-2</td>\n",
       "    </tr>\n",
       "    <tr>\n",
       "      <th>6285</th>\n",
       "      <td>2245</td>\n",
       "      <td>NaN</td>\n",
       "      <td>NaN</td>\n",
       "      <td>NaN</td>\n",
       "      <td>999</td>\n",
       "      <td>Friday</td>\n",
       "      <td>-1</td>\n",
       "    </tr>\n",
       "    <tr>\n",
       "      <th>8524</th>\n",
       "      <td>3004</td>\n",
       "      <td>NaN</td>\n",
       "      <td>NaN</td>\n",
       "      <td>NaN</td>\n",
       "      <td>999</td>\n",
       "      <td>Friday</td>\n",
       "      <td>1</td>\n",
       "    </tr>\n",
       "  </tbody>\n",
       "</table>\n",
       "</div>"
      ],
      "text/plain": [
       "      VisitNumber DepartmentDescription  FinelineNumber  Upc  TripType  \\\n",
       "959           409                   NaN             NaN  NaN       999   \n",
       "1134          484                   NaN             NaN  NaN       999   \n",
       "1135          484                   NaN             NaN  NaN       999   \n",
       "6285         2245                   NaN             NaN  NaN       999   \n",
       "8524         3004                   NaN             NaN  NaN       999   \n",
       "\n",
       "     Weekday  ScanCount  \n",
       "959   Friday         -1  \n",
       "1134  Friday         -2  \n",
       "1135  Friday         -2  \n",
       "6285  Friday         -1  \n",
       "8524  Friday          1  "
      ]
     },
     "execution_count": 32,
     "metadata": {},
     "output_type": "execute_result"
    }
   ],
   "source": [
    "empty_df = train[(train[\"DepartmentDescription\"].isna())&(train[\"DepartmentDescription\"].isna())&(train[\"DepartmentDescription\"].isna())][[\"VisitNumber\", \"DepartmentDescription\", \"FinelineNumber\", \"Upc\", \"TripType\", \"Weekday\", \"ScanCount\"]]\n",
    "\n",
    "print(empty_df.shape)\n",
    "empty_df.head()"
   ]
  },
  {
   "cell_type": "code",
   "execution_count": 33,
   "metadata": {},
   "outputs": [
    {
     "name": "stdout",
     "output_type": "stream",
     "text": [
      "191개의 빈 row들은 모두 triptype이 999이다.\n"
     ]
    },
    {
     "data": {
      "text/plain": [
       "999    191\n",
       "Name: TripType, dtype: int64"
      ]
     },
     "execution_count": 33,
     "metadata": {},
     "output_type": "execute_result"
    }
   ],
   "source": [
    "print(\"191개의 빈 row들은 모두 triptype이 {}이다.\".format(empty_df[\"TripType\"].value_counts().index[0]))\n",
    "empty_df[\"TripType\"].value_counts()"
   ]
  },
  {
   "cell_type": "markdown",
   "metadata": {},
   "source": [
    "### train - DepartmentDescription, FinelineNumber, Upc"
   ]
  },
  {
   "cell_type": "code",
   "execution_count": 34,
   "metadata": {},
   "outputs": [
    {
     "data": {
      "text/html": [
       "<div>\n",
       "<style scoped>\n",
       "    .dataframe tbody tr th:only-of-type {\n",
       "        vertical-align: middle;\n",
       "    }\n",
       "\n",
       "    .dataframe tbody tr th {\n",
       "        vertical-align: top;\n",
       "    }\n",
       "\n",
       "    .dataframe thead th {\n",
       "        text-align: right;\n",
       "    }\n",
       "</style>\n",
       "<table border=\"1\" class=\"dataframe\">\n",
       "  <thead>\n",
       "    <tr style=\"text-align: right;\">\n",
       "      <th></th>\n",
       "      <th>TripType</th>\n",
       "      <th>VisitNumber</th>\n",
       "      <th>Weekday</th>\n",
       "      <th>Upc</th>\n",
       "      <th>ScanCount</th>\n",
       "      <th>DepartmentDescription</th>\n",
       "      <th>FinelineNumber</th>\n",
       "    </tr>\n",
       "  </thead>\n",
       "  <tbody>\n",
       "  </tbody>\n",
       "</table>\n",
       "</div>"
      ],
      "text/plain": [
       "Empty DataFrame\n",
       "Columns: [TripType, VisitNumber, Weekday, Upc, ScanCount, DepartmentDescription, FinelineNumber]\n",
       "Index: []"
      ]
     },
     "execution_count": 34,
     "metadata": {},
     "output_type": "execute_result"
    }
   ],
   "source": [
    "train.loc[train[\"DepartmentDescription\"].isna(), \"DepartmentDescription\"] = \"UNKNOWN\"\n",
    "train[train[\"DepartmentDescription\"].isna()]"
   ]
  },
  {
   "cell_type": "code",
   "execution_count": 35,
   "metadata": {},
   "outputs": [
    {
     "data": {
      "text/html": [
       "<div>\n",
       "<style scoped>\n",
       "    .dataframe tbody tr th:only-of-type {\n",
       "        vertical-align: middle;\n",
       "    }\n",
       "\n",
       "    .dataframe tbody tr th {\n",
       "        vertical-align: top;\n",
       "    }\n",
       "\n",
       "    .dataframe thead th {\n",
       "        text-align: right;\n",
       "    }\n",
       "</style>\n",
       "<table border=\"1\" class=\"dataframe\">\n",
       "  <thead>\n",
       "    <tr style=\"text-align: right;\">\n",
       "      <th></th>\n",
       "      <th>TripType</th>\n",
       "      <th>VisitNumber</th>\n",
       "      <th>Weekday</th>\n",
       "      <th>Upc</th>\n",
       "      <th>ScanCount</th>\n",
       "      <th>DepartmentDescription</th>\n",
       "      <th>FinelineNumber</th>\n",
       "    </tr>\n",
       "  </thead>\n",
       "  <tbody>\n",
       "  </tbody>\n",
       "</table>\n",
       "</div>"
      ],
      "text/plain": [
       "Empty DataFrame\n",
       "Columns: [TripType, VisitNumber, Weekday, Upc, ScanCount, DepartmentDescription, FinelineNumber]\n",
       "Index: []"
      ]
     },
     "execution_count": 35,
     "metadata": {},
     "output_type": "execute_result"
    }
   ],
   "source": [
    "train.loc[train[\"FinelineNumber\"].isna(), \"FinelineNumber\"] = -9999.0\n",
    "train[train[\"FinelineNumber\"].isna()]"
   ]
  },
  {
   "cell_type": "code",
   "execution_count": 36,
   "metadata": {},
   "outputs": [
    {
     "data": {
      "text/html": [
       "<div>\n",
       "<style scoped>\n",
       "    .dataframe tbody tr th:only-of-type {\n",
       "        vertical-align: middle;\n",
       "    }\n",
       "\n",
       "    .dataframe tbody tr th {\n",
       "        vertical-align: top;\n",
       "    }\n",
       "\n",
       "    .dataframe thead th {\n",
       "        text-align: right;\n",
       "    }\n",
       "</style>\n",
       "<table border=\"1\" class=\"dataframe\">\n",
       "  <thead>\n",
       "    <tr style=\"text-align: right;\">\n",
       "      <th></th>\n",
       "      <th>TripType</th>\n",
       "      <th>VisitNumber</th>\n",
       "      <th>Weekday</th>\n",
       "      <th>Upc</th>\n",
       "      <th>ScanCount</th>\n",
       "      <th>DepartmentDescription</th>\n",
       "      <th>FinelineNumber</th>\n",
       "    </tr>\n",
       "  </thead>\n",
       "  <tbody>\n",
       "  </tbody>\n",
       "</table>\n",
       "</div>"
      ],
      "text/plain": [
       "Empty DataFrame\n",
       "Columns: [TripType, VisitNumber, Weekday, Upc, ScanCount, DepartmentDescription, FinelineNumber]\n",
       "Index: []"
      ]
     },
     "execution_count": 36,
     "metadata": {},
     "output_type": "execute_result"
    }
   ],
   "source": [
    "train.loc[train[\"Upc\"].isna(), \"Upc\"] = 0000599996.0\n",
    "train[train[\"Upc\"].isna()]"
   ]
  },
  {
   "cell_type": "markdown",
   "metadata": {},
   "source": [
    "### test - DepartmentDescription, FinelineNumber, Upc"
   ]
  },
  {
   "cell_type": "code",
   "execution_count": 37,
   "metadata": {},
   "outputs": [
    {
     "data": {
      "text/html": [
       "<div>\n",
       "<style scoped>\n",
       "    .dataframe tbody tr th:only-of-type {\n",
       "        vertical-align: middle;\n",
       "    }\n",
       "\n",
       "    .dataframe tbody tr th {\n",
       "        vertical-align: top;\n",
       "    }\n",
       "\n",
       "    .dataframe thead th {\n",
       "        text-align: right;\n",
       "    }\n",
       "</style>\n",
       "<table border=\"1\" class=\"dataframe\">\n",
       "  <thead>\n",
       "    <tr style=\"text-align: right;\">\n",
       "      <th></th>\n",
       "      <th>VisitNumber</th>\n",
       "      <th>Weekday</th>\n",
       "      <th>Upc</th>\n",
       "      <th>ScanCount</th>\n",
       "      <th>DepartmentDescription</th>\n",
       "      <th>FinelineNumber</th>\n",
       "    </tr>\n",
       "  </thead>\n",
       "  <tbody>\n",
       "  </tbody>\n",
       "</table>\n",
       "</div>"
      ],
      "text/plain": [
       "Empty DataFrame\n",
       "Columns: [VisitNumber, Weekday, Upc, ScanCount, DepartmentDescription, FinelineNumber]\n",
       "Index: []"
      ]
     },
     "execution_count": 37,
     "metadata": {},
     "output_type": "execute_result"
    }
   ],
   "source": [
    "test.loc[test[\"DepartmentDescription\"].isna(), \"DepartmentDescription\"] = \"UNKNOWN\"\n",
    "test[test[\"DepartmentDescription\"].isna()]"
   ]
  },
  {
   "cell_type": "code",
   "execution_count": 38,
   "metadata": {},
   "outputs": [
    {
     "data": {
      "text/html": [
       "<div>\n",
       "<style scoped>\n",
       "    .dataframe tbody tr th:only-of-type {\n",
       "        vertical-align: middle;\n",
       "    }\n",
       "\n",
       "    .dataframe tbody tr th {\n",
       "        vertical-align: top;\n",
       "    }\n",
       "\n",
       "    .dataframe thead th {\n",
       "        text-align: right;\n",
       "    }\n",
       "</style>\n",
       "<table border=\"1\" class=\"dataframe\">\n",
       "  <thead>\n",
       "    <tr style=\"text-align: right;\">\n",
       "      <th></th>\n",
       "      <th>VisitNumber</th>\n",
       "      <th>Weekday</th>\n",
       "      <th>Upc</th>\n",
       "      <th>ScanCount</th>\n",
       "      <th>DepartmentDescription</th>\n",
       "      <th>FinelineNumber</th>\n",
       "    </tr>\n",
       "  </thead>\n",
       "  <tbody>\n",
       "  </tbody>\n",
       "</table>\n",
       "</div>"
      ],
      "text/plain": [
       "Empty DataFrame\n",
       "Columns: [VisitNumber, Weekday, Upc, ScanCount, DepartmentDescription, FinelineNumber]\n",
       "Index: []"
      ]
     },
     "execution_count": 38,
     "metadata": {},
     "output_type": "execute_result"
    }
   ],
   "source": [
    "test.loc[test[\"FinelineNumber\"].isna(), \"FinelineNumber\"] = -9999.0\n",
    "test[test[\"FinelineNumber\"].isna()]"
   ]
  },
  {
   "cell_type": "code",
   "execution_count": 39,
   "metadata": {},
   "outputs": [
    {
     "data": {
      "text/html": [
       "<div>\n",
       "<style scoped>\n",
       "    .dataframe tbody tr th:only-of-type {\n",
       "        vertical-align: middle;\n",
       "    }\n",
       "\n",
       "    .dataframe tbody tr th {\n",
       "        vertical-align: top;\n",
       "    }\n",
       "\n",
       "    .dataframe thead th {\n",
       "        text-align: right;\n",
       "    }\n",
       "</style>\n",
       "<table border=\"1\" class=\"dataframe\">\n",
       "  <thead>\n",
       "    <tr style=\"text-align: right;\">\n",
       "      <th></th>\n",
       "      <th>VisitNumber</th>\n",
       "      <th>Weekday</th>\n",
       "      <th>Upc</th>\n",
       "      <th>ScanCount</th>\n",
       "      <th>DepartmentDescription</th>\n",
       "      <th>FinelineNumber</th>\n",
       "    </tr>\n",
       "  </thead>\n",
       "  <tbody>\n",
       "  </tbody>\n",
       "</table>\n",
       "</div>"
      ],
      "text/plain": [
       "Empty DataFrame\n",
       "Columns: [VisitNumber, Weekday, Upc, ScanCount, DepartmentDescription, FinelineNumber]\n",
       "Index: []"
      ]
     },
     "execution_count": 39,
     "metadata": {},
     "output_type": "execute_result"
    }
   ],
   "source": [
    "test.loc[test[\"Upc\"].isna(), \"Upc\"] = 0000599996.0\n",
    "test[test[\"Upc\"].isna()]"
   ]
  },
  {
   "cell_type": "markdown",
   "metadata": {},
   "source": [
    "### TripType of each VisitNumber Save"
   ]
  },
  {
   "cell_type": "code",
   "execution_count": 40,
   "metadata": {},
   "outputs": [],
   "source": [
    "train_TripType = train.groupby(by=\"VisitNumber\").mean().reset_index()[\"TripType\"]"
   ]
  },
  {
   "cell_type": "code",
   "execution_count": 41,
   "metadata": {},
   "outputs": [
    {
     "data": {
      "text/plain": [
       "0    999.0\n",
       "1     30.0\n",
       "2     26.0\n",
       "3      8.0\n",
       "4      8.0\n",
       "Name: TripType, dtype: float64"
      ]
     },
     "execution_count": 41,
     "metadata": {},
     "output_type": "execute_result"
    }
   ],
   "source": [
    "train_TripType.head()"
   ]
  },
  {
   "cell_type": "markdown",
   "metadata": {},
   "source": [
    "## 3. DepartmentDescription Encode\n",
    "- 총 68가지의 종류\n",
    "- 종류 별로 one-hot encoding\n",
    "- 'MENSWEAR'와 'MENS WEAR'는 같은 카테고리로 변환"
   ]
  },
  {
   "cell_type": "markdown",
   "metadata": {},
   "source": [
    "### train"
   ]
  },
  {
   "cell_type": "code",
   "execution_count": 42,
   "metadata": {},
   "outputs": [],
   "source": [
    "## MENSWEAR - > MENS WEAR\n",
    "train.loc[train[\"DepartmentDescription\"] == 'MENSWEAR', \"DepartmentDescription\"] = 'MENS WEAR'"
   ]
  },
  {
   "cell_type": "code",
   "execution_count": 43,
   "metadata": {},
   "outputs": [
    {
     "data": {
      "text/plain": [
       "68"
      ]
     },
     "execution_count": 43,
     "metadata": {},
     "output_type": "execute_result"
    }
   ],
   "source": [
    "train_desc_ls = train[\"DepartmentDescription\"].unique()\n",
    "train_desc_ls = list(train_desc_ls)\n",
    "train_desc_ls.sort()\n",
    "len(train_desc_ls)"
   ]
  },
  {
   "cell_type": "code",
   "execution_count": 44,
   "metadata": {
    "scrolled": true
   },
   "outputs": [
    {
     "data": {
      "text/plain": [
       "{'1-HR PHOTO': 1,\n",
       " 'ACCESSORIES': 2,\n",
       " 'AUTOMOTIVE': 3,\n",
       " 'BAKERY': 4,\n",
       " 'BATH AND SHOWER': 5,\n",
       " 'BEAUTY': 6,\n",
       " 'BEDDING': 7,\n",
       " 'BOOKS AND MAGAZINES': 8,\n",
       " 'BOYS WEAR': 9,\n",
       " 'BRAS & SHAPEWEAR': 10,\n",
       " 'CAMERAS AND SUPPLIES': 11,\n",
       " 'CANDY, TOBACCO, COOKIES': 12,\n",
       " 'CELEBRATION': 13,\n",
       " 'COMM BREAD': 14,\n",
       " 'CONCEPT STORES': 15,\n",
       " 'COOK AND DINE': 16,\n",
       " 'DAIRY': 17,\n",
       " 'DSD GROCERY': 18,\n",
       " 'ELECTRONICS': 19,\n",
       " 'FABRICS AND CRAFTS': 20,\n",
       " 'FINANCIAL SERVICES': 21,\n",
       " 'FROZEN FOODS': 22,\n",
       " 'FURNITURE': 23,\n",
       " 'GIRLS WEAR, 4-6X  AND 7-14': 24,\n",
       " 'GROCERY DRY GOODS': 25,\n",
       " 'HARDWARE': 26,\n",
       " 'HEALTH AND BEAUTY AIDS': 27,\n",
       " 'HOME DECOR': 28,\n",
       " 'HOME MANAGEMENT': 29,\n",
       " 'HORTICULTURE AND ACCESS': 30,\n",
       " 'HOUSEHOLD CHEMICALS/SUPP': 31,\n",
       " 'HOUSEHOLD PAPER GOODS': 32,\n",
       " 'IMPULSE MERCHANDISE': 33,\n",
       " 'INFANT APPAREL': 34,\n",
       " 'INFANT CONSUMABLE HARDLINES': 35,\n",
       " 'JEWELRY AND SUNGLASSES': 36,\n",
       " 'LADIES SOCKS': 37,\n",
       " 'LADIESWEAR': 38,\n",
       " 'LARGE HOUSEHOLD GOODS': 39,\n",
       " 'LAWN AND GARDEN': 40,\n",
       " 'LIQUOR,WINE,BEER': 41,\n",
       " 'MEAT - FRESH & FROZEN': 42,\n",
       " 'MEDIA AND GAMING': 43,\n",
       " 'MENS WEAR': 44,\n",
       " 'OFFICE SUPPLIES': 45,\n",
       " 'OPTICAL - FRAMES': 46,\n",
       " 'OPTICAL - LENSES': 47,\n",
       " 'OTHER DEPARTMENTS': 48,\n",
       " 'PAINT AND ACCESSORIES': 49,\n",
       " 'PERSONAL CARE': 50,\n",
       " 'PETS AND SUPPLIES': 51,\n",
       " 'PHARMACY OTC': 52,\n",
       " 'PHARMACY RX': 53,\n",
       " 'PLAYERS AND ELECTRONICS': 54,\n",
       " 'PLUS AND MATERNITY': 55,\n",
       " 'PRE PACKED DELI': 56,\n",
       " 'PRODUCE': 57,\n",
       " 'SEAFOOD': 58,\n",
       " 'SEASONAL': 59,\n",
       " 'SERVICE DELI': 60,\n",
       " 'SHEER HOSIERY': 61,\n",
       " 'SHOES': 62,\n",
       " 'SLEEPWEAR/FOUNDATIONS': 63,\n",
       " 'SPORTING GOODS': 64,\n",
       " 'SWIMWEAR/OUTERWEAR': 65,\n",
       " 'TOYS': 66,\n",
       " 'UNKNOWN': 67,\n",
       " 'WIRELESS': 68}"
      ]
     },
     "execution_count": 44,
     "metadata": {},
     "output_type": "execute_result"
    }
   ],
   "source": [
    "number = np.arange(1, 69)\n",
    "train_desc_dic = zip(train_desc_ls, number)\n",
    "train_desc_dict = {}\n",
    "for desc, number in train_desc_dic:\n",
    "    train_desc_dict[desc] = number\n",
    "\n",
    "train_desc_dict"
   ]
  },
  {
   "cell_type": "code",
   "execution_count": 45,
   "metadata": {},
   "outputs": [],
   "source": [
    "train[\"desc_tag\"] = train[\"DepartmentDescription\"]\n",
    "train[\"desc_tag\"] = train[\"desc_tag\"].apply(partial(pf.desc_tagger, train_desc_dict))"
   ]
  },
  {
   "cell_type": "code",
   "execution_count": 46,
   "metadata": {},
   "outputs": [],
   "source": [
    "for idx in range(1, 69):\n",
    "    train[\"desc_tag_{}\".format(idx)] = train[\"desc_tag\"] == idx"
   ]
  },
  {
   "cell_type": "markdown",
   "metadata": {},
   "source": [
    "### test"
   ]
  },
  {
   "cell_type": "code",
   "execution_count": 47,
   "metadata": {},
   "outputs": [],
   "source": [
    "## MENSWEAR - > MENS WEAR\n",
    "test.loc[test[\"DepartmentDescription\"] == 'MENSWEAR', \"DepartmentDescription\"] = 'MENS WEAR'"
   ]
  },
  {
   "cell_type": "code",
   "execution_count": 48,
   "metadata": {},
   "outputs": [],
   "source": [
    "test[\"desc_tag\"] = test[\"DepartmentDescription\"]\n",
    "test[\"desc_tag\"] = test[\"desc_tag\"].apply(partial(pf.desc_tagger, train_desc_dict))"
   ]
  },
  {
   "cell_type": "code",
   "execution_count": 49,
   "metadata": {},
   "outputs": [],
   "source": [
    "for idx in range(1, 69):\n",
    "    test[\"desc_tag_{}\".format(idx)] = test[\"desc_tag\"] == idx"
   ]
  },
  {
   "cell_type": "markdown",
   "metadata": {},
   "source": [
    "## 4. Weekday Encode\n",
    "- 월화수목금토일(1,2,3,4,5,6,7) one-hot encoding"
   ]
  },
  {
   "cell_type": "code",
   "execution_count": 50,
   "metadata": {},
   "outputs": [],
   "source": [
    "train.loc[train[\"Weekday\"] == \"Monday\", \"Weekday_num\"] = 1\n",
    "train.loc[train[\"Weekday\"] == \"Tuesday\", \"Weekday_num\"] = 2\n",
    "train.loc[train[\"Weekday\"] == \"Wednesday\", \"Weekday_num\"] = 3\n",
    "train.loc[train[\"Weekday\"] == \"Thursday\", \"Weekday_num\"] = 4\n",
    "train.loc[train[\"Weekday\"] == \"Friday\", \"Weekday_num\"] = 5\n",
    "train.loc[train[\"Weekday\"] == \"Saturday\", \"Weekday_num\"] = 6\n",
    "train.loc[train[\"Weekday\"] == \"Sunday\", \"Weekday_num\"] = 7"
   ]
  },
  {
   "cell_type": "code",
   "execution_count": 51,
   "metadata": {},
   "outputs": [],
   "source": [
    "for idx in range(1, 8):\n",
    "    train[\"Weekday_{}\".format(idx)] = train[\"Weekday_num\"] == idx"
   ]
  },
  {
   "cell_type": "code",
   "execution_count": 52,
   "metadata": {},
   "outputs": [],
   "source": [
    "test.loc[test[\"Weekday\"] == \"Monday\", \"Weekday_num\"] = 1\n",
    "test.loc[test[\"Weekday\"] == \"Tuesday\", \"Weekday_num\"] = 2\n",
    "test.loc[test[\"Weekday\"] == \"Wednesday\", \"Weekday_num\"] = 3\n",
    "test.loc[test[\"Weekday\"] == \"Thursday\", \"Weekday_num\"] = 4\n",
    "test.loc[test[\"Weekday\"] == \"Friday\", \"Weekday_num\"] = 5\n",
    "test.loc[test[\"Weekday\"] == \"Saturday\", \"Weekday_num\"] = 6\n",
    "test.loc[test[\"Weekday\"] == \"Sunday\", \"Weekday_num\"] = 7"
   ]
  },
  {
   "cell_type": "code",
   "execution_count": 53,
   "metadata": {},
   "outputs": [],
   "source": [
    "for idx in range(1, 8):\n",
    "    test[\"Weekday_{}\".format(idx)] = test[\"Weekday_num\"] == idx"
   ]
  },
  {
   "cell_type": "markdown",
   "metadata": {},
   "source": [
    "## 5. Divde Upc\n",
    "- 3~12자리의 여러자기 종류의 UPC를 모두 12자리로 복원 후, 필요한 부분은 company_Upc와 product_Upc로 나누어 인코딩"
   ]
  },
  {
   "cell_type": "markdown",
   "metadata": {},
   "source": [
    "### train"
   ]
  },
  {
   "cell_type": "code",
   "execution_count": 54,
   "metadata": {},
   "outputs": [],
   "source": [
    "train[\"Upc\"] = train[\"Upc\"].astype(str)"
   ]
  },
  {
   "cell_type": "code",
   "execution_count": 55,
   "metadata": {},
   "outputs": [
    {
     "data": {
      "text/html": [
       "<div>\n",
       "<style scoped>\n",
       "    .dataframe tbody tr th:only-of-type {\n",
       "        vertical-align: middle;\n",
       "    }\n",
       "\n",
       "    .dataframe tbody tr th {\n",
       "        vertical-align: top;\n",
       "    }\n",
       "\n",
       "    .dataframe thead th {\n",
       "        text-align: right;\n",
       "    }\n",
       "</style>\n",
       "<table border=\"1\" class=\"dataframe\">\n",
       "  <thead>\n",
       "    <tr style=\"text-align: right;\">\n",
       "      <th></th>\n",
       "      <th>Upc</th>\n",
       "      <th>full_Upc</th>\n",
       "      <th>company_Upc</th>\n",
       "      <th>product_Upc</th>\n",
       "    </tr>\n",
       "  </thead>\n",
       "  <tbody>\n",
       "    <tr>\n",
       "      <th>647049</th>\n",
       "      <td>32390001778.0</td>\n",
       "      <td>2390001778</td>\n",
       "      <td>23900</td>\n",
       "      <td>01778</td>\n",
       "    </tr>\n",
       "    <tr>\n",
       "      <th>647050</th>\n",
       "      <td>7874205336.0</td>\n",
       "      <td>7874205336</td>\n",
       "      <td>78742</td>\n",
       "      <td>05336</td>\n",
       "    </tr>\n",
       "    <tr>\n",
       "      <th>647051</th>\n",
       "      <td>4072.0</td>\n",
       "      <td>0000404072</td>\n",
       "      <td>00004</td>\n",
       "      <td>04072</td>\n",
       "    </tr>\n",
       "    <tr>\n",
       "      <th>647052</th>\n",
       "      <td>4190007664.0</td>\n",
       "      <td>4190007664</td>\n",
       "      <td>41900</td>\n",
       "      <td>07664</td>\n",
       "    </tr>\n",
       "    <tr>\n",
       "      <th>647053</th>\n",
       "      <td>3800059655.0</td>\n",
       "      <td>3800059655</td>\n",
       "      <td>38000</td>\n",
       "      <td>59655</td>\n",
       "    </tr>\n",
       "  </tbody>\n",
       "</table>\n",
       "</div>"
      ],
      "text/plain": [
       "                  Upc    full_Upc company_Upc product_Upc\n",
       "647049  32390001778.0  2390001778       23900       01778\n",
       "647050   7874205336.0  7874205336       78742       05336\n",
       "647051         4072.0  0000404072       00004       04072\n",
       "647052   4190007664.0  4190007664       41900       07664\n",
       "647053   3800059655.0  3800059655       38000       59655"
      ]
     },
     "execution_count": 55,
     "metadata": {},
     "output_type": "execute_result"
    }
   ],
   "source": [
    "train[\"full_Upc\"] = train[\"Upc\"].apply(pf.upc_789101112_to_10)\n",
    "train[\"full_Upc\"] = train[\"full_Upc\"].apply(pf.upc_3456_to_10)\n",
    "\n",
    "train[\"company_Upc\"] = train[\"full_Upc\"].apply(pf.company_part_Upc)\n",
    "train[\"product_Upc\"] = train[\"full_Upc\"].apply(pf.product_part_Upc) \n",
    "\n",
    "train[[\"Upc\", \"full_Upc\", \"company_Upc\", \"product_Upc\"]].tail()"
   ]
  },
  {
   "cell_type": "markdown",
   "metadata": {},
   "source": [
    "### test"
   ]
  },
  {
   "cell_type": "code",
   "execution_count": 56,
   "metadata": {},
   "outputs": [],
   "source": [
    "test[\"Upc\"] = test[\"Upc\"].astype(str)"
   ]
  },
  {
   "cell_type": "code",
   "execution_count": 57,
   "metadata": {},
   "outputs": [
    {
     "data": {
      "text/html": [
       "<div>\n",
       "<style scoped>\n",
       "    .dataframe tbody tr th:only-of-type {\n",
       "        vertical-align: middle;\n",
       "    }\n",
       "\n",
       "    .dataframe tbody tr th {\n",
       "        vertical-align: top;\n",
       "    }\n",
       "\n",
       "    .dataframe thead th {\n",
       "        text-align: right;\n",
       "    }\n",
       "</style>\n",
       "<table border=\"1\" class=\"dataframe\">\n",
       "  <thead>\n",
       "    <tr style=\"text-align: right;\">\n",
       "      <th></th>\n",
       "      <th>Upc</th>\n",
       "      <th>full_Upc</th>\n",
       "      <th>company_Upc</th>\n",
       "      <th>product_Upc</th>\n",
       "    </tr>\n",
       "  </thead>\n",
       "  <tbody>\n",
       "    <tr>\n",
       "      <th>653641</th>\n",
       "      <td>66572105763.0</td>\n",
       "      <td>6572105763</td>\n",
       "      <td>65721</td>\n",
       "      <td>05763</td>\n",
       "    </tr>\n",
       "    <tr>\n",
       "      <th>653642</th>\n",
       "      <td>88181390024.0</td>\n",
       "      <td>8181390024</td>\n",
       "      <td>81813</td>\n",
       "      <td>90024</td>\n",
       "    </tr>\n",
       "    <tr>\n",
       "      <th>653643</th>\n",
       "      <td>4282557050.0</td>\n",
       "      <td>4282557050</td>\n",
       "      <td>42825</td>\n",
       "      <td>57050</td>\n",
       "    </tr>\n",
       "    <tr>\n",
       "      <th>653644</th>\n",
       "      <td>80469193740.0</td>\n",
       "      <td>0469193740</td>\n",
       "      <td>04691</td>\n",
       "      <td>93740</td>\n",
       "    </tr>\n",
       "    <tr>\n",
       "      <th>653645</th>\n",
       "      <td>7871535983.0</td>\n",
       "      <td>7871535983</td>\n",
       "      <td>78715</td>\n",
       "      <td>35983</td>\n",
       "    </tr>\n",
       "  </tbody>\n",
       "</table>\n",
       "</div>"
      ],
      "text/plain": [
       "                  Upc    full_Upc company_Upc product_Upc\n",
       "653641  66572105763.0  6572105763       65721       05763\n",
       "653642  88181390024.0  8181390024       81813       90024\n",
       "653643   4282557050.0  4282557050       42825       57050\n",
       "653644  80469193740.0  0469193740       04691       93740\n",
       "653645   7871535983.0  7871535983       78715       35983"
      ]
     },
     "execution_count": 57,
     "metadata": {},
     "output_type": "execute_result"
    }
   ],
   "source": [
    "test[\"full_Upc\"] = test[\"Upc\"].apply(pf.upc_789101112_to_10)\n",
    "test[\"full_Upc\"] = test[\"full_Upc\"].apply(pf.upc_3456_to_10)\n",
    "\n",
    "test[\"company_Upc\"] = test[\"full_Upc\"].apply(pf.company_part_Upc)\n",
    "test[\"product_Upc\"] = test[\"full_Upc\"].apply(pf.product_part_Upc) \n",
    "\n",
    "test[[\"Upc\", \"full_Upc\", \"company_Upc\", \"product_Upc\"]].tail()"
   ]
  },
  {
   "cell_type": "markdown",
   "metadata": {},
   "source": [
    "## 6. company_Upc Encode"
   ]
  },
  {
   "cell_type": "markdown",
   "metadata": {},
   "source": [
    "### train"
   ]
  },
  {
   "cell_type": "code",
   "execution_count": 58,
   "metadata": {},
   "outputs": [],
   "source": [
    "company_upc_dummy_train = pd.get_dummies(train[\"company_Upc\"])"
   ]
  },
  {
   "cell_type": "code",
   "execution_count": 59,
   "metadata": {},
   "outputs": [
    {
     "name": "stdout",
     "output_type": "stream",
     "text": [
      "(647054, 5773)\n"
     ]
    },
    {
     "data": {
      "text/html": [
       "<div>\n",
       "<style scoped>\n",
       "    .dataframe tbody tr th:only-of-type {\n",
       "        vertical-align: middle;\n",
       "    }\n",
       "\n",
       "    .dataframe tbody tr th {\n",
       "        vertical-align: top;\n",
       "    }\n",
       "\n",
       "    .dataframe thead th {\n",
       "        text-align: right;\n",
       "    }\n",
       "</style>\n",
       "<table border=\"1\" class=\"dataframe\">\n",
       "  <thead>\n",
       "    <tr style=\"text-align: right;\">\n",
       "      <th></th>\n",
       "      <th>TripType</th>\n",
       "      <th>VisitNumber</th>\n",
       "      <th>Weekday</th>\n",
       "      <th>Upc</th>\n",
       "      <th>ScanCount</th>\n",
       "      <th>DepartmentDescription</th>\n",
       "      <th>FinelineNumber</th>\n",
       "      <th>desc_tag</th>\n",
       "      <th>desc_tag_1</th>\n",
       "      <th>desc_tag_2</th>\n",
       "      <th>...</th>\n",
       "      <th>99804</th>\n",
       "      <th>99829</th>\n",
       "      <th>99870</th>\n",
       "      <th>99919</th>\n",
       "      <th>99923</th>\n",
       "      <th>99928</th>\n",
       "      <th>99939</th>\n",
       "      <th>99967</th>\n",
       "      <th>99988</th>\n",
       "      <th>99991</th>\n",
       "    </tr>\n",
       "  </thead>\n",
       "  <tbody>\n",
       "    <tr>\n",
       "      <th>0</th>\n",
       "      <td>999</td>\n",
       "      <td>5</td>\n",
       "      <td>Friday</td>\n",
       "      <td>68113152929.0</td>\n",
       "      <td>-1</td>\n",
       "      <td>FINANCIAL SERVICES</td>\n",
       "      <td>1000.0</td>\n",
       "      <td>21</td>\n",
       "      <td>False</td>\n",
       "      <td>False</td>\n",
       "      <td>...</td>\n",
       "      <td>0</td>\n",
       "      <td>0</td>\n",
       "      <td>0</td>\n",
       "      <td>0</td>\n",
       "      <td>0</td>\n",
       "      <td>0</td>\n",
       "      <td>0</td>\n",
       "      <td>0</td>\n",
       "      <td>0</td>\n",
       "      <td>0</td>\n",
       "    </tr>\n",
       "    <tr>\n",
       "      <th>1</th>\n",
       "      <td>30</td>\n",
       "      <td>7</td>\n",
       "      <td>Friday</td>\n",
       "      <td>60538815980.0</td>\n",
       "      <td>1</td>\n",
       "      <td>SHOES</td>\n",
       "      <td>8931.0</td>\n",
       "      <td>62</td>\n",
       "      <td>False</td>\n",
       "      <td>False</td>\n",
       "      <td>...</td>\n",
       "      <td>0</td>\n",
       "      <td>0</td>\n",
       "      <td>0</td>\n",
       "      <td>0</td>\n",
       "      <td>0</td>\n",
       "      <td>0</td>\n",
       "      <td>0</td>\n",
       "      <td>0</td>\n",
       "      <td>0</td>\n",
       "      <td>0</td>\n",
       "    </tr>\n",
       "    <tr>\n",
       "      <th>2</th>\n",
       "      <td>30</td>\n",
       "      <td>7</td>\n",
       "      <td>Friday</td>\n",
       "      <td>7410811099.0</td>\n",
       "      <td>1</td>\n",
       "      <td>PERSONAL CARE</td>\n",
       "      <td>4504.0</td>\n",
       "      <td>50</td>\n",
       "      <td>False</td>\n",
       "      <td>False</td>\n",
       "      <td>...</td>\n",
       "      <td>0</td>\n",
       "      <td>0</td>\n",
       "      <td>0</td>\n",
       "      <td>0</td>\n",
       "      <td>0</td>\n",
       "      <td>0</td>\n",
       "      <td>0</td>\n",
       "      <td>0</td>\n",
       "      <td>0</td>\n",
       "      <td>0</td>\n",
       "    </tr>\n",
       "    <tr>\n",
       "      <th>3</th>\n",
       "      <td>26</td>\n",
       "      <td>8</td>\n",
       "      <td>Friday</td>\n",
       "      <td>2238403510.0</td>\n",
       "      <td>2</td>\n",
       "      <td>PAINT AND ACCESSORIES</td>\n",
       "      <td>3565.0</td>\n",
       "      <td>49</td>\n",
       "      <td>False</td>\n",
       "      <td>False</td>\n",
       "      <td>...</td>\n",
       "      <td>0</td>\n",
       "      <td>0</td>\n",
       "      <td>0</td>\n",
       "      <td>0</td>\n",
       "      <td>0</td>\n",
       "      <td>0</td>\n",
       "      <td>0</td>\n",
       "      <td>0</td>\n",
       "      <td>0</td>\n",
       "      <td>0</td>\n",
       "    </tr>\n",
       "    <tr>\n",
       "      <th>4</th>\n",
       "      <td>26</td>\n",
       "      <td>8</td>\n",
       "      <td>Friday</td>\n",
       "      <td>2006613744.0</td>\n",
       "      <td>2</td>\n",
       "      <td>PAINT AND ACCESSORIES</td>\n",
       "      <td>1017.0</td>\n",
       "      <td>49</td>\n",
       "      <td>False</td>\n",
       "      <td>False</td>\n",
       "      <td>...</td>\n",
       "      <td>0</td>\n",
       "      <td>0</td>\n",
       "      <td>0</td>\n",
       "      <td>0</td>\n",
       "      <td>0</td>\n",
       "      <td>0</td>\n",
       "      <td>0</td>\n",
       "      <td>0</td>\n",
       "      <td>0</td>\n",
       "      <td>0</td>\n",
       "    </tr>\n",
       "  </tbody>\n",
       "</table>\n",
       "<p>5 rows × 5773 columns</p>\n",
       "</div>"
      ],
      "text/plain": [
       "   TripType  VisitNumber Weekday            Upc  ScanCount  \\\n",
       "0       999            5  Friday  68113152929.0         -1   \n",
       "1        30            7  Friday  60538815980.0          1   \n",
       "2        30            7  Friday   7410811099.0          1   \n",
       "3        26            8  Friday   2238403510.0          2   \n",
       "4        26            8  Friday   2006613744.0          2   \n",
       "\n",
       "   DepartmentDescription  FinelineNumber  desc_tag  desc_tag_1  desc_tag_2  \\\n",
       "0     FINANCIAL SERVICES          1000.0        21       False       False   \n",
       "1                  SHOES          8931.0        62       False       False   \n",
       "2          PERSONAL CARE          4504.0        50       False       False   \n",
       "3  PAINT AND ACCESSORIES          3565.0        49       False       False   \n",
       "4  PAINT AND ACCESSORIES          1017.0        49       False       False   \n",
       "\n",
       "   ...    99804  99829  99870  99919  99923  99928  99939  99967  99988  99991  \n",
       "0  ...        0      0      0      0      0      0      0      0      0      0  \n",
       "1  ...        0      0      0      0      0      0      0      0      0      0  \n",
       "2  ...        0      0      0      0      0      0      0      0      0      0  \n",
       "3  ...        0      0      0      0      0      0      0      0      0      0  \n",
       "4  ...        0      0      0      0      0      0      0      0      0      0  \n",
       "\n",
       "[5 rows x 5773 columns]"
      ]
     },
     "execution_count": 59,
     "metadata": {},
     "output_type": "execute_result"
    }
   ],
   "source": [
    "train = pd.concat([train, company_upc_dummy_train], axis=1)\n",
    "\n",
    "print(train.shape)\n",
    "train.head()"
   ]
  },
  {
   "cell_type": "markdown",
   "metadata": {},
   "source": [
    "### test"
   ]
  },
  {
   "cell_type": "code",
   "execution_count": 60,
   "metadata": {},
   "outputs": [],
   "source": [
    "company_upc_dummy_test = pd.get_dummies(test[\"company_Upc\"])"
   ]
  },
  {
   "cell_type": "code",
   "execution_count": 61,
   "metadata": {},
   "outputs": [
    {
     "name": "stdout",
     "output_type": "stream",
     "text": [
      "(653646, 5791)\n"
     ]
    },
    {
     "data": {
      "text/html": [
       "<div>\n",
       "<style scoped>\n",
       "    .dataframe tbody tr th:only-of-type {\n",
       "        vertical-align: middle;\n",
       "    }\n",
       "\n",
       "    .dataframe tbody tr th {\n",
       "        vertical-align: top;\n",
       "    }\n",
       "\n",
       "    .dataframe thead th {\n",
       "        text-align: right;\n",
       "    }\n",
       "</style>\n",
       "<table border=\"1\" class=\"dataframe\">\n",
       "  <thead>\n",
       "    <tr style=\"text-align: right;\">\n",
       "      <th></th>\n",
       "      <th>VisitNumber</th>\n",
       "      <th>Weekday</th>\n",
       "      <th>Upc</th>\n",
       "      <th>ScanCount</th>\n",
       "      <th>DepartmentDescription</th>\n",
       "      <th>FinelineNumber</th>\n",
       "      <th>desc_tag</th>\n",
       "      <th>desc_tag_1</th>\n",
       "      <th>desc_tag_2</th>\n",
       "      <th>desc_tag_3</th>\n",
       "      <th>...</th>\n",
       "      <th>99800</th>\n",
       "      <th>99804</th>\n",
       "      <th>99829</th>\n",
       "      <th>99870</th>\n",
       "      <th>99874</th>\n",
       "      <th>99919</th>\n",
       "      <th>99923</th>\n",
       "      <th>99939</th>\n",
       "      <th>99967</th>\n",
       "      <th>99988</th>\n",
       "    </tr>\n",
       "  </thead>\n",
       "  <tbody>\n",
       "    <tr>\n",
       "      <th>0</th>\n",
       "      <td>1</td>\n",
       "      <td>Friday</td>\n",
       "      <td>72503389714.0</td>\n",
       "      <td>1</td>\n",
       "      <td>SHOES</td>\n",
       "      <td>3002.0</td>\n",
       "      <td>62</td>\n",
       "      <td>False</td>\n",
       "      <td>False</td>\n",
       "      <td>False</td>\n",
       "      <td>...</td>\n",
       "      <td>0</td>\n",
       "      <td>0</td>\n",
       "      <td>0</td>\n",
       "      <td>0</td>\n",
       "      <td>0</td>\n",
       "      <td>0</td>\n",
       "      <td>0</td>\n",
       "      <td>0</td>\n",
       "      <td>0</td>\n",
       "      <td>0</td>\n",
       "    </tr>\n",
       "    <tr>\n",
       "      <th>1</th>\n",
       "      <td>1</td>\n",
       "      <td>Friday</td>\n",
       "      <td>1707710732.0</td>\n",
       "      <td>1</td>\n",
       "      <td>DAIRY</td>\n",
       "      <td>1526.0</td>\n",
       "      <td>17</td>\n",
       "      <td>False</td>\n",
       "      <td>False</td>\n",
       "      <td>False</td>\n",
       "      <td>...</td>\n",
       "      <td>0</td>\n",
       "      <td>0</td>\n",
       "      <td>0</td>\n",
       "      <td>0</td>\n",
       "      <td>0</td>\n",
       "      <td>0</td>\n",
       "      <td>0</td>\n",
       "      <td>0</td>\n",
       "      <td>0</td>\n",
       "      <td>0</td>\n",
       "    </tr>\n",
       "    <tr>\n",
       "      <th>2</th>\n",
       "      <td>1</td>\n",
       "      <td>Friday</td>\n",
       "      <td>89470001026.0</td>\n",
       "      <td>1</td>\n",
       "      <td>DAIRY</td>\n",
       "      <td>1431.0</td>\n",
       "      <td>17</td>\n",
       "      <td>False</td>\n",
       "      <td>False</td>\n",
       "      <td>False</td>\n",
       "      <td>...</td>\n",
       "      <td>0</td>\n",
       "      <td>0</td>\n",
       "      <td>0</td>\n",
       "      <td>0</td>\n",
       "      <td>0</td>\n",
       "      <td>0</td>\n",
       "      <td>0</td>\n",
       "      <td>0</td>\n",
       "      <td>0</td>\n",
       "      <td>0</td>\n",
       "    </tr>\n",
       "    <tr>\n",
       "      <th>3</th>\n",
       "      <td>1</td>\n",
       "      <td>Friday</td>\n",
       "      <td>88491211470.0</td>\n",
       "      <td>1</td>\n",
       "      <td>GROCERY DRY GOODS</td>\n",
       "      <td>3555.0</td>\n",
       "      <td>25</td>\n",
       "      <td>False</td>\n",
       "      <td>False</td>\n",
       "      <td>False</td>\n",
       "      <td>...</td>\n",
       "      <td>0</td>\n",
       "      <td>0</td>\n",
       "      <td>0</td>\n",
       "      <td>0</td>\n",
       "      <td>0</td>\n",
       "      <td>0</td>\n",
       "      <td>0</td>\n",
       "      <td>0</td>\n",
       "      <td>0</td>\n",
       "      <td>0</td>\n",
       "    </tr>\n",
       "    <tr>\n",
       "      <th>4</th>\n",
       "      <td>2</td>\n",
       "      <td>Friday</td>\n",
       "      <td>2840015224.0</td>\n",
       "      <td>1</td>\n",
       "      <td>DSD GROCERY</td>\n",
       "      <td>4408.0</td>\n",
       "      <td>18</td>\n",
       "      <td>False</td>\n",
       "      <td>False</td>\n",
       "      <td>False</td>\n",
       "      <td>...</td>\n",
       "      <td>0</td>\n",
       "      <td>0</td>\n",
       "      <td>0</td>\n",
       "      <td>0</td>\n",
       "      <td>0</td>\n",
       "      <td>0</td>\n",
       "      <td>0</td>\n",
       "      <td>0</td>\n",
       "      <td>0</td>\n",
       "      <td>0</td>\n",
       "    </tr>\n",
       "  </tbody>\n",
       "</table>\n",
       "<p>5 rows × 5791 columns</p>\n",
       "</div>"
      ],
      "text/plain": [
       "   VisitNumber Weekday            Upc  ScanCount DepartmentDescription  \\\n",
       "0            1  Friday  72503389714.0          1                 SHOES   \n",
       "1            1  Friday   1707710732.0          1                 DAIRY   \n",
       "2            1  Friday  89470001026.0          1                 DAIRY   \n",
       "3            1  Friday  88491211470.0          1     GROCERY DRY GOODS   \n",
       "4            2  Friday   2840015224.0          1           DSD GROCERY   \n",
       "\n",
       "   FinelineNumber  desc_tag  desc_tag_1  desc_tag_2  desc_tag_3  ...    99800  \\\n",
       "0          3002.0        62       False       False       False  ...        0   \n",
       "1          1526.0        17       False       False       False  ...        0   \n",
       "2          1431.0        17       False       False       False  ...        0   \n",
       "3          3555.0        25       False       False       False  ...        0   \n",
       "4          4408.0        18       False       False       False  ...        0   \n",
       "\n",
       "   99804  99829  99870  99874  99919  99923  99939  99967  99988  \n",
       "0      0      0      0      0      0      0      0      0      0  \n",
       "1      0      0      0      0      0      0      0      0      0  \n",
       "2      0      0      0      0      0      0      0      0      0  \n",
       "3      0      0      0      0      0      0      0      0      0  \n",
       "4      0      0      0      0      0      0      0      0      0  \n",
       "\n",
       "[5 rows x 5791 columns]"
      ]
     },
     "execution_count": 61,
     "metadata": {},
     "output_type": "execute_result"
    }
   ],
   "source": [
    "test = pd.concat([test, company_upc_dummy_test], axis=1)\n",
    "\n",
    "print(test.shape)\n",
    "test.head()"
   ]
  },
  {
   "cell_type": "markdown",
   "metadata": {},
   "source": [
    "## 7. FinelineNumber Encode"
   ]
  },
  {
   "cell_type": "markdown",
   "metadata": {},
   "source": [
    "### train"
   ]
  },
  {
   "cell_type": "code",
   "execution_count": 62,
   "metadata": {},
   "outputs": [],
   "source": [
    "FlN_dummy_train = pd.get_dummies(train[\"FinelineNumber\"])"
   ]
  },
  {
   "cell_type": "code",
   "execution_count": 63,
   "metadata": {},
   "outputs": [
    {
     "name": "stdout",
     "output_type": "stream",
     "text": [
      "(647054, 10967)\n"
     ]
    },
    {
     "data": {
      "text/html": [
       "<div>\n",
       "<style scoped>\n",
       "    .dataframe tbody tr th:only-of-type {\n",
       "        vertical-align: middle;\n",
       "    }\n",
       "\n",
       "    .dataframe tbody tr th {\n",
       "        vertical-align: top;\n",
       "    }\n",
       "\n",
       "    .dataframe thead th {\n",
       "        text-align: right;\n",
       "    }\n",
       "</style>\n",
       "<table border=\"1\" class=\"dataframe\">\n",
       "  <thead>\n",
       "    <tr style=\"text-align: right;\">\n",
       "      <th></th>\n",
       "      <th>TripType</th>\n",
       "      <th>VisitNumber</th>\n",
       "      <th>Weekday</th>\n",
       "      <th>Upc</th>\n",
       "      <th>ScanCount</th>\n",
       "      <th>DepartmentDescription</th>\n",
       "      <th>FinelineNumber</th>\n",
       "      <th>desc_tag</th>\n",
       "      <th>desc_tag_1</th>\n",
       "      <th>desc_tag_2</th>\n",
       "      <th>...</th>\n",
       "      <th>9964.0</th>\n",
       "      <th>9966.0</th>\n",
       "      <th>9967.0</th>\n",
       "      <th>9970.0</th>\n",
       "      <th>9971.0</th>\n",
       "      <th>9974.0</th>\n",
       "      <th>9975.0</th>\n",
       "      <th>9991.0</th>\n",
       "      <th>9997.0</th>\n",
       "      <th>9998.0</th>\n",
       "    </tr>\n",
       "  </thead>\n",
       "  <tbody>\n",
       "    <tr>\n",
       "      <th>0</th>\n",
       "      <td>999</td>\n",
       "      <td>5</td>\n",
       "      <td>Friday</td>\n",
       "      <td>68113152929.0</td>\n",
       "      <td>-1</td>\n",
       "      <td>FINANCIAL SERVICES</td>\n",
       "      <td>1000.0</td>\n",
       "      <td>21</td>\n",
       "      <td>False</td>\n",
       "      <td>False</td>\n",
       "      <td>...</td>\n",
       "      <td>0</td>\n",
       "      <td>0</td>\n",
       "      <td>0</td>\n",
       "      <td>0</td>\n",
       "      <td>0</td>\n",
       "      <td>0</td>\n",
       "      <td>0</td>\n",
       "      <td>0</td>\n",
       "      <td>0</td>\n",
       "      <td>0</td>\n",
       "    </tr>\n",
       "    <tr>\n",
       "      <th>1</th>\n",
       "      <td>30</td>\n",
       "      <td>7</td>\n",
       "      <td>Friday</td>\n",
       "      <td>60538815980.0</td>\n",
       "      <td>1</td>\n",
       "      <td>SHOES</td>\n",
       "      <td>8931.0</td>\n",
       "      <td>62</td>\n",
       "      <td>False</td>\n",
       "      <td>False</td>\n",
       "      <td>...</td>\n",
       "      <td>0</td>\n",
       "      <td>0</td>\n",
       "      <td>0</td>\n",
       "      <td>0</td>\n",
       "      <td>0</td>\n",
       "      <td>0</td>\n",
       "      <td>0</td>\n",
       "      <td>0</td>\n",
       "      <td>0</td>\n",
       "      <td>0</td>\n",
       "    </tr>\n",
       "    <tr>\n",
       "      <th>2</th>\n",
       "      <td>30</td>\n",
       "      <td>7</td>\n",
       "      <td>Friday</td>\n",
       "      <td>7410811099.0</td>\n",
       "      <td>1</td>\n",
       "      <td>PERSONAL CARE</td>\n",
       "      <td>4504.0</td>\n",
       "      <td>50</td>\n",
       "      <td>False</td>\n",
       "      <td>False</td>\n",
       "      <td>...</td>\n",
       "      <td>0</td>\n",
       "      <td>0</td>\n",
       "      <td>0</td>\n",
       "      <td>0</td>\n",
       "      <td>0</td>\n",
       "      <td>0</td>\n",
       "      <td>0</td>\n",
       "      <td>0</td>\n",
       "      <td>0</td>\n",
       "      <td>0</td>\n",
       "    </tr>\n",
       "    <tr>\n",
       "      <th>3</th>\n",
       "      <td>26</td>\n",
       "      <td>8</td>\n",
       "      <td>Friday</td>\n",
       "      <td>2238403510.0</td>\n",
       "      <td>2</td>\n",
       "      <td>PAINT AND ACCESSORIES</td>\n",
       "      <td>3565.0</td>\n",
       "      <td>49</td>\n",
       "      <td>False</td>\n",
       "      <td>False</td>\n",
       "      <td>...</td>\n",
       "      <td>0</td>\n",
       "      <td>0</td>\n",
       "      <td>0</td>\n",
       "      <td>0</td>\n",
       "      <td>0</td>\n",
       "      <td>0</td>\n",
       "      <td>0</td>\n",
       "      <td>0</td>\n",
       "      <td>0</td>\n",
       "      <td>0</td>\n",
       "    </tr>\n",
       "    <tr>\n",
       "      <th>4</th>\n",
       "      <td>26</td>\n",
       "      <td>8</td>\n",
       "      <td>Friday</td>\n",
       "      <td>2006613744.0</td>\n",
       "      <td>2</td>\n",
       "      <td>PAINT AND ACCESSORIES</td>\n",
       "      <td>1017.0</td>\n",
       "      <td>49</td>\n",
       "      <td>False</td>\n",
       "      <td>False</td>\n",
       "      <td>...</td>\n",
       "      <td>0</td>\n",
       "      <td>0</td>\n",
       "      <td>0</td>\n",
       "      <td>0</td>\n",
       "      <td>0</td>\n",
       "      <td>0</td>\n",
       "      <td>0</td>\n",
       "      <td>0</td>\n",
       "      <td>0</td>\n",
       "      <td>0</td>\n",
       "    </tr>\n",
       "  </tbody>\n",
       "</table>\n",
       "<p>5 rows × 10967 columns</p>\n",
       "</div>"
      ],
      "text/plain": [
       "   TripType  VisitNumber Weekday            Upc  ScanCount  \\\n",
       "0       999            5  Friday  68113152929.0         -1   \n",
       "1        30            7  Friday  60538815980.0          1   \n",
       "2        30            7  Friday   7410811099.0          1   \n",
       "3        26            8  Friday   2238403510.0          2   \n",
       "4        26            8  Friday   2006613744.0          2   \n",
       "\n",
       "   DepartmentDescription  FinelineNumber  desc_tag  desc_tag_1  desc_tag_2  \\\n",
       "0     FINANCIAL SERVICES          1000.0        21       False       False   \n",
       "1                  SHOES          8931.0        62       False       False   \n",
       "2          PERSONAL CARE          4504.0        50       False       False   \n",
       "3  PAINT AND ACCESSORIES          3565.0        49       False       False   \n",
       "4  PAINT AND ACCESSORIES          1017.0        49       False       False   \n",
       "\n",
       "    ...    9964.0  9966.0  9967.0  9970.0  9971.0  9974.0  9975.0  9991.0  \\\n",
       "0   ...         0       0       0       0       0       0       0       0   \n",
       "1   ...         0       0       0       0       0       0       0       0   \n",
       "2   ...         0       0       0       0       0       0       0       0   \n",
       "3   ...         0       0       0       0       0       0       0       0   \n",
       "4   ...         0       0       0       0       0       0       0       0   \n",
       "\n",
       "   9997.0  9998.0  \n",
       "0       0       0  \n",
       "1       0       0  \n",
       "2       0       0  \n",
       "3       0       0  \n",
       "4       0       0  \n",
       "\n",
       "[5 rows x 10967 columns]"
      ]
     },
     "execution_count": 63,
     "metadata": {},
     "output_type": "execute_result"
    }
   ],
   "source": [
    "train = pd.concat([train, FlN_dummy_train], axis=1)\n",
    "\n",
    "print(train.shape)\n",
    "train.head()"
   ]
  },
  {
   "cell_type": "markdown",
   "metadata": {},
   "source": [
    "### test"
   ]
  },
  {
   "cell_type": "code",
   "execution_count": 64,
   "metadata": {},
   "outputs": [],
   "source": [
    "FlN_dummy_test = pd.get_dummies(test[\"FinelineNumber\"])"
   ]
  },
  {
   "cell_type": "code",
   "execution_count": 65,
   "metadata": {},
   "outputs": [
    {
     "name": "stdout",
     "output_type": "stream",
     "text": [
      "(653646, 10994)\n"
     ]
    },
    {
     "data": {
      "text/html": [
       "<div>\n",
       "<style scoped>\n",
       "    .dataframe tbody tr th:only-of-type {\n",
       "        vertical-align: middle;\n",
       "    }\n",
       "\n",
       "    .dataframe tbody tr th {\n",
       "        vertical-align: top;\n",
       "    }\n",
       "\n",
       "    .dataframe thead th {\n",
       "        text-align: right;\n",
       "    }\n",
       "</style>\n",
       "<table border=\"1\" class=\"dataframe\">\n",
       "  <thead>\n",
       "    <tr style=\"text-align: right;\">\n",
       "      <th></th>\n",
       "      <th>VisitNumber</th>\n",
       "      <th>Weekday</th>\n",
       "      <th>Upc</th>\n",
       "      <th>ScanCount</th>\n",
       "      <th>DepartmentDescription</th>\n",
       "      <th>FinelineNumber</th>\n",
       "      <th>desc_tag</th>\n",
       "      <th>desc_tag_1</th>\n",
       "      <th>desc_tag_2</th>\n",
       "      <th>desc_tag_3</th>\n",
       "      <th>...</th>\n",
       "      <th>9967.0</th>\n",
       "      <th>9969.0</th>\n",
       "      <th>9970.0</th>\n",
       "      <th>9971.0</th>\n",
       "      <th>9974.0</th>\n",
       "      <th>9975.0</th>\n",
       "      <th>9991.0</th>\n",
       "      <th>9997.0</th>\n",
       "      <th>9998.0</th>\n",
       "      <th>9999.0</th>\n",
       "    </tr>\n",
       "  </thead>\n",
       "  <tbody>\n",
       "    <tr>\n",
       "      <th>0</th>\n",
       "      <td>1</td>\n",
       "      <td>Friday</td>\n",
       "      <td>72503389714.0</td>\n",
       "      <td>1</td>\n",
       "      <td>SHOES</td>\n",
       "      <td>3002.0</td>\n",
       "      <td>62</td>\n",
       "      <td>False</td>\n",
       "      <td>False</td>\n",
       "      <td>False</td>\n",
       "      <td>...</td>\n",
       "      <td>0</td>\n",
       "      <td>0</td>\n",
       "      <td>0</td>\n",
       "      <td>0</td>\n",
       "      <td>0</td>\n",
       "      <td>0</td>\n",
       "      <td>0</td>\n",
       "      <td>0</td>\n",
       "      <td>0</td>\n",
       "      <td>0</td>\n",
       "    </tr>\n",
       "    <tr>\n",
       "      <th>1</th>\n",
       "      <td>1</td>\n",
       "      <td>Friday</td>\n",
       "      <td>1707710732.0</td>\n",
       "      <td>1</td>\n",
       "      <td>DAIRY</td>\n",
       "      <td>1526.0</td>\n",
       "      <td>17</td>\n",
       "      <td>False</td>\n",
       "      <td>False</td>\n",
       "      <td>False</td>\n",
       "      <td>...</td>\n",
       "      <td>0</td>\n",
       "      <td>0</td>\n",
       "      <td>0</td>\n",
       "      <td>0</td>\n",
       "      <td>0</td>\n",
       "      <td>0</td>\n",
       "      <td>0</td>\n",
       "      <td>0</td>\n",
       "      <td>0</td>\n",
       "      <td>0</td>\n",
       "    </tr>\n",
       "    <tr>\n",
       "      <th>2</th>\n",
       "      <td>1</td>\n",
       "      <td>Friday</td>\n",
       "      <td>89470001026.0</td>\n",
       "      <td>1</td>\n",
       "      <td>DAIRY</td>\n",
       "      <td>1431.0</td>\n",
       "      <td>17</td>\n",
       "      <td>False</td>\n",
       "      <td>False</td>\n",
       "      <td>False</td>\n",
       "      <td>...</td>\n",
       "      <td>0</td>\n",
       "      <td>0</td>\n",
       "      <td>0</td>\n",
       "      <td>0</td>\n",
       "      <td>0</td>\n",
       "      <td>0</td>\n",
       "      <td>0</td>\n",
       "      <td>0</td>\n",
       "      <td>0</td>\n",
       "      <td>0</td>\n",
       "    </tr>\n",
       "    <tr>\n",
       "      <th>3</th>\n",
       "      <td>1</td>\n",
       "      <td>Friday</td>\n",
       "      <td>88491211470.0</td>\n",
       "      <td>1</td>\n",
       "      <td>GROCERY DRY GOODS</td>\n",
       "      <td>3555.0</td>\n",
       "      <td>25</td>\n",
       "      <td>False</td>\n",
       "      <td>False</td>\n",
       "      <td>False</td>\n",
       "      <td>...</td>\n",
       "      <td>0</td>\n",
       "      <td>0</td>\n",
       "      <td>0</td>\n",
       "      <td>0</td>\n",
       "      <td>0</td>\n",
       "      <td>0</td>\n",
       "      <td>0</td>\n",
       "      <td>0</td>\n",
       "      <td>0</td>\n",
       "      <td>0</td>\n",
       "    </tr>\n",
       "    <tr>\n",
       "      <th>4</th>\n",
       "      <td>2</td>\n",
       "      <td>Friday</td>\n",
       "      <td>2840015224.0</td>\n",
       "      <td>1</td>\n",
       "      <td>DSD GROCERY</td>\n",
       "      <td>4408.0</td>\n",
       "      <td>18</td>\n",
       "      <td>False</td>\n",
       "      <td>False</td>\n",
       "      <td>False</td>\n",
       "      <td>...</td>\n",
       "      <td>0</td>\n",
       "      <td>0</td>\n",
       "      <td>0</td>\n",
       "      <td>0</td>\n",
       "      <td>0</td>\n",
       "      <td>0</td>\n",
       "      <td>0</td>\n",
       "      <td>0</td>\n",
       "      <td>0</td>\n",
       "      <td>0</td>\n",
       "    </tr>\n",
       "  </tbody>\n",
       "</table>\n",
       "<p>5 rows × 10994 columns</p>\n",
       "</div>"
      ],
      "text/plain": [
       "   VisitNumber Weekday            Upc  ScanCount DepartmentDescription  \\\n",
       "0            1  Friday  72503389714.0          1                 SHOES   \n",
       "1            1  Friday   1707710732.0          1                 DAIRY   \n",
       "2            1  Friday  89470001026.0          1                 DAIRY   \n",
       "3            1  Friday  88491211470.0          1     GROCERY DRY GOODS   \n",
       "4            2  Friday   2840015224.0          1           DSD GROCERY   \n",
       "\n",
       "   FinelineNumber  desc_tag  desc_tag_1  desc_tag_2  desc_tag_3   ...    \\\n",
       "0          3002.0        62       False       False       False   ...     \n",
       "1          1526.0        17       False       False       False   ...     \n",
       "2          1431.0        17       False       False       False   ...     \n",
       "3          3555.0        25       False       False       False   ...     \n",
       "4          4408.0        18       False       False       False   ...     \n",
       "\n",
       "   9967.0  9969.0  9970.0  9971.0  9974.0  9975.0  9991.0  9997.0  9998.0  \\\n",
       "0       0       0       0       0       0       0       0       0       0   \n",
       "1       0       0       0       0       0       0       0       0       0   \n",
       "2       0       0       0       0       0       0       0       0       0   \n",
       "3       0       0       0       0       0       0       0       0       0   \n",
       "4       0       0       0       0       0       0       0       0       0   \n",
       "\n",
       "   9999.0  \n",
       "0       0  \n",
       "1       0  \n",
       "2       0  \n",
       "3       0  \n",
       "4       0  \n",
       "\n",
       "[5 rows x 10994 columns]"
      ]
     },
     "execution_count": 65,
     "metadata": {},
     "output_type": "execute_result"
    }
   ],
   "source": [
    "test = pd.concat([test, FlN_dummy_test], axis=1)\n",
    "\n",
    "print(test.shape)\n",
    "test.head()"
   ]
  },
  {
   "cell_type": "markdown",
   "metadata": {},
   "source": [
    "### Top 1000 frequent_value of company_Upc, FinelineNumber, product_Upc"
   ]
  },
  {
   "cell_type": "code",
   "execution_count": 66,
   "metadata": {},
   "outputs": [
    {
     "data": {
      "text/plain": [
       "['78742', '00004', '81131', '05388', '37000']"
      ]
     },
     "execution_count": 66,
     "metadata": {},
     "output_type": "execute_result"
    }
   ],
   "source": [
    "top_company_Upc_list = list(train[\"company_Upc\"].value_counts().index)[:1000]\n",
    "top_company_Upc_list[:5]"
   ]
  },
  {
   "cell_type": "code",
   "execution_count": 67,
   "metadata": {},
   "outputs": [
    {
     "data": {
      "text/plain": [
       "[5501.0, 1508.0, 135.0, 808.0, 0.0]"
      ]
     },
     "execution_count": 67,
     "metadata": {},
     "output_type": "execute_result"
    }
   ],
   "source": [
    "top_FinelineNumber_list = list(train[\"FinelineNumber\"].value_counts().index)[:1000]\n",
    "top_FinelineNumber_list[:5]"
   ]
  },
  {
   "cell_type": "code",
   "execution_count": 68,
   "metadata": {},
   "outputs": [
    {
     "data": {
      "text/plain": [
       "['00000', '04011', '62097', '99996', '35186']"
      ]
     },
     "execution_count": 68,
     "metadata": {},
     "output_type": "execute_result"
    }
   ],
   "source": [
    "top_product_Upc_list = list(train[\"product_Upc\"].value_counts().index)[:1000]\n",
    "top_product_Upc_list[:5]"
   ]
  },
  {
   "cell_type": "markdown",
   "metadata": {},
   "source": [
    "## Feature Selection"
   ]
  },
  {
   "cell_type": "code",
   "execution_count": 74,
   "metadata": {},
   "outputs": [],
   "source": [
    "feature_names = ['VisitNumber', 'ScanCount', 'desc_tag_1',\n",
    "       'desc_tag_2', 'desc_tag_3', 'desc_tag_4', 'desc_tag_5', 'desc_tag_6',\n",
    "       'desc_tag_7', 'desc_tag_8', 'desc_tag_9', 'desc_tag_10', 'desc_tag_11',\n",
    "       'desc_tag_12', 'desc_tag_13', 'desc_tag_14', 'desc_tag_15',\n",
    "       'desc_tag_16', 'desc_tag_17', 'desc_tag_18', 'desc_tag_19',\n",
    "       'desc_tag_20', 'desc_tag_21', 'desc_tag_22', 'desc_tag_23',\n",
    "       'desc_tag_24', 'desc_tag_25', 'desc_tag_26', 'desc_tag_27',\n",
    "       'desc_tag_28', 'desc_tag_29', 'desc_tag_30', 'desc_tag_31',\n",
    "       'desc_tag_32', 'desc_tag_33', 'desc_tag_34', 'desc_tag_35',\n",
    "       'desc_tag_36', 'desc_tag_37', 'desc_tag_38', 'desc_tag_39',\n",
    "       'desc_tag_40', 'desc_tag_41', 'desc_tag_42', 'desc_tag_43',\n",
    "       'desc_tag_44', 'desc_tag_45', 'desc_tag_46', 'desc_tag_47', \n",
    "       'desc_tag_48', 'desc_tag_49', 'desc_tag_50', 'desc_tag_51', \n",
    "       'desc_tag_52', 'desc_tag_53',\n",
    "       'desc_tag_54', 'desc_tag_55', 'desc_tag_56', 'desc_tag_57',\n",
    "       'desc_tag_58', 'desc_tag_59', 'desc_tag_60', 'desc_tag_61',\n",
    "       'desc_tag_62', 'desc_tag_63', 'desc_tag_64', 'desc_tag_65',\n",
    "       'desc_tag_66', 'desc_tag_67', 'desc_tag_68',\n",
    "       'Weekday_1',   'Weekday_2',   'Weekday_3',   'Weekday_4',\n",
    "       'Weekday_5',   'Weekday_6',   'Weekday_7']\n",
    "\n",
    "feature_names = feature_names + top_FinelineNumber_list + top_company_Upc_list"
   ]
  },
  {
   "cell_type": "code",
   "execution_count": 75,
   "metadata": {},
   "outputs": [
    {
     "data": {
      "text/plain": [
       "2077"
      ]
     },
     "execution_count": 75,
     "metadata": {},
     "output_type": "execute_result"
    }
   ],
   "source": [
    "len(feature_names)"
   ]
  },
  {
   "cell_type": "code",
   "execution_count": 76,
   "metadata": {},
   "outputs": [],
   "source": [
    "in_train = train[feature_names]"
   ]
  },
  {
   "cell_type": "code",
   "execution_count": 77,
   "metadata": {},
   "outputs": [],
   "source": [
    "in_test = test[feature_names]"
   ]
  },
  {
   "cell_type": "markdown",
   "metadata": {},
   "source": [
    "## 8. Groupby VisitNumber"
   ]
  },
  {
   "cell_type": "markdown",
   "metadata": {},
   "source": [
    "### train"
   ]
  },
  {
   "cell_type": "code",
   "execution_count": 78,
   "metadata": {},
   "outputs": [],
   "source": [
    "train = in_train.groupby(by='VisitNumber').sum().reset_index()"
   ]
  },
  {
   "cell_type": "code",
   "execution_count": 79,
   "metadata": {},
   "outputs": [],
   "source": [
    "train[\"TripType\"] = train_TripType.astype(int)"
   ]
  },
  {
   "cell_type": "code",
   "execution_count": 80,
   "metadata": {},
   "outputs": [
    {
     "name": "stdout",
     "output_type": "stream",
     "text": [
      "(95674, 2078)\n"
     ]
    },
    {
     "data": {
      "text/html": [
       "<div>\n",
       "<style scoped>\n",
       "    .dataframe tbody tr th:only-of-type {\n",
       "        vertical-align: middle;\n",
       "    }\n",
       "\n",
       "    .dataframe tbody tr th {\n",
       "        vertical-align: top;\n",
       "    }\n",
       "\n",
       "    .dataframe thead th {\n",
       "        text-align: right;\n",
       "    }\n",
       "</style>\n",
       "<table border=\"1\" class=\"dataframe\">\n",
       "  <thead>\n",
       "    <tr style=\"text-align: right;\">\n",
       "      <th></th>\n",
       "      <th>VisitNumber</th>\n",
       "      <th>ScanCount</th>\n",
       "      <th>desc_tag_1</th>\n",
       "      <th>desc_tag_2</th>\n",
       "      <th>desc_tag_3</th>\n",
       "      <th>desc_tag_4</th>\n",
       "      <th>desc_tag_5</th>\n",
       "      <th>desc_tag_6</th>\n",
       "      <th>desc_tag_7</th>\n",
       "      <th>desc_tag_8</th>\n",
       "      <th>...</th>\n",
       "      <th>74027</th>\n",
       "      <th>74200</th>\n",
       "      <th>38891</th>\n",
       "      <th>00650</th>\n",
       "      <th>77501</th>\n",
       "      <th>88783</th>\n",
       "      <th>87512</th>\n",
       "      <th>80225</th>\n",
       "      <th>70277</th>\n",
       "      <th>TripType</th>\n",
       "    </tr>\n",
       "  </thead>\n",
       "  <tbody>\n",
       "    <tr>\n",
       "      <th>0</th>\n",
       "      <td>5</td>\n",
       "      <td>-1</td>\n",
       "      <td>0.0</td>\n",
       "      <td>0.0</td>\n",
       "      <td>0.0</td>\n",
       "      <td>0.0</td>\n",
       "      <td>0.0</td>\n",
       "      <td>0.0</td>\n",
       "      <td>0.0</td>\n",
       "      <td>0.0</td>\n",
       "      <td>...</td>\n",
       "      <td>0</td>\n",
       "      <td>0</td>\n",
       "      <td>0</td>\n",
       "      <td>0</td>\n",
       "      <td>0</td>\n",
       "      <td>0</td>\n",
       "      <td>0</td>\n",
       "      <td>0</td>\n",
       "      <td>0</td>\n",
       "      <td>999</td>\n",
       "    </tr>\n",
       "    <tr>\n",
       "      <th>1</th>\n",
       "      <td>7</td>\n",
       "      <td>2</td>\n",
       "      <td>0.0</td>\n",
       "      <td>0.0</td>\n",
       "      <td>0.0</td>\n",
       "      <td>0.0</td>\n",
       "      <td>0.0</td>\n",
       "      <td>0.0</td>\n",
       "      <td>0.0</td>\n",
       "      <td>0.0</td>\n",
       "      <td>...</td>\n",
       "      <td>0</td>\n",
       "      <td>0</td>\n",
       "      <td>0</td>\n",
       "      <td>0</td>\n",
       "      <td>0</td>\n",
       "      <td>0</td>\n",
       "      <td>0</td>\n",
       "      <td>0</td>\n",
       "      <td>0</td>\n",
       "      <td>30</td>\n",
       "    </tr>\n",
       "    <tr>\n",
       "      <th>2</th>\n",
       "      <td>8</td>\n",
       "      <td>28</td>\n",
       "      <td>0.0</td>\n",
       "      <td>0.0</td>\n",
       "      <td>0.0</td>\n",
       "      <td>0.0</td>\n",
       "      <td>0.0</td>\n",
       "      <td>0.0</td>\n",
       "      <td>0.0</td>\n",
       "      <td>0.0</td>\n",
       "      <td>...</td>\n",
       "      <td>0</td>\n",
       "      <td>0</td>\n",
       "      <td>0</td>\n",
       "      <td>0</td>\n",
       "      <td>0</td>\n",
       "      <td>0</td>\n",
       "      <td>0</td>\n",
       "      <td>0</td>\n",
       "      <td>0</td>\n",
       "      <td>26</td>\n",
       "    </tr>\n",
       "    <tr>\n",
       "      <th>3</th>\n",
       "      <td>9</td>\n",
       "      <td>3</td>\n",
       "      <td>0.0</td>\n",
       "      <td>0.0</td>\n",
       "      <td>0.0</td>\n",
       "      <td>0.0</td>\n",
       "      <td>0.0</td>\n",
       "      <td>0.0</td>\n",
       "      <td>0.0</td>\n",
       "      <td>0.0</td>\n",
       "      <td>...</td>\n",
       "      <td>0</td>\n",
       "      <td>0</td>\n",
       "      <td>0</td>\n",
       "      <td>0</td>\n",
       "      <td>0</td>\n",
       "      <td>0</td>\n",
       "      <td>0</td>\n",
       "      <td>0</td>\n",
       "      <td>0</td>\n",
       "      <td>8</td>\n",
       "    </tr>\n",
       "    <tr>\n",
       "      <th>4</th>\n",
       "      <td>10</td>\n",
       "      <td>3</td>\n",
       "      <td>0.0</td>\n",
       "      <td>0.0</td>\n",
       "      <td>0.0</td>\n",
       "      <td>0.0</td>\n",
       "      <td>0.0</td>\n",
       "      <td>0.0</td>\n",
       "      <td>0.0</td>\n",
       "      <td>0.0</td>\n",
       "      <td>...</td>\n",
       "      <td>0</td>\n",
       "      <td>0</td>\n",
       "      <td>0</td>\n",
       "      <td>0</td>\n",
       "      <td>0</td>\n",
       "      <td>0</td>\n",
       "      <td>0</td>\n",
       "      <td>0</td>\n",
       "      <td>0</td>\n",
       "      <td>8</td>\n",
       "    </tr>\n",
       "  </tbody>\n",
       "</table>\n",
       "<p>5 rows × 2078 columns</p>\n",
       "</div>"
      ],
      "text/plain": [
       "   VisitNumber  ScanCount  desc_tag_1  desc_tag_2  desc_tag_3  desc_tag_4  \\\n",
       "0            5         -1         0.0         0.0         0.0         0.0   \n",
       "1            7          2         0.0         0.0         0.0         0.0   \n",
       "2            8         28         0.0         0.0         0.0         0.0   \n",
       "3            9          3         0.0         0.0         0.0         0.0   \n",
       "4           10          3         0.0         0.0         0.0         0.0   \n",
       "\n",
       "   desc_tag_5  desc_tag_6  desc_tag_7  desc_tag_8    ...     74027  74200  \\\n",
       "0         0.0         0.0         0.0         0.0    ...         0      0   \n",
       "1         0.0         0.0         0.0         0.0    ...         0      0   \n",
       "2         0.0         0.0         0.0         0.0    ...         0      0   \n",
       "3         0.0         0.0         0.0         0.0    ...         0      0   \n",
       "4         0.0         0.0         0.0         0.0    ...         0      0   \n",
       "\n",
       "   38891  00650  77501  88783  87512  80225  70277  TripType  \n",
       "0      0      0      0      0      0      0      0       999  \n",
       "1      0      0      0      0      0      0      0        30  \n",
       "2      0      0      0      0      0      0      0        26  \n",
       "3      0      0      0      0      0      0      0         8  \n",
       "4      0      0      0      0      0      0      0         8  \n",
       "\n",
       "[5 rows x 2078 columns]"
      ]
     },
     "execution_count": 80,
     "metadata": {},
     "output_type": "execute_result"
    }
   ],
   "source": [
    "print(train.shape)\n",
    "train.head()"
   ]
  },
  {
   "cell_type": "markdown",
   "metadata": {},
   "source": [
    "### test"
   ]
  },
  {
   "cell_type": "code",
   "execution_count": 81,
   "metadata": {},
   "outputs": [],
   "source": [
    "test = in_test.groupby(by='VisitNumber').sum().reset_index()"
   ]
  },
  {
   "cell_type": "code",
   "execution_count": 82,
   "metadata": {},
   "outputs": [
    {
     "name": "stdout",
     "output_type": "stream",
     "text": [
      "(95674, 2077)\n"
     ]
    },
    {
     "data": {
      "text/html": [
       "<div>\n",
       "<style scoped>\n",
       "    .dataframe tbody tr th:only-of-type {\n",
       "        vertical-align: middle;\n",
       "    }\n",
       "\n",
       "    .dataframe tbody tr th {\n",
       "        vertical-align: top;\n",
       "    }\n",
       "\n",
       "    .dataframe thead th {\n",
       "        text-align: right;\n",
       "    }\n",
       "</style>\n",
       "<table border=\"1\" class=\"dataframe\">\n",
       "  <thead>\n",
       "    <tr style=\"text-align: right;\">\n",
       "      <th></th>\n",
       "      <th>VisitNumber</th>\n",
       "      <th>ScanCount</th>\n",
       "      <th>desc_tag_1</th>\n",
       "      <th>desc_tag_2</th>\n",
       "      <th>desc_tag_3</th>\n",
       "      <th>desc_tag_4</th>\n",
       "      <th>desc_tag_5</th>\n",
       "      <th>desc_tag_6</th>\n",
       "      <th>desc_tag_7</th>\n",
       "      <th>desc_tag_8</th>\n",
       "      <th>...</th>\n",
       "      <th>33991</th>\n",
       "      <th>74027</th>\n",
       "      <th>74200</th>\n",
       "      <th>38891</th>\n",
       "      <th>00650</th>\n",
       "      <th>77501</th>\n",
       "      <th>88783</th>\n",
       "      <th>87512</th>\n",
       "      <th>80225</th>\n",
       "      <th>70277</th>\n",
       "    </tr>\n",
       "  </thead>\n",
       "  <tbody>\n",
       "    <tr>\n",
       "      <th>0</th>\n",
       "      <td>1</td>\n",
       "      <td>4</td>\n",
       "      <td>0.0</td>\n",
       "      <td>0.0</td>\n",
       "      <td>0.0</td>\n",
       "      <td>0.0</td>\n",
       "      <td>0.0</td>\n",
       "      <td>0.0</td>\n",
       "      <td>0.0</td>\n",
       "      <td>0.0</td>\n",
       "      <td>...</td>\n",
       "      <td>0</td>\n",
       "      <td>0</td>\n",
       "      <td>0</td>\n",
       "      <td>0</td>\n",
       "      <td>0</td>\n",
       "      <td>0</td>\n",
       "      <td>0</td>\n",
       "      <td>0</td>\n",
       "      <td>0</td>\n",
       "      <td>0</td>\n",
       "    </tr>\n",
       "    <tr>\n",
       "      <th>1</th>\n",
       "      <td>2</td>\n",
       "      <td>4</td>\n",
       "      <td>0.0</td>\n",
       "      <td>0.0</td>\n",
       "      <td>0.0</td>\n",
       "      <td>1.0</td>\n",
       "      <td>0.0</td>\n",
       "      <td>0.0</td>\n",
       "      <td>0.0</td>\n",
       "      <td>0.0</td>\n",
       "      <td>...</td>\n",
       "      <td>0</td>\n",
       "      <td>0</td>\n",
       "      <td>0</td>\n",
       "      <td>0</td>\n",
       "      <td>0</td>\n",
       "      <td>0</td>\n",
       "      <td>0</td>\n",
       "      <td>0</td>\n",
       "      <td>0</td>\n",
       "      <td>0</td>\n",
       "    </tr>\n",
       "    <tr>\n",
       "      <th>2</th>\n",
       "      <td>3</td>\n",
       "      <td>0</td>\n",
       "      <td>0.0</td>\n",
       "      <td>0.0</td>\n",
       "      <td>0.0</td>\n",
       "      <td>0.0</td>\n",
       "      <td>0.0</td>\n",
       "      <td>0.0</td>\n",
       "      <td>0.0</td>\n",
       "      <td>0.0</td>\n",
       "      <td>...</td>\n",
       "      <td>0</td>\n",
       "      <td>0</td>\n",
       "      <td>0</td>\n",
       "      <td>0</td>\n",
       "      <td>0</td>\n",
       "      <td>0</td>\n",
       "      <td>0</td>\n",
       "      <td>0</td>\n",
       "      <td>0</td>\n",
       "      <td>0</td>\n",
       "    </tr>\n",
       "    <tr>\n",
       "      <th>3</th>\n",
       "      <td>4</td>\n",
       "      <td>1</td>\n",
       "      <td>0.0</td>\n",
       "      <td>0.0</td>\n",
       "      <td>0.0</td>\n",
       "      <td>0.0</td>\n",
       "      <td>0.0</td>\n",
       "      <td>0.0</td>\n",
       "      <td>0.0</td>\n",
       "      <td>0.0</td>\n",
       "      <td>...</td>\n",
       "      <td>0</td>\n",
       "      <td>0</td>\n",
       "      <td>0</td>\n",
       "      <td>0</td>\n",
       "      <td>0</td>\n",
       "      <td>0</td>\n",
       "      <td>0</td>\n",
       "      <td>0</td>\n",
       "      <td>0</td>\n",
       "      <td>0</td>\n",
       "    </tr>\n",
       "    <tr>\n",
       "      <th>4</th>\n",
       "      <td>6</td>\n",
       "      <td>0</td>\n",
       "      <td>0.0</td>\n",
       "      <td>0.0</td>\n",
       "      <td>0.0</td>\n",
       "      <td>0.0</td>\n",
       "      <td>0.0</td>\n",
       "      <td>0.0</td>\n",
       "      <td>0.0</td>\n",
       "      <td>0.0</td>\n",
       "      <td>...</td>\n",
       "      <td>0</td>\n",
       "      <td>0</td>\n",
       "      <td>0</td>\n",
       "      <td>0</td>\n",
       "      <td>0</td>\n",
       "      <td>0</td>\n",
       "      <td>0</td>\n",
       "      <td>0</td>\n",
       "      <td>0</td>\n",
       "      <td>0</td>\n",
       "    </tr>\n",
       "  </tbody>\n",
       "</table>\n",
       "<p>5 rows × 2077 columns</p>\n",
       "</div>"
      ],
      "text/plain": [
       "   VisitNumber  ScanCount  desc_tag_1  desc_tag_2  desc_tag_3  desc_tag_4  \\\n",
       "0            1          4         0.0         0.0         0.0         0.0   \n",
       "1            2          4         0.0         0.0         0.0         1.0   \n",
       "2            3          0         0.0         0.0         0.0         0.0   \n",
       "3            4          1         0.0         0.0         0.0         0.0   \n",
       "4            6          0         0.0         0.0         0.0         0.0   \n",
       "\n",
       "   desc_tag_5  desc_tag_6  desc_tag_7  desc_tag_8  ...    33991  74027  74200  \\\n",
       "0         0.0         0.0         0.0         0.0  ...        0      0      0   \n",
       "1         0.0         0.0         0.0         0.0  ...        0      0      0   \n",
       "2         0.0         0.0         0.0         0.0  ...        0      0      0   \n",
       "3         0.0         0.0         0.0         0.0  ...        0      0      0   \n",
       "4         0.0         0.0         0.0         0.0  ...        0      0      0   \n",
       "\n",
       "   38891  00650  77501  88783  87512  80225  70277  \n",
       "0      0      0      0      0      0      0      0  \n",
       "1      0      0      0      0      0      0      0  \n",
       "2      0      0      0      0      0      0      0  \n",
       "3      0      0      0      0      0      0      0  \n",
       "4      0      0      0      0      0      0      0  \n",
       "\n",
       "[5 rows x 2077 columns]"
      ]
     },
     "execution_count": 82,
     "metadata": {},
     "output_type": "execute_result"
    }
   ],
   "source": [
    "print(test.shape)\n",
    "test.head()"
   ]
  },
  {
   "cell_type": "markdown",
   "metadata": {},
   "source": [
    "## X_train, y_train"
   ]
  },
  {
   "cell_type": "code",
   "execution_count": 83,
   "metadata": {},
   "outputs": [
    {
     "data": {
      "text/plain": [
       "2076"
      ]
     },
     "execution_count": 83,
     "metadata": {},
     "output_type": "execute_result"
    }
   ],
   "source": [
    "feature_names.remove('VisitNumber')\n",
    "len(feature_names)"
   ]
  },
  {
   "cell_type": "code",
   "execution_count": 84,
   "metadata": {},
   "outputs": [
    {
     "name": "stdout",
     "output_type": "stream",
     "text": [
      "(95674, 2076)\n"
     ]
    },
    {
     "data": {
      "text/html": [
       "<div>\n",
       "<style scoped>\n",
       "    .dataframe tbody tr th:only-of-type {\n",
       "        vertical-align: middle;\n",
       "    }\n",
       "\n",
       "    .dataframe tbody tr th {\n",
       "        vertical-align: top;\n",
       "    }\n",
       "\n",
       "    .dataframe thead th {\n",
       "        text-align: right;\n",
       "    }\n",
       "</style>\n",
       "<table border=\"1\" class=\"dataframe\">\n",
       "  <thead>\n",
       "    <tr style=\"text-align: right;\">\n",
       "      <th></th>\n",
       "      <th>ScanCount</th>\n",
       "      <th>desc_tag_1</th>\n",
       "      <th>desc_tag_2</th>\n",
       "      <th>desc_tag_3</th>\n",
       "      <th>desc_tag_4</th>\n",
       "      <th>desc_tag_5</th>\n",
       "      <th>desc_tag_6</th>\n",
       "      <th>desc_tag_7</th>\n",
       "      <th>desc_tag_8</th>\n",
       "      <th>desc_tag_9</th>\n",
       "      <th>...</th>\n",
       "      <th>33991</th>\n",
       "      <th>74027</th>\n",
       "      <th>74200</th>\n",
       "      <th>38891</th>\n",
       "      <th>00650</th>\n",
       "      <th>77501</th>\n",
       "      <th>88783</th>\n",
       "      <th>87512</th>\n",
       "      <th>80225</th>\n",
       "      <th>70277</th>\n",
       "    </tr>\n",
       "  </thead>\n",
       "  <tbody>\n",
       "    <tr>\n",
       "      <th>0</th>\n",
       "      <td>-1</td>\n",
       "      <td>0.0</td>\n",
       "      <td>0.0</td>\n",
       "      <td>0.0</td>\n",
       "      <td>0.0</td>\n",
       "      <td>0.0</td>\n",
       "      <td>0.0</td>\n",
       "      <td>0.0</td>\n",
       "      <td>0.0</td>\n",
       "      <td>0.0</td>\n",
       "      <td>...</td>\n",
       "      <td>0</td>\n",
       "      <td>0</td>\n",
       "      <td>0</td>\n",
       "      <td>0</td>\n",
       "      <td>0</td>\n",
       "      <td>0</td>\n",
       "      <td>0</td>\n",
       "      <td>0</td>\n",
       "      <td>0</td>\n",
       "      <td>0</td>\n",
       "    </tr>\n",
       "    <tr>\n",
       "      <th>1</th>\n",
       "      <td>2</td>\n",
       "      <td>0.0</td>\n",
       "      <td>0.0</td>\n",
       "      <td>0.0</td>\n",
       "      <td>0.0</td>\n",
       "      <td>0.0</td>\n",
       "      <td>0.0</td>\n",
       "      <td>0.0</td>\n",
       "      <td>0.0</td>\n",
       "      <td>0.0</td>\n",
       "      <td>...</td>\n",
       "      <td>0</td>\n",
       "      <td>0</td>\n",
       "      <td>0</td>\n",
       "      <td>0</td>\n",
       "      <td>0</td>\n",
       "      <td>0</td>\n",
       "      <td>0</td>\n",
       "      <td>0</td>\n",
       "      <td>0</td>\n",
       "      <td>0</td>\n",
       "    </tr>\n",
       "    <tr>\n",
       "      <th>2</th>\n",
       "      <td>28</td>\n",
       "      <td>0.0</td>\n",
       "      <td>0.0</td>\n",
       "      <td>0.0</td>\n",
       "      <td>0.0</td>\n",
       "      <td>0.0</td>\n",
       "      <td>0.0</td>\n",
       "      <td>0.0</td>\n",
       "      <td>0.0</td>\n",
       "      <td>0.0</td>\n",
       "      <td>...</td>\n",
       "      <td>0</td>\n",
       "      <td>0</td>\n",
       "      <td>0</td>\n",
       "      <td>0</td>\n",
       "      <td>0</td>\n",
       "      <td>0</td>\n",
       "      <td>0</td>\n",
       "      <td>0</td>\n",
       "      <td>0</td>\n",
       "      <td>0</td>\n",
       "    </tr>\n",
       "    <tr>\n",
       "      <th>3</th>\n",
       "      <td>3</td>\n",
       "      <td>0.0</td>\n",
       "      <td>0.0</td>\n",
       "      <td>0.0</td>\n",
       "      <td>0.0</td>\n",
       "      <td>0.0</td>\n",
       "      <td>0.0</td>\n",
       "      <td>0.0</td>\n",
       "      <td>0.0</td>\n",
       "      <td>0.0</td>\n",
       "      <td>...</td>\n",
       "      <td>0</td>\n",
       "      <td>0</td>\n",
       "      <td>0</td>\n",
       "      <td>0</td>\n",
       "      <td>0</td>\n",
       "      <td>0</td>\n",
       "      <td>0</td>\n",
       "      <td>0</td>\n",
       "      <td>0</td>\n",
       "      <td>0</td>\n",
       "    </tr>\n",
       "    <tr>\n",
       "      <th>4</th>\n",
       "      <td>3</td>\n",
       "      <td>0.0</td>\n",
       "      <td>0.0</td>\n",
       "      <td>0.0</td>\n",
       "      <td>0.0</td>\n",
       "      <td>0.0</td>\n",
       "      <td>0.0</td>\n",
       "      <td>0.0</td>\n",
       "      <td>0.0</td>\n",
       "      <td>0.0</td>\n",
       "      <td>...</td>\n",
       "      <td>0</td>\n",
       "      <td>0</td>\n",
       "      <td>0</td>\n",
       "      <td>0</td>\n",
       "      <td>0</td>\n",
       "      <td>0</td>\n",
       "      <td>0</td>\n",
       "      <td>0</td>\n",
       "      <td>0</td>\n",
       "      <td>0</td>\n",
       "    </tr>\n",
       "  </tbody>\n",
       "</table>\n",
       "<p>5 rows × 2076 columns</p>\n",
       "</div>"
      ],
      "text/plain": [
       "   ScanCount  desc_tag_1  desc_tag_2  desc_tag_3  desc_tag_4  desc_tag_5  \\\n",
       "0         -1         0.0         0.0         0.0         0.0         0.0   \n",
       "1          2         0.0         0.0         0.0         0.0         0.0   \n",
       "2         28         0.0         0.0         0.0         0.0         0.0   \n",
       "3          3         0.0         0.0         0.0         0.0         0.0   \n",
       "4          3         0.0         0.0         0.0         0.0         0.0   \n",
       "\n",
       "   desc_tag_6  desc_tag_7  desc_tag_8  desc_tag_9  ...    33991  74027  74200  \\\n",
       "0         0.0         0.0         0.0         0.0  ...        0      0      0   \n",
       "1         0.0         0.0         0.0         0.0  ...        0      0      0   \n",
       "2         0.0         0.0         0.0         0.0  ...        0      0      0   \n",
       "3         0.0         0.0         0.0         0.0  ...        0      0      0   \n",
       "4         0.0         0.0         0.0         0.0  ...        0      0      0   \n",
       "\n",
       "   38891  00650  77501  88783  87512  80225  70277  \n",
       "0      0      0      0      0      0      0      0  \n",
       "1      0      0      0      0      0      0      0  \n",
       "2      0      0      0      0      0      0      0  \n",
       "3      0      0      0      0      0      0      0  \n",
       "4      0      0      0      0      0      0      0  \n",
       "\n",
       "[5 rows x 2076 columns]"
      ]
     },
     "execution_count": 84,
     "metadata": {},
     "output_type": "execute_result"
    }
   ],
   "source": [
    "X_train = train[feature_names]\n",
    "\n",
    "print(X_train.shape)\n",
    "X_train.head()"
   ]
  },
  {
   "cell_type": "code",
   "execution_count": 85,
   "metadata": {},
   "outputs": [
    {
     "name": "stdout",
     "output_type": "stream",
     "text": [
      "(95674,)\n"
     ]
    },
    {
     "data": {
      "text/plain": [
       "0    999\n",
       "1     30\n",
       "2     26\n",
       "3      8\n",
       "4      8\n",
       "Name: TripType, dtype: int64"
      ]
     },
     "execution_count": 85,
     "metadata": {},
     "output_type": "execute_result"
    }
   ],
   "source": [
    "label_name = 'TripType'\n",
    "\n",
    "y_train = train[label_name]\n",
    "\n",
    "print(y_train.shape)\n",
    "y_train[:5]"
   ]
  },
  {
   "cell_type": "markdown",
   "metadata": {},
   "source": [
    "## X_test"
   ]
  },
  {
   "cell_type": "code",
   "execution_count": 86,
   "metadata": {},
   "outputs": [
    {
     "name": "stdout",
     "output_type": "stream",
     "text": [
      "(95674, 2076)\n"
     ]
    },
    {
     "data": {
      "text/html": [
       "<div>\n",
       "<style scoped>\n",
       "    .dataframe tbody tr th:only-of-type {\n",
       "        vertical-align: middle;\n",
       "    }\n",
       "\n",
       "    .dataframe tbody tr th {\n",
       "        vertical-align: top;\n",
       "    }\n",
       "\n",
       "    .dataframe thead th {\n",
       "        text-align: right;\n",
       "    }\n",
       "</style>\n",
       "<table border=\"1\" class=\"dataframe\">\n",
       "  <thead>\n",
       "    <tr style=\"text-align: right;\">\n",
       "      <th></th>\n",
       "      <th>ScanCount</th>\n",
       "      <th>desc_tag_1</th>\n",
       "      <th>desc_tag_2</th>\n",
       "      <th>desc_tag_3</th>\n",
       "      <th>desc_tag_4</th>\n",
       "      <th>desc_tag_5</th>\n",
       "      <th>desc_tag_6</th>\n",
       "      <th>desc_tag_7</th>\n",
       "      <th>desc_tag_8</th>\n",
       "      <th>desc_tag_9</th>\n",
       "      <th>...</th>\n",
       "      <th>33991</th>\n",
       "      <th>74027</th>\n",
       "      <th>74200</th>\n",
       "      <th>38891</th>\n",
       "      <th>00650</th>\n",
       "      <th>77501</th>\n",
       "      <th>88783</th>\n",
       "      <th>87512</th>\n",
       "      <th>80225</th>\n",
       "      <th>70277</th>\n",
       "    </tr>\n",
       "  </thead>\n",
       "  <tbody>\n",
       "    <tr>\n",
       "      <th>0</th>\n",
       "      <td>4</td>\n",
       "      <td>0.0</td>\n",
       "      <td>0.0</td>\n",
       "      <td>0.0</td>\n",
       "      <td>0.0</td>\n",
       "      <td>0.0</td>\n",
       "      <td>0.0</td>\n",
       "      <td>0.0</td>\n",
       "      <td>0.0</td>\n",
       "      <td>0.0</td>\n",
       "      <td>...</td>\n",
       "      <td>0</td>\n",
       "      <td>0</td>\n",
       "      <td>0</td>\n",
       "      <td>0</td>\n",
       "      <td>0</td>\n",
       "      <td>0</td>\n",
       "      <td>0</td>\n",
       "      <td>0</td>\n",
       "      <td>0</td>\n",
       "      <td>0</td>\n",
       "    </tr>\n",
       "    <tr>\n",
       "      <th>1</th>\n",
       "      <td>4</td>\n",
       "      <td>0.0</td>\n",
       "      <td>0.0</td>\n",
       "      <td>0.0</td>\n",
       "      <td>1.0</td>\n",
       "      <td>0.0</td>\n",
       "      <td>0.0</td>\n",
       "      <td>0.0</td>\n",
       "      <td>0.0</td>\n",
       "      <td>0.0</td>\n",
       "      <td>...</td>\n",
       "      <td>0</td>\n",
       "      <td>0</td>\n",
       "      <td>0</td>\n",
       "      <td>0</td>\n",
       "      <td>0</td>\n",
       "      <td>0</td>\n",
       "      <td>0</td>\n",
       "      <td>0</td>\n",
       "      <td>0</td>\n",
       "      <td>0</td>\n",
       "    </tr>\n",
       "    <tr>\n",
       "      <th>2</th>\n",
       "      <td>0</td>\n",
       "      <td>0.0</td>\n",
       "      <td>0.0</td>\n",
       "      <td>0.0</td>\n",
       "      <td>0.0</td>\n",
       "      <td>0.0</td>\n",
       "      <td>0.0</td>\n",
       "      <td>0.0</td>\n",
       "      <td>0.0</td>\n",
       "      <td>0.0</td>\n",
       "      <td>...</td>\n",
       "      <td>0</td>\n",
       "      <td>0</td>\n",
       "      <td>0</td>\n",
       "      <td>0</td>\n",
       "      <td>0</td>\n",
       "      <td>0</td>\n",
       "      <td>0</td>\n",
       "      <td>0</td>\n",
       "      <td>0</td>\n",
       "      <td>0</td>\n",
       "    </tr>\n",
       "    <tr>\n",
       "      <th>3</th>\n",
       "      <td>1</td>\n",
       "      <td>0.0</td>\n",
       "      <td>0.0</td>\n",
       "      <td>0.0</td>\n",
       "      <td>0.0</td>\n",
       "      <td>0.0</td>\n",
       "      <td>0.0</td>\n",
       "      <td>0.0</td>\n",
       "      <td>0.0</td>\n",
       "      <td>0.0</td>\n",
       "      <td>...</td>\n",
       "      <td>0</td>\n",
       "      <td>0</td>\n",
       "      <td>0</td>\n",
       "      <td>0</td>\n",
       "      <td>0</td>\n",
       "      <td>0</td>\n",
       "      <td>0</td>\n",
       "      <td>0</td>\n",
       "      <td>0</td>\n",
       "      <td>0</td>\n",
       "    </tr>\n",
       "    <tr>\n",
       "      <th>4</th>\n",
       "      <td>0</td>\n",
       "      <td>0.0</td>\n",
       "      <td>0.0</td>\n",
       "      <td>0.0</td>\n",
       "      <td>0.0</td>\n",
       "      <td>0.0</td>\n",
       "      <td>0.0</td>\n",
       "      <td>0.0</td>\n",
       "      <td>0.0</td>\n",
       "      <td>2.0</td>\n",
       "      <td>...</td>\n",
       "      <td>0</td>\n",
       "      <td>0</td>\n",
       "      <td>0</td>\n",
       "      <td>0</td>\n",
       "      <td>0</td>\n",
       "      <td>0</td>\n",
       "      <td>0</td>\n",
       "      <td>0</td>\n",
       "      <td>0</td>\n",
       "      <td>0</td>\n",
       "    </tr>\n",
       "  </tbody>\n",
       "</table>\n",
       "<p>5 rows × 2076 columns</p>\n",
       "</div>"
      ],
      "text/plain": [
       "   ScanCount  desc_tag_1  desc_tag_2  desc_tag_3  desc_tag_4  desc_tag_5  \\\n",
       "0          4         0.0         0.0         0.0         0.0         0.0   \n",
       "1          4         0.0         0.0         0.0         1.0         0.0   \n",
       "2          0         0.0         0.0         0.0         0.0         0.0   \n",
       "3          1         0.0         0.0         0.0         0.0         0.0   \n",
       "4          0         0.0         0.0         0.0         0.0         0.0   \n",
       "\n",
       "   desc_tag_6  desc_tag_7  desc_tag_8  desc_tag_9  ...    33991  74027  74200  \\\n",
       "0         0.0         0.0         0.0         0.0  ...        0      0      0   \n",
       "1         0.0         0.0         0.0         0.0  ...        0      0      0   \n",
       "2         0.0         0.0         0.0         0.0  ...        0      0      0   \n",
       "3         0.0         0.0         0.0         0.0  ...        0      0      0   \n",
       "4         0.0         0.0         0.0         2.0  ...        0      0      0   \n",
       "\n",
       "   38891  00650  77501  88783  87512  80225  70277  \n",
       "0      0      0      0      0      0      0      0  \n",
       "1      0      0      0      0      0      0      0  \n",
       "2      0      0      0      0      0      0      0  \n",
       "3      0      0      0      0      0      0      0  \n",
       "4      0      0      0      0      0      0      0  \n",
       "\n",
       "[5 rows x 2076 columns]"
      ]
     },
     "execution_count": 86,
     "metadata": {},
     "output_type": "execute_result"
    }
   ],
   "source": [
    "X_test = test[feature_names]\n",
    "\n",
    "print(X_test.shape)\n",
    "X_test.head()"
   ]
  },
  {
   "cell_type": "markdown",
   "metadata": {},
   "source": [
    "## model"
   ]
  },
  {
   "cell_type": "code",
   "execution_count": 3,
   "metadata": {},
   "outputs": [
    {
     "data": {
      "text/plain": [
       "XGBClassifier(base_score=0.5, booster='gbtree', colsample_bylevel=1,\n",
       "       colsample_bytree=1, gamma=0, learning_rate=0.1, max_delta_step=0,\n",
       "       max_depth=3, min_child_weight=1, missing=None, n_estimators=100,\n",
       "       n_jobs=1, nthread=-1, objective='binary:logistic', random_state=0,\n",
       "       reg_alpha=0, reg_lambda=1, scale_pos_weight=1, seed=8, silent=True,\n",
       "       subsample=1, tree_method='gpu_hist')"
      ]
     },
     "execution_count": 3,
     "metadata": {},
     "output_type": "execute_result"
    }
   ],
   "source": [
    "import xgboost as xgb\n",
    "\n",
    "model = xgb.XGBClassifier(nthread=-1, tree_method='gpu_hist', seed=8)\n",
    "model"
   ]
  },
  {
   "cell_type": "code",
   "execution_count": 88,
   "metadata": {},
   "outputs": [
    {
     "name": "stdout",
     "output_type": "stream",
     "text": [
      "CPU times: user 3h 51min 17s, sys: 8.49 s, total: 3h 51min 25s\n",
      "Wall time: 3h 51min 29s\n"
     ]
    },
    {
     "data": {
      "text/plain": [
       "XGBClassifier(base_score=0.5, booster='gbtree', colsample_bylevel=1,\n",
       "       colsample_bytree=1, gamma=0, learning_rate=0.1, max_delta_step=0,\n",
       "       max_depth=3, min_child_weight=1, missing=None, n_estimators=100,\n",
       "       n_jobs=1, nthread=-1, objective='multi:softprob', random_state=0,\n",
       "       reg_alpha=0, reg_lambda=1, scale_pos_weight=1, seed=8, silent=True,\n",
       "       subsample=1)"
      ]
     },
     "execution_count": 88,
     "metadata": {},
     "output_type": "execute_result"
    }
   ],
   "source": [
    "%time model.fit(X_train, y_train)"
   ]
  },
  {
   "cell_type": "code",
   "execution_count": 3,
   "metadata": {},
   "outputs": [
    {
     "name": "stdout",
     "output_type": "stream",
     "text": [
      "<Response [200]>\n"
     ]
    }
   ],
   "source": [
    "# s = datetime.datetime.now() \n",
    "msg = \"modeling_success.\"\n",
    "siw.send_slack(msg)"
   ]
  },
  {
   "cell_type": "markdown",
   "metadata": {},
   "source": [
    "### Prediction"
   ]
  },
  {
   "cell_type": "code",
   "execution_count": 92,
   "metadata": {},
   "outputs": [
    {
     "name": "stdout",
     "output_type": "stream",
     "text": [
      "(95674, 38)\n"
     ]
    },
    {
     "data": {
      "text/plain": [
       "array([[1.9244675e-04, 1.2690612e-04, 7.5309019e-04, ..., 4.6125967e-03,\n",
       "        5.6023977e-04, 6.5943599e-03],\n",
       "       [8.9760346e-04, 5.9191114e-04, 3.5125376e-03, ..., 1.6691707e-02,\n",
       "        2.1450261e-03, 1.2534158e-01],\n",
       "       [1.8113913e-05, 4.6492391e-06, 7.7981873e-05, ..., 1.8883784e-05,\n",
       "        1.9959027e-05, 9.9173146e-01],\n",
       "       ...,\n",
       "       [1.2278178e-03, 3.1514000e-04, 4.3874430e-03, ..., 9.7832258e-04,\n",
       "        1.0977978e-03, 4.7401555e-02],\n",
       "       [8.6032087e-05, 5.6732548e-05, 3.3666400e-04, ..., 6.2108673e-03,\n",
       "        1.2108069e-02, 2.2760422e-03],\n",
       "       [1.7653638e-05, 1.1641432e-05, 5.0616032e-05, ..., 1.6885896e-03,\n",
       "        5.5197853e-04, 1.3914361e-03]], dtype=float32)"
      ]
     },
     "execution_count": 92,
     "metadata": {},
     "output_type": "execute_result"
    }
   ],
   "source": [
    "prediction_prob = model.predict_proba(X_test)\n",
    "\n",
    "print(prediction_prob.shape)\n",
    "prediction_prob"
   ]
  },
  {
   "cell_type": "markdown",
   "metadata": {},
   "source": [
    "### Submission"
   ]
  },
  {
   "cell_type": "code",
   "execution_count": 93,
   "metadata": {},
   "outputs": [],
   "source": [
    "submission_columns = ['TripType_3', 'TripType_4', 'TripType_5', 'TripType_6',\n",
    "       'TripType_7', 'TripType_8', 'TripType_9', 'TripType_12', 'TripType_14',\n",
    "       'TripType_15', 'TripType_18', 'TripType_19', 'TripType_20',\n",
    "       'TripType_21', 'TripType_22', 'TripType_23', 'TripType_24',\n",
    "       'TripType_25', 'TripType_26', 'TripType_27', 'TripType_28',\n",
    "       'TripType_29', 'TripType_30', 'TripType_31', 'TripType_32',\n",
    "       'TripType_33', 'TripType_34', 'TripType_35', 'TripType_36',\n",
    "       'TripType_37', 'TripType_38', 'TripType_39', 'TripType_40',\n",
    "       'TripType_41', 'TripType_42', 'TripType_43', 'TripType_44',\n",
    "       'TripType_999']\n",
    "\n",
    "X_submission = pd.DataFrame(prediction_prob, columns=submission_columns)"
   ]
  },
  {
   "cell_type": "code",
   "execution_count": 94,
   "metadata": {},
   "outputs": [],
   "source": [
    "X_submission[\"VisitNumber\"] = test[\"VisitNumber\"]"
   ]
  },
  {
   "cell_type": "code",
   "execution_count": 95,
   "metadata": {},
   "outputs": [
    {
     "data": {
      "text/html": [
       "<div>\n",
       "<style scoped>\n",
       "    .dataframe tbody tr th:only-of-type {\n",
       "        vertical-align: middle;\n",
       "    }\n",
       "\n",
       "    .dataframe tbody tr th {\n",
       "        vertical-align: top;\n",
       "    }\n",
       "\n",
       "    .dataframe thead th {\n",
       "        text-align: right;\n",
       "    }\n",
       "</style>\n",
       "<table border=\"1\" class=\"dataframe\">\n",
       "  <thead>\n",
       "    <tr style=\"text-align: right;\">\n",
       "      <th></th>\n",
       "      <th>VisitNumber</th>\n",
       "      <th>TripType_3</th>\n",
       "      <th>TripType_4</th>\n",
       "      <th>TripType_5</th>\n",
       "      <th>TripType_6</th>\n",
       "      <th>TripType_7</th>\n",
       "      <th>TripType_8</th>\n",
       "      <th>TripType_9</th>\n",
       "      <th>TripType_12</th>\n",
       "      <th>TripType_14</th>\n",
       "      <th>...</th>\n",
       "      <th>TripType_36</th>\n",
       "      <th>TripType_37</th>\n",
       "      <th>TripType_38</th>\n",
       "      <th>TripType_39</th>\n",
       "      <th>TripType_40</th>\n",
       "      <th>TripType_41</th>\n",
       "      <th>TripType_42</th>\n",
       "      <th>TripType_43</th>\n",
       "      <th>TripType_44</th>\n",
       "      <th>TripType_999</th>\n",
       "    </tr>\n",
       "  </thead>\n",
       "  <tbody>\n",
       "    <tr>\n",
       "      <th>0</th>\n",
       "      <td>1</td>\n",
       "      <td>0.000192</td>\n",
       "      <td>0.000127</td>\n",
       "      <td>0.000753</td>\n",
       "      <td>0.000481</td>\n",
       "      <td>0.015574</td>\n",
       "      <td>0.010427</td>\n",
       "      <td>0.003792</td>\n",
       "      <td>0.000619</td>\n",
       "      <td>0.000105</td>\n",
       "      <td>...</td>\n",
       "      <td>0.001271</td>\n",
       "      <td>0.001019</td>\n",
       "      <td>0.562670</td>\n",
       "      <td>0.038262</td>\n",
       "      <td>0.000393</td>\n",
       "      <td>0.010829</td>\n",
       "      <td>0.013616</td>\n",
       "      <td>0.004613</td>\n",
       "      <td>0.000560</td>\n",
       "      <td>0.006594</td>\n",
       "    </tr>\n",
       "    <tr>\n",
       "      <th>1</th>\n",
       "      <td>2</td>\n",
       "      <td>0.000898</td>\n",
       "      <td>0.000592</td>\n",
       "      <td>0.003513</td>\n",
       "      <td>0.002090</td>\n",
       "      <td>0.041765</td>\n",
       "      <td>0.051501</td>\n",
       "      <td>0.023837</td>\n",
       "      <td>0.005378</td>\n",
       "      <td>0.000491</td>\n",
       "      <td>...</td>\n",
       "      <td>0.006103</td>\n",
       "      <td>0.003995</td>\n",
       "      <td>0.017212</td>\n",
       "      <td>0.142629</td>\n",
       "      <td>0.001665</td>\n",
       "      <td>0.008781</td>\n",
       "      <td>0.030022</td>\n",
       "      <td>0.016692</td>\n",
       "      <td>0.002145</td>\n",
       "      <td>0.125342</td>\n",
       "    </tr>\n",
       "    <tr>\n",
       "      <th>2</th>\n",
       "      <td>3</td>\n",
       "      <td>0.000018</td>\n",
       "      <td>0.000005</td>\n",
       "      <td>0.000078</td>\n",
       "      <td>0.000029</td>\n",
       "      <td>0.000380</td>\n",
       "      <td>0.004831</td>\n",
       "      <td>0.001205</td>\n",
       "      <td>0.000010</td>\n",
       "      <td>0.000004</td>\n",
       "      <td>...</td>\n",
       "      <td>0.001073</td>\n",
       "      <td>0.000014</td>\n",
       "      <td>0.000031</td>\n",
       "      <td>0.000070</td>\n",
       "      <td>0.000012</td>\n",
       "      <td>0.000018</td>\n",
       "      <td>0.000052</td>\n",
       "      <td>0.000019</td>\n",
       "      <td>0.000020</td>\n",
       "      <td>0.991731</td>\n",
       "    </tr>\n",
       "    <tr>\n",
       "      <th>3</th>\n",
       "      <td>4</td>\n",
       "      <td>0.000963</td>\n",
       "      <td>0.000247</td>\n",
       "      <td>0.004472</td>\n",
       "      <td>0.001546</td>\n",
       "      <td>0.035504</td>\n",
       "      <td>0.269553</td>\n",
       "      <td>0.572006</td>\n",
       "      <td>0.000512</td>\n",
       "      <td>0.000292</td>\n",
       "      <td>...</td>\n",
       "      <td>0.001601</td>\n",
       "      <td>0.000769</td>\n",
       "      <td>0.001645</td>\n",
       "      <td>0.002665</td>\n",
       "      <td>0.000586</td>\n",
       "      <td>0.000948</td>\n",
       "      <td>0.003848</td>\n",
       "      <td>0.000847</td>\n",
       "      <td>0.000901</td>\n",
       "      <td>0.041110</td>\n",
       "    </tr>\n",
       "    <tr>\n",
       "      <th>4</th>\n",
       "      <td>6</td>\n",
       "      <td>0.000018</td>\n",
       "      <td>0.000005</td>\n",
       "      <td>0.000078</td>\n",
       "      <td>0.000029</td>\n",
       "      <td>0.000669</td>\n",
       "      <td>0.001622</td>\n",
       "      <td>0.002859</td>\n",
       "      <td>0.000010</td>\n",
       "      <td>0.000004</td>\n",
       "      <td>...</td>\n",
       "      <td>0.000030</td>\n",
       "      <td>0.000014</td>\n",
       "      <td>0.000031</td>\n",
       "      <td>0.000050</td>\n",
       "      <td>0.000011</td>\n",
       "      <td>0.000023</td>\n",
       "      <td>0.000073</td>\n",
       "      <td>0.000014</td>\n",
       "      <td>0.000018</td>\n",
       "      <td>0.993471</td>\n",
       "    </tr>\n",
       "  </tbody>\n",
       "</table>\n",
       "<p>5 rows × 39 columns</p>\n",
       "</div>"
      ],
      "text/plain": [
       "   VisitNumber  TripType_3  TripType_4  TripType_5  TripType_6  TripType_7  \\\n",
       "0            1    0.000192    0.000127    0.000753    0.000481    0.015574   \n",
       "1            2    0.000898    0.000592    0.003513    0.002090    0.041765   \n",
       "2            3    0.000018    0.000005    0.000078    0.000029    0.000380   \n",
       "3            4    0.000963    0.000247    0.004472    0.001546    0.035504   \n",
       "4            6    0.000018    0.000005    0.000078    0.000029    0.000669   \n",
       "\n",
       "   TripType_8  TripType_9  TripType_12  TripType_14      ...       \\\n",
       "0    0.010427    0.003792     0.000619     0.000105      ...        \n",
       "1    0.051501    0.023837     0.005378     0.000491      ...        \n",
       "2    0.004831    0.001205     0.000010     0.000004      ...        \n",
       "3    0.269553    0.572006     0.000512     0.000292      ...        \n",
       "4    0.001622    0.002859     0.000010     0.000004      ...        \n",
       "\n",
       "   TripType_36  TripType_37  TripType_38  TripType_39  TripType_40  \\\n",
       "0     0.001271     0.001019     0.562670     0.038262     0.000393   \n",
       "1     0.006103     0.003995     0.017212     0.142629     0.001665   \n",
       "2     0.001073     0.000014     0.000031     0.000070     0.000012   \n",
       "3     0.001601     0.000769     0.001645     0.002665     0.000586   \n",
       "4     0.000030     0.000014     0.000031     0.000050     0.000011   \n",
       "\n",
       "   TripType_41  TripType_42  TripType_43  TripType_44  TripType_999  \n",
       "0     0.010829     0.013616     0.004613     0.000560      0.006594  \n",
       "1     0.008781     0.030022     0.016692     0.002145      0.125342  \n",
       "2     0.000018     0.000052     0.000019     0.000020      0.991731  \n",
       "3     0.000948     0.003848     0.000847     0.000901      0.041110  \n",
       "4     0.000023     0.000073     0.000014     0.000018      0.993471  \n",
       "\n",
       "[5 rows x 39 columns]"
      ]
     },
     "execution_count": 95,
     "metadata": {},
     "output_type": "execute_result"
    }
   ],
   "source": [
    "submission_columns.insert(0, 'VisitNumber')\n",
    "submission = X_submission[submission_columns]\n",
    "submission.head()"
   ]
  },
  {
   "cell_type": "code",
   "execution_count": 96,
   "metadata": {},
   "outputs": [],
   "source": [
    "submission.to_csv(\"submission_xgboost_2076_columns.csv\", index=False)"
   ]
  },
  {
   "cell_type": "code",
   "execution_count": 97,
   "metadata": {},
   "outputs": [
    {
     "data": {
      "text/plain": [
       "['xgboost_2076_columns_joblib.pkl']"
      ]
     },
     "execution_count": 97,
     "metadata": {},
     "output_type": "execute_result"
    }
   ],
   "source": [
    "from sklearn.externals import joblib\n",
    "joblib.dump(model, 'xgboost_2076_columns_joblib.pkl') "
   ]
  },
  {
   "cell_type": "code",
   "execution_count": null,
   "metadata": {},
   "outputs": [],
   "source": []
  }
 ],
 "metadata": {
  "kernelspec": {
   "display_name": "Python 3",
   "language": "python",
   "name": "python3"
  },
  "language_info": {
   "codemirror_mode": {
    "name": "ipython",
    "version": 3
   },
   "file_extension": ".py",
   "mimetype": "text/x-python",
   "name": "python",
   "nbconvert_exporter": "python",
   "pygments_lexer": "ipython3",
   "version": "3.7.0"
  }
 },
 "nbformat": 4,
 "nbformat_minor": 2
}
