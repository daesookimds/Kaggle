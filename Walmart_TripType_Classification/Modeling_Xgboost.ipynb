{
 "cells": [
  {
   "cell_type": "markdown",
   "metadata": {},
   "source": [
    "# Modeling : Xgboost"
   ]
  },
  {
   "cell_type": "code",
   "execution_count": 1,
   "metadata": {},
   "outputs": [],
   "source": [
    "import numpy as np\n",
    "import pandas as pd"
   ]
  },
  {
   "cell_type": "markdown",
   "metadata": {},
   "source": [
    "### Data load"
   ]
  },
  {
   "cell_type": "code",
   "execution_count": 2,
   "metadata": {},
   "outputs": [
    {
     "data": {
      "text/plain": [
       "<95674x10425 sparse matrix of type '<class 'numpy.float64'>'\n",
       "\twith 1575631 stored elements in Compressed Sparse Row format>"
      ]
     },
     "execution_count": 2,
     "metadata": {},
     "output_type": "execute_result"
    }
   ],
   "source": [
    "from scipy import sparse\n",
    "\n",
    "X_train = sparse.load_npz(\"data/X_train.npz\")\n",
    "X_train"
   ]
  },
  {
   "cell_type": "code",
   "execution_count": 3,
   "metadata": {},
   "outputs": [
    {
     "data": {
      "text/plain": [
       "<95674x10425 sparse matrix of type '<class 'numpy.float64'>'\n",
       "\twith 1584735 stored elements in Compressed Sparse Row format>"
      ]
     },
     "execution_count": 3,
     "metadata": {},
     "output_type": "execute_result"
    }
   ],
   "source": [
    "X_test = sparse.load_npz(\"data/X_test.npz\")\n",
    "X_test"
   ]
  },
  {
   "cell_type": "code",
   "execution_count": 4,
   "metadata": {},
   "outputs": [
    {
     "name": "stdout",
     "output_type": "stream",
     "text": [
      "(95674,)\n"
     ]
    },
    {
     "data": {
      "text/plain": [
       "0    999.0\n",
       "1     30.0\n",
       "2     26.0\n",
       "3      8.0\n",
       "4      8.0\n",
       "Name: TripType, dtype: float64"
      ]
     },
     "execution_count": 4,
     "metadata": {},
     "output_type": "execute_result"
    }
   ],
   "source": [
    "y_train = pd.read_csv(\"data/X_train_TripType.csv\")\n",
    "y_train = y_train[\"TripType\"]\n",
    "\n",
    "print(y_train.shape)\n",
    "y_train[:5]"
   ]
  },
  {
   "cell_type": "markdown",
   "metadata": {},
   "source": [
    "### Model"
   ]
  },
  {
   "cell_type": "code",
   "execution_count": 5,
   "metadata": {},
   "outputs": [],
   "source": [
    "import xgboost as xgb"
   ]
  },
  {
   "cell_type": "code",
   "execution_count": 17,
   "metadata": {},
   "outputs": [
    {
     "data": {
      "text/plain": [
       "XGBClassifier(base_score=0.5, booster='gbtree', colsample_bylevel=1,\n",
       "       colsample_bytree=1, eval_metric='mlogloss', gamma=0,\n",
       "       learning_rate=0.1, max_delta_step=0, max_depth=15,\n",
       "       min_child_weight=1, missing=None, n_estimator=100, n_estimators=100,\n",
       "       n_jobs=8, nthread=None, objective='multi:softprob', random_state=0,\n",
       "       reg_alpha=0, reg_lambda=1, scale_pos_weight=1, seed=None,\n",
       "       silent=True, subsample=1, tree_method='auto')"
      ]
     },
     "execution_count": 17,
     "metadata": {},
     "output_type": "execute_result"
    }
   ],
   "source": [
    "model = xgb.XGBClassifier(n_jobs=8,\n",
    "                          max_depth=15,\n",
    "                          objective='multi:softprob',\n",
    "                          eval_metric='mlogloss',\n",
    "                          tree_method='auto',\n",
    "                          n_estimator=100)\n",
    "model"
   ]
  },
  {
   "cell_type": "code",
   "execution_count": 18,
   "metadata": {
    "scrolled": true
   },
   "outputs": [
    {
     "name": "stdout",
     "output_type": "stream",
     "text": [
      "CPU times: user 35min 51s, sys: 1min 57s, total: 37min 49s\n",
      "Wall time: 8min 59s\n"
     ]
    },
    {
     "data": {
      "text/plain": [
       "XGBClassifier(base_score=0.5, booster='gbtree', colsample_bylevel=1,\n",
       "       colsample_bytree=1, eval_metric='mlogloss', gamma=0,\n",
       "       learning_rate=0.1, max_delta_step=0, max_depth=15,\n",
       "       min_child_weight=1, missing=None, n_estimator=100, n_estimators=100,\n",
       "       n_jobs=8, nthread=None, objective='multi:softprob', random_state=0,\n",
       "       reg_alpha=0, reg_lambda=1, scale_pos_weight=1, seed=None,\n",
       "       silent=True, subsample=1, tree_method='auto')"
      ]
     },
     "execution_count": 18,
     "metadata": {},
     "output_type": "execute_result"
    }
   ],
   "source": [
    "%time model.fit(X_train, y_train)"
   ]
  },
  {
   "cell_type": "markdown",
   "metadata": {},
   "source": [
    "### Prediction"
   ]
  },
  {
   "cell_type": "code",
   "execution_count": 19,
   "metadata": {
    "scrolled": true
   },
   "outputs": [
    {
     "name": "stdout",
     "output_type": "stream",
     "text": [
      "(95674,)\n"
     ]
    },
    {
     "data": {
      "text/plain": [
       "array([ 999.,    9.,   26., ...,   39.,   39.,    8.])"
      ]
     },
     "execution_count": 19,
     "metadata": {},
     "output_type": "execute_result"
    }
   ],
   "source": [
    "prediction = model.predict(X_train)\n",
    "\n",
    "print(prediction.shape)\n",
    "prediction"
   ]
  },
  {
   "cell_type": "code",
   "execution_count": 20,
   "metadata": {},
   "outputs": [],
   "source": [
    "from sklearn.metrics import confusion_matrix\n",
    "from sklearn.metrics import classification_report"
   ]
  },
  {
   "cell_type": "code",
   "execution_count": 21,
   "metadata": {},
   "outputs": [
    {
     "data": {
      "text/plain": [
       "array([[3577,    0,    0, ...,    0,    0,   60],\n",
       "       [   0,  343,    3, ...,    0,    0,    0],\n",
       "       [   1,    0, 4466, ...,    0,    0,    1],\n",
       "       ..., \n",
       "       [   0,    0,   11, ...,  741,    0,    0],\n",
       "       [   0,    0,    0, ...,    0, 1172,    0],\n",
       "       [  58,    2,   44, ...,    0,    0, 7887]])"
      ]
     },
     "execution_count": 21,
     "metadata": {},
     "output_type": "execute_result"
    }
   ],
   "source": [
    "confusion_matrix(y_train, prediction)"
   ]
  },
  {
   "cell_type": "code",
   "execution_count": 22,
   "metadata": {},
   "outputs": [
    {
     "name": "stdout",
     "output_type": "stream",
     "text": [
      "              precision    recall  f1-score   support\n",
      "\n",
      "  TripType_3       0.96      0.98      0.97      3643\n",
      "  TripType_4       0.99      0.99      0.99       346\n",
      "  TripType_5       0.94      0.97      0.96      4593\n",
      "  TripType_6       0.98      0.99      0.98      1277\n",
      "  TripType_7       0.95      0.95      0.95      5752\n",
      "  TripType_8       0.94      0.95      0.94     12161\n",
      "  TripType_9       0.90      0.94      0.92      9464\n",
      " TripType_12       1.00      0.98      0.99       269\n",
      " TripType_14       1.00      0.75      0.86         4\n",
      " TripType_15       0.97      0.95      0.96       978\n",
      " TripType_18       0.96      0.90      0.93       549\n",
      " TripType_19       0.96      0.93      0.94       375\n",
      " TripType_20       0.98      0.93      0.95       637\n",
      " TripType_21       0.98      0.97      0.98       641\n",
      " TripType_22       0.97      0.94      0.95       928\n",
      " TripType_23       0.99      0.99      0.99       139\n",
      " TripType_24       0.97      0.95      0.96      2609\n",
      " TripType_25       0.97      0.98      0.97      3698\n",
      " TripType_26       0.96      0.93      0.94       503\n",
      " TripType_27       0.98      0.94      0.96       785\n",
      " TripType_28       0.98      0.91      0.95       492\n",
      " TripType_29       1.00      0.96      0.98       433\n",
      " TripType_30       0.96      0.92      0.94      1081\n",
      " TripType_31       0.95      0.98      0.97       594\n",
      " TripType_32       0.97      0.99      0.98      1984\n",
      " TripType_33       0.99      0.98      0.98      1315\n",
      " TripType_34       0.96      0.94      0.95       719\n",
      " TripType_35       0.96      0.92      0.94      2030\n",
      " TripType_36       0.95      0.96      0.95      3005\n",
      " TripType_37       0.98      0.97      0.98      2788\n",
      " TripType_38       0.98      0.96      0.97      2912\n",
      " TripType_39       0.96      0.97      0.96      9896\n",
      " TripType_40       1.00      1.00      1.00      6130\n",
      " TripType_41       1.00      0.94      0.97       583\n",
      " TripType_42       0.99      0.94      0.96      1858\n",
      " TripType_43       1.00      0.85      0.92       872\n",
      " TripType_44       1.00      0.99      0.99      1187\n",
      "TripType_999       0.99      0.93      0.96      8444\n",
      "\n",
      " avg / total       0.96      0.96      0.96     95674\n",
      "\n"
     ]
    }
   ],
   "source": [
    "print(classification_report(y_train, prediction,\n",
    "    target_names=['TripType_3', 'TripType_4', 'TripType_5', 'TripType_6',\n",
    "       'TripType_7', 'TripType_8', 'TripType_9', 'TripType_12', 'TripType_14',\n",
    "       'TripType_15', 'TripType_18', 'TripType_19', 'TripType_20',\n",
    "       'TripType_21', 'TripType_22', 'TripType_23', 'TripType_24',\n",
    "       'TripType_25', 'TripType_26', 'TripType_27', 'TripType_28',\n",
    "       'TripType_29', 'TripType_30', 'TripType_31', 'TripType_32',\n",
    "       'TripType_33', 'TripType_34', 'TripType_35', 'TripType_36',\n",
    "       'TripType_37', 'TripType_38', 'TripType_39', 'TripType_40',\n",
    "       'TripType_41', 'TripType_42', 'TripType_43', 'TripType_44',\n",
    "       'TripType_999']))"
   ]
  },
  {
   "cell_type": "code",
   "execution_count": 23,
   "metadata": {},
   "outputs": [
    {
     "name": "stdout",
     "output_type": "stream",
     "text": [
      "(95674, 38)\n"
     ]
    },
    {
     "data": {
      "text/plain": [
       "array([[  6.55403128e-05,   6.59813813e-05,   1.37799914e-04, ...,\n",
       "          1.03790069e-03,   3.44249042e-04,   5.42673282e-03],\n",
       "       [  1.41024444e-04,   1.41973505e-04,   3.04424902e-04, ...,\n",
       "          6.69852970e-03,   3.33289674e-04,   5.37350075e-03],\n",
       "       [  7.65838377e-06,   7.70992210e-06,   1.65319034e-05, ...,\n",
       "          8.42517056e-06,   8.19213255e-06,   9.99270856e-01],\n",
       "       ..., \n",
       "       [  1.06120344e-04,   1.06834501e-04,   2.61593203e-04, ...,\n",
       "          1.16745628e-04,   1.13516478e-04,   5.85848000e-03],\n",
       "       [  5.30246616e-05,   3.41149644e-05,   7.00295423e-05, ...,\n",
       "          4.67323326e-03,   3.89588228e-03,   1.66024678e-04],\n",
       "       [  9.91190882e-06,   9.97862298e-06,   2.13965177e-05, ...,\n",
       "          2.03721225e-03,   1.03908917e-03,   2.43809467e-04]], dtype=float32)"
      ]
     },
     "execution_count": 23,
     "metadata": {},
     "output_type": "execute_result"
    }
   ],
   "source": [
    "prediction_prob = model.predict_proba(X_test)\n",
    "\n",
    "print(prediction_prob.shape)\n",
    "prediction_prob"
   ]
  },
  {
   "cell_type": "markdown",
   "metadata": {},
   "source": [
    "### Submission"
   ]
  },
  {
   "cell_type": "code",
   "execution_count": 24,
   "metadata": {},
   "outputs": [],
   "source": [
    "submission_columns = ['TripType_3', 'TripType_4', 'TripType_5', 'TripType_6',\n",
    "       'TripType_7', 'TripType_8', 'TripType_9', 'TripType_12', 'TripType_14',\n",
    "       'TripType_15', 'TripType_18', 'TripType_19', 'TripType_20',\n",
    "       'TripType_21', 'TripType_22', 'TripType_23', 'TripType_24',\n",
    "       'TripType_25', 'TripType_26', 'TripType_27', 'TripType_28',\n",
    "       'TripType_29', 'TripType_30', 'TripType_31', 'TripType_32',\n",
    "       'TripType_33', 'TripType_34', 'TripType_35', 'TripType_36',\n",
    "       'TripType_37', 'TripType_38', 'TripType_39', 'TripType_40',\n",
    "       'TripType_41', 'TripType_42', 'TripType_43', 'TripType_44',\n",
    "       'TripType_999']\n",
    "\n",
    "X_submission = pd.DataFrame(prediction_prob, columns=submission_columns)"
   ]
  },
  {
   "cell_type": "code",
   "execution_count": 25,
   "metadata": {},
   "outputs": [],
   "source": [
    "test = pd.read_csv(\"test.csv\")"
   ]
  },
  {
   "cell_type": "code",
   "execution_count": 26,
   "metadata": {},
   "outputs": [],
   "source": [
    "X_submission[\"VisitNumber\"] = test[\"VisitNumber\"].unique()"
   ]
  },
  {
   "cell_type": "code",
   "execution_count": 27,
   "metadata": {
    "scrolled": true
   },
   "outputs": [
    {
     "data": {
      "text/html": [
       "<div>\n",
       "<style scoped>\n",
       "    .dataframe tbody tr th:only-of-type {\n",
       "        vertical-align: middle;\n",
       "    }\n",
       "\n",
       "    .dataframe tbody tr th {\n",
       "        vertical-align: top;\n",
       "    }\n",
       "\n",
       "    .dataframe thead th {\n",
       "        text-align: right;\n",
       "    }\n",
       "</style>\n",
       "<table border=\"1\" class=\"dataframe\">\n",
       "  <thead>\n",
       "    <tr style=\"text-align: right;\">\n",
       "      <th></th>\n",
       "      <th>VisitNumber</th>\n",
       "      <th>TripType_3</th>\n",
       "      <th>TripType_4</th>\n",
       "      <th>TripType_5</th>\n",
       "      <th>TripType_6</th>\n",
       "      <th>TripType_7</th>\n",
       "      <th>TripType_8</th>\n",
       "      <th>TripType_9</th>\n",
       "      <th>TripType_12</th>\n",
       "      <th>TripType_14</th>\n",
       "      <th>...</th>\n",
       "      <th>TripType_36</th>\n",
       "      <th>TripType_37</th>\n",
       "      <th>TripType_38</th>\n",
       "      <th>TripType_39</th>\n",
       "      <th>TripType_40</th>\n",
       "      <th>TripType_41</th>\n",
       "      <th>TripType_42</th>\n",
       "      <th>TripType_43</th>\n",
       "      <th>TripType_44</th>\n",
       "      <th>TripType_999</th>\n",
       "    </tr>\n",
       "  </thead>\n",
       "  <tbody>\n",
       "    <tr>\n",
       "      <th>0</th>\n",
       "      <td>1</td>\n",
       "      <td>0.000066</td>\n",
       "      <td>0.000066</td>\n",
       "      <td>0.000138</td>\n",
       "      <td>0.000068</td>\n",
       "      <td>0.001220</td>\n",
       "      <td>0.012816</td>\n",
       "      <td>0.007322</td>\n",
       "      <td>0.000077</td>\n",
       "      <td>0.000065</td>\n",
       "      <td>...</td>\n",
       "      <td>0.000138</td>\n",
       "      <td>0.000100</td>\n",
       "      <td>0.218302</td>\n",
       "      <td>0.007198</td>\n",
       "      <td>0.000177</td>\n",
       "      <td>0.011709</td>\n",
       "      <td>0.002580</td>\n",
       "      <td>0.001038</td>\n",
       "      <td>0.000344</td>\n",
       "      <td>0.005427</td>\n",
       "    </tr>\n",
       "    <tr>\n",
       "      <th>1</th>\n",
       "      <td>2</td>\n",
       "      <td>0.000141</td>\n",
       "      <td>0.000142</td>\n",
       "      <td>0.000304</td>\n",
       "      <td>0.000228</td>\n",
       "      <td>0.006282</td>\n",
       "      <td>0.020472</td>\n",
       "      <td>0.041815</td>\n",
       "      <td>0.000304</td>\n",
       "      <td>0.000141</td>\n",
       "      <td>...</td>\n",
       "      <td>0.000326</td>\n",
       "      <td>0.000205</td>\n",
       "      <td>0.007067</td>\n",
       "      <td>0.224432</td>\n",
       "      <td>0.000148</td>\n",
       "      <td>0.000774</td>\n",
       "      <td>0.003559</td>\n",
       "      <td>0.006699</td>\n",
       "      <td>0.000333</td>\n",
       "      <td>0.005374</td>\n",
       "    </tr>\n",
       "    <tr>\n",
       "      <th>2</th>\n",
       "      <td>3</td>\n",
       "      <td>0.000008</td>\n",
       "      <td>0.000008</td>\n",
       "      <td>0.000017</td>\n",
       "      <td>0.000010</td>\n",
       "      <td>0.000130</td>\n",
       "      <td>0.000176</td>\n",
       "      <td>0.000022</td>\n",
       "      <td>0.000008</td>\n",
       "      <td>0.000008</td>\n",
       "      <td>...</td>\n",
       "      <td>0.000017</td>\n",
       "      <td>0.000010</td>\n",
       "      <td>0.000026</td>\n",
       "      <td>0.000018</td>\n",
       "      <td>0.000008</td>\n",
       "      <td>0.000009</td>\n",
       "      <td>0.000016</td>\n",
       "      <td>0.000008</td>\n",
       "      <td>0.000008</td>\n",
       "      <td>0.999271</td>\n",
       "    </tr>\n",
       "    <tr>\n",
       "      <th>3</th>\n",
       "      <td>4</td>\n",
       "      <td>0.000096</td>\n",
       "      <td>0.000097</td>\n",
       "      <td>0.000208</td>\n",
       "      <td>0.000121</td>\n",
       "      <td>0.001743</td>\n",
       "      <td>0.031014</td>\n",
       "      <td>0.939507</td>\n",
       "      <td>0.000103</td>\n",
       "      <td>0.000366</td>\n",
       "      <td>...</td>\n",
       "      <td>0.000208</td>\n",
       "      <td>0.000128</td>\n",
       "      <td>0.000309</td>\n",
       "      <td>0.000214</td>\n",
       "      <td>0.000099</td>\n",
       "      <td>0.000121</td>\n",
       "      <td>0.000285</td>\n",
       "      <td>0.000106</td>\n",
       "      <td>0.000103</td>\n",
       "      <td>0.016927</td>\n",
       "    </tr>\n",
       "    <tr>\n",
       "      <th>4</th>\n",
       "      <td>6</td>\n",
       "      <td>0.000008</td>\n",
       "      <td>0.000008</td>\n",
       "      <td>0.000017</td>\n",
       "      <td>0.000010</td>\n",
       "      <td>0.000130</td>\n",
       "      <td>0.000176</td>\n",
       "      <td>0.000022</td>\n",
       "      <td>0.000008</td>\n",
       "      <td>0.000008</td>\n",
       "      <td>...</td>\n",
       "      <td>0.000017</td>\n",
       "      <td>0.000010</td>\n",
       "      <td>0.000026</td>\n",
       "      <td>0.000018</td>\n",
       "      <td>0.000008</td>\n",
       "      <td>0.000009</td>\n",
       "      <td>0.000016</td>\n",
       "      <td>0.000008</td>\n",
       "      <td>0.000008</td>\n",
       "      <td>0.999271</td>\n",
       "    </tr>\n",
       "  </tbody>\n",
       "</table>\n",
       "<p>5 rows × 39 columns</p>\n",
       "</div>"
      ],
      "text/plain": [
       "   VisitNumber  TripType_3  TripType_4  TripType_5  TripType_6  TripType_7  \\\n",
       "0            1    0.000066    0.000066    0.000138    0.000068    0.001220   \n",
       "1            2    0.000141    0.000142    0.000304    0.000228    0.006282   \n",
       "2            3    0.000008    0.000008    0.000017    0.000010    0.000130   \n",
       "3            4    0.000096    0.000097    0.000208    0.000121    0.001743   \n",
       "4            6    0.000008    0.000008    0.000017    0.000010    0.000130   \n",
       "\n",
       "   TripType_8  TripType_9  TripType_12  TripType_14      ...       \\\n",
       "0    0.012816    0.007322     0.000077     0.000065      ...        \n",
       "1    0.020472    0.041815     0.000304     0.000141      ...        \n",
       "2    0.000176    0.000022     0.000008     0.000008      ...        \n",
       "3    0.031014    0.939507     0.000103     0.000366      ...        \n",
       "4    0.000176    0.000022     0.000008     0.000008      ...        \n",
       "\n",
       "   TripType_36  TripType_37  TripType_38  TripType_39  TripType_40  \\\n",
       "0     0.000138     0.000100     0.218302     0.007198     0.000177   \n",
       "1     0.000326     0.000205     0.007067     0.224432     0.000148   \n",
       "2     0.000017     0.000010     0.000026     0.000018     0.000008   \n",
       "3     0.000208     0.000128     0.000309     0.000214     0.000099   \n",
       "4     0.000017     0.000010     0.000026     0.000018     0.000008   \n",
       "\n",
       "   TripType_41  TripType_42  TripType_43  TripType_44  TripType_999  \n",
       "0     0.011709     0.002580     0.001038     0.000344      0.005427  \n",
       "1     0.000774     0.003559     0.006699     0.000333      0.005374  \n",
       "2     0.000009     0.000016     0.000008     0.000008      0.999271  \n",
       "3     0.000121     0.000285     0.000106     0.000103      0.016927  \n",
       "4     0.000009     0.000016     0.000008     0.000008      0.999271  \n",
       "\n",
       "[5 rows x 39 columns]"
      ]
     },
     "execution_count": 27,
     "metadata": {},
     "output_type": "execute_result"
    }
   ],
   "source": [
    "submission_columns.insert(0, 'VisitNumber')\n",
    "submission = X_submission[submission_columns]\n",
    "submission.head()"
   ]
  },
  {
   "cell_type": "code",
   "execution_count": 28,
   "metadata": {},
   "outputs": [],
   "source": [
    "submission.to_csv(\"submission01.csv\", index=False)"
   ]
  },
  {
   "cell_type": "code",
   "execution_count": null,
   "metadata": {},
   "outputs": [],
   "source": []
  }
 ],
 "metadata": {
  "kernelspec": {
   "display_name": "Python 3",
   "language": "python",
   "name": "python3"
  },
  "language_info": {
   "codemirror_mode": {
    "name": "ipython",
    "version": 3
   },
   "file_extension": ".py",
   "mimetype": "text/x-python",
   "name": "python",
   "nbconvert_exporter": "python",
   "pygments_lexer": "ipython3",
   "version": "3.6.6"
  }
 },
 "nbformat": 4,
 "nbformat_minor": 2
}
