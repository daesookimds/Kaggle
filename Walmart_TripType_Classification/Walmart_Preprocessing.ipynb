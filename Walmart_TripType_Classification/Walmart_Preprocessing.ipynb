{
 "cells": [
  {
   "cell_type": "markdown",
   "metadata": {},
   "source": [
    "# Walmart Classification Preprocessing\n",
    "1. Data Load\n",
    "2. Fill NaN\n",
    "    - DepartmentDescription\n",
    "    - FinelineNumber\n",
    "    - Upc\n",
    "3. DepartmentDescription Encode\n",
    "4. Weekday Encode\n",
    "5. Divide Upc\n",
    "    - Compnay Upc\n",
    "    - Product Upc\n",
    "6. Company_Upc Encode"
   ]
  },
  {
   "cell_type": "code",
   "execution_count": 1,
   "metadata": {},
   "outputs": [],
   "source": [
    "import pandas as pd\n",
    "import numpy as np\n",
    "import preprocessing_functions as pf\n",
    "from functools import partial\n",
    "from tqdm import tqdm"
   ]
  },
  {
   "cell_type": "markdown",
   "metadata": {},
   "source": [
    "## 1. Data Load"
   ]
  },
  {
   "cell_type": "code",
   "execution_count": 2,
   "metadata": {},
   "outputs": [
    {
     "name": "stdout",
     "output_type": "stream",
     "text": [
      "(647054, 7)\n"
     ]
    },
    {
     "data": {
      "text/html": [
       "<div>\n",
       "<style scoped>\n",
       "    .dataframe tbody tr th:only-of-type {\n",
       "        vertical-align: middle;\n",
       "    }\n",
       "\n",
       "    .dataframe tbody tr th {\n",
       "        vertical-align: top;\n",
       "    }\n",
       "\n",
       "    .dataframe thead th {\n",
       "        text-align: right;\n",
       "    }\n",
       "</style>\n",
       "<table border=\"1\" class=\"dataframe\">\n",
       "  <thead>\n",
       "    <tr style=\"text-align: right;\">\n",
       "      <th></th>\n",
       "      <th>TripType</th>\n",
       "      <th>VisitNumber</th>\n",
       "      <th>Weekday</th>\n",
       "      <th>Upc</th>\n",
       "      <th>ScanCount</th>\n",
       "      <th>DepartmentDescription</th>\n",
       "      <th>FinelineNumber</th>\n",
       "    </tr>\n",
       "  </thead>\n",
       "  <tbody>\n",
       "    <tr>\n",
       "      <th>0</th>\n",
       "      <td>999</td>\n",
       "      <td>5</td>\n",
       "      <td>Friday</td>\n",
       "      <td>6.811315e+10</td>\n",
       "      <td>-1</td>\n",
       "      <td>FINANCIAL SERVICES</td>\n",
       "      <td>1000.0</td>\n",
       "    </tr>\n",
       "    <tr>\n",
       "      <th>1</th>\n",
       "      <td>30</td>\n",
       "      <td>7</td>\n",
       "      <td>Friday</td>\n",
       "      <td>6.053882e+10</td>\n",
       "      <td>1</td>\n",
       "      <td>SHOES</td>\n",
       "      <td>8931.0</td>\n",
       "    </tr>\n",
       "    <tr>\n",
       "      <th>2</th>\n",
       "      <td>30</td>\n",
       "      <td>7</td>\n",
       "      <td>Friday</td>\n",
       "      <td>7.410811e+09</td>\n",
       "      <td>1</td>\n",
       "      <td>PERSONAL CARE</td>\n",
       "      <td>4504.0</td>\n",
       "    </tr>\n",
       "    <tr>\n",
       "      <th>3</th>\n",
       "      <td>26</td>\n",
       "      <td>8</td>\n",
       "      <td>Friday</td>\n",
       "      <td>2.238404e+09</td>\n",
       "      <td>2</td>\n",
       "      <td>PAINT AND ACCESSORIES</td>\n",
       "      <td>3565.0</td>\n",
       "    </tr>\n",
       "    <tr>\n",
       "      <th>4</th>\n",
       "      <td>26</td>\n",
       "      <td>8</td>\n",
       "      <td>Friday</td>\n",
       "      <td>2.006614e+09</td>\n",
       "      <td>2</td>\n",
       "      <td>PAINT AND ACCESSORIES</td>\n",
       "      <td>1017.0</td>\n",
       "    </tr>\n",
       "  </tbody>\n",
       "</table>\n",
       "</div>"
      ],
      "text/plain": [
       "   TripType  VisitNumber Weekday           Upc  ScanCount  \\\n",
       "0       999            5  Friday  6.811315e+10         -1   \n",
       "1        30            7  Friday  6.053882e+10          1   \n",
       "2        30            7  Friday  7.410811e+09          1   \n",
       "3        26            8  Friday  2.238404e+09          2   \n",
       "4        26            8  Friday  2.006614e+09          2   \n",
       "\n",
       "   DepartmentDescription  FinelineNumber  \n",
       "0     FINANCIAL SERVICES          1000.0  \n",
       "1                  SHOES          8931.0  \n",
       "2          PERSONAL CARE          4504.0  \n",
       "3  PAINT AND ACCESSORIES          3565.0  \n",
       "4  PAINT AND ACCESSORIES          1017.0  "
      ]
     },
     "execution_count": 2,
     "metadata": {},
     "output_type": "execute_result"
    }
   ],
   "source": [
    "train = pd.read_csv(\"train.csv\")\n",
    "\n",
    "print(train.shape)\n",
    "train.head()"
   ]
  },
  {
   "cell_type": "code",
   "execution_count": 3,
   "metadata": {},
   "outputs": [
    {
     "name": "stdout",
     "output_type": "stream",
     "text": [
      "(653646, 6)\n"
     ]
    },
    {
     "data": {
      "text/html": [
       "<div>\n",
       "<style scoped>\n",
       "    .dataframe tbody tr th:only-of-type {\n",
       "        vertical-align: middle;\n",
       "    }\n",
       "\n",
       "    .dataframe tbody tr th {\n",
       "        vertical-align: top;\n",
       "    }\n",
       "\n",
       "    .dataframe thead th {\n",
       "        text-align: right;\n",
       "    }\n",
       "</style>\n",
       "<table border=\"1\" class=\"dataframe\">\n",
       "  <thead>\n",
       "    <tr style=\"text-align: right;\">\n",
       "      <th></th>\n",
       "      <th>VisitNumber</th>\n",
       "      <th>Weekday</th>\n",
       "      <th>Upc</th>\n",
       "      <th>ScanCount</th>\n",
       "      <th>DepartmentDescription</th>\n",
       "      <th>FinelineNumber</th>\n",
       "    </tr>\n",
       "  </thead>\n",
       "  <tbody>\n",
       "    <tr>\n",
       "      <th>0</th>\n",
       "      <td>1</td>\n",
       "      <td>Friday</td>\n",
       "      <td>7.250339e+10</td>\n",
       "      <td>1</td>\n",
       "      <td>SHOES</td>\n",
       "      <td>3002.0</td>\n",
       "    </tr>\n",
       "    <tr>\n",
       "      <th>1</th>\n",
       "      <td>1</td>\n",
       "      <td>Friday</td>\n",
       "      <td>1.707711e+09</td>\n",
       "      <td>1</td>\n",
       "      <td>DAIRY</td>\n",
       "      <td>1526.0</td>\n",
       "    </tr>\n",
       "    <tr>\n",
       "      <th>2</th>\n",
       "      <td>1</td>\n",
       "      <td>Friday</td>\n",
       "      <td>8.947000e+10</td>\n",
       "      <td>1</td>\n",
       "      <td>DAIRY</td>\n",
       "      <td>1431.0</td>\n",
       "    </tr>\n",
       "    <tr>\n",
       "      <th>3</th>\n",
       "      <td>1</td>\n",
       "      <td>Friday</td>\n",
       "      <td>8.849121e+10</td>\n",
       "      <td>1</td>\n",
       "      <td>GROCERY DRY GOODS</td>\n",
       "      <td>3555.0</td>\n",
       "    </tr>\n",
       "    <tr>\n",
       "      <th>4</th>\n",
       "      <td>2</td>\n",
       "      <td>Friday</td>\n",
       "      <td>2.840015e+09</td>\n",
       "      <td>1</td>\n",
       "      <td>DSD GROCERY</td>\n",
       "      <td>4408.0</td>\n",
       "    </tr>\n",
       "  </tbody>\n",
       "</table>\n",
       "</div>"
      ],
      "text/plain": [
       "   VisitNumber Weekday           Upc  ScanCount DepartmentDescription  \\\n",
       "0            1  Friday  7.250339e+10          1                 SHOES   \n",
       "1            1  Friday  1.707711e+09          1                 DAIRY   \n",
       "2            1  Friday  8.947000e+10          1                 DAIRY   \n",
       "3            1  Friday  8.849121e+10          1     GROCERY DRY GOODS   \n",
       "4            2  Friday  2.840015e+09          1           DSD GROCERY   \n",
       "\n",
       "   FinelineNumber  \n",
       "0          3002.0  \n",
       "1          1526.0  \n",
       "2          1431.0  \n",
       "3          3555.0  \n",
       "4          4408.0  "
      ]
     },
     "execution_count": 3,
     "metadata": {},
     "output_type": "execute_result"
    }
   ],
   "source": [
    "test = pd.read_csv(\"test.csv\")\n",
    "\n",
    "print(test.shape)\n",
    "test.head()"
   ]
  },
  {
   "cell_type": "markdown",
   "metadata": {},
   "source": [
    "## 2. Pre-Processing"
   ]
  },
  {
   "cell_type": "markdown",
   "metadata": {},
   "source": [
    "### Fill NaN"
   ]
  },
  {
   "cell_type": "markdown",
   "metadata": {},
   "source": [
    "### Fill in missing DepartmentDescription - train\n",
    "- VisitNumber에 따른 DepartmentDescription의 최빈값으로 DepartmentDescription의 빈값 채우기\n",
    "- 유추할 수 없는 191개의 값은 'UNKNOWN' 으로 대체"
   ]
  },
  {
   "cell_type": "code",
   "execution_count": 4,
   "metadata": {},
   "outputs": [
    {
     "data": {
      "text/plain": [
       "546        LAWN AND GARDEN\n",
       "547        LAWN AND GARDEN\n",
       "548                    NaN\n",
       "549                    NaN\n",
       "550        LAWN AND GARDEN\n",
       "551        LAWN AND GARDEN\n",
       "552    IMPULSE MERCHANDISE\n",
       "Name: DepartmentDescription, dtype: object"
      ]
     },
     "execution_count": 4,
     "metadata": {},
     "output_type": "execute_result"
    }
   ],
   "source": [
    "train.loc[train[\"VisitNumber\"]==259, \"DepartmentDescription\"]"
   ]
  },
  {
   "cell_type": "code",
   "execution_count": 5,
   "metadata": {},
   "outputs": [],
   "source": [
    "DD_VN_list = train[train[\"DepartmentDescription\"].isna()][\"VisitNumber\"].unique()"
   ]
  },
  {
   "cell_type": "code",
   "execution_count": 6,
   "metadata": {},
   "outputs": [
    {
     "name": "stderr",
     "output_type": "stream",
     "text": [
      "100%|██████████| 1172/1172 [00:35<00:00, 32.74it/s]\n"
     ]
    }
   ],
   "source": [
    "for loc in tqdm(DD_VN_list): # if: 특정 VisitNumber 따른 DepartmentDescription 값이 모두 비어있는 경우 제외\n",
    "    if len(train[train[\"VisitNumber\"] == loc][\"DepartmentDescription\"].value_counts().index) != 0:\n",
    "        train.loc[(train[\"VisitNumber\"] == loc)&(train[\"DepartmentDescription\"].isna()), \"DepartmentDescription\"] = train[train[\"VisitNumber\"] == loc][\"DepartmentDescription\"].value_counts().index[0]"
   ]
  },
  {
   "cell_type": "code",
   "execution_count": 7,
   "metadata": {},
   "outputs": [
    {
     "data": {
      "text/plain": [
       "546        LAWN AND GARDEN\n",
       "547        LAWN AND GARDEN\n",
       "548        LAWN AND GARDEN\n",
       "549        LAWN AND GARDEN\n",
       "550        LAWN AND GARDEN\n",
       "551        LAWN AND GARDEN\n",
       "552    IMPULSE MERCHANDISE\n",
       "Name: DepartmentDescription, dtype: object"
      ]
     },
     "execution_count": 7,
     "metadata": {},
     "output_type": "execute_result"
    }
   ],
   "source": [
    "train.loc[train[\"VisitNumber\"]==259, \"DepartmentDescription\"]"
   ]
  },
  {
   "cell_type": "markdown",
   "metadata": {},
   "source": [
    "### Fill in missing DepartmentDescription - test\n",
    "- VisitNumber에 따른 DepartmentDescription의 최빈값으로 DepartmentDescription의 빈값 채우기\n",
    "- 유추할 수 없는 191개의 값은 'UNKNOWN' 으로 대체"
   ]
  },
  {
   "cell_type": "code",
   "execution_count": 8,
   "metadata": {},
   "outputs": [
    {
     "data": {
      "text/plain": [
       "2115             AUTOMOTIVE\n",
       "2116             AUTOMOTIVE\n",
       "2117                    NaN\n",
       "2118                    NaN\n",
       "2119             AUTOMOTIVE\n",
       "2120    IMPULSE MERCHANDISE\n",
       "Name: DepartmentDescription, dtype: object"
      ]
     },
     "execution_count": 8,
     "metadata": {},
     "output_type": "execute_result"
    }
   ],
   "source": [
    "test.loc[test[\"VisitNumber\"]==874, \"DepartmentDescription\"]"
   ]
  },
  {
   "cell_type": "code",
   "execution_count": 9,
   "metadata": {},
   "outputs": [],
   "source": [
    "DD_VN_list_t = test[test[\"DepartmentDescription\"].isna()][\"VisitNumber\"].unique()"
   ]
  },
  {
   "cell_type": "code",
   "execution_count": 10,
   "metadata": {},
   "outputs": [
    {
     "name": "stderr",
     "output_type": "stream",
     "text": [
      "100%|██████████| 1141/1141 [00:36<00:00, 31.27it/s]\n"
     ]
    }
   ],
   "source": [
    "for loc in tqdm(DD_VN_list_t): # if: 특정 VisitNumber 따른 DepartmentDescription 값이 모두 비어있는 경우 제외\n",
    "    if len(test[test[\"VisitNumber\"] == loc][\"DepartmentDescription\"].value_counts().index) != 0:\n",
    "        test.loc[(test[\"VisitNumber\"] == loc)&(test[\"DepartmentDescription\"].isna()), \"DepartmentDescription\"] = test[test[\"VisitNumber\"] == loc][\"DepartmentDescription\"].value_counts().index[0]"
   ]
  },
  {
   "cell_type": "code",
   "execution_count": 11,
   "metadata": {},
   "outputs": [
    {
     "data": {
      "text/plain": [
       "2115             AUTOMOTIVE\n",
       "2116             AUTOMOTIVE\n",
       "2117             AUTOMOTIVE\n",
       "2118             AUTOMOTIVE\n",
       "2119             AUTOMOTIVE\n",
       "2120    IMPULSE MERCHANDISE\n",
       "Name: DepartmentDescription, dtype: object"
      ]
     },
     "execution_count": 11,
     "metadata": {},
     "output_type": "execute_result"
    }
   ],
   "source": [
    "test.loc[test[\"VisitNumber\"]==874, \"DepartmentDescription\"]"
   ]
  },
  {
   "cell_type": "markdown",
   "metadata": {},
   "source": [
    "### Fill in missing FinelineNumber - train\n",
    "- DepartmentDescription이 'PHARMACY RX'인 빈값이 들어있는 FinelineNumber에는 DepartmentDescription이 'PHARMACY RX'일때의 FinelineNumber의 최빈값으로 채워준다.\n",
    "- VisitNumber에 따른 FinelineNumber의 최빈값으로 FinelineNumber의 빈값 채우기\n",
    "- 191개의 유추할 수 없는 값은 기존에 있던 값과 중복되지 않는 -9999 값으로 대체"
   ]
  },
  {
   "cell_type": "code",
   "execution_count": 12,
   "metadata": {},
   "outputs": [
    {
     "data": {
      "text/plain": [
       "4822.0    84\n",
       "5615.0    63\n",
       "1335.0     6\n",
       "1336.0     1\n",
       "Name: FinelineNumber, dtype: int64"
      ]
     },
     "execution_count": 12,
     "metadata": {},
     "output_type": "execute_result"
    }
   ],
   "source": [
    "train[train[\"DepartmentDescription\"] == 'PHARMACY RX'][\"FinelineNumber\"].value_counts()"
   ]
  },
  {
   "cell_type": "code",
   "execution_count": 13,
   "metadata": {},
   "outputs": [
    {
     "name": "stderr",
     "output_type": "stream",
     "text": [
      "2922it [00:09, 292.49it/s]\n"
     ]
    },
    {
     "data": {
      "text/html": [
       "<div>\n",
       "<style scoped>\n",
       "    .dataframe tbody tr th:only-of-type {\n",
       "        vertical-align: middle;\n",
       "    }\n",
       "\n",
       "    .dataframe tbody tr th {\n",
       "        vertical-align: top;\n",
       "    }\n",
       "\n",
       "    .dataframe thead th {\n",
       "        text-align: right;\n",
       "    }\n",
       "</style>\n",
       "<table border=\"1\" class=\"dataframe\">\n",
       "  <thead>\n",
       "    <tr style=\"text-align: right;\">\n",
       "      <th></th>\n",
       "      <th>DepartmentDescription</th>\n",
       "      <th>FinelineNumber</th>\n",
       "    </tr>\n",
       "  </thead>\n",
       "  <tbody>\n",
       "    <tr>\n",
       "      <th>1155</th>\n",
       "      <td>PHARMACY RX</td>\n",
       "      <td>4822.0</td>\n",
       "    </tr>\n",
       "    <tr>\n",
       "      <th>1216</th>\n",
       "      <td>PHARMACY RX</td>\n",
       "      <td>5615.0</td>\n",
       "    </tr>\n",
       "    <tr>\n",
       "      <th>1373</th>\n",
       "      <td>PHARMACY RX</td>\n",
       "      <td>4822.0</td>\n",
       "    </tr>\n",
       "    <tr>\n",
       "      <th>1455</th>\n",
       "      <td>PHARMACY RX</td>\n",
       "      <td>5615.0</td>\n",
       "    </tr>\n",
       "    <tr>\n",
       "      <th>1456</th>\n",
       "      <td>PHARMACY RX</td>\n",
       "      <td>4822.0</td>\n",
       "    </tr>\n",
       "  </tbody>\n",
       "</table>\n",
       "</div>"
      ],
      "text/plain": [
       "     DepartmentDescription  FinelineNumber\n",
       "1155           PHARMACY RX          4822.0\n",
       "1216           PHARMACY RX          5615.0\n",
       "1373           PHARMACY RX          4822.0\n",
       "1455           PHARMACY RX          5615.0\n",
       "1456           PHARMACY RX          4822.0"
      ]
     },
     "execution_count": 13,
     "metadata": {},
     "output_type": "execute_result"
    }
   ],
   "source": [
    "Pharmacy_idx = train[train[\"DepartmentDescription\"]=='PHARMACY RX'].index\n",
    "number_idx = np.arange(2922)\n",
    "idx_box = zip(number_idx, Pharmacy_idx)\n",
    "\n",
    "\n",
    "for idx, Pha_idx in tqdm(idx_box):\n",
    "    if idx % 2 == 0:\n",
    "        train.loc[Pha_idx, \"FinelineNumber\"] = 4822.0\n",
    "    else:\n",
    "        train.loc[Pha_idx, \"FinelineNumber\"] = 5615.0\n",
    "        \n",
    "train[train[\"DepartmentDescription\"] == 'PHARMACY RX'][[\"DepartmentDescription\", \"FinelineNumber\"]].head()"
   ]
  },
  {
   "cell_type": "code",
   "execution_count": 14,
   "metadata": {},
   "outputs": [
    {
     "data": {
      "text/plain": [
       "546    5141.0\n",
       "547    1748.0\n",
       "548       NaN\n",
       "549       NaN\n",
       "550    2605.0\n",
       "551    2605.0\n",
       "552     337.0\n",
       "Name: FinelineNumber, dtype: float64"
      ]
     },
     "execution_count": 14,
     "metadata": {},
     "output_type": "execute_result"
    }
   ],
   "source": [
    "train.loc[train[\"VisitNumber\"]==259, \"FinelineNumber\"]"
   ]
  },
  {
   "cell_type": "code",
   "execution_count": 15,
   "metadata": {},
   "outputs": [],
   "source": [
    "FN_VN_list = train[train[\"FinelineNumber\"].isna()][\"VisitNumber\"].unique()"
   ]
  },
  {
   "cell_type": "code",
   "execution_count": 16,
   "metadata": {},
   "outputs": [
    {
     "name": "stderr",
     "output_type": "stream",
     "text": [
      "100%|██████████| 1172/1172 [00:10<00:00, 106.93it/s]\n"
     ]
    }
   ],
   "source": [
    "for loc in tqdm(FN_VN_list): # if: 특정 VisitNumber 따른 FinelineNumber 값이 모두 비어있는 경우 제외\n",
    "    if len(train[train[\"VisitNumber\"] == loc][\"FinelineNumber\"].value_counts().index) != 0:\n",
    "        train.loc[(train[\"VisitNumber\"] == loc)&(train[\"FinelineNumber\"].isna()), \"FinelineNumber\"] = train[train[\"VisitNumber\"] == loc][\"FinelineNumber\"].value_counts().index[0]"
   ]
  },
  {
   "cell_type": "code",
   "execution_count": 17,
   "metadata": {},
   "outputs": [
    {
     "data": {
      "text/plain": [
       "546    5141.0\n",
       "547    1748.0\n",
       "548    2605.0\n",
       "549    2605.0\n",
       "550    2605.0\n",
       "551    2605.0\n",
       "552     337.0\n",
       "Name: FinelineNumber, dtype: float64"
      ]
     },
     "execution_count": 17,
     "metadata": {},
     "output_type": "execute_result"
    }
   ],
   "source": [
    "train.loc[train[\"VisitNumber\"]==259, \"FinelineNumber\"]"
   ]
  },
  {
   "cell_type": "markdown",
   "metadata": {},
   "source": [
    "### Fill in missing FinelineNumber - test\n",
    "- DepartmentDescription이 'PHARMACY RX'인 빈값이 들어있는 FinelineNumber에는 DepartmentDescription이 'PHARMACY RX'일때의 FinelineNumber의 최빈값으로 채워준다.\n",
    "- VisitNumber에 따른 FinelineNumber의 최빈값으로 FinelineNumber의 빈값 채우기\n",
    "- 유추할 수 없는 값은 기존에 있던 값과 중복되지 않는 -9999 값으로 대체"
   ]
  },
  {
   "cell_type": "code",
   "execution_count": 18,
   "metadata": {},
   "outputs": [
    {
     "data": {
      "text/plain": [
       "4822.0    79\n",
       "5615.0    45\n",
       "1335.0     2\n",
       "Name: FinelineNumber, dtype: int64"
      ]
     },
     "execution_count": 18,
     "metadata": {},
     "output_type": "execute_result"
    }
   ],
   "source": [
    "test[test[\"DepartmentDescription\"] == 'PHARMACY RX'][\"FinelineNumber\"].value_counts()"
   ]
  },
  {
   "cell_type": "code",
   "execution_count": 19,
   "metadata": {},
   "outputs": [
    {
     "name": "stderr",
     "output_type": "stream",
     "text": [
      "2784it [00:10, 271.41it/s]\n"
     ]
    },
    {
     "data": {
      "text/html": [
       "<div>\n",
       "<style scoped>\n",
       "    .dataframe tbody tr th:only-of-type {\n",
       "        vertical-align: middle;\n",
       "    }\n",
       "\n",
       "    .dataframe tbody tr th {\n",
       "        vertical-align: top;\n",
       "    }\n",
       "\n",
       "    .dataframe thead th {\n",
       "        text-align: right;\n",
       "    }\n",
       "</style>\n",
       "<table border=\"1\" class=\"dataframe\">\n",
       "  <thead>\n",
       "    <tr style=\"text-align: right;\">\n",
       "      <th></th>\n",
       "      <th>DepartmentDescription</th>\n",
       "      <th>FinelineNumber</th>\n",
       "    </tr>\n",
       "  </thead>\n",
       "  <tbody>\n",
       "    <tr>\n",
       "      <th>1188</th>\n",
       "      <td>PHARMACY RX</td>\n",
       "      <td>4822.0</td>\n",
       "    </tr>\n",
       "    <tr>\n",
       "      <th>1189</th>\n",
       "      <td>PHARMACY RX</td>\n",
       "      <td>5615.0</td>\n",
       "    </tr>\n",
       "    <tr>\n",
       "      <th>1190</th>\n",
       "      <td>PHARMACY RX</td>\n",
       "      <td>4822.0</td>\n",
       "    </tr>\n",
       "    <tr>\n",
       "      <th>1314</th>\n",
       "      <td>PHARMACY RX</td>\n",
       "      <td>5615.0</td>\n",
       "    </tr>\n",
       "    <tr>\n",
       "      <th>1315</th>\n",
       "      <td>PHARMACY RX</td>\n",
       "      <td>4822.0</td>\n",
       "    </tr>\n",
       "  </tbody>\n",
       "</table>\n",
       "</div>"
      ],
      "text/plain": [
       "     DepartmentDescription  FinelineNumber\n",
       "1188           PHARMACY RX          4822.0\n",
       "1189           PHARMACY RX          5615.0\n",
       "1190           PHARMACY RX          4822.0\n",
       "1314           PHARMACY RX          5615.0\n",
       "1315           PHARMACY RX          4822.0"
      ]
     },
     "execution_count": 19,
     "metadata": {},
     "output_type": "execute_result"
    }
   ],
   "source": [
    "Pharmacy_idx = test[test[\"DepartmentDescription\"]=='PHARMACY RX'].index\n",
    "number_idx = np.arange(2784)\n",
    "idx_box = zip(number_idx, Pharmacy_idx)\n",
    "\n",
    "\n",
    "for idx, Pha_idx in tqdm(idx_box):\n",
    "    if idx % 2 == 0:\n",
    "        test.loc[Pha_idx, \"FinelineNumber\"] = 4822.0\n",
    "    else:\n",
    "        test.loc[Pha_idx, \"FinelineNumber\"] = 5615.0\n",
    "        \n",
    "test[test[\"DepartmentDescription\"] == 'PHARMACY RX'][[\"DepartmentDescription\", \"FinelineNumber\"]].head()"
   ]
  },
  {
   "cell_type": "code",
   "execution_count": 20,
   "metadata": {},
   "outputs": [
    {
     "data": {
      "text/html": [
       "<div>\n",
       "<style scoped>\n",
       "    .dataframe tbody tr th:only-of-type {\n",
       "        vertical-align: middle;\n",
       "    }\n",
       "\n",
       "    .dataframe tbody tr th {\n",
       "        vertical-align: top;\n",
       "    }\n",
       "\n",
       "    .dataframe thead th {\n",
       "        text-align: right;\n",
       "    }\n",
       "</style>\n",
       "<table border=\"1\" class=\"dataframe\">\n",
       "  <thead>\n",
       "    <tr style=\"text-align: right;\">\n",
       "      <th></th>\n",
       "      <th>FinelineNumber</th>\n",
       "      <th>ScanCount</th>\n",
       "    </tr>\n",
       "  </thead>\n",
       "  <tbody>\n",
       "    <tr>\n",
       "      <th>2115</th>\n",
       "      <td>250.0</td>\n",
       "      <td>1</td>\n",
       "    </tr>\n",
       "    <tr>\n",
       "      <th>2116</th>\n",
       "      <td>9.0</td>\n",
       "      <td>1</td>\n",
       "    </tr>\n",
       "    <tr>\n",
       "      <th>2117</th>\n",
       "      <td>NaN</td>\n",
       "      <td>1</td>\n",
       "    </tr>\n",
       "    <tr>\n",
       "      <th>2118</th>\n",
       "      <td>NaN</td>\n",
       "      <td>-1</td>\n",
       "    </tr>\n",
       "    <tr>\n",
       "      <th>2119</th>\n",
       "      <td>253.0</td>\n",
       "      <td>1</td>\n",
       "    </tr>\n",
       "    <tr>\n",
       "      <th>2120</th>\n",
       "      <td>145.0</td>\n",
       "      <td>1</td>\n",
       "    </tr>\n",
       "  </tbody>\n",
       "</table>\n",
       "</div>"
      ],
      "text/plain": [
       "      FinelineNumber  ScanCount\n",
       "2115           250.0          1\n",
       "2116             9.0          1\n",
       "2117             NaN          1\n",
       "2118             NaN         -1\n",
       "2119           253.0          1\n",
       "2120           145.0          1"
      ]
     },
     "execution_count": 20,
     "metadata": {},
     "output_type": "execute_result"
    }
   ],
   "source": [
    "test.loc[test[\"VisitNumber\"]==874, [\"FinelineNumber\",\"ScanCount\"]]"
   ]
  },
  {
   "cell_type": "code",
   "execution_count": 21,
   "metadata": {},
   "outputs": [],
   "source": [
    "FN_VN_list_t = test[test[\"FinelineNumber\"].isna()][\"VisitNumber\"].unique()"
   ]
  },
  {
   "cell_type": "code",
   "execution_count": 22,
   "metadata": {},
   "outputs": [
    {
     "name": "stderr",
     "output_type": "stream",
     "text": [
      "100%|██████████| 1141/1141 [00:10<00:00, 106.57it/s]\n"
     ]
    }
   ],
   "source": [
    "for loc in tqdm(FN_VN_list_t): # if: 특정 VisitNumber 따른 FinelineNumber 값이 모두 비어있는 경우 제외\n",
    "    if len(test[test[\"VisitNumber\"] == loc][\"FinelineNumber\"].value_counts().index) != 0:\n",
    "        test.loc[(test[\"VisitNumber\"] == loc)&(test[\"FinelineNumber\"].isna()), \"FinelineNumber\"] = test[test[\"VisitNumber\"] == loc][\"FinelineNumber\"].value_counts().index[0]"
   ]
  },
  {
   "cell_type": "code",
   "execution_count": 23,
   "metadata": {},
   "outputs": [
    {
     "data": {
      "text/plain": [
       "2115    250.0\n",
       "2116      9.0\n",
       "2117    145.0\n",
       "2118    145.0\n",
       "2119    253.0\n",
       "2120    145.0\n",
       "Name: FinelineNumber, dtype: float64"
      ]
     },
     "execution_count": 23,
     "metadata": {},
     "output_type": "execute_result"
    }
   ],
   "source": [
    "test.loc[test[\"VisitNumber\"]==874, \"FinelineNumber\"]"
   ]
  },
  {
   "cell_type": "markdown",
   "metadata": {},
   "source": [
    "### Fill in Upc - train\n",
    "- DepartmentDescription이 'PHARMACY RX'인 빈값이 들어있는 Upc에는 DepartmentDescription이 'PHARMACY RX'일때의 Upc의 최빈값으로 채워준다.(**아직 최빈값을 무엇으로 할지 정하지 못함**)\n",
    "- VisitNumber에 따른 Upc의 최빈값으로 Upc의 빈값 채우기\n",
    "- 191개의 유추할 수 없는 값은 기존에 있던 값과 중복되지 않는 '0000599996' 값으로 대체"
   ]
  },
  {
   "cell_type": "code",
   "execution_count": 24,
   "metadata": {},
   "outputs": [
    {
     "data": {
      "text/plain": [
       "546    7.112176e+09\n",
       "547    4.656118e+09\n",
       "548             NaN\n",
       "549             NaN\n",
       "550    3.146256e+09\n",
       "551    3.146253e+09\n",
       "552    4.650073e+09\n",
       "Name: Upc, dtype: float64"
      ]
     },
     "execution_count": 24,
     "metadata": {},
     "output_type": "execute_result"
    }
   ],
   "source": [
    "train.loc[train[\"VisitNumber\"]==259, \"Upc\"]"
   ]
  },
  {
   "cell_type": "code",
   "execution_count": 25,
   "metadata": {},
   "outputs": [],
   "source": [
    "Upc_VN_list = train[train[\"Upc\"].isna()][\"VisitNumber\"].unique()"
   ]
  },
  {
   "cell_type": "code",
   "execution_count": 26,
   "metadata": {},
   "outputs": [
    {
     "name": "stderr",
     "output_type": "stream",
     "text": [
      "100%|██████████| 2754/2754 [00:16<00:00, 164.09it/s]\n"
     ]
    }
   ],
   "source": [
    "for loc in tqdm(Upc_VN_list): # if: 특정 VisitNumber 따른 Upc 값이 모두 비어있는 경우 제외\n",
    "    if len(train[train[\"VisitNumber\"] == loc][\"Upc\"].value_counts().index) != 0:\n",
    "        train.loc[(train[\"VisitNumber\"] == loc)&(train[\"Upc\"].isna()), \"Upc\"] = train[train[\"VisitNumber\"] == loc][\"Upc\"].value_counts().index[0]"
   ]
  },
  {
   "cell_type": "code",
   "execution_count": 27,
   "metadata": {},
   "outputs": [
    {
     "data": {
      "text/plain": [
       "546    7.112176e+09\n",
       "547    4.656118e+09\n",
       "548    4.656118e+09\n",
       "549    4.656118e+09\n",
       "550    3.146256e+09\n",
       "551    3.146253e+09\n",
       "552    4.650073e+09\n",
       "Name: Upc, dtype: float64"
      ]
     },
     "execution_count": 27,
     "metadata": {},
     "output_type": "execute_result"
    }
   ],
   "source": [
    "train.loc[train[\"VisitNumber\"]==259, \"Upc\"]"
   ]
  },
  {
   "cell_type": "markdown",
   "metadata": {},
   "source": [
    "### Fill in Upc - test\n",
    "- DepartmentDescription이 'PHARMACY RX'인 빈값이 들어있는 Upc에는 DepartmentDescription이 'PHARMACY RX'일때의 Upc의 최빈값으로 채워준다.(**아직 최빈값을 무엇으로 할지 정하지 못함**)\n",
    "- VisitNumber에 따른 Upc의 최빈값으로 Upc의 빈값 채우기\n",
    "- 유추할 수 없는 값은 기존에 있던 값과 중복되지 않는 '0000599996' 값으로 대체"
   ]
  },
  {
   "cell_type": "code",
   "execution_count": 28,
   "metadata": {},
   "outputs": [
    {
     "data": {
      "text/plain": [
       "2115    1.284410e+09\n",
       "2116    8.182000e+10\n",
       "2117             NaN\n",
       "2118             NaN\n",
       "2119    1.284410e+09\n",
       "2120    3.400001e+09\n",
       "Name: Upc, dtype: float64"
      ]
     },
     "execution_count": 28,
     "metadata": {},
     "output_type": "execute_result"
    }
   ],
   "source": [
    "test.loc[test[\"VisitNumber\"]==874, \"Upc\"]"
   ]
  },
  {
   "cell_type": "code",
   "execution_count": 29,
   "metadata": {},
   "outputs": [],
   "source": [
    "Upc_VN_list_t = test[test[\"Upc\"].isna()][\"VisitNumber\"].unique()"
   ]
  },
  {
   "cell_type": "code",
   "execution_count": 30,
   "metadata": {},
   "outputs": [
    {
     "name": "stderr",
     "output_type": "stream",
     "text": [
      "100%|██████████| 2706/2706 [00:16<00:00, 167.94it/s]\n"
     ]
    }
   ],
   "source": [
    "for loc in tqdm(Upc_VN_list_t): # if: 특정 VisitNumber 따른 Upc 값이 모두 비어있는 경우 제외\n",
    "    if len(test[test[\"VisitNumber\"] == loc][\"Upc\"].value_counts().index) != 0:\n",
    "        test.loc[(test[\"VisitNumber\"] == loc)&(test[\"Upc\"].isna()), \"Upc\"] = test[test[\"VisitNumber\"] == loc][\"Upc\"].value_counts().index[0]"
   ]
  },
  {
   "cell_type": "code",
   "execution_count": 31,
   "metadata": {},
   "outputs": [
    {
     "data": {
      "text/plain": [
       "2115    1.284410e+09\n",
       "2116    8.182000e+10\n",
       "2117    3.400001e+09\n",
       "2118    3.400001e+09\n",
       "2119    1.284410e+09\n",
       "2120    3.400001e+09\n",
       "Name: Upc, dtype: float64"
      ]
     },
     "execution_count": 31,
     "metadata": {},
     "output_type": "execute_result"
    }
   ],
   "source": [
    "test.loc[test[\"VisitNumber\"]==874, \"Upc\"]"
   ]
  },
  {
   "cell_type": "markdown",
   "metadata": {},
   "source": [
    "###  VisitNumber에 따른 모든 DepartmentDescription, FinelineNumber, Upc의 값이 비어있는 경우\n",
    "\n",
    "- 총 191 개의 유추 불가능한 DepartmentDescription, FinelineNumber, Upc의 값이 모두 비어있는 경우\n",
    "- 기존에 train, test 데이터에 없는 값으로 각각 \"UNKNOWN\", -9999, '0000599996' 채운다."
   ]
  },
  {
   "cell_type": "code",
   "execution_count": 32,
   "metadata": {},
   "outputs": [
    {
     "name": "stdout",
     "output_type": "stream",
     "text": [
      "(191, 7)\n"
     ]
    },
    {
     "data": {
      "text/html": [
       "<div>\n",
       "<style scoped>\n",
       "    .dataframe tbody tr th:only-of-type {\n",
       "        vertical-align: middle;\n",
       "    }\n",
       "\n",
       "    .dataframe tbody tr th {\n",
       "        vertical-align: top;\n",
       "    }\n",
       "\n",
       "    .dataframe thead th {\n",
       "        text-align: right;\n",
       "    }\n",
       "</style>\n",
       "<table border=\"1\" class=\"dataframe\">\n",
       "  <thead>\n",
       "    <tr style=\"text-align: right;\">\n",
       "      <th></th>\n",
       "      <th>VisitNumber</th>\n",
       "      <th>DepartmentDescription</th>\n",
       "      <th>FinelineNumber</th>\n",
       "      <th>Upc</th>\n",
       "      <th>TripType</th>\n",
       "      <th>Weekday</th>\n",
       "      <th>ScanCount</th>\n",
       "    </tr>\n",
       "  </thead>\n",
       "  <tbody>\n",
       "    <tr>\n",
       "      <th>959</th>\n",
       "      <td>409</td>\n",
       "      <td>NaN</td>\n",
       "      <td>NaN</td>\n",
       "      <td>NaN</td>\n",
       "      <td>999</td>\n",
       "      <td>Friday</td>\n",
       "      <td>-1</td>\n",
       "    </tr>\n",
       "    <tr>\n",
       "      <th>1134</th>\n",
       "      <td>484</td>\n",
       "      <td>NaN</td>\n",
       "      <td>NaN</td>\n",
       "      <td>NaN</td>\n",
       "      <td>999</td>\n",
       "      <td>Friday</td>\n",
       "      <td>-2</td>\n",
       "    </tr>\n",
       "    <tr>\n",
       "      <th>1135</th>\n",
       "      <td>484</td>\n",
       "      <td>NaN</td>\n",
       "      <td>NaN</td>\n",
       "      <td>NaN</td>\n",
       "      <td>999</td>\n",
       "      <td>Friday</td>\n",
       "      <td>-2</td>\n",
       "    </tr>\n",
       "    <tr>\n",
       "      <th>6285</th>\n",
       "      <td>2245</td>\n",
       "      <td>NaN</td>\n",
       "      <td>NaN</td>\n",
       "      <td>NaN</td>\n",
       "      <td>999</td>\n",
       "      <td>Friday</td>\n",
       "      <td>-1</td>\n",
       "    </tr>\n",
       "    <tr>\n",
       "      <th>8524</th>\n",
       "      <td>3004</td>\n",
       "      <td>NaN</td>\n",
       "      <td>NaN</td>\n",
       "      <td>NaN</td>\n",
       "      <td>999</td>\n",
       "      <td>Friday</td>\n",
       "      <td>1</td>\n",
       "    </tr>\n",
       "  </tbody>\n",
       "</table>\n",
       "</div>"
      ],
      "text/plain": [
       "      VisitNumber DepartmentDescription  FinelineNumber  Upc  TripType  \\\n",
       "959           409                   NaN             NaN  NaN       999   \n",
       "1134          484                   NaN             NaN  NaN       999   \n",
       "1135          484                   NaN             NaN  NaN       999   \n",
       "6285         2245                   NaN             NaN  NaN       999   \n",
       "8524         3004                   NaN             NaN  NaN       999   \n",
       "\n",
       "     Weekday  ScanCount  \n",
       "959   Friday         -1  \n",
       "1134  Friday         -2  \n",
       "1135  Friday         -2  \n",
       "6285  Friday         -1  \n",
       "8524  Friday          1  "
      ]
     },
     "execution_count": 32,
     "metadata": {},
     "output_type": "execute_result"
    }
   ],
   "source": [
    "empty_df = train[(train[\"DepartmentDescription\"].isna())&(train[\"DepartmentDescription\"].isna())&(train[\"DepartmentDescription\"].isna())][[\"VisitNumber\", \"DepartmentDescription\", \"FinelineNumber\", \"Upc\", \"TripType\", \"Weekday\", \"ScanCount\"]]\n",
    "\n",
    "print(empty_df.shape)\n",
    "empty_df.head()"
   ]
  },
  {
   "cell_type": "code",
   "execution_count": 33,
   "metadata": {},
   "outputs": [
    {
     "name": "stdout",
     "output_type": "stream",
     "text": [
      "191개의 빈 row들은 모두 triptype이 999이다.\n"
     ]
    },
    {
     "data": {
      "text/plain": [
       "999    191\n",
       "Name: TripType, dtype: int64"
      ]
     },
     "execution_count": 33,
     "metadata": {},
     "output_type": "execute_result"
    }
   ],
   "source": [
    "print(\"191개의 빈 row들은 모두 triptype이 {}이다.\".format(empty_df[\"TripType\"].value_counts().index[0]))\n",
    "empty_df[\"TripType\"].value_counts()"
   ]
  },
  {
   "cell_type": "markdown",
   "metadata": {},
   "source": [
    "### train - DepartmentDescription, FinelineNumber, Upc"
   ]
  },
  {
   "cell_type": "code",
   "execution_count": 34,
   "metadata": {},
   "outputs": [
    {
     "data": {
      "text/html": [
       "<div>\n",
       "<style scoped>\n",
       "    .dataframe tbody tr th:only-of-type {\n",
       "        vertical-align: middle;\n",
       "    }\n",
       "\n",
       "    .dataframe tbody tr th {\n",
       "        vertical-align: top;\n",
       "    }\n",
       "\n",
       "    .dataframe thead th {\n",
       "        text-align: right;\n",
       "    }\n",
       "</style>\n",
       "<table border=\"1\" class=\"dataframe\">\n",
       "  <thead>\n",
       "    <tr style=\"text-align: right;\">\n",
       "      <th></th>\n",
       "      <th>TripType</th>\n",
       "      <th>VisitNumber</th>\n",
       "      <th>Weekday</th>\n",
       "      <th>Upc</th>\n",
       "      <th>ScanCount</th>\n",
       "      <th>DepartmentDescription</th>\n",
       "      <th>FinelineNumber</th>\n",
       "    </tr>\n",
       "  </thead>\n",
       "  <tbody>\n",
       "  </tbody>\n",
       "</table>\n",
       "</div>"
      ],
      "text/plain": [
       "Empty DataFrame\n",
       "Columns: [TripType, VisitNumber, Weekday, Upc, ScanCount, DepartmentDescription, FinelineNumber]\n",
       "Index: []"
      ]
     },
     "execution_count": 34,
     "metadata": {},
     "output_type": "execute_result"
    }
   ],
   "source": [
    "train.loc[train[\"DepartmentDescription\"].isna(), \"DepartmentDescription\"] = \"UNKNOWN\"\n",
    "train[train[\"DepartmentDescription\"].isna()]"
   ]
  },
  {
   "cell_type": "code",
   "execution_count": 35,
   "metadata": {},
   "outputs": [
    {
     "data": {
      "text/html": [
       "<div>\n",
       "<style scoped>\n",
       "    .dataframe tbody tr th:only-of-type {\n",
       "        vertical-align: middle;\n",
       "    }\n",
       "\n",
       "    .dataframe tbody tr th {\n",
       "        vertical-align: top;\n",
       "    }\n",
       "\n",
       "    .dataframe thead th {\n",
       "        text-align: right;\n",
       "    }\n",
       "</style>\n",
       "<table border=\"1\" class=\"dataframe\">\n",
       "  <thead>\n",
       "    <tr style=\"text-align: right;\">\n",
       "      <th></th>\n",
       "      <th>TripType</th>\n",
       "      <th>VisitNumber</th>\n",
       "      <th>Weekday</th>\n",
       "      <th>Upc</th>\n",
       "      <th>ScanCount</th>\n",
       "      <th>DepartmentDescription</th>\n",
       "      <th>FinelineNumber</th>\n",
       "    </tr>\n",
       "  </thead>\n",
       "  <tbody>\n",
       "  </tbody>\n",
       "</table>\n",
       "</div>"
      ],
      "text/plain": [
       "Empty DataFrame\n",
       "Columns: [TripType, VisitNumber, Weekday, Upc, ScanCount, DepartmentDescription, FinelineNumber]\n",
       "Index: []"
      ]
     },
     "execution_count": 35,
     "metadata": {},
     "output_type": "execute_result"
    }
   ],
   "source": [
    "train.loc[train[\"FinelineNumber\"].isna(), \"FinelineNumber\"] = -9999.0\n",
    "train[train[\"FinelineNumber\"].isna()]"
   ]
  },
  {
   "cell_type": "code",
   "execution_count": 36,
   "metadata": {},
   "outputs": [
    {
     "data": {
      "text/html": [
       "<div>\n",
       "<style scoped>\n",
       "    .dataframe tbody tr th:only-of-type {\n",
       "        vertical-align: middle;\n",
       "    }\n",
       "\n",
       "    .dataframe tbody tr th {\n",
       "        vertical-align: top;\n",
       "    }\n",
       "\n",
       "    .dataframe thead th {\n",
       "        text-align: right;\n",
       "    }\n",
       "</style>\n",
       "<table border=\"1\" class=\"dataframe\">\n",
       "  <thead>\n",
       "    <tr style=\"text-align: right;\">\n",
       "      <th></th>\n",
       "      <th>TripType</th>\n",
       "      <th>VisitNumber</th>\n",
       "      <th>Weekday</th>\n",
       "      <th>Upc</th>\n",
       "      <th>ScanCount</th>\n",
       "      <th>DepartmentDescription</th>\n",
       "      <th>FinelineNumber</th>\n",
       "    </tr>\n",
       "  </thead>\n",
       "  <tbody>\n",
       "  </tbody>\n",
       "</table>\n",
       "</div>"
      ],
      "text/plain": [
       "Empty DataFrame\n",
       "Columns: [TripType, VisitNumber, Weekday, Upc, ScanCount, DepartmentDescription, FinelineNumber]\n",
       "Index: []"
      ]
     },
     "execution_count": 36,
     "metadata": {},
     "output_type": "execute_result"
    }
   ],
   "source": [
    "train.loc[train[\"Upc\"].isna(), \"Upc\"] = 0000599996.0\n",
    "train[train[\"Upc\"].isna()]"
   ]
  },
  {
   "cell_type": "markdown",
   "metadata": {},
   "source": [
    "### test - DepartmentDescription, FinelineNumber, Upc"
   ]
  },
  {
   "cell_type": "code",
   "execution_count": 37,
   "metadata": {},
   "outputs": [
    {
     "data": {
      "text/html": [
       "<div>\n",
       "<style scoped>\n",
       "    .dataframe tbody tr th:only-of-type {\n",
       "        vertical-align: middle;\n",
       "    }\n",
       "\n",
       "    .dataframe tbody tr th {\n",
       "        vertical-align: top;\n",
       "    }\n",
       "\n",
       "    .dataframe thead th {\n",
       "        text-align: right;\n",
       "    }\n",
       "</style>\n",
       "<table border=\"1\" class=\"dataframe\">\n",
       "  <thead>\n",
       "    <tr style=\"text-align: right;\">\n",
       "      <th></th>\n",
       "      <th>VisitNumber</th>\n",
       "      <th>Weekday</th>\n",
       "      <th>Upc</th>\n",
       "      <th>ScanCount</th>\n",
       "      <th>DepartmentDescription</th>\n",
       "      <th>FinelineNumber</th>\n",
       "    </tr>\n",
       "  </thead>\n",
       "  <tbody>\n",
       "  </tbody>\n",
       "</table>\n",
       "</div>"
      ],
      "text/plain": [
       "Empty DataFrame\n",
       "Columns: [VisitNumber, Weekday, Upc, ScanCount, DepartmentDescription, FinelineNumber]\n",
       "Index: []"
      ]
     },
     "execution_count": 37,
     "metadata": {},
     "output_type": "execute_result"
    }
   ],
   "source": [
    "test.loc[test[\"DepartmentDescription\"].isna(), \"DepartmentDescription\"] = \"UNKNOWN\"\n",
    "test[test[\"DepartmentDescription\"].isna()]"
   ]
  },
  {
   "cell_type": "code",
   "execution_count": 38,
   "metadata": {},
   "outputs": [
    {
     "data": {
      "text/html": [
       "<div>\n",
       "<style scoped>\n",
       "    .dataframe tbody tr th:only-of-type {\n",
       "        vertical-align: middle;\n",
       "    }\n",
       "\n",
       "    .dataframe tbody tr th {\n",
       "        vertical-align: top;\n",
       "    }\n",
       "\n",
       "    .dataframe thead th {\n",
       "        text-align: right;\n",
       "    }\n",
       "</style>\n",
       "<table border=\"1\" class=\"dataframe\">\n",
       "  <thead>\n",
       "    <tr style=\"text-align: right;\">\n",
       "      <th></th>\n",
       "      <th>VisitNumber</th>\n",
       "      <th>Weekday</th>\n",
       "      <th>Upc</th>\n",
       "      <th>ScanCount</th>\n",
       "      <th>DepartmentDescription</th>\n",
       "      <th>FinelineNumber</th>\n",
       "    </tr>\n",
       "  </thead>\n",
       "  <tbody>\n",
       "  </tbody>\n",
       "</table>\n",
       "</div>"
      ],
      "text/plain": [
       "Empty DataFrame\n",
       "Columns: [VisitNumber, Weekday, Upc, ScanCount, DepartmentDescription, FinelineNumber]\n",
       "Index: []"
      ]
     },
     "execution_count": 38,
     "metadata": {},
     "output_type": "execute_result"
    }
   ],
   "source": [
    "test.loc[test[\"FinelineNumber\"].isna(), \"FinelineNumber\"] = -9999.0\n",
    "test[test[\"FinelineNumber\"].isna()]"
   ]
  },
  {
   "cell_type": "code",
   "execution_count": 39,
   "metadata": {},
   "outputs": [
    {
     "data": {
      "text/html": [
       "<div>\n",
       "<style scoped>\n",
       "    .dataframe tbody tr th:only-of-type {\n",
       "        vertical-align: middle;\n",
       "    }\n",
       "\n",
       "    .dataframe tbody tr th {\n",
       "        vertical-align: top;\n",
       "    }\n",
       "\n",
       "    .dataframe thead th {\n",
       "        text-align: right;\n",
       "    }\n",
       "</style>\n",
       "<table border=\"1\" class=\"dataframe\">\n",
       "  <thead>\n",
       "    <tr style=\"text-align: right;\">\n",
       "      <th></th>\n",
       "      <th>VisitNumber</th>\n",
       "      <th>Weekday</th>\n",
       "      <th>Upc</th>\n",
       "      <th>ScanCount</th>\n",
       "      <th>DepartmentDescription</th>\n",
       "      <th>FinelineNumber</th>\n",
       "    </tr>\n",
       "  </thead>\n",
       "  <tbody>\n",
       "  </tbody>\n",
       "</table>\n",
       "</div>"
      ],
      "text/plain": [
       "Empty DataFrame\n",
       "Columns: [VisitNumber, Weekday, Upc, ScanCount, DepartmentDescription, FinelineNumber]\n",
       "Index: []"
      ]
     },
     "execution_count": 39,
     "metadata": {},
     "output_type": "execute_result"
    }
   ],
   "source": [
    "test.loc[test[\"Upc\"].isna(), \"Upc\"] = 0000599996.0\n",
    "test[test[\"Upc\"].isna()]"
   ]
  },
  {
   "cell_type": "markdown",
   "metadata": {},
   "source": [
    "### 3. DepartmentDescription Encode\n",
    "- 총 68가지의 종류\n",
    "- 종류 별로 one-hot encoding\n",
    "- 'MENSWEAR'와 'MENS WEAR'는 같은 카테고리로 변환"
   ]
  },
  {
   "cell_type": "markdown",
   "metadata": {},
   "source": [
    "### train"
   ]
  },
  {
   "cell_type": "code",
   "execution_count": 40,
   "metadata": {},
   "outputs": [],
   "source": [
    "## MENSWEAR - > MENS WEAR\n",
    "train.loc[train[\"DepartmentDescription\"] == 'MENSWEAR', \"DepartmentDescription\"] = 'MENS WEAR'"
   ]
  },
  {
   "cell_type": "code",
   "execution_count": 41,
   "metadata": {},
   "outputs": [
    {
     "data": {
      "text/plain": [
       "68"
      ]
     },
     "execution_count": 41,
     "metadata": {},
     "output_type": "execute_result"
    }
   ],
   "source": [
    "train_desc_ls = train[\"DepartmentDescription\"].unique()\n",
    "train_desc_ls = list(train_desc_ls)\n",
    "train_desc_ls.sort()\n",
    "len(train_desc_ls)"
   ]
  },
  {
   "cell_type": "code",
   "execution_count": 42,
   "metadata": {
    "scrolled": true
   },
   "outputs": [
    {
     "data": {
      "text/plain": [
       "{'1-HR PHOTO': 1,\n",
       " 'ACCESSORIES': 2,\n",
       " 'AUTOMOTIVE': 3,\n",
       " 'BAKERY': 4,\n",
       " 'BATH AND SHOWER': 5,\n",
       " 'BEAUTY': 6,\n",
       " 'BEDDING': 7,\n",
       " 'BOOKS AND MAGAZINES': 8,\n",
       " 'BOYS WEAR': 9,\n",
       " 'BRAS & SHAPEWEAR': 10,\n",
       " 'CAMERAS AND SUPPLIES': 11,\n",
       " 'CANDY, TOBACCO, COOKIES': 12,\n",
       " 'CELEBRATION': 13,\n",
       " 'COMM BREAD': 14,\n",
       " 'CONCEPT STORES': 15,\n",
       " 'COOK AND DINE': 16,\n",
       " 'DAIRY': 17,\n",
       " 'DSD GROCERY': 18,\n",
       " 'ELECTRONICS': 19,\n",
       " 'FABRICS AND CRAFTS': 20,\n",
       " 'FINANCIAL SERVICES': 21,\n",
       " 'FROZEN FOODS': 22,\n",
       " 'FURNITURE': 23,\n",
       " 'GIRLS WEAR, 4-6X  AND 7-14': 24,\n",
       " 'GROCERY DRY GOODS': 25,\n",
       " 'HARDWARE': 26,\n",
       " 'HEALTH AND BEAUTY AIDS': 27,\n",
       " 'HOME DECOR': 28,\n",
       " 'HOME MANAGEMENT': 29,\n",
       " 'HORTICULTURE AND ACCESS': 30,\n",
       " 'HOUSEHOLD CHEMICALS/SUPP': 31,\n",
       " 'HOUSEHOLD PAPER GOODS': 32,\n",
       " 'IMPULSE MERCHANDISE': 33,\n",
       " 'INFANT APPAREL': 34,\n",
       " 'INFANT CONSUMABLE HARDLINES': 35,\n",
       " 'JEWELRY AND SUNGLASSES': 36,\n",
       " 'LADIES SOCKS': 37,\n",
       " 'LADIESWEAR': 38,\n",
       " 'LARGE HOUSEHOLD GOODS': 39,\n",
       " 'LAWN AND GARDEN': 40,\n",
       " 'LIQUOR,WINE,BEER': 41,\n",
       " 'MEAT - FRESH & FROZEN': 42,\n",
       " 'MEDIA AND GAMING': 43,\n",
       " 'MENS WEAR': 44,\n",
       " 'OFFICE SUPPLIES': 45,\n",
       " 'OPTICAL - FRAMES': 46,\n",
       " 'OPTICAL - LENSES': 47,\n",
       " 'OTHER DEPARTMENTS': 48,\n",
       " 'PAINT AND ACCESSORIES': 49,\n",
       " 'PERSONAL CARE': 50,\n",
       " 'PETS AND SUPPLIES': 51,\n",
       " 'PHARMACY OTC': 52,\n",
       " 'PHARMACY RX': 53,\n",
       " 'PLAYERS AND ELECTRONICS': 54,\n",
       " 'PLUS AND MATERNITY': 55,\n",
       " 'PRE PACKED DELI': 56,\n",
       " 'PRODUCE': 57,\n",
       " 'SEAFOOD': 58,\n",
       " 'SEASONAL': 59,\n",
       " 'SERVICE DELI': 60,\n",
       " 'SHEER HOSIERY': 61,\n",
       " 'SHOES': 62,\n",
       " 'SLEEPWEAR/FOUNDATIONS': 63,\n",
       " 'SPORTING GOODS': 64,\n",
       " 'SWIMWEAR/OUTERWEAR': 65,\n",
       " 'TOYS': 66,\n",
       " 'UNKNOWN': 67,\n",
       " 'WIRELESS': 68}"
      ]
     },
     "execution_count": 42,
     "metadata": {},
     "output_type": "execute_result"
    }
   ],
   "source": [
    "number = np.arange(1, 69)\n",
    "train_desc_dic = zip(train_desc_ls, number)\n",
    "train_desc_dict = {}\n",
    "for desc, number in train_desc_dic:\n",
    "    train_desc_dict[desc] = number\n",
    "\n",
    "train_desc_dict"
   ]
  },
  {
   "cell_type": "code",
   "execution_count": 43,
   "metadata": {},
   "outputs": [],
   "source": [
    "train[\"desc_tag\"] = train[\"DepartmentDescription\"]\n",
    "train[\"desc_tag\"] = train[\"desc_tag\"].apply(partial(pf.desc_tagger, train_desc_dict))"
   ]
  },
  {
   "cell_type": "code",
   "execution_count": 44,
   "metadata": {},
   "outputs": [],
   "source": [
    "for idx in range(1, 69):\n",
    "    train[\"desc_tag_{}\".format(idx)] = train[\"desc_tag\"] == idx"
   ]
  },
  {
   "cell_type": "markdown",
   "metadata": {},
   "source": [
    "### test"
   ]
  },
  {
   "cell_type": "code",
   "execution_count": 45,
   "metadata": {},
   "outputs": [],
   "source": [
    "## MENSWEAR - > MENS WEAR\n",
    "test.loc[test[\"DepartmentDescription\"] == 'MENSWEAR', \"DepartmentDescription\"] = 'MENS WEAR'"
   ]
  },
  {
   "cell_type": "code",
   "execution_count": 46,
   "metadata": {},
   "outputs": [],
   "source": [
    "test[\"desc_tag\"] = test[\"DepartmentDescription\"]\n",
    "test[\"desc_tag\"] = test[\"desc_tag\"].apply(partial(pf.desc_tagger, train_desc_dict))"
   ]
  },
  {
   "cell_type": "code",
   "execution_count": 47,
   "metadata": {},
   "outputs": [],
   "source": [
    "for idx in range(1, 69):\n",
    "    test[\"desc_tag_{}\".format(idx)] = test[\"desc_tag\"] == idx"
   ]
  },
  {
   "cell_type": "markdown",
   "metadata": {},
   "source": [
    "### 4. Weekday Encode\n",
    "- 월화수목금토일(1,2,3,4,5,6,7) one-hot encoding"
   ]
  },
  {
   "cell_type": "code",
   "execution_count": 48,
   "metadata": {},
   "outputs": [],
   "source": [
    "train.loc[train[\"Weekday\"] == \"Monday\", \"Weekday_num\"] = 1\n",
    "train.loc[train[\"Weekday\"] == \"Tuesday\", \"Weekday_num\"] = 2\n",
    "train.loc[train[\"Weekday\"] == \"Wednesday\", \"Weekday_num\"] = 3\n",
    "train.loc[train[\"Weekday\"] == \"Thursday\", \"Weekday_num\"] = 4\n",
    "train.loc[train[\"Weekday\"] == \"Friday\", \"Weekday_num\"] = 5\n",
    "train.loc[train[\"Weekday\"] == \"Saturday\", \"Weekday_num\"] = 6\n",
    "train.loc[train[\"Weekday\"] == \"Sunday\", \"Weekday_num\"] = 7"
   ]
  },
  {
   "cell_type": "code",
   "execution_count": 49,
   "metadata": {},
   "outputs": [],
   "source": [
    "for idx in range(1, 8):\n",
    "    train[\"Weekday_{}\".format(idx)] = train[\"Weekday_num\"] == idx"
   ]
  },
  {
   "cell_type": "code",
   "execution_count": 50,
   "metadata": {},
   "outputs": [],
   "source": [
    "test.loc[test[\"Weekday\"] == \"Monday\", \"Weekday_num\"] = 1\n",
    "test.loc[test[\"Weekday\"] == \"Tuesday\", \"Weekday_num\"] = 2\n",
    "test.loc[test[\"Weekday\"] == \"Wednesday\", \"Weekday_num\"] = 3\n",
    "test.loc[test[\"Weekday\"] == \"Thursday\", \"Weekday_num\"] = 4\n",
    "test.loc[test[\"Weekday\"] == \"Friday\", \"Weekday_num\"] = 5\n",
    "test.loc[test[\"Weekday\"] == \"Saturday\", \"Weekday_num\"] = 6\n",
    "test.loc[test[\"Weekday\"] == \"Sunday\", \"Weekday_num\"] = 7"
   ]
  },
  {
   "cell_type": "code",
   "execution_count": 51,
   "metadata": {},
   "outputs": [],
   "source": [
    "for idx in range(1, 8):\n",
    "    test[\"Weekday_{}\".format(idx)] = test[\"Weekday_num\"] == idx"
   ]
  },
  {
   "cell_type": "markdown",
   "metadata": {},
   "source": [
    "### 5. Divde Upc\n",
    "- 3~12자리의 여러자기 종류의 UPC를 모두 12자리로 복원 후, 필요한 부분은 company_Upc와 product_Upc로 나누어 인코딩"
   ]
  },
  {
   "cell_type": "markdown",
   "metadata": {},
   "source": [
    "### train"
   ]
  },
  {
   "cell_type": "code",
   "execution_count": 52,
   "metadata": {},
   "outputs": [],
   "source": [
    "train[\"Upc\"] = train[\"Upc\"].astype(str)"
   ]
  },
  {
   "cell_type": "code",
   "execution_count": 53,
   "metadata": {},
   "outputs": [
    {
     "data": {
      "text/html": [
       "<div>\n",
       "<style scoped>\n",
       "    .dataframe tbody tr th:only-of-type {\n",
       "        vertical-align: middle;\n",
       "    }\n",
       "\n",
       "    .dataframe tbody tr th {\n",
       "        vertical-align: top;\n",
       "    }\n",
       "\n",
       "    .dataframe thead th {\n",
       "        text-align: right;\n",
       "    }\n",
       "</style>\n",
       "<table border=\"1\" class=\"dataframe\">\n",
       "  <thead>\n",
       "    <tr style=\"text-align: right;\">\n",
       "      <th></th>\n",
       "      <th>Upc</th>\n",
       "      <th>full_Upc</th>\n",
       "      <th>company_Upc</th>\n",
       "      <th>product_Upc</th>\n",
       "    </tr>\n",
       "  </thead>\n",
       "  <tbody>\n",
       "    <tr>\n",
       "      <th>647049</th>\n",
       "      <td>32390001778.0</td>\n",
       "      <td>2390001778</td>\n",
       "      <td>23900</td>\n",
       "      <td>01778</td>\n",
       "    </tr>\n",
       "    <tr>\n",
       "      <th>647050</th>\n",
       "      <td>7874205336.0</td>\n",
       "      <td>7874205336</td>\n",
       "      <td>78742</td>\n",
       "      <td>05336</td>\n",
       "    </tr>\n",
       "    <tr>\n",
       "      <th>647051</th>\n",
       "      <td>4072.0</td>\n",
       "      <td>0000404072</td>\n",
       "      <td>00004</td>\n",
       "      <td>04072</td>\n",
       "    </tr>\n",
       "    <tr>\n",
       "      <th>647052</th>\n",
       "      <td>4190007664.0</td>\n",
       "      <td>4190007664</td>\n",
       "      <td>41900</td>\n",
       "      <td>07664</td>\n",
       "    </tr>\n",
       "    <tr>\n",
       "      <th>647053</th>\n",
       "      <td>3800059655.0</td>\n",
       "      <td>3800059655</td>\n",
       "      <td>38000</td>\n",
       "      <td>59655</td>\n",
       "    </tr>\n",
       "  </tbody>\n",
       "</table>\n",
       "</div>"
      ],
      "text/plain": [
       "                  Upc    full_Upc company_Upc product_Upc\n",
       "647049  32390001778.0  2390001778       23900       01778\n",
       "647050   7874205336.0  7874205336       78742       05336\n",
       "647051         4072.0  0000404072       00004       04072\n",
       "647052   4190007664.0  4190007664       41900       07664\n",
       "647053   3800059655.0  3800059655       38000       59655"
      ]
     },
     "execution_count": 53,
     "metadata": {},
     "output_type": "execute_result"
    }
   ],
   "source": [
    "train[\"full_Upc\"] = train[\"Upc\"].apply(pf.upc_789101112_to_10)\n",
    "train[\"full_Upc\"] = train[\"full_Upc\"].apply(pf.upc_3456_to_10)\n",
    "\n",
    "train[\"company_Upc\"] = train[\"full_Upc\"].apply(pf.company_part_Upc)\n",
    "train[\"product_Upc\"] = train[\"full_Upc\"].apply(pf.product_part_Upc) \n",
    "\n",
    "train[[\"Upc\", \"full_Upc\", \"company_Upc\", \"product_Upc\"]].tail()"
   ]
  },
  {
   "cell_type": "markdown",
   "metadata": {},
   "source": [
    "### test"
   ]
  },
  {
   "cell_type": "code",
   "execution_count": 54,
   "metadata": {},
   "outputs": [],
   "source": [
    "test[\"Upc\"] = test[\"Upc\"].astype(str)"
   ]
  },
  {
   "cell_type": "code",
   "execution_count": 55,
   "metadata": {},
   "outputs": [
    {
     "data": {
      "text/html": [
       "<div>\n",
       "<style scoped>\n",
       "    .dataframe tbody tr th:only-of-type {\n",
       "        vertical-align: middle;\n",
       "    }\n",
       "\n",
       "    .dataframe tbody tr th {\n",
       "        vertical-align: top;\n",
       "    }\n",
       "\n",
       "    .dataframe thead th {\n",
       "        text-align: right;\n",
       "    }\n",
       "</style>\n",
       "<table border=\"1\" class=\"dataframe\">\n",
       "  <thead>\n",
       "    <tr style=\"text-align: right;\">\n",
       "      <th></th>\n",
       "      <th>Upc</th>\n",
       "      <th>full_Upc</th>\n",
       "      <th>company_Upc</th>\n",
       "      <th>product_Upc</th>\n",
       "    </tr>\n",
       "  </thead>\n",
       "  <tbody>\n",
       "    <tr>\n",
       "      <th>653641</th>\n",
       "      <td>66572105763.0</td>\n",
       "      <td>6572105763</td>\n",
       "      <td>65721</td>\n",
       "      <td>05763</td>\n",
       "    </tr>\n",
       "    <tr>\n",
       "      <th>653642</th>\n",
       "      <td>88181390024.0</td>\n",
       "      <td>8181390024</td>\n",
       "      <td>81813</td>\n",
       "      <td>90024</td>\n",
       "    </tr>\n",
       "    <tr>\n",
       "      <th>653643</th>\n",
       "      <td>4282557050.0</td>\n",
       "      <td>4282557050</td>\n",
       "      <td>42825</td>\n",
       "      <td>57050</td>\n",
       "    </tr>\n",
       "    <tr>\n",
       "      <th>653644</th>\n",
       "      <td>80469193740.0</td>\n",
       "      <td>0469193740</td>\n",
       "      <td>04691</td>\n",
       "      <td>93740</td>\n",
       "    </tr>\n",
       "    <tr>\n",
       "      <th>653645</th>\n",
       "      <td>7871535983.0</td>\n",
       "      <td>7871535983</td>\n",
       "      <td>78715</td>\n",
       "      <td>35983</td>\n",
       "    </tr>\n",
       "  </tbody>\n",
       "</table>\n",
       "</div>"
      ],
      "text/plain": [
       "                  Upc    full_Upc company_Upc product_Upc\n",
       "653641  66572105763.0  6572105763       65721       05763\n",
       "653642  88181390024.0  8181390024       81813       90024\n",
       "653643   4282557050.0  4282557050       42825       57050\n",
       "653644  80469193740.0  0469193740       04691       93740\n",
       "653645   7871535983.0  7871535983       78715       35983"
      ]
     },
     "execution_count": 55,
     "metadata": {},
     "output_type": "execute_result"
    }
   ],
   "source": [
    "test[\"full_Upc\"] = test[\"Upc\"].apply(pf.upc_789101112_to_10)\n",
    "test[\"full_Upc\"] = test[\"full_Upc\"].apply(pf.upc_3456_to_10)\n",
    "\n",
    "test[\"company_Upc\"] = test[\"full_Upc\"].apply(pf.company_part_Upc)\n",
    "test[\"product_Upc\"] = test[\"full_Upc\"].apply(pf.product_part_Upc) \n",
    "\n",
    "test[[\"Upc\", \"full_Upc\", \"company_Upc\", \"product_Upc\"]].tail()"
   ]
  },
  {
   "cell_type": "markdown",
   "metadata": {},
   "source": [
    "### 6. company_Upc Encode"
   ]
  },
  {
   "cell_type": "markdown",
   "metadata": {},
   "source": [
    "### train"
   ]
  },
  {
   "cell_type": "code",
   "execution_count": 56,
   "metadata": {},
   "outputs": [],
   "source": [
    "company_upc_dummy_train = pd.get_dummies(train[\"company_Upc\"])"
   ]
  },
  {
   "cell_type": "code",
   "execution_count": 57,
   "metadata": {},
   "outputs": [
    {
     "name": "stdout",
     "output_type": "stream",
     "text": [
      "(647054, 5773)\n"
     ]
    },
    {
     "data": {
      "text/html": [
       "<div>\n",
       "<style scoped>\n",
       "    .dataframe tbody tr th:only-of-type {\n",
       "        vertical-align: middle;\n",
       "    }\n",
       "\n",
       "    .dataframe tbody tr th {\n",
       "        vertical-align: top;\n",
       "    }\n",
       "\n",
       "    .dataframe thead th {\n",
       "        text-align: right;\n",
       "    }\n",
       "</style>\n",
       "<table border=\"1\" class=\"dataframe\">\n",
       "  <thead>\n",
       "    <tr style=\"text-align: right;\">\n",
       "      <th></th>\n",
       "      <th>TripType</th>\n",
       "      <th>VisitNumber</th>\n",
       "      <th>Weekday</th>\n",
       "      <th>Upc</th>\n",
       "      <th>ScanCount</th>\n",
       "      <th>DepartmentDescription</th>\n",
       "      <th>FinelineNumber</th>\n",
       "      <th>desc_tag</th>\n",
       "      <th>desc_tag_1</th>\n",
       "      <th>desc_tag_2</th>\n",
       "      <th>...</th>\n",
       "      <th>99804</th>\n",
       "      <th>99829</th>\n",
       "      <th>99870</th>\n",
       "      <th>99919</th>\n",
       "      <th>99923</th>\n",
       "      <th>99928</th>\n",
       "      <th>99939</th>\n",
       "      <th>99967</th>\n",
       "      <th>99988</th>\n",
       "      <th>99991</th>\n",
       "    </tr>\n",
       "  </thead>\n",
       "  <tbody>\n",
       "    <tr>\n",
       "      <th>0</th>\n",
       "      <td>999</td>\n",
       "      <td>5</td>\n",
       "      <td>Friday</td>\n",
       "      <td>68113152929.0</td>\n",
       "      <td>-1</td>\n",
       "      <td>FINANCIAL SERVICES</td>\n",
       "      <td>1000.0</td>\n",
       "      <td>21</td>\n",
       "      <td>False</td>\n",
       "      <td>False</td>\n",
       "      <td>...</td>\n",
       "      <td>0</td>\n",
       "      <td>0</td>\n",
       "      <td>0</td>\n",
       "      <td>0</td>\n",
       "      <td>0</td>\n",
       "      <td>0</td>\n",
       "      <td>0</td>\n",
       "      <td>0</td>\n",
       "      <td>0</td>\n",
       "      <td>0</td>\n",
       "    </tr>\n",
       "    <tr>\n",
       "      <th>1</th>\n",
       "      <td>30</td>\n",
       "      <td>7</td>\n",
       "      <td>Friday</td>\n",
       "      <td>60538815980.0</td>\n",
       "      <td>1</td>\n",
       "      <td>SHOES</td>\n",
       "      <td>8931.0</td>\n",
       "      <td>62</td>\n",
       "      <td>False</td>\n",
       "      <td>False</td>\n",
       "      <td>...</td>\n",
       "      <td>0</td>\n",
       "      <td>0</td>\n",
       "      <td>0</td>\n",
       "      <td>0</td>\n",
       "      <td>0</td>\n",
       "      <td>0</td>\n",
       "      <td>0</td>\n",
       "      <td>0</td>\n",
       "      <td>0</td>\n",
       "      <td>0</td>\n",
       "    </tr>\n",
       "    <tr>\n",
       "      <th>2</th>\n",
       "      <td>30</td>\n",
       "      <td>7</td>\n",
       "      <td>Friday</td>\n",
       "      <td>7410811099.0</td>\n",
       "      <td>1</td>\n",
       "      <td>PERSONAL CARE</td>\n",
       "      <td>4504.0</td>\n",
       "      <td>50</td>\n",
       "      <td>False</td>\n",
       "      <td>False</td>\n",
       "      <td>...</td>\n",
       "      <td>0</td>\n",
       "      <td>0</td>\n",
       "      <td>0</td>\n",
       "      <td>0</td>\n",
       "      <td>0</td>\n",
       "      <td>0</td>\n",
       "      <td>0</td>\n",
       "      <td>0</td>\n",
       "      <td>0</td>\n",
       "      <td>0</td>\n",
       "    </tr>\n",
       "    <tr>\n",
       "      <th>3</th>\n",
       "      <td>26</td>\n",
       "      <td>8</td>\n",
       "      <td>Friday</td>\n",
       "      <td>2238403510.0</td>\n",
       "      <td>2</td>\n",
       "      <td>PAINT AND ACCESSORIES</td>\n",
       "      <td>3565.0</td>\n",
       "      <td>49</td>\n",
       "      <td>False</td>\n",
       "      <td>False</td>\n",
       "      <td>...</td>\n",
       "      <td>0</td>\n",
       "      <td>0</td>\n",
       "      <td>0</td>\n",
       "      <td>0</td>\n",
       "      <td>0</td>\n",
       "      <td>0</td>\n",
       "      <td>0</td>\n",
       "      <td>0</td>\n",
       "      <td>0</td>\n",
       "      <td>0</td>\n",
       "    </tr>\n",
       "    <tr>\n",
       "      <th>4</th>\n",
       "      <td>26</td>\n",
       "      <td>8</td>\n",
       "      <td>Friday</td>\n",
       "      <td>2006613744.0</td>\n",
       "      <td>2</td>\n",
       "      <td>PAINT AND ACCESSORIES</td>\n",
       "      <td>1017.0</td>\n",
       "      <td>49</td>\n",
       "      <td>False</td>\n",
       "      <td>False</td>\n",
       "      <td>...</td>\n",
       "      <td>0</td>\n",
       "      <td>0</td>\n",
       "      <td>0</td>\n",
       "      <td>0</td>\n",
       "      <td>0</td>\n",
       "      <td>0</td>\n",
       "      <td>0</td>\n",
       "      <td>0</td>\n",
       "      <td>0</td>\n",
       "      <td>0</td>\n",
       "    </tr>\n",
       "  </tbody>\n",
       "</table>\n",
       "<p>5 rows × 5773 columns</p>\n",
       "</div>"
      ],
      "text/plain": [
       "   TripType  VisitNumber Weekday            Upc  ScanCount  \\\n",
       "0       999            5  Friday  68113152929.0         -1   \n",
       "1        30            7  Friday  60538815980.0          1   \n",
       "2        30            7  Friday   7410811099.0          1   \n",
       "3        26            8  Friday   2238403510.0          2   \n",
       "4        26            8  Friday   2006613744.0          2   \n",
       "\n",
       "   DepartmentDescription  FinelineNumber  desc_tag  desc_tag_1  desc_tag_2  \\\n",
       "0     FINANCIAL SERVICES          1000.0        21       False       False   \n",
       "1                  SHOES          8931.0        62       False       False   \n",
       "2          PERSONAL CARE          4504.0        50       False       False   \n",
       "3  PAINT AND ACCESSORIES          3565.0        49       False       False   \n",
       "4  PAINT AND ACCESSORIES          1017.0        49       False       False   \n",
       "\n",
       "   ...    99804  99829  99870  99919  99923  99928  99939  99967  99988  99991  \n",
       "0  ...        0      0      0      0      0      0      0      0      0      0  \n",
       "1  ...        0      0      0      0      0      0      0      0      0      0  \n",
       "2  ...        0      0      0      0      0      0      0      0      0      0  \n",
       "3  ...        0      0      0      0      0      0      0      0      0      0  \n",
       "4  ...        0      0      0      0      0      0      0      0      0      0  \n",
       "\n",
       "[5 rows x 5773 columns]"
      ]
     },
     "execution_count": 57,
     "metadata": {},
     "output_type": "execute_result"
    }
   ],
   "source": [
    "train = pd.concat([train, company_upc_dummy_train], axis=1)\n",
    "\n",
    "print(train.shape)\n",
    "train.head()"
   ]
  },
  {
   "cell_type": "markdown",
   "metadata": {},
   "source": [
    "### test"
   ]
  },
  {
   "cell_type": "code",
   "execution_count": 58,
   "metadata": {},
   "outputs": [],
   "source": [
    "company_upc_dummy_test = pd.get_dummies(test[\"company_Upc\"])"
   ]
  },
  {
   "cell_type": "code",
   "execution_count": 59,
   "metadata": {},
   "outputs": [
    {
     "name": "stdout",
     "output_type": "stream",
     "text": [
      "(653646, 5791)\n"
     ]
    },
    {
     "data": {
      "text/html": [
       "<div>\n",
       "<style scoped>\n",
       "    .dataframe tbody tr th:only-of-type {\n",
       "        vertical-align: middle;\n",
       "    }\n",
       "\n",
       "    .dataframe tbody tr th {\n",
       "        vertical-align: top;\n",
       "    }\n",
       "\n",
       "    .dataframe thead th {\n",
       "        text-align: right;\n",
       "    }\n",
       "</style>\n",
       "<table border=\"1\" class=\"dataframe\">\n",
       "  <thead>\n",
       "    <tr style=\"text-align: right;\">\n",
       "      <th></th>\n",
       "      <th>VisitNumber</th>\n",
       "      <th>Weekday</th>\n",
       "      <th>Upc</th>\n",
       "      <th>ScanCount</th>\n",
       "      <th>DepartmentDescription</th>\n",
       "      <th>FinelineNumber</th>\n",
       "      <th>desc_tag</th>\n",
       "      <th>desc_tag_1</th>\n",
       "      <th>desc_tag_2</th>\n",
       "      <th>desc_tag_3</th>\n",
       "      <th>...</th>\n",
       "      <th>99800</th>\n",
       "      <th>99804</th>\n",
       "      <th>99829</th>\n",
       "      <th>99870</th>\n",
       "      <th>99874</th>\n",
       "      <th>99919</th>\n",
       "      <th>99923</th>\n",
       "      <th>99939</th>\n",
       "      <th>99967</th>\n",
       "      <th>99988</th>\n",
       "    </tr>\n",
       "  </thead>\n",
       "  <tbody>\n",
       "    <tr>\n",
       "      <th>0</th>\n",
       "      <td>1</td>\n",
       "      <td>Friday</td>\n",
       "      <td>72503389714.0</td>\n",
       "      <td>1</td>\n",
       "      <td>SHOES</td>\n",
       "      <td>3002.0</td>\n",
       "      <td>62</td>\n",
       "      <td>False</td>\n",
       "      <td>False</td>\n",
       "      <td>False</td>\n",
       "      <td>...</td>\n",
       "      <td>0</td>\n",
       "      <td>0</td>\n",
       "      <td>0</td>\n",
       "      <td>0</td>\n",
       "      <td>0</td>\n",
       "      <td>0</td>\n",
       "      <td>0</td>\n",
       "      <td>0</td>\n",
       "      <td>0</td>\n",
       "      <td>0</td>\n",
       "    </tr>\n",
       "    <tr>\n",
       "      <th>1</th>\n",
       "      <td>1</td>\n",
       "      <td>Friday</td>\n",
       "      <td>1707710732.0</td>\n",
       "      <td>1</td>\n",
       "      <td>DAIRY</td>\n",
       "      <td>1526.0</td>\n",
       "      <td>17</td>\n",
       "      <td>False</td>\n",
       "      <td>False</td>\n",
       "      <td>False</td>\n",
       "      <td>...</td>\n",
       "      <td>0</td>\n",
       "      <td>0</td>\n",
       "      <td>0</td>\n",
       "      <td>0</td>\n",
       "      <td>0</td>\n",
       "      <td>0</td>\n",
       "      <td>0</td>\n",
       "      <td>0</td>\n",
       "      <td>0</td>\n",
       "      <td>0</td>\n",
       "    </tr>\n",
       "    <tr>\n",
       "      <th>2</th>\n",
       "      <td>1</td>\n",
       "      <td>Friday</td>\n",
       "      <td>89470001026.0</td>\n",
       "      <td>1</td>\n",
       "      <td>DAIRY</td>\n",
       "      <td>1431.0</td>\n",
       "      <td>17</td>\n",
       "      <td>False</td>\n",
       "      <td>False</td>\n",
       "      <td>False</td>\n",
       "      <td>...</td>\n",
       "      <td>0</td>\n",
       "      <td>0</td>\n",
       "      <td>0</td>\n",
       "      <td>0</td>\n",
       "      <td>0</td>\n",
       "      <td>0</td>\n",
       "      <td>0</td>\n",
       "      <td>0</td>\n",
       "      <td>0</td>\n",
       "      <td>0</td>\n",
       "    </tr>\n",
       "    <tr>\n",
       "      <th>3</th>\n",
       "      <td>1</td>\n",
       "      <td>Friday</td>\n",
       "      <td>88491211470.0</td>\n",
       "      <td>1</td>\n",
       "      <td>GROCERY DRY GOODS</td>\n",
       "      <td>3555.0</td>\n",
       "      <td>25</td>\n",
       "      <td>False</td>\n",
       "      <td>False</td>\n",
       "      <td>False</td>\n",
       "      <td>...</td>\n",
       "      <td>0</td>\n",
       "      <td>0</td>\n",
       "      <td>0</td>\n",
       "      <td>0</td>\n",
       "      <td>0</td>\n",
       "      <td>0</td>\n",
       "      <td>0</td>\n",
       "      <td>0</td>\n",
       "      <td>0</td>\n",
       "      <td>0</td>\n",
       "    </tr>\n",
       "    <tr>\n",
       "      <th>4</th>\n",
       "      <td>2</td>\n",
       "      <td>Friday</td>\n",
       "      <td>2840015224.0</td>\n",
       "      <td>1</td>\n",
       "      <td>DSD GROCERY</td>\n",
       "      <td>4408.0</td>\n",
       "      <td>18</td>\n",
       "      <td>False</td>\n",
       "      <td>False</td>\n",
       "      <td>False</td>\n",
       "      <td>...</td>\n",
       "      <td>0</td>\n",
       "      <td>0</td>\n",
       "      <td>0</td>\n",
       "      <td>0</td>\n",
       "      <td>0</td>\n",
       "      <td>0</td>\n",
       "      <td>0</td>\n",
       "      <td>0</td>\n",
       "      <td>0</td>\n",
       "      <td>0</td>\n",
       "    </tr>\n",
       "  </tbody>\n",
       "</table>\n",
       "<p>5 rows × 5791 columns</p>\n",
       "</div>"
      ],
      "text/plain": [
       "   VisitNumber Weekday            Upc  ScanCount DepartmentDescription  \\\n",
       "0            1  Friday  72503389714.0          1                 SHOES   \n",
       "1            1  Friday   1707710732.0          1                 DAIRY   \n",
       "2            1  Friday  89470001026.0          1                 DAIRY   \n",
       "3            1  Friday  88491211470.0          1     GROCERY DRY GOODS   \n",
       "4            2  Friday   2840015224.0          1           DSD GROCERY   \n",
       "\n",
       "   FinelineNumber  desc_tag  desc_tag_1  desc_tag_2  desc_tag_3  ...    99800  \\\n",
       "0          3002.0        62       False       False       False  ...        0   \n",
       "1          1526.0        17       False       False       False  ...        0   \n",
       "2          1431.0        17       False       False       False  ...        0   \n",
       "3          3555.0        25       False       False       False  ...        0   \n",
       "4          4408.0        18       False       False       False  ...        0   \n",
       "\n",
       "   99804  99829  99870  99874  99919  99923  99939  99967  99988  \n",
       "0      0      0      0      0      0      0      0      0      0  \n",
       "1      0      0      0      0      0      0      0      0      0  \n",
       "2      0      0      0      0      0      0      0      0      0  \n",
       "3      0      0      0      0      0      0      0      0      0  \n",
       "4      0      0      0      0      0      0      0      0      0  \n",
       "\n",
       "[5 rows x 5791 columns]"
      ]
     },
     "execution_count": 59,
     "metadata": {},
     "output_type": "execute_result"
    }
   ],
   "source": [
    "test = pd.concat([test, company_upc_dummy_test], axis=1)\n",
    "\n",
    "print(test.shape)\n",
    "test.head()"
   ]
  },
  {
   "cell_type": "markdown",
   "metadata": {},
   "source": [
    "### Featrue Selection\n",
    "- train data에는 있으나 test data에는 없는 382개의 company_Upc는 제외\n",
    "- Encode된 object feature 제외"
   ]
  },
  {
   "cell_type": "code",
   "execution_count": 60,
   "metadata": {},
   "outputs": [],
   "source": [
    "feature_columns = list(train.columns)"
   ]
  },
  {
   "cell_type": "code",
   "execution_count": 61,
   "metadata": {},
   "outputs": [],
   "source": [
    "remove_list = [\"Weekday\", \"Upc\", \"DepartmentDescription\", \"company_Upc\", \"product_Upc\", \"TripType\", \"VisitNumber\",\\\n",
    "               '00337', '00373', '00680', '01593', '01769', '02213', '02369', '02443', '02651',\\\n",
    "               '03001', '05144', '05168', '05244', '05260', '05265', '05502', '05584', '05609',\\\n",
    "               '05770', '05778', '05801', '05838', '05848', '05849', '06147', '06162', '06163',\\\n",
    "               '06176', '06248', '06301', '06931', '06960', '08311', '08323', '08709', '08811',\\\n",
    "               '08831', '08855', '08874', '08931', '08957', '09048', '09332', '09716', '09752',\\\n",
    "               '09901', '09991', '10136', '10273', '10687', '10754', '10864', '10879', '11215',\\\n",
    "               '11233', '11283', '11865', '12103', '12260', '12317', '12429', '12715', '13258',\\\n",
    "               '13658', '13958', '14949', '15095', '15222', '15225', '15583', '15849', '16125',\\\n",
    "               '16162', '16169', '16698', '16737', '16796', '17123', '17411', '17478', '18176',\\\n",
    "               '18268', '18575', '18655', '18664', '18771', '18929', '19231', '19275', '19357',\\\n",
    "               '19548', '19565', '19903', '20213', '20578', '20616', '20642', '21105', '21382',\\\n",
    "               '22053', '22174', '23332', '23634', '23922', '24021', '24416', '25004', '25436',\\\n",
    "               '25675', '26362', '27187', '27557', '27782', '27800', '27969', '28500', '28586',\\\n",
    "               '28610', '28765', '28766', '28821', '28839', '29054', '29094', '29133', '29169',\\\n",
    "               '29189', '29225', '29409', '29839', '29988', '30175', '30206', '30306', '30775',\\\n",
    "               '30828', '30918', '31299', '31901', '32009', '32051', '32228', '32244', '32386',\\\n",
    "               '33005', '33051', '33158', '33197', '33799', '34098', '34357', '34556', '34573',\\\n",
    "               '34575', '34656', '34886', '35787', '36332', '37049', '37461', '38462', '38597',\\\n",
    "               '39214', '40410', '40595', '41278', '41343', '41404', '41580', '41636', '41642',\\\n",
    "               '41740', '42281', '42283', '42322', '42693', '42699', '42853', '44306', '45095',\\\n",
    "               '45334', '45849', '45986', '46226', '46447', '47163', '47194', '47282', '47298',\\\n",
    "               '47356', '47700', '47832', '48081', '48485', '48587', '48985', '49004', '49183',\\\n",
    "               '49207', '49568', '49833', '50008', '50015', '50086', '50146', '50214', '50254',\\\n",
    "               '50264', '50274', '50385', '50393', '50394', '50411', '50413', '50423', '50561',\\\n",
    "               '50592', '50624', '50778', '50946', '51057', '51218', '51299', '51319', '51515',\\\n",
    "               '51664', '51667', '51884', '52276', '52435', '52530', '52865', '53276', '53427',\\\n",
    "               '53575', '53740', '53770', '53838', '54392', '54918', '55114', '55142', '55230',\\\n",
    "               '55280', '55431', '55583', '55601', '55759', '55824', '56551', '56879', '57184',\\\n",
    "               '57294', '57798', '57867', '58099', '58297', '58328', '58445', '58622', '58648',\\\n",
    "               '58859', '58962', '59230', '59410', '59751', '61308', '61524', '62825', '63300',\\\n",
    "               '67208', '69044', '69328', '69381', '69540', '70000', '70275', '70313', '70844',\\\n",
    "               '71132', '71391', '71436', '71653', '71757', '72457', '72508', '72824', '73077',\\\n",
    "               '73226', '74011', '74213', '74928', '75307', '75376', '75380', '75386', '76670',\\\n",
    "               '76762', '77245', '77548', '77726', '78372', '78905', '78931', '79085', '79631',\\\n",
    "               '79633', '79942', '79943', '79945', '80153', '80292', '80518', '80993', '81034',\\\n",
    "               '81241', '81306', '81483', '82306', '82801', '82904', '83318', '84530', '85267',\\\n",
    "               '85810', '86069', '86106', '86831', '86867', '87012', '87038', '87064', '87118',\\\n",
    "               '88247', '88303', '88908', '88985', '89013', '89033', '89156', '89176', '89419',\\\n",
    "               '89423', '89518', '89601', '90064', '90288', '90333', '90342', '90577', '90586',\\\n",
    "               '90615', '90669', '90794', '90930', '91001', '91051', '91546', '91549', '91946',\\\n",
    "               '92997', '93164', '93169', '93222', '93765', '95359', '95684', '96287', '97629',\\\n",
    "               '97712', '97812', '97818', '97833', '97923', '98328', '99157', '99274', '99464',\\\n",
    "               '99606', '99675', '99928', '99991']\n",
    "\n",
    "for rm_value in remove_list:\n",
    "    feature_columns.remove(rm_value)"
   ]
  },
  {
   "cell_type": "code",
   "execution_count": 62,
   "metadata": {},
   "outputs": [
    {
     "data": {
      "text/plain": [
       "5384"
      ]
     },
     "execution_count": 62,
     "metadata": {},
     "output_type": "execute_result"
    }
   ],
   "source": [
    "len(feature_columns)"
   ]
  },
  {
   "cell_type": "markdown",
   "metadata": {},
   "source": [
    "##### Encoding, Divide 된 주요 컬럼"
   ]
  },
  {
   "cell_type": "markdown",
   "metadata": {},
   "source": [
    "## X_train, y_train"
   ]
  },
  {
   "cell_type": "code",
   "execution_count": 63,
   "metadata": {},
   "outputs": [
    {
     "name": "stdout",
     "output_type": "stream",
     "text": [
      "(647054, 5384)\n"
     ]
    },
    {
     "data": {
      "text/html": [
       "<div>\n",
       "<style scoped>\n",
       "    .dataframe tbody tr th:only-of-type {\n",
       "        vertical-align: middle;\n",
       "    }\n",
       "\n",
       "    .dataframe tbody tr th {\n",
       "        vertical-align: top;\n",
       "    }\n",
       "\n",
       "    .dataframe thead th {\n",
       "        text-align: right;\n",
       "    }\n",
       "</style>\n",
       "<table border=\"1\" class=\"dataframe\">\n",
       "  <thead>\n",
       "    <tr style=\"text-align: right;\">\n",
       "      <th></th>\n",
       "      <th>ScanCount</th>\n",
       "      <th>FinelineNumber</th>\n",
       "      <th>desc_tag</th>\n",
       "      <th>desc_tag_1</th>\n",
       "      <th>desc_tag_2</th>\n",
       "      <th>desc_tag_3</th>\n",
       "      <th>desc_tag_4</th>\n",
       "      <th>desc_tag_5</th>\n",
       "      <th>desc_tag_6</th>\n",
       "      <th>desc_tag_7</th>\n",
       "      <th>...</th>\n",
       "      <th>99792</th>\n",
       "      <th>99800</th>\n",
       "      <th>99804</th>\n",
       "      <th>99829</th>\n",
       "      <th>99870</th>\n",
       "      <th>99919</th>\n",
       "      <th>99923</th>\n",
       "      <th>99939</th>\n",
       "      <th>99967</th>\n",
       "      <th>99988</th>\n",
       "    </tr>\n",
       "  </thead>\n",
       "  <tbody>\n",
       "    <tr>\n",
       "      <th>0</th>\n",
       "      <td>-1</td>\n",
       "      <td>1000.0</td>\n",
       "      <td>21</td>\n",
       "      <td>False</td>\n",
       "      <td>False</td>\n",
       "      <td>False</td>\n",
       "      <td>False</td>\n",
       "      <td>False</td>\n",
       "      <td>False</td>\n",
       "      <td>False</td>\n",
       "      <td>...</td>\n",
       "      <td>0</td>\n",
       "      <td>0</td>\n",
       "      <td>0</td>\n",
       "      <td>0</td>\n",
       "      <td>0</td>\n",
       "      <td>0</td>\n",
       "      <td>0</td>\n",
       "      <td>0</td>\n",
       "      <td>0</td>\n",
       "      <td>0</td>\n",
       "    </tr>\n",
       "    <tr>\n",
       "      <th>1</th>\n",
       "      <td>1</td>\n",
       "      <td>8931.0</td>\n",
       "      <td>62</td>\n",
       "      <td>False</td>\n",
       "      <td>False</td>\n",
       "      <td>False</td>\n",
       "      <td>False</td>\n",
       "      <td>False</td>\n",
       "      <td>False</td>\n",
       "      <td>False</td>\n",
       "      <td>...</td>\n",
       "      <td>0</td>\n",
       "      <td>0</td>\n",
       "      <td>0</td>\n",
       "      <td>0</td>\n",
       "      <td>0</td>\n",
       "      <td>0</td>\n",
       "      <td>0</td>\n",
       "      <td>0</td>\n",
       "      <td>0</td>\n",
       "      <td>0</td>\n",
       "    </tr>\n",
       "    <tr>\n",
       "      <th>2</th>\n",
       "      <td>1</td>\n",
       "      <td>4504.0</td>\n",
       "      <td>50</td>\n",
       "      <td>False</td>\n",
       "      <td>False</td>\n",
       "      <td>False</td>\n",
       "      <td>False</td>\n",
       "      <td>False</td>\n",
       "      <td>False</td>\n",
       "      <td>False</td>\n",
       "      <td>...</td>\n",
       "      <td>0</td>\n",
       "      <td>0</td>\n",
       "      <td>0</td>\n",
       "      <td>0</td>\n",
       "      <td>0</td>\n",
       "      <td>0</td>\n",
       "      <td>0</td>\n",
       "      <td>0</td>\n",
       "      <td>0</td>\n",
       "      <td>0</td>\n",
       "    </tr>\n",
       "    <tr>\n",
       "      <th>3</th>\n",
       "      <td>2</td>\n",
       "      <td>3565.0</td>\n",
       "      <td>49</td>\n",
       "      <td>False</td>\n",
       "      <td>False</td>\n",
       "      <td>False</td>\n",
       "      <td>False</td>\n",
       "      <td>False</td>\n",
       "      <td>False</td>\n",
       "      <td>False</td>\n",
       "      <td>...</td>\n",
       "      <td>0</td>\n",
       "      <td>0</td>\n",
       "      <td>0</td>\n",
       "      <td>0</td>\n",
       "      <td>0</td>\n",
       "      <td>0</td>\n",
       "      <td>0</td>\n",
       "      <td>0</td>\n",
       "      <td>0</td>\n",
       "      <td>0</td>\n",
       "    </tr>\n",
       "    <tr>\n",
       "      <th>4</th>\n",
       "      <td>2</td>\n",
       "      <td>1017.0</td>\n",
       "      <td>49</td>\n",
       "      <td>False</td>\n",
       "      <td>False</td>\n",
       "      <td>False</td>\n",
       "      <td>False</td>\n",
       "      <td>False</td>\n",
       "      <td>False</td>\n",
       "      <td>False</td>\n",
       "      <td>...</td>\n",
       "      <td>0</td>\n",
       "      <td>0</td>\n",
       "      <td>0</td>\n",
       "      <td>0</td>\n",
       "      <td>0</td>\n",
       "      <td>0</td>\n",
       "      <td>0</td>\n",
       "      <td>0</td>\n",
       "      <td>0</td>\n",
       "      <td>0</td>\n",
       "    </tr>\n",
       "  </tbody>\n",
       "</table>\n",
       "<p>5 rows × 5384 columns</p>\n",
       "</div>"
      ],
      "text/plain": [
       "   ScanCount  FinelineNumber  desc_tag  desc_tag_1  desc_tag_2  desc_tag_3  \\\n",
       "0         -1          1000.0        21       False       False       False   \n",
       "1          1          8931.0        62       False       False       False   \n",
       "2          1          4504.0        50       False       False       False   \n",
       "3          2          3565.0        49       False       False       False   \n",
       "4          2          1017.0        49       False       False       False   \n",
       "\n",
       "   desc_tag_4  desc_tag_5  desc_tag_6  desc_tag_7  ...    99792  99800  99804  \\\n",
       "0       False       False       False       False  ...        0      0      0   \n",
       "1       False       False       False       False  ...        0      0      0   \n",
       "2       False       False       False       False  ...        0      0      0   \n",
       "3       False       False       False       False  ...        0      0      0   \n",
       "4       False       False       False       False  ...        0      0      0   \n",
       "\n",
       "   99829  99870  99919  99923  99939  99967  99988  \n",
       "0      0      0      0      0      0      0      0  \n",
       "1      0      0      0      0      0      0      0  \n",
       "2      0      0      0      0      0      0      0  \n",
       "3      0      0      0      0      0      0      0  \n",
       "4      0      0      0      0      0      0      0  \n",
       "\n",
       "[5 rows x 5384 columns]"
      ]
     },
     "execution_count": 63,
     "metadata": {},
     "output_type": "execute_result"
    }
   ],
   "source": [
    "X_train = train[feature_columns]\n",
    "\n",
    "print(X_train.shape)\n",
    "X_train.head()"
   ]
  },
  {
   "cell_type": "code",
   "execution_count": 64,
   "metadata": {},
   "outputs": [
    {
     "name": "stdout",
     "output_type": "stream",
     "text": [
      "(647054,)\n"
     ]
    },
    {
     "data": {
      "text/plain": [
       "0    999\n",
       "1     30\n",
       "2     30\n",
       "3     26\n",
       "4     26\n",
       "Name: TripType, dtype: int64"
      ]
     },
     "execution_count": 64,
     "metadata": {},
     "output_type": "execute_result"
    }
   ],
   "source": [
    "label_name = 'TripType'\n",
    "\n",
    "y_train = train[label_name]\n",
    "\n",
    "print(y_train.shape)\n",
    "y_train[:5]"
   ]
  },
  {
   "cell_type": "markdown",
   "metadata": {},
   "source": [
    "## X_test"
   ]
  },
  {
   "cell_type": "code",
   "execution_count": 65,
   "metadata": {},
   "outputs": [
    {
     "name": "stdout",
     "output_type": "stream",
     "text": [
      "(653646, 5384)\n"
     ]
    },
    {
     "data": {
      "text/html": [
       "<div>\n",
       "<style scoped>\n",
       "    .dataframe tbody tr th:only-of-type {\n",
       "        vertical-align: middle;\n",
       "    }\n",
       "\n",
       "    .dataframe tbody tr th {\n",
       "        vertical-align: top;\n",
       "    }\n",
       "\n",
       "    .dataframe thead th {\n",
       "        text-align: right;\n",
       "    }\n",
       "</style>\n",
       "<table border=\"1\" class=\"dataframe\">\n",
       "  <thead>\n",
       "    <tr style=\"text-align: right;\">\n",
       "      <th></th>\n",
       "      <th>ScanCount</th>\n",
       "      <th>FinelineNumber</th>\n",
       "      <th>desc_tag</th>\n",
       "      <th>desc_tag_1</th>\n",
       "      <th>desc_tag_2</th>\n",
       "      <th>desc_tag_3</th>\n",
       "      <th>desc_tag_4</th>\n",
       "      <th>desc_tag_5</th>\n",
       "      <th>desc_tag_6</th>\n",
       "      <th>desc_tag_7</th>\n",
       "      <th>...</th>\n",
       "      <th>99792</th>\n",
       "      <th>99800</th>\n",
       "      <th>99804</th>\n",
       "      <th>99829</th>\n",
       "      <th>99870</th>\n",
       "      <th>99919</th>\n",
       "      <th>99923</th>\n",
       "      <th>99939</th>\n",
       "      <th>99967</th>\n",
       "      <th>99988</th>\n",
       "    </tr>\n",
       "  </thead>\n",
       "  <tbody>\n",
       "    <tr>\n",
       "      <th>0</th>\n",
       "      <td>1</td>\n",
       "      <td>3002.0</td>\n",
       "      <td>62</td>\n",
       "      <td>False</td>\n",
       "      <td>False</td>\n",
       "      <td>False</td>\n",
       "      <td>False</td>\n",
       "      <td>False</td>\n",
       "      <td>False</td>\n",
       "      <td>False</td>\n",
       "      <td>...</td>\n",
       "      <td>0</td>\n",
       "      <td>0</td>\n",
       "      <td>0</td>\n",
       "      <td>0</td>\n",
       "      <td>0</td>\n",
       "      <td>0</td>\n",
       "      <td>0</td>\n",
       "      <td>0</td>\n",
       "      <td>0</td>\n",
       "      <td>0</td>\n",
       "    </tr>\n",
       "    <tr>\n",
       "      <th>1</th>\n",
       "      <td>1</td>\n",
       "      <td>1526.0</td>\n",
       "      <td>17</td>\n",
       "      <td>False</td>\n",
       "      <td>False</td>\n",
       "      <td>False</td>\n",
       "      <td>False</td>\n",
       "      <td>False</td>\n",
       "      <td>False</td>\n",
       "      <td>False</td>\n",
       "      <td>...</td>\n",
       "      <td>0</td>\n",
       "      <td>0</td>\n",
       "      <td>0</td>\n",
       "      <td>0</td>\n",
       "      <td>0</td>\n",
       "      <td>0</td>\n",
       "      <td>0</td>\n",
       "      <td>0</td>\n",
       "      <td>0</td>\n",
       "      <td>0</td>\n",
       "    </tr>\n",
       "    <tr>\n",
       "      <th>2</th>\n",
       "      <td>1</td>\n",
       "      <td>1431.0</td>\n",
       "      <td>17</td>\n",
       "      <td>False</td>\n",
       "      <td>False</td>\n",
       "      <td>False</td>\n",
       "      <td>False</td>\n",
       "      <td>False</td>\n",
       "      <td>False</td>\n",
       "      <td>False</td>\n",
       "      <td>...</td>\n",
       "      <td>0</td>\n",
       "      <td>0</td>\n",
       "      <td>0</td>\n",
       "      <td>0</td>\n",
       "      <td>0</td>\n",
       "      <td>0</td>\n",
       "      <td>0</td>\n",
       "      <td>0</td>\n",
       "      <td>0</td>\n",
       "      <td>0</td>\n",
       "    </tr>\n",
       "    <tr>\n",
       "      <th>3</th>\n",
       "      <td>1</td>\n",
       "      <td>3555.0</td>\n",
       "      <td>25</td>\n",
       "      <td>False</td>\n",
       "      <td>False</td>\n",
       "      <td>False</td>\n",
       "      <td>False</td>\n",
       "      <td>False</td>\n",
       "      <td>False</td>\n",
       "      <td>False</td>\n",
       "      <td>...</td>\n",
       "      <td>0</td>\n",
       "      <td>0</td>\n",
       "      <td>0</td>\n",
       "      <td>0</td>\n",
       "      <td>0</td>\n",
       "      <td>0</td>\n",
       "      <td>0</td>\n",
       "      <td>0</td>\n",
       "      <td>0</td>\n",
       "      <td>0</td>\n",
       "    </tr>\n",
       "    <tr>\n",
       "      <th>4</th>\n",
       "      <td>1</td>\n",
       "      <td>4408.0</td>\n",
       "      <td>18</td>\n",
       "      <td>False</td>\n",
       "      <td>False</td>\n",
       "      <td>False</td>\n",
       "      <td>False</td>\n",
       "      <td>False</td>\n",
       "      <td>False</td>\n",
       "      <td>False</td>\n",
       "      <td>...</td>\n",
       "      <td>0</td>\n",
       "      <td>0</td>\n",
       "      <td>0</td>\n",
       "      <td>0</td>\n",
       "      <td>0</td>\n",
       "      <td>0</td>\n",
       "      <td>0</td>\n",
       "      <td>0</td>\n",
       "      <td>0</td>\n",
       "      <td>0</td>\n",
       "    </tr>\n",
       "  </tbody>\n",
       "</table>\n",
       "<p>5 rows × 5384 columns</p>\n",
       "</div>"
      ],
      "text/plain": [
       "   ScanCount  FinelineNumber  desc_tag  desc_tag_1  desc_tag_2  desc_tag_3  \\\n",
       "0          1          3002.0        62       False       False       False   \n",
       "1          1          1526.0        17       False       False       False   \n",
       "2          1          1431.0        17       False       False       False   \n",
       "3          1          3555.0        25       False       False       False   \n",
       "4          1          4408.0        18       False       False       False   \n",
       "\n",
       "   desc_tag_4  desc_tag_5  desc_tag_6  desc_tag_7  ...    99792  99800  99804  \\\n",
       "0       False       False       False       False  ...        0      0      0   \n",
       "1       False       False       False       False  ...        0      0      0   \n",
       "2       False       False       False       False  ...        0      0      0   \n",
       "3       False       False       False       False  ...        0      0      0   \n",
       "4       False       False       False       False  ...        0      0      0   \n",
       "\n",
       "   99829  99870  99919  99923  99939  99967  99988  \n",
       "0      0      0      0      0      0      0      0  \n",
       "1      0      0      0      0      0      0      0  \n",
       "2      0      0      0      0      0      0      0  \n",
       "3      0      0      0      0      0      0      0  \n",
       "4      0      0      0      0      0      0      0  \n",
       "\n",
       "[5 rows x 5384 columns]"
      ]
     },
     "execution_count": 65,
     "metadata": {},
     "output_type": "execute_result"
    }
   ],
   "source": [
    "X_test = test[feature_columns]\n",
    "\n",
    "print(X_test.shape)\n",
    "X_test.head()"
   ]
  }
 ],
 "metadata": {
  "kernelspec": {
   "display_name": "Python 3",
   "language": "python",
   "name": "python3"
  },
  "language_info": {
   "codemirror_mode": {
    "name": "ipython",
    "version": 3
   },
   "file_extension": ".py",
   "mimetype": "text/x-python",
   "name": "python",
   "nbconvert_exporter": "python",
   "pygments_lexer": "ipython3",
   "version": "3.7.0"
  }
 },
 "nbformat": 4,
 "nbformat_minor": 2
}
